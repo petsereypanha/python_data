{
 "cells": [
  {
   "cell_type": "markdown",
   "metadata": {},
   "source": [
    "<div style=\"width: 100%; background-color: #ef7d22; text-align: center\">\n",
    "<br><br>\n",
    "\n",
    "<h1 style=\"color: white; font-weight: bold;\">\n",
    "    PostgreSQL Administration Tools\n",
    "</h1>\n",
    "\n",
    "<br><br> \n",
    "</div>"
   ]
  },
  {
   "cell_type": "markdown",
   "metadata": {},
   "source": [
    "In concept, you could do all of your PostgreSQL administration via Python commands through an adapter. Nearly everything that can be configured can be configured via SQL commands.  Most likely, however, you would find this unecessarily cumbersome; using native administration tools is easier for most tasks."
   ]
  },
  {
   "cell_type": "markdown",
   "metadata": {},
   "source": [
    "Administration tools may be either command-line—i.e. the `psql` administration tool—or GUI tools.  In the latter category, *pgAdmin* is the default, and community-supported, tool.  pgAdmin can either provide a desktop GUI or create a localhost web server; in both cases though, your web browser is utilized for actually rendering the same interface.  pgAdmin is itself written in Python, but that footnote has little effect on how you use it."
   ]
  },
  {
   "cell_type": "markdown",
   "metadata": {},
   "source": [
    "A number of other Free Software and commercial tools are also available.  Many of the independent tools are designed to work with multiple RDBMS servers, and can potentially connect to multiple systems at the same time, even ones based on different server software.  These include OmniDB (https://omnidb.org/), DBeaver (https://dbeaver.io/), Pgweb (http://sosedoff.github.io/pgweb/).  Each of these tools have their own advantages and disadvantages, but in general they all look fairly similar and have largely the same capabilities."
   ]
  },
  {
   "cell_type": "markdown",
   "metadata": {},
   "source": [
    "Other GUI tools like Metabase, Redash, Blazer, Apache Superset, Apache Zepplin, and Franchise focus on so-called \"business intelligence\" (BI), which is about searching, visualizing, analyzing, and understanding the data inside PostgreSQL (or other) RDBMSs rather than administering them.  Since these tools, in concept, let you enter SQL commands, they could be used for administration, but that is not their focus."
   ]
  },
  {
   "cell_type": "markdown",
   "metadata": {},
   "source": [
    "---\n",
    "\n",
    "We will talk a bit about pgAdmin in this lesson, but the greater part will be spent on psql because command-line tools enable better reproducibility and can be scripted more easily."
   ]
  },
  {
   "cell_type": "markdown",
   "metadata": {},
   "source": [
    "## pgAdmin\n",
    "![orange-divider](https://user-images.githubusercontent.com/7065401/98619088-44ab6000-22e1-11eb-8f6d-5532e68ab274.png)\n",
    "\n",
    "It is not difficult to install pdAdmin, but details of doing so will vary slightly by platform.  Links to installers for various platforms can be found at:\n",
    "\n",
    "> https://www.pgadmin.org/download/\n",
    "\n",
    "The creators of the tool are kind enough to provide a trial version you can play with (and be guided through some lessons).  If you go to:\n",
    "\n",
    "> https://www.pgadmin.org/try/\n",
    "\n",
    "You can practice against test databases that they provide.  An initial dashboard gives some performance metrics.\n",
    "\n",
    "<img src=\"https://user-images.githubusercontent.com/7065401/103534224-3efb7200-4e6d-11eb-86d5-bd88f41f4dec.png\" width=\"50%\" />"
   ]
  },
  {
   "cell_type": "markdown",
   "metadata": {},
   "source": [
    "Rather than walk through numerous screenshots, I will perform a few simple tasks within the interface.  A login is required initially with the pgAdmin interface, with proper credentials.\n",
    "\n",
    "* Select the `ine` database\n",
    "* Unfold the tree to identify the Tables within it\n",
    "* View 100 rows of `census_zipcode_geography` using popup menu\n",
    "* Modify query using accesskey+I or toolbar (filter options), such that we only choose rows more than 200 sq miles of water\n",
    "* Sort by zipcode (will match 21 rows)\n",
    "* Create a GIST index on column `location`\n",
    "* Use the Query Editor to run:\n",
    "```sql\n",
    "SELECT usps  \n",
    "FROM census_zipcode_geography \n",
    "WHERE awater_sqmi > (SELECT avg(aland_sqmi) \n",
    "                     FROM census_zipcode_geography)\n",
    "AND aland_sqmi > (SELECT avg(awater_sqmi)\n",
    "                  FROM census_zipcode_geography)\n",
    "ORDER BY location <-> point '(45.1,-69.3)'\n",
    "LIMIT 20;\n",
    "```\n",
    "* Present the graphical explanation of the query plan\n",
    "* Look at the statistics for the query plan\n",
    "* Delete the index created"
   ]
  },
  {
   "cell_type": "markdown",
   "metadata": {},
   "source": [
    "## psql\n",
    "![orange-divider](https://user-images.githubusercontent.com/7065401/98619088-44ab6000-22e1-11eb-8f6d-5532e68ab274.png)\n",
    "\n",
    "As with the GUI tool, a walk through of using `psql` will make its usage much more clear than simply capturing screenshots or text portions of the interface."
   ]
  },
  {
   "cell_type": "markdown",
   "metadata": {},
   "source": [
    "* Login with \n",
    "\n",
    "```bash\n",
    "$ psql -h localhost --username=datascience -W -p 5432 -d postgres\n",
    "```\n",
    "* Show SQL help (`\\h`) and psql help (`\\?`)\n",
    "* List databases (`\\l`)\n",
    "* List users (`\\du`)\n",
    "* Create a new user `ine_test` with:\n",
    "```sql\n",
    "-- previously ran, e.g. `CREATE GROUP ine_users;`\n",
    "postgres=# CREATE USER ine_test IN GROUP ine_users,practice CREATEDB PASSWORD 'ine-test';\n",
    "```\n",
    "* DROP the test user (synonym `DROP ROLE`)\n",
    "* Connect to the database `ine` (`\\c ine`)\n",
    "* List the relations/tables (`\\d`)\n",
    "* DESCRIBE a table\n",
    "* Perform the nested query in the GUI example\n",
    "* Use EXPLAIN to understand the query plan\n",
    "* Create an index on location:\n",
    "```sql\n",
    "CREATE INDEX index_location ON census_zipcode_geography USING GIST (location);\n",
    "```\n",
    "* EXPLAIN the query plan again\n",
    "* List the indices (`\\di`)\n",
    "* Quit (`\\q`)"
   ]
  },
  {
   "cell_type": "markdown",
   "metadata": {},
   "source": [
    "Using `psql` is perhaps most powerful when you can use it as a scripting engine to pass along SQL from a file or from STDIN.  The `-f` switch can be used to take SQL statements from a file.  Piping from the command line also works.  Some examples below.  Note that to make this work without a password, you need to have credentials configured.  One way this is commonly done, if per system user, is to put credential in the file `~./pgpass`."
   ]
  },
  {
   "cell_type": "code",
   "execution_count": 1,
   "metadata": {},
   "outputs": [
    {
     "name": "stdout",
     "output_type": "stream",
     "text": [
      "\n",
      "localhost:5432:ine:ine_student:ine-password\n"
     ]
    }
   ],
   "source": [
    "!cat ~/.pgpass"
   ]
  },
  {
   "cell_type": "markdown",
   "metadata": {},
   "source": [
    "We might run a query from the shell (perhaps piping or redirecting the response)."
   ]
  },
  {
   "cell_type": "code",
   "execution_count": 2,
   "metadata": {},
   "outputs": [
    {
     "name": "stdout",
     "output_type": "stream",
     "text": [
      " user_id | username |   password   | age |         created_on         \n",
      "---------+----------+--------------+-----+----------------------------\n",
      "       1 | Alice    | bad_pw_1     |  37 | 2020-11-29 00:33:42.202398\n",
      "       2 | Bob      | bad_pw_2     |     | 2020-11-29 00:33:42.203537\n",
      "       3 | Carlos   | bad_pw_3     |  62 | 2020-11-29 00:33:42.20391\n",
      "      11 | Sybil    | M7c&sd31&0hA |  44 | 2020-11-29 00:44:39.883221\n",
      "      12 | Trudy    | y9bD6SA2O%$t |  22 | 2020-11-29 00:44:39.883221\n",
      "      13 | Vanna    | 9$Ts9HK*3!tR |  55 | 2020-11-29 00:44:39.883221\n",
      "(6 rows)\n",
      "\n"
     ]
    }
   ],
   "source": [
    "!echo \"SELECT * FROM users;\" | psql -h localhost -U ine_student ine"
   ]
  },
  {
   "cell_type": "markdown",
   "metadata": {},
   "source": [
    "Perhaps we might specialize it further.  Probably receivers of a pipe do not want the headers and status summary."
   ]
  },
  {
   "cell_type": "code",
   "execution_count": 3,
   "metadata": {},
   "outputs": [
    {
     "name": "stdout",
     "output_type": "stream",
     "text": [
      "\u001B[1;39m{\n",
      "  \u001B[0m\u001B[34;1m\"user_id\"\u001B[0m\u001B[1;39m: \u001B[0m\u001B[0;39m1\u001B[0m\u001B[1;39m,\n",
      "  \u001B[0m\u001B[34;1m\"username\"\u001B[0m\u001B[1;39m: \u001B[0m\u001B[0;32m\"Alice\"\u001B[0m\u001B[1;39m,\n",
      "  \u001B[0m\u001B[34;1m\"password\"\u001B[0m\u001B[1;39m: \u001B[0m\u001B[0;32m\"bad_pw_1\"\u001B[0m\u001B[1;39m,\n",
      "  \u001B[0m\u001B[34;1m\"age\"\u001B[0m\u001B[1;39m: \u001B[0m\u001B[0;39m37\u001B[0m\u001B[1;39m,\n",
      "  \u001B[0m\u001B[34;1m\"created_on\"\u001B[0m\u001B[1;39m: \u001B[0m\u001B[0;32m\"2020-11-29T00:33:42.202398\"\u001B[0m\u001B[1;39m\n",
      "\u001B[1;39m}\u001B[0m\n",
      "\u001B[1;39m{\n",
      "  \u001B[0m\u001B[34;1m\"user_id\"\u001B[0m\u001B[1;39m: \u001B[0m\u001B[0;39m2\u001B[0m\u001B[1;39m,\n",
      "  \u001B[0m\u001B[34;1m\"username\"\u001B[0m\u001B[1;39m: \u001B[0m\u001B[0;32m\"Bob\"\u001B[0m\u001B[1;39m,\n",
      "  \u001B[0m\u001B[34;1m\"password\"\u001B[0m\u001B[1;39m: \u001B[0m\u001B[0;32m\"bad_pw_2\"\u001B[0m\u001B[1;39m,\n",
      "  \u001B[0m\u001B[34;1m\"age\"\u001B[0m\u001B[1;39m: \u001B[0m\u001B[1;30mnull\u001B[0m\u001B[1;39m,\n",
      "  \u001B[0m\u001B[34;1m\"created_on\"\u001B[0m\u001B[1;39m: \u001B[0m\u001B[0;32m\"2020-11-29T00:33:42.203537\"\u001B[0m\u001B[1;39m\n",
      "\u001B[1;39m}\u001B[0m\n"
     ]
    }
   ],
   "source": [
    "%%bash\n",
    "export sql='SELECT row_to_json(users) FROM users LIMIT 2;'\n",
    "echo $sql | psql -t -h localhost -U ine_student ine | jq -C"
   ]
  },
  {
   "cell_type": "code",
   "execution_count": 4,
   "metadata": {},
   "outputs": [
    {
     "name": "stdout",
     "output_type": "stream",
     "text": [
      "user_id,username,created_on\n",
      "1,Alice,2020-11-29 00:33:42.202398\n",
      "2,Bob,2020-11-29 00:33:42.203537\n",
      "3,Carlos,2020-11-29 00:33:42.20391\n",
      "11,Sybil,2020-11-29 00:44:39.883221\n",
      "12,Trudy,2020-11-29 00:44:39.883221\n",
      "13,Vanna,2020-11-29 00:44:39.883221\n"
     ]
    }
   ],
   "source": [
    "%%bash \n",
    "sql='SELECT user_id, username, created_on FROM users;'\n",
    "echo \"$sql\" | psql --csv -h localhost -U ine_student ine"
   ]
  },
  {
   "cell_type": "markdown",
   "metadata": {},
   "source": [
    "## Summary\n",
    "![orange-divider](https://user-images.githubusercontent.com/7065401/98619088-44ab6000-22e1-11eb-8f6d-5532e68ab274.png)\n",
    "\n",
    "As we go through more lessons of this course, you will become more familiar with PostgreSQL special capabilities and syntax.  This lesson should make you familiar with the general tools available to do actions like add, remove, or alter users, groups, schemas, databases, tables, and so on.  \n",
    "All of those actions are very well accomplished either in the psql command shell, or if you prefer, in a GUI tool like pgAdmin."
   ]
  }
 ],
 "metadata": {
  "kernelspec": {
   "display_name": "Python 3",
   "language": "python",
   "name": "python3"
  },
  "language_info": {
   "codemirror_mode": {
    "name": "ipython",
    "version": 3
   },
   "file_extension": ".py",
   "mimetype": "text/x-python",
   "name": "python",
   "nbconvert_exporter": "python",
   "pygments_lexer": "ipython3",
   "version": "3.8.6"
  }
 },
 "nbformat": 4,
 "nbformat_minor": 4
}
