{
 "cells": [
  {
   "cell_type": "markdown",
   "metadata": {},
   "source": [
    "### Custom Exceptions\n",
    "\n",
    "You can define custom exceptions to signal specific states in your code. In our previous lesson we introduce the example of a lock/turnstile mechanism:"
   ]
  },
  {
   "cell_type": "code",
   "execution_count": 1,
   "metadata": {},
   "outputs": [],
   "source": [
    "lock_1 = {\n",
    "    'cost': 1.00,\n",
    "    'accumulated': 0,\n",
    "    'change': 0,\n",
    "    'state': 'locked'\n",
    "}\n",
    "\n",
    "\n",
    "def add_coin(lock, amount):\n",
    "    if amount < 0:\n",
    "        raise ValueError('Invalid Amount')\n",
    "    lock['accumulated'] += amount\n",
    "    if lock['accumulated'] >= lock['cost']:\n",
    "        lock['state'] = 'open'\n",
    "        lock['change'] = lock['accumulated'] - lock['cost']\n",
    "        raise ValueError('Lock is OPEN!')"
   ]
  },
  {
   "cell_type": "markdown",
   "metadata": {},
   "source": [
    "Now, we'll add our own custom exceptions to signal change in states"
   ]
  },
  {
   "cell_type": "code",
   "execution_count": 2,
   "metadata": {},
   "outputs": [],
   "source": [
    "class InvalidAmountException(Exception):\n",
    "    pass\n",
    "\n",
    "class LockStateOpenException(Exception):\n",
    "    pass\n",
    "\n",
    "def add_coin(lock, amount):\n",
    "    if amount < 0:\n",
    "        raise InvalidAmountException('Invalid Amount')\n",
    "    lock['accumulated'] += amount\n",
    "    if lock['accumulated'] >= lock['cost']:\n",
    "        lock['state'] = 'open'\n",
    "        lock['change'] = lock['accumulated'] - lock['cost']\n",
    "        raise LockStateOpenException('Lock is OPEN!')"
   ]
  },
  {
   "cell_type": "code",
   "execution_count": 3,
   "metadata": {},
   "outputs": [
    {
     "ename": "InvalidAmountException",
     "evalue": "Invalid Amount",
     "output_type": "error",
     "traceback": [
      "\u001b[0;31m---------------------------------------------------------------------------\u001b[0m",
      "\u001b[0;31mInvalidAmountException\u001b[0m                    Traceback (most recent call last)",
      "\u001b[0;32m<ipython-input-3-4959e0b95718>\u001b[0m in \u001b[0;36m<module>\u001b[0;34m()\u001b[0m\n\u001b[0;32m----> 1\u001b[0;31m \u001b[0madd_coin\u001b[0m\u001b[0;34m(\u001b[0m\u001b[0mlock_1\u001b[0m\u001b[0;34m,\u001b[0m \u001b[0;34m-\u001b[0m\u001b[0;36m1\u001b[0m\u001b[0;34m)\u001b[0m\u001b[0;34m\u001b[0m\u001b[0m\n\u001b[0m",
      "\u001b[0;32m<ipython-input-2-2fe511123e65>\u001b[0m in \u001b[0;36madd_coin\u001b[0;34m(lock, amount)\u001b[0m\n\u001b[1;32m      7\u001b[0m \u001b[0;32mdef\u001b[0m \u001b[0madd_coin\u001b[0m\u001b[0;34m(\u001b[0m\u001b[0mlock\u001b[0m\u001b[0;34m,\u001b[0m \u001b[0mamount\u001b[0m\u001b[0;34m)\u001b[0m\u001b[0;34m:\u001b[0m\u001b[0;34m\u001b[0m\u001b[0m\n\u001b[1;32m      8\u001b[0m     \u001b[0;32mif\u001b[0m \u001b[0mamount\u001b[0m \u001b[0;34m<\u001b[0m \u001b[0;36m0\u001b[0m\u001b[0;34m:\u001b[0m\u001b[0;34m\u001b[0m\u001b[0m\n\u001b[0;32m----> 9\u001b[0;31m         \u001b[0;32mraise\u001b[0m \u001b[0mInvalidAmountException\u001b[0m\u001b[0;34m(\u001b[0m\u001b[0;34m'Invalid Amount'\u001b[0m\u001b[0;34m)\u001b[0m\u001b[0;34m\u001b[0m\u001b[0m\n\u001b[0m\u001b[1;32m     10\u001b[0m     \u001b[0mlock\u001b[0m\u001b[0;34m[\u001b[0m\u001b[0;34m'accumulated'\u001b[0m\u001b[0;34m]\u001b[0m \u001b[0;34m+=\u001b[0m \u001b[0mamount\u001b[0m\u001b[0;34m\u001b[0m\u001b[0m\n\u001b[1;32m     11\u001b[0m     \u001b[0;32mif\u001b[0m \u001b[0mlock\u001b[0m\u001b[0;34m[\u001b[0m\u001b[0;34m'accumulated'\u001b[0m\u001b[0;34m]\u001b[0m \u001b[0;34m>=\u001b[0m \u001b[0mlock\u001b[0m\u001b[0;34m[\u001b[0m\u001b[0;34m'cost'\u001b[0m\u001b[0;34m]\u001b[0m\u001b[0;34m:\u001b[0m\u001b[0;34m\u001b[0m\u001b[0m\n",
      "\u001b[0;31mInvalidAmountException\u001b[0m: Invalid Amount"
     ]
    }
   ],
   "source": [
    "add_coin(lock_1, -1)"
   ]
  },
  {
   "cell_type": "code",
   "execution_count": null,
   "metadata": {},
   "outputs": [],
   "source": [
    "amount_str = input('Amount: ')\n",
    "amount = float(amount_str)\n",
    "try:\n",
    "    add_coin(lock_1, amount)\n",
    "except InvalidAmountException as e:\n",
    "    print(\"Error: The amount must be > 1\")\n",
    "except\n",
    "    if 'Invalid Amount' in str(e):\n",
    "        \n",
    "    elif 'Lock is OPEN' in str(e):\n",
    "        print(\"Success: Lock is OPEN!\")\n",
    "        print(\"Your change: {}\".format(lock_1['change']))"
   ]
  }
 ],
 "metadata": {
  "kernelspec": {
   "display_name": "Python 3",
   "language": "python",
   "name": "python3"
  },
  "language_info": {
   "codemirror_mode": {
    "name": "ipython",
    "version": 3
   },
   "file_extension": ".py",
   "mimetype": "text/x-python",
   "name": "python",
   "nbconvert_exporter": "python",
   "pygments_lexer": "ipython3",
   "version": "3.6.0"
  }
 },
 "nbformat": 4,
 "nbformat_minor": 2
}
