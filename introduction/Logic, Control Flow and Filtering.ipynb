{
 "cells": [
  {
   "metadata": {},
   "cell_type": "markdown",
   "source": "# Logic, Control Flow and Filtering",
   "id": "608708252cef7dcd"
  },
  {
   "metadata": {},
   "cell_type": "markdown",
   "source": "Boolean logic is the foundation of decision-making in Python programs. Learn about different comparison operators, how to combine them with Boolean operators, and how to use the Boolean outcomes in control structures. You'll also learn to filter data in pandas DataFrames using logic.",
   "id": "41a50a838461fb25"
  },
  {
   "metadata": {},
   "cell_type": "markdown",
   "source": "## Comparison Operators",
   "id": "64bf2777cc59c7d5"
  },
  {
   "metadata": {},
   "cell_type": "markdown",
   "source": [
    "### Equality\n",
    "To check if two Python values, or variables, are equal you can use ==. To check for inequality, you need !=. As a refresher, have a look at the following examples that all result in True. Feel free to try them out.\n",
    "\n",
    "2 == (1 + 1) <br>\n",
    "\"intermediate\" != \"python\" <br>\n",
    "True != False <br>\n",
    "\"Python\" != \"python\"\n",
    "\n",
    "When you write these comparisons in a script, you will need to wrap a print() function around them to see the output.\n",
    "### Instruction\n",
    "- Write code to see if True equals False.\n",
    "- Write Python code to check if -5 * 15 is not equal to 75.\n",
    "- Ask Python whether the strings \"pyscript\" and \"PyScript\" are equal.\n",
    "- What happens if you compare booleans and integers? Write code to see if True and 1 are equal."
   ],
   "id": "9b61d78448071da5"
  },
  {
   "metadata": {
    "ExecuteTime": {
     "end_time": "2025-08-09T17:22:13.748541Z",
     "start_time": "2025-08-09T17:22:13.744703Z"
    }
   },
   "cell_type": "code",
   "source": [
    "# Comparison of booleans\n",
    "print(True == False)\n",
    "\n",
    "# Comparison of integers\n",
    "print(-5 * 15 != 75)\n",
    "\n",
    "# Comparison of strings\n",
    "print(\"pyscript\" == \"PyScript\")\n",
    "\n",
    "# Compare a boolean with an integer\n",
    "print(True == 1)"
   ],
   "id": "8edb936260974edc",
   "outputs": [
    {
     "name": "stdout",
     "output_type": "stream",
     "text": [
      "False\n",
      "True\n",
      "False\n",
      "True\n"
     ]
    }
   ],
   "execution_count": 1
  },
  {
   "metadata": {},
   "cell_type": "markdown",
   "source": [
    "### Greater and less than\n",
    "In the video, Hugo also talked about the less than and greater than signs, < and > in Python. You can combine them with an equals sign: <= and >=. Pay attention: <= is valid syntax, but =< is not.\n",
    "\n",
    "All Python expressions in the following code chunk evaluate to True:\n",
    "\n",
    "3 < 4 <br>\n",
    "3 <= 4 <br>\n",
    "\"alpha\" <= \"beta\"\n",
    "\n",
    "Remember that for string comparison, Python determines the relationship based on alphabetical order.\\\n",
    "### Instructions\n",
    "- Write Python expressions, wrapped in a print() function, to check whether:\n",
    "    - x is greater than or equal to -10. x has already been defined for you.\n",
    "    - \"test\" is less than or equal to y. y has already been defined for you.\n",
    "    - True is greater than False."
   ],
   "id": "9ddfbfa31de04b0d"
  },
  {
   "metadata": {
    "ExecuteTime": {
     "end_time": "2025-08-09T17:27:36.242265Z",
     "start_time": "2025-08-09T17:27:36.229625Z"
    }
   },
   "cell_type": "code",
   "source": [
    "# Comparison of integers\n",
    "x = -3 * 6\n",
    "print(x >= -10)\n",
    "\n",
    "# Comparison of strings\n",
    "y = \"test\"\n",
    "print(\"test\" <= y)\n",
    "\n",
    "# Comparison of booleans\n",
    "print(True > False)"
   ],
   "id": "7493648bdd7523b2",
   "outputs": [
    {
     "name": "stdout",
     "output_type": "stream",
     "text": [
      "False\n",
      "True\n",
      "True\n"
     ]
    }
   ],
   "execution_count": 2
  },
  {
   "metadata": {},
   "cell_type": "markdown",
   "source": [
    "### Compare arrays\n",
    "Out of the box, you can also use comparison operators with NumPy arrays.\n",
    "\n",
    "Remember areas, the list of area measurements for different rooms in your house from Introduction to Python? This time there's two NumPy arrays: my_house and your_house. They both contain the areas for the kitchen, living room, bedroom and bathroom in the same order, so you can compare them.\n",
    "### Instructions\n",
    "Using comparison operators, generate boolean arrays that answer the following questions:\n",
    "\n",
    "- Which areas in my_house are greater than or equal to 18?\n",
    "- You can also compare two NumPy arrays element-wise. Which areas in my_house are smaller than the ones in your_house?\n",
    "- Make sure to wrap both commands in a print() statement so that you can inspect the output!"
   ],
   "id": "423edff0cdd2e47"
  },
  {
   "metadata": {
    "ExecuteTime": {
     "end_time": "2025-08-09T17:31:55.258809Z",
     "start_time": "2025-08-09T17:31:55.139831Z"
    }
   },
   "cell_type": "code",
   "source": [
    "# Create arrays\n",
    "import numpy as np\n",
    "my_house = np.array([18.0, 20.0, 10.75, 9.50])\n",
    "your_house = np.array([14.0, 24.0, 14.25, 9.0])\n",
    "\n",
    "# my_house greater than or equal to 18\n",
    "print(my_house >= 18)\n",
    "\n",
    "# my_house less than your_house\n",
    "print(my_house < your_house)"
   ],
   "id": "21f16bd6f905ad35",
   "outputs": [
    {
     "name": "stdout",
     "output_type": "stream",
     "text": [
      "[ True  True False False]\n",
      "[False  True  True False]\n"
     ]
    }
   ],
   "execution_count": 3
  },
  {
   "metadata": {},
   "cell_type": "markdown",
   "source": "## Boolean operators",
   "id": "3e609b29648cfcea"
  },
  {
   "metadata": {},
   "cell_type": "markdown",
   "source": [
    "### and, or, not\n",
    "A boolean is either 1 or 0, True or False. With boolean operators such as and, or and not, you can combine these booleans to perform more advanced queries on your data.\n",
    "\n",
    "In the sample code, two variables are defined: my_kitchen and your_kitchen, representing areas.\n",
    "### Instructions\n",
    "- Write Python expressions, wrapped in a print() function, to check whether:\n",
    "    - my_kitchen is bigger than 10 and smaller than 18.\n",
    "    - my_kitchen is smaller than 14 or bigger than 17.\n",
    "    - double the area of my_kitchen is smaller than triple the area of your_kitchen."
   ],
   "id": "7f81d14dd4a38b33"
  },
  {
   "metadata": {},
   "cell_type": "code",
   "outputs": [],
   "execution_count": null,
   "source": [
    "# Define variables\n",
    "my_kitchen = 18.0\n",
    "your_kitchen = 14.0\n",
    "\n",
    "# my_kitchen bigger than 10 and smaller than 18?\n",
    "print(my_kitchen > 10 and my_kitchen < 18)\n",
    "\n",
    "# my_kitchen smaller than 14 or bigger than 17?\n",
    "print(my_kitchen < 14 or my_kitchen > 17)\n",
    "\n",
    "# Double my_kitchen smaller than triple your_kitchen?\n",
    "print(my_kitchen * 2 < your_kitchen * 3)\n"
   ],
   "id": "f2ac805b585455d0"
  },
  {
   "metadata": {},
   "cell_type": "markdown",
   "source": [
    "### and, or, not\n",
    "To see if you completely understood the boolean operators, have a look at the following piece of Python code:\n",
    "\n",
    "x = 8 <br>\n",
    "y = 9 <br>\n",
    "\n",
    "not(not(x < 3) and not(y > 14 or y > 10))\n",
    "What will the result be if you execute these three commands?\n",
    "\n",
    "NB: Notice that not has a higher priority than and and or, it is executed first."
   ],
   "id": "d6f92df30f320040"
  },
  {
   "metadata": {
    "ExecuteTime": {
     "end_time": "2025-08-09T18:27:14.645997Z",
     "start_time": "2025-08-09T18:27:14.627385Z"
    }
   },
   "cell_type": "code",
   "source": [
    "x = 8\n",
    "y = 9\n",
    "not(not(x < 3) and not(y > 14 or y > 10))"
   ],
   "id": "1419a5825de4e10c",
   "outputs": [
    {
     "data": {
      "text/plain": [
       "False"
      ]
     },
     "execution_count": 4,
     "metadata": {},
     "output_type": "execute_result"
    }
   ],
   "execution_count": 4
  },
  {
   "metadata": {},
   "cell_type": "markdown",
   "source": [
    "### Boolean operators with NumPy\n",
    "Before, the operational operators like < and >= worked with NumPy arrays out of the box. Unfortunately, this is not true for the boolean operators and, or, and not.\n",
    "\n",
    "To use these operators with NumPy, you will need np.logical_and(), np.logical_or() and np.logical_not(). Here's an example on the my_house and your_house arrays from before to give you an idea:\n",
    "\n",
    "np.logical_and(my_house > 13,\n",
    "               your_house < 15)\n",
    "### Instructions\n",
    "- Generate boolean arrays that answer the following questions:\n",
    "- Which areas in my_house are greater than 18.5 or smaller than 10?\n",
    "- Which areas are smaller than 11 in both my_house and your_house? Make sure to wrap both commands in print() statement, so that you can inspect the output."
   ],
   "id": "7842906da46eb2a4"
  },
  {
   "metadata": {
    "ExecuteTime": {
     "end_time": "2025-08-09T18:30:46.675143Z",
     "start_time": "2025-08-09T18:30:46.664349Z"
    }
   },
   "cell_type": "code",
   "source": [
    "# Create arrays\n",
    "import numpy as np\n",
    "my_house = np.array([18.0, 20.0, 10.75, 9.50])\n",
    "your_house = np.array([14.0, 24.0, 14.25, 9.0])\n",
    "\n",
    "# my_house greater than 18.5 or smaller than 10\n",
    "print(np.logical_or(my_house > 18.5, my_house < 10))\n",
    "\n",
    "# Both my_house and your_house smaller than 11\n",
    "print(np.logical_and(my_house < 11, your_house < 11))\n"
   ],
   "id": "621fcf2b2761fffd",
   "outputs": [
    {
     "name": "stdout",
     "output_type": "stream",
     "text": [
      "[False  True False  True]\n",
      "[False False False  True]\n"
     ]
    }
   ],
   "execution_count": 5
  },
  {
   "metadata": {},
   "cell_type": "markdown",
   "source": [
    "### Warmup\n",
    "To experiment with if and else a bit, have a look at this code sample:\n",
    "\n",
    "area = 10.0\n",
    "\n",
    "if(area < 9) :\n",
    "\n",
    "    print(\"small\")\n",
    "\n",
    "elif(area < 12) :\n",
    "\n",
    "    print(\"medium\")\n",
    "else :\n",
    "\n",
    "    print(\"large\")\n",
    "\n",
    "What will the output be if you run this piece of code?"
   ],
   "id": "75d84216d8d4de96"
  },
  {
   "metadata": {
    "ExecuteTime": {
     "end_time": "2025-08-09T18:36:29.109621Z",
     "start_time": "2025-08-09T18:36:29.101565Z"
    }
   },
   "cell_type": "code",
   "source": [
    "area = 10.0\n",
    "if(area < 9) :\n",
    "    print(\"small\")\n",
    "elif(area < 12) :\n",
    "    print(\"medium\")\n",
    "else :\n",
    "    print(\"large\")"
   ],
   "id": "83621d7c1c6103e7",
   "outputs": [
    {
     "name": "stdout",
     "output_type": "stream",
     "text": [
      "medium\n"
     ]
    }
   ],
   "execution_count": 6
  },
  {
   "metadata": {},
   "cell_type": "markdown",
   "source": [
    "### if\n",
    "It's time to take a closer look around in your house.\n",
    "\n",
    "Two variables are defined in the sample code: room, a string that tells you which room of the house we're looking at, and area, the area of that room.\n",
    "\n",
    "### Instructions\n",
    "- Examine the if statement that prints out \"looking around in the kitchen.\" if room equals \"kit\".\n",
    "- Write another if statement that prints out \"big place!\" if area is greater than 15."
   ],
   "id": "af4cb8f77e4cc29e"
  },
  {
   "metadata": {
    "ExecuteTime": {
     "end_time": "2025-08-09T18:39:42.004096Z",
     "start_time": "2025-08-09T18:39:41.993555Z"
    }
   },
   "cell_type": "code",
   "source": [
    "# Define variables\n",
    "room = \"kit\"\n",
    "area = 14.0\n",
    "\n",
    "# if statement for room\n",
    "if room == \"kit\" :\n",
    "    print(\"looking around in the kitchen.\")\n",
    "\n",
    "# if statement for area\n",
    "if area > 15 :\n",
    "    print(\"big place!\")"
   ],
   "id": "e9dffeb2365faf6e",
   "outputs": [
    {
     "name": "stdout",
     "output_type": "stream",
     "text": [
      "looking around in the kitchen.\n"
     ]
    }
   ],
   "execution_count": 7
  },
  {
   "metadata": {},
   "cell_type": "markdown",
   "source": [
    "### Add else\n",
    "In the script, the if construct for room has been extended with an else statement so that \"looking around elsewhere.\" is printed if the condition room == \"kit\" evaluates to False.\n",
    "\n",
    "Can you do a similar thing to add more functionality to the if construct for area?\n",
    "### Instructions\n",
    "- Add an else statement to the second control structure so that \"pretty small.\" is printed out if area > 15 evaluates to False."
   ],
   "id": "2ea15d3c38871fae"
  },
  {
   "metadata": {
    "ExecuteTime": {
     "end_time": "2025-08-09T18:40:41.043324Z",
     "start_time": "2025-08-09T18:40:41.033377Z"
    }
   },
   "cell_type": "code",
   "source": [
    "# Define variables\n",
    "room = \"kit\"\n",
    "area = 14.0\n",
    "\n",
    "# if-else construct for room\n",
    "if room == \"kit\" :\n",
    "    print(\"looking around in the kitchen.\")\n",
    "else :\n",
    "    print(\"looking around elsewhere.\")\n",
    "\n",
    "# if-else construct for area\n",
    "if area > 15 :\n",
    "    print(\"big place!\")\n",
    "else :\n",
    "    print(\"pretty small.\")"
   ],
   "id": "1317cbd86fc88b33",
   "outputs": [
    {
     "name": "stdout",
     "output_type": "stream",
     "text": [
      "looking around in the kitchen.\n"
     ]
    }
   ],
   "execution_count": 8
  },
  {
   "metadata": {},
   "cell_type": "markdown",
   "source": [
    "### Customize further: elif\n",
    "It's also possible to have a look around in the bedroom. The sample code contains an elif part that checks if room equals \"bed\". In that case, \"looking around in the bedroom.\" is printed out.\n",
    "\n",
    "It's up to you now! Make a similar addition to the second control structure to further customize the messages for different values of area.\n",
    "### Instructions\n",
    "- Add an elif to the second control structure such that \"medium size, nice!\" is printed out if area is greater than 10."
   ],
   "id": "24aad11b23aed53b"
  },
  {
   "metadata": {},
   "cell_type": "code",
   "outputs": [],
   "execution_count": null,
   "source": [
    "# Define variables\n",
    "room = \"bed\"\n",
    "area = 14.0\n",
    "\n",
    "# if-elif-else construct for room\n",
    "if room == \"kit\" :\n",
    "    print(\"looking around in the kitchen.\")\n",
    "elif room == \"bed\":\n",
    "    print(\"looking around in the bedroom.\")\n",
    "else :\n",
    "    print(\"looking around elsewhere.\")\n",
    "\n",
    "# if-elif-else construct for area\n",
    "if area > 15 :\n",
    "    print(\"big place!\")\n",
    "elif area > 10 :\n",
    "    print(\"medium size, nice!\")\n",
    "else :\n",
    "    print(\"pretty small.\")"
   ],
   "id": "a2998504fb011609"
  },
  {
   "metadata": {},
   "cell_type": "markdown",
   "source": [
    "### Driving right\n",
    "Remember that cars dataset, containing the cars per 1000 people (cars_per_cap) and whether people drive right (drives_right) for different countries (country)? The code that imports this data in CSV format into Python as a DataFrame is included in the script.\n",
    "\n",
    "In the video, you saw a step-by-step approach to filter observations from a DataFrame based on boolean arrays. Let's start simple and try to find all observations in cars where drives_right is True.\n",
    "\n",
    "drives_right is a boolean column, so you'll have to extract it as a Series and then use this boolean Series to select observations from cars.\n",
    "### Instructions\n",
    "- Extract the drives_right column as a Pandas Series and store it as dr.\n",
    "- Use dr, a boolean Series, to subset the cars DataFrame. Store the resulting selection in sel.\n",
    "- Print sel, and assert that drives_right is True for all observations."
   ],
   "id": "4a33ca2523ad6ee"
  },
  {
   "metadata": {
    "ExecuteTime": {
     "end_time": "2025-08-09T18:51:03.695537Z",
     "start_time": "2025-08-09T18:51:03.664218Z"
    }
   },
   "cell_type": "code",
   "source": [
    "# Import cars data\n",
    "import pandas as pd\n",
    "cars = pd.read_csv('data/cars.csv', index_col = 0)\n",
    "\n",
    "# Extract drives_right column as Series: dr\n",
    "dr = cars['drives_right']\n",
    "\n",
    "# Use dr to subset cars: sel\n",
    "sel = cars[dr]\n",
    "\n",
    "# Print sel\n",
    "print(sel)"
   ],
   "id": "468826ffeb92a1a3",
   "outputs": [
    {
     "name": "stdout",
     "output_type": "stream",
     "text": [
      "            cars_per_cap        country  drives_right\n",
      "Unnamed: 0                                           \n",
      "US                   809  United States          True\n",
      "RU                   200         Russia          True\n",
      "MOR                   70        Morocco          True\n",
      "EG                    45          Egypt          True\n"
     ]
    }
   ],
   "execution_count": 12
  },
  {
   "metadata": {},
   "cell_type": "markdown",
   "source": [
    "### Driving right\n",
    "The code in the previous example worked fine, but you actually unnecessarily created a new variable dr. You can achieve the same result without this intermediate variable. Put the code that computes dr straight into the square brackets that select observations from cars.\n",
    "### Instructions\n",
    "- Convert the code to a one-liner that calculates the variable sel as before."
   ],
   "id": "b45fa775f7154894"
  },
  {
   "metadata": {
    "ExecuteTime": {
     "end_time": "2025-08-09T18:53:03.572017Z",
     "start_time": "2025-08-09T18:53:03.553765Z"
    }
   },
   "cell_type": "code",
   "source": [
    "# Convert code to a one-liner\n",
    "sel = cars[cars['drives_right']]\n",
    "\n",
    "# Print sel\n",
    "print(sel)\n"
   ],
   "id": "18eeb8f6dfaf8cda",
   "outputs": [
    {
     "name": "stdout",
     "output_type": "stream",
     "text": [
      "            cars_per_cap        country  drives_right\n",
      "Unnamed: 0                                           \n",
      "US                   809  United States          True\n",
      "RU                   200         Russia          True\n",
      "MOR                   70        Morocco          True\n",
      "EG                    45          Egypt          True\n"
     ]
    }
   ],
   "execution_count": 15
  },
  {
   "metadata": {},
   "cell_type": "markdown",
   "source": [
    "### Cars per capita\n",
    "Let's stick to the cars data some more. This time you want to find out which countries have a high cars per capita figure. In other words, in which countries do many people have a car, or maybe multiple cars.\n",
    "\n",
    "Similar to the previous example, you'll want to build up a boolean Series, that you can then use to subset the cars DataFrame to select certain observations. If you want to do this in a one-liner, that's perfectly fine!\n",
    "### Instructions\n",
    "- Select the cars_per_cap column from cars as a Pandas Series and store it as cpc.\n",
    "- Use cpc in combination with a comparison operator and 500. You want to end up with a boolean Series that's True if the corresponding country has a cars_per_cap of more than 500 and False otherwise. Store this boolean Series as many_cars.\n",
    "- Use many_cars to subset cars, similar to what you did before. Store the result as car_maniac.\n",
    "- Print out car_maniac to see if you got it right.\n",
    "\n"
   ],
   "id": "f5072d6e657413e9"
  },
  {
   "metadata": {
    "ExecuteTime": {
     "end_time": "2025-08-09T18:56:01.739632Z",
     "start_time": "2025-08-09T18:56:01.702597Z"
    }
   },
   "cell_type": "code",
   "source": [
    "# Create car_maniac: observations that have a cars_per_cap over 500\n",
    "cpc = cars['cars_per_cap']\n",
    "many_cars = cpc > 500\n",
    "car_maniac = cars[many_cars]\n",
    "\n",
    "# Print car_maniac\n",
    "print(car_maniac)\n"
   ],
   "id": "5df3e8550a1655d",
   "outputs": [
    {
     "name": "stdout",
     "output_type": "stream",
     "text": [
      "            cars_per_cap        country  drives_right\n",
      "Unnamed: 0                                           \n",
      "US                   809  United States          True\n",
      "AUS                  731      Australia         False\n",
      "JPN                  588          Japan         False\n"
     ]
    }
   ],
   "execution_count": 16
  },
  {
   "metadata": {},
   "cell_type": "markdown",
   "source": [
    "### Cars per capita\n",
    "Remember about np.logical_and(), np.logical_or() and np.logical_not(), the NumPy variants of the and, or and not operators? You can also use them on Pandas Series to do more advanced filtering operations.\n",
    "\n",
    "Take this example that selects the observations that have a cars_per_cap between 10 and 80. Try out these lines of code step by step to see what's happening.\n",
    "\n",
    "cpc = cars['cars_per_cap'] <br>\n",
    "between = np.logical_and(cpc > 10, cpc < 80) <br>\n",
    "medium = cars[between]\n",
    "### Instructions\n",
    "- Use the code sample provided to create a DataFrame medium, that includes all the observations of cars that have a cars_per_cap between 100 and 500.\n",
    "- Print out medium."
   ],
   "id": "1a9f8df259be33cc"
  },
  {
   "metadata": {
    "ExecuteTime": {
     "end_time": "2025-08-09T18:57:48.793884Z",
     "start_time": "2025-08-09T18:57:48.776707Z"
    }
   },
   "cell_type": "code",
   "source": [
    "# Import numpy, you'll need this\n",
    "import numpy as np\n",
    "\n",
    "# Create medium: observations with cars_per_cap between 100 and 500\n",
    "cpc = cars['cars_per_cap']\n",
    "between = np.logical_and(cpc > 100, cpc < 500)\n",
    "medium = cars[between]\n",
    "\n",
    "# Print medium\n",
    "print(medium)\n"
   ],
   "id": "7f0fa9bb98a90f20",
   "outputs": [
    {
     "name": "stdout",
     "output_type": "stream",
     "text": [
      "            cars_per_cap country  drives_right\n",
      "Unnamed: 0                                    \n",
      "RU                   200  Russia          True\n"
     ]
    }
   ],
   "execution_count": 17
  }
 ],
 "metadata": {
  "kernelspec": {
   "display_name": "Python 3",
   "language": "python",
   "name": "python3"
  },
  "language_info": {
   "codemirror_mode": {
    "name": "ipython",
    "version": 2
   },
   "file_extension": ".py",
   "mimetype": "text/x-python",
   "name": "python",
   "nbconvert_exporter": "python",
   "pygments_lexer": "ipython2",
   "version": "2.7.6"
  }
 },
 "nbformat": 4,
 "nbformat_minor": 5
}
