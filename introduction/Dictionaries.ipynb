{
 "cells": [
  {
   "metadata": {},
   "cell_type": "markdown",
   "source": "# Dictionaries",
   "id": "49263f0077c5da49"
  },
  {
   "metadata": {},
   "cell_type": "markdown",
   "source": [
    "Motivation for dictionaries\n",
    "To see why dictionaries are useful, have a look at the two lists defined in the script. countries contains the names of some European countries. capitals lists the corresponding names of their capital.\n",
    "- Use the index() method on countries to find the index of 'germany'. Store this index as ind_ger.\n",
    "- Use ind_ger to access the capital of Germany from the capitals list. Print it out."
   ],
   "id": "fd01b38ed2f00dee"
  },
  {
   "metadata": {
    "ExecuteTime": {
     "end_time": "2025-08-09T10:14:55.229931Z",
     "start_time": "2025-08-09T10:14:55.226185Z"
    }
   },
   "cell_type": "code",
   "source": [
    "# Definition of countries and capital\n",
    "countries = ['spain', 'france', 'germany', 'norway']\n",
    "capitals = ['madrid', 'paris', 'berlin', 'oslo']\n",
    "\n",
    "# Get index of 'germany': ind_ger\n",
    "ind_ger = countries.index('germany')\n",
    "\n",
    "# Use ind_ger to print out capital of Germany\n",
    "print(capitals[ind_ger])"
   ],
   "id": "6b90c17e30105cd3",
   "outputs": [
    {
     "name": "stdout",
     "output_type": "stream",
     "text": [
      "berlin\n"
     ]
    }
   ],
   "execution_count": 1
  },
  {
   "metadata": {},
   "cell_type": "markdown",
   "source": [
    "The countries and capitals lists are again available in the script. It's your job to convert this data to a dictionary where the country names are the keys and the capitals are the corresponding values. As a refresher, here is a recipe for creating a dictionary:\n",
    "\n",
    "my_dict = {\n",
    "   \"key1\":\"value1\",\n",
    "   \"key2\":\"value2\",\n",
    "}\n",
    "In this recipe, both the keys and the values are strings. This will also be the case for this exercise.\n",
    "- With the strings in countries and capitals, create a dictionary called europe with 4 key:value pairs. Beware of capitalization! Make sure you use lowercase characters everywhere.\n",
    "- Print out europe to see if the result is what you expected."
   ],
   "id": "d95dbd046e0f573a"
  },
  {
   "metadata": {
    "ExecuteTime": {
     "end_time": "2025-08-09T10:17:25.044128Z",
     "start_time": "2025-08-09T10:17:25.033157Z"
    }
   },
   "cell_type": "code",
   "source": [
    "# Definition of countries and capital\n",
    "countries = ['spain', 'france', 'germany', 'norway']\n",
    "capitals = ['madrid', 'paris', 'berlin', 'oslo']\n",
    "\n",
    "# From string in countries and capitals, create dictionary europe\n",
    "europe = {'spain':'madrid', 'france':'paris', 'germany':'berlin', 'norway': 'oslo' }\n",
    "\n",
    "# Print europe\n",
    "print(europe)"
   ],
   "id": "35d7394899cc426",
   "outputs": [
    {
     "name": "stdout",
     "output_type": "stream",
     "text": [
      "{'spain': 'madrid', 'france': 'paris', 'germany': 'berlin', 'norway': 'oslo'}\n"
     ]
    }
   ],
   "execution_count": 2
  },
  {
   "metadata": {},
   "cell_type": "markdown",
   "source": [
    "### Access dictionary\n",
    "If the keys of a dictionary are chosen wisely, accessing the values in a dictionary is easy and intuitive. For example, to get the capital for France from europe you can use:\n",
    "\n",
    "europe['france']\n",
    "Here, 'france' is the key and 'paris' the value is returned.\n",
    "- Check out which keys are in europe by calling the keys() method on europe. Print out the result.\n",
    "- Print out the value that belongs to the key 'norway'."
   ],
   "id": "d4b8a5b57bfbd65a"
  },
  {
   "metadata": {
    "ExecuteTime": {
     "end_time": "2025-08-09T10:23:43.360460Z",
     "start_time": "2025-08-09T10:23:43.354702Z"
    }
   },
   "cell_type": "code",
   "source": [
    "# Definition of dictionary\n",
    "europe = {'spain':'madrid', 'france':'paris', 'germany':'berlin', 'norway':'oslo' }\n",
    "\n",
    "# Print out the keys in europe\n",
    "print(europe.keys())\n",
    "\n",
    "# Print out value that belongs to key 'norway'\n",
    "print(europe['norway'])\n"
   ],
   "id": "302189cacd65a2fb",
   "outputs": [
    {
     "name": "stdout",
     "output_type": "stream",
     "text": [
      "dict_keys(['spain', 'france', 'germany', 'norway'])\n",
      "oslo\n"
     ]
    }
   ],
   "execution_count": 3
  },
  {
   "metadata": {},
   "cell_type": "markdown",
   "source": [
    "### Dictionary Manipulation\n",
    "If you know how to access a dictionary, you can also assign a new value to it. To add a new key-value pair to europe you can use something like this:\n",
    "\n",
    "europe['iceland'] = 'reykjavik\n",
    "- Add the key 'italy' with the value 'rome' to europe.\n",
    "- To assert that 'italy' is now a key in europe, print out 'italy' in europe.\n",
    "- Add another key:value pair to europe: 'poland' is the key, 'warsaw' is the corresponding value.\n",
    "- Print out europe."
   ],
   "id": "2097f50ebf16ff40"
  },
  {
   "metadata": {
    "ExecuteTime": {
     "end_time": "2025-08-09T10:48:02.506645Z",
     "start_time": "2025-08-09T10:48:02.501547Z"
    }
   },
   "cell_type": "code",
   "source": [
    "# Definition of dictionary\n",
    "europe = {'spain':'madrid', 'france':'paris', 'germany':'berlin', 'norway':'oslo' }\n",
    "\n",
    "# Add italy to europe\n",
    "europe['italy'] = 'rome'\n",
    "\n",
    "# Print out italy in europe\n",
    "print('italy' in europe)\n",
    "\n",
    "# Add poland to europe\n",
    "europe['poland'] = 'warsaw'\n",
    "\n",
    "# Print europe\n",
    "print(europe)"
   ],
   "id": "3ffb2d680250d27b",
   "outputs": [
    {
     "name": "stdout",
     "output_type": "stream",
     "text": [
      "True\n",
      "{'spain': 'madrid', 'france': 'paris', 'germany': 'berlin', 'norway': 'oslo', 'italy': 'rome', 'poland': 'warsaw'}\n"
     ]
    }
   ],
   "execution_count": 6
  },
  {
   "metadata": {},
   "cell_type": "markdown",
   "source": [
    "Somebody thought it would be funny to mess with your accurately generated dictionary. An adapted version of the europe dictionary is available in the script.\n",
    "\n",
    "Can you clean up? Do not do this by adapting the definition of europe, but by adding Python commands to the script to update and remove key:value pairs.\n",
    "- The capital of Germany is not 'bonn'; it's 'berlin'. Update its value.\n",
    "- Australia is not in Europe, Austria is! Remove the key 'australia' from europe.\n",
    "- Print out europe to see if your cleaning work paid off."
   ],
   "id": "809381fe8373635e"
  },
  {
   "metadata": {
    "ExecuteTime": {
     "end_time": "2025-08-09T10:51:22.743622Z",
     "start_time": "2025-08-09T10:51:22.738132Z"
    }
   },
   "cell_type": "code",
   "source": [
    "# Definition of dictionary\n",
    "europe = {'spain':'madrid', 'france':'paris', 'germany':'bonn',\n",
    "          'norway':'oslo', 'italy':'rome', 'poland':'warsaw',\n",
    "          'australia':'vienna' }\n",
    "\n",
    "# Update capital of germany\n",
    "europe['germany']='berlin'\n",
    "\n",
    "# Remove australia\n",
    "del europe['australia']\n",
    "\n",
    "# Print europe\n",
    "print(europe)\n"
   ],
   "id": "6a6c7cbf9c063afe",
   "outputs": [
    {
     "name": "stdout",
     "output_type": "stream",
     "text": [
      "{'spain': 'madrid', 'france': 'paris', 'germany': 'berlin', 'norway': 'oslo', 'italy': 'rome', 'poland': 'warsaw'}\n"
     ]
    }
   ],
   "execution_count": 7
  },
  {
   "metadata": {},
   "cell_type": "markdown",
   "source": [
    "### Dictionariception\n",
    "Remember lists? They could contain anything, even other lists. Well, for dictionaries the same holds. Dictionaries can contain key:value pairs where the values are again dictionaries.\n",
    "\n",
    "As an example, have a look at the script where another version of europe - the dictionary you've been working with all along - is coded. The keys are still the country names, but the values are dictionaries that contain more information than just the capital.\n",
    "\n",
    "It's perfectly possible to chain square brackets to select elements. To fetch the population for Spain from europe, for example, you need:\n",
    "\n",
    "europe['spain']['population']\n",
    "- Use chained square brackets to select and print out the capital of France.\n",
    "- Create a dictionary, named data, with the keys 'capital' and 'population'. Set them to 'rome' and 59.83, respectively.\n",
    "- Add a new key-value pair to europe; the key is 'italy' and the value is data, the dictionary you just built."
   ],
   "id": "314b4d54f36d460e"
  },
  {
   "metadata": {
    "ExecuteTime": {
     "end_time": "2025-08-09T10:54:23.799994Z",
     "start_time": "2025-08-09T10:54:23.791860Z"
    }
   },
   "cell_type": "code",
   "source": [
    "# Dictionary of dictionaries\n",
    "europe = { 'spain': { 'capital':'madrid', 'population':46.77 },\n",
    "           'france': { 'capital':'paris', 'population':66.03 },\n",
    "           'germany': { 'capital':'berlin', 'population':80.62 },\n",
    "           'norway': { 'capital':'oslo', 'population':5.084 } }\n",
    "\n",
    "\n",
    "# Print out the capital of France\n",
    "print(europe['france']['capital'])\n",
    "\n",
    "# Create sub-dictionary data\n",
    "data = {'capital': 'rome', 'population': 59.83}\n",
    "\n",
    "# Add data to europe under key 'italy'\n",
    "europe['italy'] = data\n",
    "\n",
    "# Print europe\n",
    "print(europe)\n"
   ],
   "id": "b4fa337017a9c3cd",
   "outputs": [
    {
     "name": "stdout",
     "output_type": "stream",
     "text": [
      "paris\n",
      "{'spain': {'capital': 'madrid', 'population': 46.77}, 'france': {'capital': 'paris', 'population': 66.03}, 'germany': {'capital': 'berlin', 'population': 80.62}, 'norway': {'capital': 'oslo', 'population': 5.084}, 'italy': {'capital': 'rome', 'population': 59.83}}\n"
     ]
    }
   ],
   "execution_count": 8
  }
 ],
 "metadata": {
  "kernelspec": {
   "display_name": "Python 3",
   "language": "python",
   "name": "python3"
  },
  "language_info": {
   "codemirror_mode": {
    "name": "ipython",
    "version": 2
   },
   "file_extension": ".py",
   "mimetype": "text/x-python",
   "name": "python",
   "nbconvert_exporter": "python",
   "pygments_lexer": "ipython2",
   "version": "2.7.6"
  }
 },
 "nbformat": 4,
 "nbformat_minor": 5
}
