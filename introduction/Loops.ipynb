{
 "cells": [
  {
   "metadata": {},
   "cell_type": "markdown",
   "source": "# Loop\n",
   "id": "7a29d43ee7f499cd"
  },
  {
   "metadata": {},
   "cell_type": "markdown",
   "source": [
    "## while: warming up\n",
    "The while loop is like a repeated if statement. The code is executed over and over again, as long as the condition is True. Have another look at its recipe.\n",
    "\n",
    "    while condition :\n",
    "        expression\n",
    "\n",
    "Can you tell how many printouts the following while loop will do?\n",
    "\n",
    "    x = 1\n",
    "    while x < 4 :\n",
    "\n",
    "        print(x)<br>\n",
    "        x = x + 1\n",
    "### Instruction\n",
    "Possible answers\n"
   ],
   "id": "3fff8907e8cc1df4"
  },
  {
   "metadata": {
    "ExecuteTime": {
     "end_time": "2025-08-10T11:13:48.572538Z",
     "start_time": "2025-08-10T11:13:48.568315Z"
    }
   },
   "cell_type": "code",
   "source": [
    "x = 1\n",
    "while x < 4 :\n",
    "    print(x)\n",
    "    x = x + 1"
   ],
   "id": "dc97c8315fd5847a",
   "outputs": [
    {
     "name": "stdout",
     "output_type": "stream",
     "text": [
      "1\n",
      "2\n",
      "3\n"
     ]
    }
   ],
   "execution_count": 1
  },
  {
   "metadata": {},
   "cell_type": "markdown",
   "source": [
    "## Basic while loop\n",
    "Below you can find the example from the video where the error variable, initially equal to 50.0, is divided by 4 and printed out on every run:\n",
    "\n",
    "    error = 50.0\n",
    "    while error > 1 :\n",
    "        error = error / 4\n",
    "        print(error)\n",
    "This example will come in handy, because it's time to build a while loop yourself! We're going to code a while loop that implements a very basic control system for an inverted pendulum. If there's an offset from standing perfectly straight, the while loop will incrementally fix this offset.\n",
    "\n",
    "Note that if your while loop takes too long to run, or your session is expiring, you might have created an infinite loop. In particular, remember to indent the contents of the loop using four spaces or auto-indentation, and make sure the conditions are such that the loop has a stopping point.\n",
    "### Instruction\n",
    "- Create the variable _offset_ with an initial value of 8.\n",
    "- Code a _while loop_ that keeps running as long as _offset_ is not equal to 0. Inside the while loop:\n",
    "    - Print out the sentence \"correcting...\".\n",
    "    - Next, decrease the value of _offset_ by 1. You can do this with _offset_ = _offset_ - 1.\n",
    "    - Finally, still within your loop, print out _offset_ so you can see how it changes."
   ],
   "id": "7cf17140f27a8a66"
  },
  {
   "metadata": {
    "ExecuteTime": {
     "end_time": "2025-08-10T11:41:04.901158Z",
     "start_time": "2025-08-10T11:41:04.893775Z"
    }
   },
   "cell_type": "code",
   "source": [
    "# Initialize offset\n",
    "offset = 8\n",
    "\n",
    "# Code the while loop\n",
    "while offset != 0:\n",
    "    print(\"correcting...\")\n",
    "    offset = offset - 1\n",
    "    print(offset)"
   ],
   "id": "43b51b07918bd31e",
   "outputs": [
    {
     "name": "stdout",
     "output_type": "stream",
     "text": [
      "correcting...\n",
      "7\n",
      "correcting...\n",
      "6\n",
      "correcting...\n",
      "5\n",
      "correcting...\n",
      "4\n",
      "correcting...\n",
      "3\n",
      "correcting...\n",
      "2\n",
      "correcting...\n",
      "1\n",
      "correcting...\n",
      "0\n"
     ]
    }
   ],
   "execution_count": 2
  },
  {
   "metadata": {},
   "cell_type": "markdown",
   "source": [
    "## Add conditionals\n",
    "The while loop that corrects the offset is a good start, but what if offset is negative? You can try to run the following code where offset is initialized to -6:\n",
    "\n",
    "    # Initialize offset\n",
    "    offset = -6\n",
    "\n",
    "    # Code the while loop\n",
    "    while offset != 0 :\n",
    "        print(\"correcting...\")\n",
    "        offset = offset - 1\n",
    "        print(offset)\n",
    "but your session will be disconnected. The while loop will never stop running, because offset will be further decreased on every run. offset != 0 will never become False and the while loop continues forever.\n",
    "\n",
    "Fix things by putting an if-else statement inside the while loop.\n",
    "\n",
    "Note that if your while loop takes too long to run, or your session is expiring, you might have created an infinite loop. In particular, remember to indent the contents of the loop using four spaces or auto-indentation, and make sure the conditions are such that the loop has a stopping point.\n",
    "### Instruction\n",
    "- Initialize offset to -6.\n",
    "- Inside the while loop, complete the if-else statement:\n",
    "    - If offset is greater than zero, you should decrease offset by 1.\n",
    "\n",
    "Else, you should increase offset by 1.\n",
    "If your code is taking too long to run (or your session is expiring), you probably made a mistake. Check your code and make sure that the statement offset != 0 will eventually evaluate to FALSE!\n"
   ],
   "id": "5d811013a91b4868"
  },
  {
   "metadata": {
    "ExecuteTime": {
     "end_time": "2025-08-10T11:47:50.287697Z",
     "start_time": "2025-08-10T11:47:50.282772Z"
    }
   },
   "cell_type": "code",
   "source": [
    "# Initialize offset\n",
    "offset = -6\n",
    "\n",
    "# Code the while loop\n",
    "while offset != 0 :\n",
    "    print(\"correcting...\")\n",
    "    if offset > 0 :\n",
    "        offset = offset - 1\n",
    "    else :\n",
    "        offset = offset + 1\n",
    "    print(offset)"
   ],
   "id": "e6d43275be74718d",
   "outputs": [
    {
     "name": "stdout",
     "output_type": "stream",
     "text": [
      "correcting...\n",
      "-5\n",
      "correcting...\n",
      "-4\n",
      "correcting...\n",
      "-3\n",
      "correcting...\n",
      "-2\n",
      "correcting...\n",
      "-1\n",
      "correcting...\n",
      "0\n"
     ]
    }
   ],
   "execution_count": 4
  },
  {
   "metadata": {},
   "cell_type": "markdown",
   "source": "## For Loop",
   "id": "4dc56f2f685e3554"
  },
  {
   "metadata": {},
   "cell_type": "markdown",
   "source": [
    "## Loop over a list\n",
    "Have another look at the for loop that Hugo showed in the video:\n",
    "\n",
    "    fam = [1.73, 1.68, 1.71, 1.89]\n",
    "    for height in fam :\n",
    "        print(height)\n",
    "As usual, you simply have to indent the code with 4 spaces to tell Python which code should be executed in the for loop.\n",
    "\n",
    "The `areas` variable, containing the area of different rooms in your house, is already defined.\n",
    "### Instruction\n",
    "Write a `for` loop that iterates over all elements of the `areas` list and prints out every element separately."
   ],
   "id": "a558058967297cc8"
  },
  {
   "metadata": {
    "ExecuteTime": {
     "end_time": "2025-08-10T11:56:38.390416Z",
     "start_time": "2025-08-10T11:56:38.381477Z"
    }
   },
   "cell_type": "code",
   "source": [
    "# areas list\n",
    "areas = [11.25, 18.0, 20.0, 10.75, 9.50]\n",
    "\n",
    "# Code the for loop\n",
    "for data in areas:\n",
    "    print(data)"
   ],
   "id": "4c0eb115a65560ce",
   "outputs": [
    {
     "name": "stdout",
     "output_type": "stream",
     "text": [
      "11.25\n",
      "18.0\n",
      "20.0\n",
      "10.75\n",
      "9.5\n"
     ]
    }
   ],
   "execution_count": 5
  },
  {
   "metadata": {},
   "cell_type": "markdown",
   "source": [
    "Using a for loop to iterate over a list only gives you access to every list element in each run, one after the other. If you also want to access the index information, so where the list element you're iterating over is located, you can use enumerate().\n",
    "\n",
    "As an example, have a look at how the for loop from the video was converted:\n",
    "\n",
    "    fam = [1.73, 1.68, 1.71, 1.89]\n",
    "    for index, height in enumerate(fam) :\n",
    "        print(\"person \" + str(index) + \": \" + str(height))\n",
    "### Instruction\n",
    "- Adapt the for loop in the sample code to use enumerate() and use two iterator variables.\n",
    "- Update the print() statement so that on each run, a line of the form \"room x: y\" should be printed, where x is the index of the list element and y is the actual list element, i.e. the area. Make sure to print out this exact string, with the correct spacing."
   ],
   "id": "e1451c745b0ed182"
  },
  {
   "metadata": {
    "ExecuteTime": {
     "end_time": "2025-08-10T12:01:43.470029Z",
     "start_time": "2025-08-10T12:01:43.462870Z"
    }
   },
   "cell_type": "code",
   "source": [
    "# Code the for loop\n",
    "for index, height in enumerate(areas) :\n",
    "    print(\"room \" + str(index) + \": \" + str(height))"
   ],
   "id": "b9709c9154385913",
   "outputs": [
    {
     "name": "stdout",
     "output_type": "stream",
     "text": [
      "room 0: 11.25\n",
      "room 1: 18.0\n",
      "room 2: 20.0\n",
      "room 3: 10.75\n",
      "room 4: 9.5\n"
     ]
    }
   ],
   "execution_count": 6
  },
  {
   "metadata": {},
   "cell_type": "markdown",
   "source": [
    "For non-programmer folks, room 0: 11.25 is strange. Wouldn't it be better if the count started at 1?\n",
    "### Instruction\n",
    "Adapt the print() function in the for loop so that the first printout becomes \"room 1: 11.25\", the second one \"room 2: 18.0\" and so on."
   ],
   "id": "eb5cda66af6e4954"
  },
  {
   "metadata": {
    "ExecuteTime": {
     "end_time": "2025-08-10T12:03:51.748409Z",
     "start_time": "2025-08-10T12:03:51.744258Z"
    }
   },
   "cell_type": "code",
   "source": [
    "# Code the for loop\n",
    "for index, area in enumerate(areas) :\n",
    "    print(\"room \" + str(index+1) + \": \" + str(area))"
   ],
   "id": "7f06668137a3c947",
   "outputs": [
    {
     "name": "stdout",
     "output_type": "stream",
     "text": [
      "room 1: 11.25\n",
      "room 2: 18.0\n",
      "room 3: 20.0\n",
      "room 4: 10.75\n",
      "room 5: 9.5\n"
     ]
    }
   ],
   "execution_count": 8
  },
  {
   "metadata": {},
   "cell_type": "markdown",
   "source": [
    "## Loop over list of lists\n",
    "Remember the house variable from the Intro to Python course? Have a look at its definition in the script. It's basically a list of lists, where each sublist contains the name and area of a room in your house.\n",
    "\n",
    "It's up to you to build a for loop from scratch this time!\n",
    "### Instruction\n",
    "Write a `for` loop that goes through each sublist of `house` and prints out the `x` is `y` sqm, where `x` is the name of the room and `y` is the area of the room."
   ],
   "id": "8bd65e2569804aba"
  },
  {
   "metadata": {
    "ExecuteTime": {
     "end_time": "2025-08-10T12:09:36.847957Z",
     "start_time": "2025-08-10T12:09:36.839136Z"
    }
   },
   "cell_type": "code",
   "source": [
    "# house list of lists\n",
    "house = [[\"hallway\", 11.25],\n",
    "         [\"kitchen\", 18.0],\n",
    "         [\"living room\", 20.0],\n",
    "         [\"bedroom\", 10.75],\n",
    "         [\"bathroom\", 9.50]]\n",
    "\n",
    "# Build a for loop from scratch\n",
    "for room in house:\n",
    "    print(\"the \" + room[0] + \" is \" + str(room[1]) + \" sqm\")"
   ],
   "id": "9bbbde54953f5de5",
   "outputs": [
    {
     "name": "stdout",
     "output_type": "stream",
     "text": [
      "hallway is 11.25 sqm\n",
      "kitchen is 18.0 sqm\n",
      "living room is 20.0 sqm\n",
      "bedroom is 10.75 sqm\n",
      "bathroom is 9.5 sqm\n"
     ]
    }
   ],
   "execution_count": 11
  },
  {
   "metadata": {},
   "cell_type": "markdown",
   "source": [
    "## Loop over dictionary\n",
    "In Python 3, you need the items() method to loop over a dictionary:\n",
    "\n",
    "    world = { \"afghanistan\":30.55,\n",
    "              \"albania\":2.77,\n",
    "              \"algeria\":39.21 }\n",
    "\n",
    "    for key, value in world.items() :\n",
    "        print(key + \" -- \" + str(value))\n",
    "Remember the `europe` dictionary that contained the names of some European countries as key and their capitals as corresponding value? Go ahead and write a loop to iterate over it!\n",
    "### Instruction\n",
    "Write a `for` loop that goes through each key:value pair of `europe`. On each iteration, \"the capital of `x` is `y`\" should be printed out, where `x` is the key and `y` is the value of the pair."
   ],
   "id": "e4d46a864724cdc2"
  },
  {
   "metadata": {
    "ExecuteTime": {
     "end_time": "2025-08-10T12:20:38.651760Z",
     "start_time": "2025-08-10T12:20:38.642806Z"
    }
   },
   "cell_type": "code",
   "source": [
    "# Definition of dictionary\n",
    "europe = {'spain':'madrid', 'france':'paris', 'germany':'berlin',\n",
    "          'norway':'oslo', 'italy':'rome', 'poland':'warsaw', 'austria':'vienna' }\n",
    "\n",
    "# Iterate over europe\n",
    "for country, capital in europe.items():\n",
    "    print(\"the capital of \" + country + \" is \" + capital)\n"
   ],
   "id": "d595928de5061233",
   "outputs": [
    {
     "name": "stdout",
     "output_type": "stream",
     "text": [
      "the capital of spain is madrid\n",
      "the capital of france is paris\n",
      "the capital of germany is berlin\n",
      "the capital of norway is oslo\n",
      "the capital of italy is rome\n",
      "the capital of poland is warsaw\n",
      "the capital of austria is vienna\n"
     ]
    }
   ],
   "execution_count": 12
  },
  {
   "metadata": {},
   "cell_type": "markdown",
   "source": [
    "## Loop over NumPy array\n",
    "If you're dealing with a 1D NumPy array, looping over all elements can be as simple as:\n",
    "\n",
    "    for x in my_array :\n",
    "        ...\n",
    "If you're dealing with a 2D NumPy array, it's more complicated. A 2D array is built up of multiple 1D arrays. To explicitly iterate over all separate elements of a multi-dimensional array, you'll need this syntax:\n",
    "\n",
    "    for x in np.nditer(my_array) :\n",
    "        ...\n",
    "Two NumPy arrays that you might recognize from the intro course are available in your Python session: `np_height`, a NumPy array containing the heights of Major League Baseball players, and `np_baseball`, a 2D NumPy array that contains both the heights (first column) and weights (second column) of those players.\n",
    "### Instruction\n",
    "- Import the `numpy` package under the local alias np.\n",
    "- Write a `for` loop that iterates over all elements in `np_height` and prints out \"x inches\" for each element, where x is the value in the array.\n",
    "- Write a `for` loop that visits every element of the `np_baseball` array and prints it out."
   ],
   "id": "7a47595d158fefa2"
  },
  {
   "metadata": {
    "ExecuteTime": {
     "end_time": "2025-08-10T12:24:35.070419Z",
     "start_time": "2025-08-10T12:24:34.951736Z"
    }
   },
   "cell_type": "code",
   "source": [
    "# Import numpy as np\n",
    "import numpy as np\n",
    "\n",
    "# For loop over np_height\n",
    "np_height = np.array([72, 70, 68, 65, 74])\n",
    "for height in np_height:\n",
    "    print(str(height) + \" inches\")\n",
    "\n",
    "# For loop over np_baseball\n",
    "np_baseball = np.array([\n",
    "    [72, 180, 29],\n",
    "    [70, 215, 30],\n",
    "    [68, 210, 26]\n",
    "])\n",
    "for player in np.nditer(np_baseball):\n",
    "    print(player)\n"
   ],
   "id": "a03034265dc76e28",
   "outputs": [
    {
     "name": "stdout",
     "output_type": "stream",
     "text": [
      "72 inches\n",
      "70 inches\n",
      "68 inches\n",
      "65 inches\n",
      "74 inches\n",
      "72\n",
      "180\n",
      "29\n",
      "70\n",
      "215\n",
      "30\n",
      "68\n",
      "210\n",
      "26\n"
     ]
    }
   ],
   "execution_count": 13
  },
  {
   "metadata": {},
   "cell_type": "markdown",
   "source": [
    "## Loop over DataFrame\n",
    "Iterating over a Pandas DataFrame is typically done with the `iterrows()` method. Used in a for `loop`, every observation is iterated over and on every iteration the row label and actual row contents are available:\n",
    "\n",
    "    for lab, row in brics.iterrows() :\n",
    "        ...\n",
    "In this and the following exercises you will be working on the `cars` DataFrame. It contains information on the cars per capita and whether people drive right or left for seven countries in the world.\n",
    "### Instruction\n",
    "Write a `for` loop that iterates over the rows of cars and on each iteration perform two `print()` calls: one to print out the row label and one to print out all of the rows contents."
   ],
   "id": "6c3cbc25b4faadab"
  },
  {
   "metadata": {
    "ExecuteTime": {
     "end_time": "2025-08-10T12:44:52.776229Z",
     "start_time": "2025-08-10T12:44:51.877186Z"
    }
   },
   "cell_type": "code",
   "source": [
    "# Import cars data\n",
    "import pandas as pd\n",
    "cars = pd.read_csv('data/cars.csv', index_col = 0)\n",
    "\n",
    "# Iterate over rows of cars\n",
    "for lab, row in cars.iterrows():\n",
    "    print(lab)\n",
    "    print(row)"
   ],
   "id": "c85d2e6fed9dae0e",
   "outputs": [
    {
     "name": "stdout",
     "output_type": "stream",
     "text": [
      "US\n",
      "cars_per_cap              809\n",
      "country         United States\n",
      "drives_right             True\n",
      "Name: US, dtype: object\n",
      "AUS\n",
      "cars_per_cap          731\n",
      "country         Australia\n",
      "drives_right        False\n",
      "Name: AUS, dtype: object\n",
      "JPN\n",
      "cars_per_cap      588\n",
      "country         Japan\n",
      "drives_right    False\n",
      "Name: JPN, dtype: object\n",
      "IN\n",
      "cars_per_cap       18\n",
      "country         India\n",
      "drives_right    False\n",
      "Name: IN, dtype: object\n",
      "RU\n",
      "cars_per_cap       200\n",
      "country         Russia\n",
      "drives_right      True\n",
      "Name: RU, dtype: object\n",
      "MOR\n",
      "cars_per_cap         70\n",
      "country         Morocco\n",
      "drives_right       True\n",
      "Name: MOR, dtype: object\n",
      "EG\n",
      "cars_per_cap       45\n",
      "country         Egypt\n",
      "drives_right     True\n",
      "Name: EG, dtype: object\n"
     ]
    }
   ],
   "execution_count": 14
  },
  {
   "metadata": {},
   "cell_type": "markdown",
   "source": [
    "## Loop over DataFrame\n",
    "The row data that's generated by `iterrows()` on every run is a Pandas Series. This format is not very convenient to print out. Luckily, you can easily select variables from the Pandas Series using square brackets:\n",
    "\n",
    "    for lab, row in brics.iterrows() :\n",
    "        print(row['country'])\n",
    "### Instruction\n",
    "- Using the iterators `lab` and `row`, adapt the code in the for loop such that the first iteration prints out \"US: 809\", the second iteration \"AUS: 731\", and so on.\n",
    "- The output should be in the form \"country: cars_per_cap\". Make sure to print out this exact string (with the correct spacing).\n",
    "    - You can use `str()` to convert your integer data to a string so that you can print it in conjunction with the country label."
   ],
   "id": "9adccfe586cf82e"
  },
  {
   "metadata": {
    "ExecuteTime": {
     "end_time": "2025-08-10T12:49:29.764858Z",
     "start_time": "2025-08-10T12:49:29.751178Z"
    }
   },
   "cell_type": "code",
   "source": [
    "# Adapt for loop\n",
    "for lab, row in cars.iterrows() :\n",
    "    print(lab + \": \" + str(row['cars_per_cap']))"
   ],
   "id": "cfc94f36b9679172",
   "outputs": [
    {
     "name": "stdout",
     "output_type": "stream",
     "text": [
      "US: 809\n",
      "AUS: 731\n",
      "JPN: 588\n",
      "IN: 18\n",
      "RU: 200\n",
      "MOR: 70\n",
      "EG: 45\n"
     ]
    }
   ],
   "execution_count": 16
  },
  {
   "metadata": {},
   "cell_type": "markdown",
   "source": [
    "## Add column\n",
    "In the video, Hugo showed you how to add the length of the country names of the `brics` DataFrame in a new column:\n",
    "\n",
    "    for lab, row in brics.iterrows() :\n",
    "        brics.loc[lab, \"name_length\"] = len(row[\"country\"])\n",
    "You can do similar things on the `cars` DataFrame.\n",
    "### Instruction\n",
    "- Use a `for` loop to add a new column, named COUNTRY, that contains a uppercase version of the country names in the \"country\" column. You can use the string method `upper()` for this.\n",
    "- To see if your code worked, print out `cars`. Don't indent this code, so that it's not part of the `for loop`."
   ],
   "id": "6c1c89953d2f2091"
  },
  {
   "metadata": {
    "ExecuteTime": {
     "end_time": "2025-08-10T12:52:31.072139Z",
     "start_time": "2025-08-10T12:52:31.051574Z"
    }
   },
   "cell_type": "code",
   "source": [
    "# Code for loop that adds COUNTRY column\n",
    "for lab, row in cars.iterrows() :\n",
    "    cars.loc[lab, \"COUNTRY\"] = row[\"country\"].upper()\n",
    "\n",
    "# Print cars\n",
    "print(cars)"
   ],
   "id": "85abed88338f4559",
   "outputs": [
    {
     "name": "stdout",
     "output_type": "stream",
     "text": [
      "            cars_per_cap        country  drives_right        COUNTRY\n",
      "Unnamed: 0                                                          \n",
      "US                   809  United States          True  UNITED STATES\n",
      "AUS                  731      Australia         False      AUSTRALIA\n",
      "JPN                  588          Japan         False          JAPAN\n",
      "IN                    18          India         False          INDIA\n",
      "RU                   200         Russia          True         RUSSIA\n",
      "MOR                   70        Morocco          True        MOROCCO\n",
      "EG                    45          Egypt          True          EGYPT\n"
     ]
    }
   ],
   "execution_count": 17
  },
  {
   "metadata": {},
   "cell_type": "markdown",
   "source": [
    "## Add column\n",
    "Using `iterrows()` to iterate over every observation of a Pandas DataFrame is easy to understand, but not very efficient. On every iteration, you're creating a new Pandas Series.\n",
    "\n",
    "If you want to add a column to a DataFrame by calling a function on another column, the `iterrows()` method in combination with a for loop is not the preferred way to go. Instead, you'll want to use `apply()`.\n",
    "\n",
    "Compare the `iterrows()` version with the `apply()` version to get the same result in the brics DataFrame:\n",
    "\n",
    "    for lab, row in brics.iterrows() :\n",
    "        brics.loc[lab, \"name_length\"] = len(row[\"country\"])\n",
    "\n",
    "    brics[\"name_length\"] = brics[\"country\"].apply(len)\n",
    "We can do a similar thing to call the `upper()` method on every name in the country column. However, `upper()` is a method, so we'll need a slightly different approach:\n",
    "### Instruction\n",
    "- Replace the `for` loop with a one-liner that uses `.apply(str.upper).` The call should give the same result: a column COUNTRY should be added to `cars`, containing an uppercase version of the country names.\n",
    "- As usual, print out `cars` to see the fruits of your hard labor"
   ],
   "id": "b738c5dcf4cb531e"
  },
  {
   "metadata": {
    "ExecuteTime": {
     "end_time": "2025-08-10T12:56:48.856794Z",
     "start_time": "2025-08-10T12:56:48.839144Z"
    }
   },
   "cell_type": "code",
   "source": [
    "# Use .apply(str.upper)\n",
    "cars[\"COUNTRY\"] = cars[\"country\"].apply(str.upper)\n",
    "\n",
    "# Print the result\n",
    "print(cars)"
   ],
   "id": "c540e49d9067fec1",
   "outputs": [
    {
     "name": "stdout",
     "output_type": "stream",
     "text": [
      "            cars_per_cap        country  drives_right        COUNTRY\n",
      "Unnamed: 0                                                          \n",
      "US                   809  United States          True  UNITED STATES\n",
      "AUS                  731      Australia         False      AUSTRALIA\n",
      "JPN                  588          Japan         False          JAPAN\n",
      "IN                    18          India         False          INDIA\n",
      "RU                   200         Russia          True         RUSSIA\n",
      "MOR                   70        Morocco          True        MOROCCO\n",
      "EG                    45          Egypt          True          EGYPT\n"
     ]
    }
   ],
   "execution_count": 18
  }
 ],
 "metadata": {
  "kernelspec": {
   "display_name": "Python 3",
   "language": "python",
   "name": "python3"
  },
  "language_info": {
   "codemirror_mode": {
    "name": "ipython",
    "version": 2
   },
   "file_extension": ".py",
   "mimetype": "text/x-python",
   "name": "python",
   "nbconvert_exporter": "python",
   "pygments_lexer": "ipython2",
   "version": "2.7.6"
  }
 },
 "nbformat": 4,
 "nbformat_minor": 5
}
