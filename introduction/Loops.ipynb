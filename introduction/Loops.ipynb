{
 "cells": [
  {
   "metadata": {},
   "cell_type": "markdown",
   "source": [
    "# Loops\n",
    "Loops are used to execute a block of code repeatedly until a certain condition is met. In Python, there are two main types of loops: `for` loops and `while` loops."
   ],
   "id": "e247ba974708578e"
  },
  {
   "metadata": {},
   "cell_type": "markdown",
   "source": [
    "## While Loops\n",
    "A `while` loop continues to execute as long as a specified condition is `True`. The loop will stop when the condition becomes `False`.\n",
    "```python\n",
    "# Example of a while loop"
   ],
   "id": "4148eeea10ff791b"
  },
  {
   "metadata": {},
   "cell_type": "code",
   "outputs": [],
   "execution_count": null,
   "source": "",
   "id": "652dbf8a0fc4fc31"
  }
 ],
 "metadata": {
  "kernelspec": {
   "display_name": "Python 3",
   "language": "python",
   "name": "python3"
  },
  "language_info": {
   "codemirror_mode": {
    "name": "ipython",
    "version": 2
   },
   "file_extension": ".py",
   "mimetype": "text/x-python",
   "name": "python",
   "nbconvert_exporter": "python",
   "pygments_lexer": "ipython2",
   "version": "2.7.6"
  }
 },
 "nbformat": 4,
 "nbformat_minor": 5
}
