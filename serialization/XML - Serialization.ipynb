{
 "cells": [
  {
   "metadata": {},
   "cell_type": "markdown",
   "source": "# ElementTree for XML",
   "id": "266d8b66a49aa5b"
  },
  {
   "metadata": {},
   "cell_type": "markdown",
   "source": "XML is somewhat special as a serialization format. In particular,XML is not really one formate so much as it iis a mete-format with angle bracketed tags (less-than and greater-than signs)XML is somewhat special as a serialization format.  In particular, XML is not really one format so much as it is a meta-format with many dialects.  Syntactically, XML is a relatively simple format that defines elements with angle bracketed tags (less-than and greater-than signs), allows attributes within tags, and has a few other syntactic forms for special entities and directives.  As a rough approximation, XML is a generalization of HTML; or more accurately, HTML is a dialect of XML (to be pedantic, however, recent versions of HTML are not precisely XML dialects in some technical details).",
   "id": "9700512f4b9fdde7"
  },
  {
   "metadata": {},
   "cell_type": "markdown",
   "source": "An XML *dialect* is usually defined by a *schema* that specifies exactly which tags and attributes are permitted, and the manners in which they may nest inside one another.  Hundreds of such dialects are widely used; for example all modern word processors and publication systems use an XML dialect to define their documents (with a compression layer wrapped around the underlying XML).  Other non-document formats use XML as well, however.",
   "id": "9cb59d3132f357e0"
  },
  {
   "metadata": {},
   "cell_type": "markdown",
   "source": "In contrast to a format like JSON which allow you to serialize pretty much arbitrary Python objects (with caveats discussed in other lessons), or CSV which allows you to serialize any data that is roughly tabular, when you work with XML you start with a specific dialect, and read, modify, and write data with that dialect in mind.",
   "id": "7f08e4962a261011"
  },
  {
   "metadata": {},
   "cell_type": "markdown",
   "source": [
    "# XML Schemata\n",
    "\n",
    "There are several different languages in which the rules for a particular XML dialect may be defined.  All of them are outside the scope of this lesson, but the most commonly used one is the Document Type Definition (DTD).  Alternatives are XML Schema and RELAX NG.  For the next several lessons, we use an XML markup of an English translation of the Quran that was prepared by J. Bosak.  A number of religious texts are in the common archive that is contained in the repository for this course (following the license for distribution as a whole)."
   ],
   "id": "811df6fb5e9313e0"
  },
  {
   "metadata": {},
   "cell_type": "markdown",
   "source": "Looking at one DTD will give a sense of how they are defined, but this lesson will not describe precisely all the rules available.  In concept, a DTD is similar to a formal grammar, and somewhat similar to a regular expression or glob pattern.  XML Schema and RELAX NG are formally equivalent, but use different syntax.",
   "id": "3fd612f657663b12"
  },
  {
   "metadata": {},
   "cell_type": "markdown",
   "source": "J. Bosak created a relatively simple DTD that defines elements sufficient to encode the several religious texts.  I have simplified that DTD further to include only those elements required by the Quran translation specifically.  Looking at the simplified DTD will provide some idea of the kinds of elements that can be defined.",
   "id": "924dfc85397db4ca"
  },
  {
   "metadata": {},
   "cell_type": "markdown",
   "source": [
    "```dtd\n",
    "<!-- DTD for testaments    J. Bosak -->\n",
    "<!-- Early versions 1992-1998 -->\n",
    "<!-- Major revision Copyright (c) Jon Bosak September 1998 -->\n",
    "<!-- Subset by David Mertz 2020 -->\n",
    "<!ENTITY % plaintext \"#PCDATA|i\">\n",
    "<!ELEMENT tstmt     (coverpg?,titlepg?,preface?,suracoll+)>\n",
    "<!ELEMENT coverpg   ((title|title2)+, (subtitle|p)*)>\n",
    "<!ELEMENT titlepg   ((title|title2)+, (subtitle|p)*)>\n",
    "```"
   ],
   "id": "de129d2e25dd4c56"
  },
  {
   "metadata": {},
   "cell_type": "markdown",
   "source": [
    "```dtd\n",
    "<!ELEMENT title     (%plaintext;)*>\n",
    "<!ELEMENT title2    (%plaintext;)*>\n",
    "<!ELEMENT subtitle  (p)+>\n",
    "<!ELEMENT preface   (ptitle+, p+)>\n",
    "<!ELEMENT ptitle    (%plaintext;)*>\n",
    "<!ELEMENT suracoll  (sura+)>\n",
    "<!ELEMENT sura      (bktlong, bktshort, epigraph?, v+)>\n",
    "```"
   ],
   "id": "79179adc2913c078"
  },
  {
   "metadata": {},
   "cell_type": "markdown",
   "source": [
    "```dtd\n",
    "<!ELEMENT bktlong   (%plaintext;)*>\n",
    "<!ELEMENT bktshort  (%plaintext;)*>\n",
    "<!ELEMENT epigraph  (%plaintext;)*>\n",
    "<!ELEMENT p         (%plaintext;)*>\n",
    "<!ELEMENT v         (%plaintext;)*>\n",
    "<!ELEMENT i         (%plaintext;)*>\n",
    "```"
   ],
   "id": "be470fccd82efbd1"
  },
  {
   "metadata": {},
   "cell_type": "markdown",
   "source": "The first few lines of the document we will work with follow this schema and look like the below.",
   "id": "3ce4ffb198fe7b43"
  },
  {
   "metadata": {},
   "cell_type": "markdown",
   "source": [
    "```xml\n",
    "<?xml version=\"1.0\"?>\n",
    "<!DOCTYPE tstmt SYSTEM \"../common/tstmt.dtd\">\n",
    "<tstmt  attr1=\"Test1\" attr2=\"Test2\">\n",
    "<coverpg>\n",
    "<title>The Quran</title>\n",
    "<title2>One of a group of four religious works marked up for\n",
    "electronic publication from publicly available sources</title2>\n",
    "```"
   ],
   "id": "946ef263c771c49b"
  },
  {
   "metadata": {},
   "cell_type": "markdown",
   "source": [
    "```xml\n",
    "<subtitle>\n",
    "<p>SGML version by Jon Bosak, 1992-1994</p>\n",
    "<p>XML version by Jon Bosak, 1996-1998</p>\n",
    "<p>The XML markup and added material in this version are\n",
    "Copyright &#169; 1998 Jon Bosak</p>\n",
    "</subtitle>\n",
    "```"
   ],
   "id": "c8ca5141ef26daff"
  },
  {
   "metadata": {},
   "cell_type": "markdown",
   "source": [
    "```xml\n",
    "<subtitle>\n",
    "<p>The set of which this work is a part may freely be distributed on\n",
    "condition that it not be modified or altered in any way.  The\n",
    "individual works making up the set &#8212; <i>The Old Testament, The\n",
    "New Testament, The Quran,</i> and <i>The Book of Mormon</i> &#8212;\n",
    "cannot be distributed separately without violating the terms under\n",
    "which the set is made available.</p>\n",
    "</subtitle>\n",
    "```"
   ],
   "id": "a4d7d0f5f27067d8"
  },
  {
   "metadata": {},
   "cell_type": "markdown",
   "source": [
    "# Reading the XML Document\n",
    "\n",
    "An ElementTree object is a specialized data structure that mimics the hierarchical features of XML.  Reading it is straightforward, and a variety of atributes and methods are attached to the overall tree and to its various branches and leaves. In the original document only subelements are used, but no attributes; I added attributes for demonstration."
   ],
   "id": "cf8b1e676b036f43"
  },
  {
   "metadata": {},
   "cell_type": "markdown",
   "source": "> The data associated with this notebook can be found in the files associated with this course",
   "id": "6fbbc23b7bbe000b"
  },
  {
   "metadata": {
    "ExecuteTime": {
     "end_time": "2025-07-18T06:47:55.557904Z",
     "start_time": "2025-07-18T06:47:55.542885Z"
    }
   },
   "cell_type": "code",
   "source": [
    "from pprint import pprint\n",
    "import xml.etree.ElementTree as ET\n",
    "\n",
    "tree = ET.parse('data/quran.xml')\n",
    "root = tree.getroot()\n",
    "root.tag, root.attrib"
   ],
   "id": "7b0ab045abf01b0d",
   "outputs": [
    {
     "data": {
      "text/plain": [
       "('tstmt', {'attr1': 'Test1', 'attr2': 'Test2'})"
      ]
     },
     "execution_count": 32,
     "metadata": {},
     "output_type": "execute_result"
    }
   ],
   "execution_count": 32
  },
  {
   "metadata": {},
   "cell_type": "markdown",
   "source": "The methods `.find()` and `.findall()` are available on each subelement to locate nested subelements (children) of a given element.",
   "id": "d9defe2e2b208d28"
  },
  {
   "metadata": {
    "ExecuteTime": {
     "end_time": "2025-07-18T06:47:57.321793Z",
     "start_time": "2025-07-18T06:47:57.315695Z"
    }
   },
   "cell_type": "code",
   "source": [
    "suras = tree.find('suracoll').findall('sura')\n",
    "\n",
    "print(\"Number of suras:\", len(suras))\n",
    "print(\"Structure of sura 101:\")\n",
    "print([elem.tag for elem in suras[100]])"
   ],
   "id": "2ebc3f7075b175db",
   "outputs": [
    {
     "name": "stdout",
     "output_type": "stream",
     "text": [
      "Number of suras: 114\n",
      "Structure of sura 101:\n",
      "['bktlong', 'bktshort', 'epigraph', 'v']\n"
     ]
    }
   ],
   "execution_count": 33
  },
  {
   "metadata": {},
   "cell_type": "markdown",
   "source": "To find children that may be more deeply nested, the `.iter()` method is often appropriate.  For example, we can find the 114 nested suras.",
   "id": "23179ffa5e547fc6"
  },
  {
   "metadata": {
    "ExecuteTime": {
     "end_time": "2025-07-18T06:48:00.784205Z",
     "start_time": "2025-07-18T06:48:00.778658Z"
    }
   },
   "cell_type": "code",
   "source": [
    "suras = list(tree.iter('sura'))\n",
    "sura101 = suras[100] # zero-based Python\n",
    "len([sura for sura in suras])"
   ],
   "id": "636167743fd4ea97",
   "outputs": [
    {
     "data": {
      "text/plain": [
       "114"
      ]
     },
     "execution_count": 34,
     "metadata": {},
     "output_type": "execute_result"
    }
   ],
   "execution_count": 34
  },
  {
   "metadata": {},
   "cell_type": "markdown",
   "source": "We might wish to view the text within child elements, for example.",
   "id": "13967214baf7f2cf"
  },
  {
   "metadata": {
    "ExecuteTime": {
     "end_time": "2025-07-18T06:48:02.882258Z",
     "start_time": "2025-07-18T06:48:02.879076Z"
    }
   },
   "cell_type": "code",
   "source": [
    "for verse in sura101.findall('v'):\n",
    "    print(verse.text)"
   ],
   "id": "930e6326e1f66c09",
   "outputs": [
    {
     "name": "stdout",
     "output_type": "stream",
     "text": [
      "The Striking Calamity.\n"
     ]
    }
   ],
   "execution_count": 35
  },
  {
   "metadata": {},
   "cell_type": "markdown",
   "source": [
    "## Modifying an Element\n",
    "\n",
    "Using methods of elements, we may modify either attributes or children. In this example, we are not following the schema, but instead inventing a new element not defined in the DTD. After we have added an element and some content and attributes to that element, we might serialize the modified element as XML.  For illustration, a comment is also added."
   ],
   "id": "45c29ff7fe25d80b"
  },
  {
   "metadata": {
    "ExecuteTime": {
     "end_time": "2025-07-18T06:48:04.471374Z",
     "start_time": "2025-07-18T06:48:04.468004Z"
    }
   },
   "cell_type": "code",
   "source": [
    "sura101.append(ET.Comment(\"Demonstrate a comment\"))\n",
    "child = ET.SubElement(sura101, 'external')\n",
    "child.text = \"\\n*** This text is not part of Quran! ***\\n\"\n",
    "child.set('silly', 'yes')\n",
    "child.set('discard', \"True\")"
   ],
   "id": "86bcd60da3894949",
   "outputs": [],
   "execution_count": 36
  },
  {
   "metadata": {},
   "cell_type": "code",
   "outputs": [],
   "execution_count": null,
   "source": "ET.dump(sura101)",
   "id": "24d0ae4b7f5f1938"
  },
  {
   "metadata": {},
   "cell_type": "markdown",
   "source": [
    "# What Is Missing?\n",
    "\n",
    "There are a number of XML features this lesson simply has not considered.  If we look at validation, entity resolution, namespaces, CDATA sections, character encoding and escaping, and some additional concepts you will need for robust XML processing.  For this lesson, and the next two, we just want you to be familiar with basic serialization and deserialization between Python and XML.\n",
    "\n",
    "Understanding XML in full is its own longer course, and is not usually something you need to know for the basic handling, of the sort we show."
   ],
   "id": "efd6fd30d3d5848"
  }
 ],
 "metadata": {
  "kernelspec": {
   "display_name": "Python 3",
   "language": "python",
   "name": "python3"
  },
  "language_info": {
   "codemirror_mode": {
    "name": "ipython",
    "version": 2
   },
   "file_extension": ".py",
   "mimetype": "text/x-python",
   "name": "python",
   "nbconvert_exporter": "python",
   "pygments_lexer": "ipython2",
   "version": "2.7.6"
  }
 },
 "nbformat": 4,
 "nbformat_minor": 5
}
