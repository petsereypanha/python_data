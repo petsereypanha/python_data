{
 "cells": [
  {
   "metadata": {},
   "cell_type": "markdown",
   "source": "# ElementTree for XML",
   "id": "266d8b66a49aa5b"
  },
  {
   "metadata": {},
   "cell_type": "markdown",
   "source": "XML is somewhat special as a serialization format. In particular,XML is not really one formate so much as it iis a mete-format with angle bracketed tags (less-than and greater-than signs)XML is somewhat special as a serialization format.  In particular, XML is not really one format so much as it is a meta-format with many dialects.  Syntactically, XML is a relatively simple format that defines elements with angle bracketed tags (less-than and greater-than signs), allows attributes within tags, and has a few other syntactic forms for special entities and directives.  As a rough approximation, XML is a generalization of HTML; or more accurately, HTML is a dialect of XML (to be pedantic, however, recent versions of HTML are not precisely XML dialects in some technical details).",
   "id": "9700512f4b9fdde7"
  },
  {
   "metadata": {},
   "cell_type": "markdown",
   "source": "An XML *dialect* is usually defined by a *schema* that specifies exactly which tags and attributes are permitted, and the manners in which they may nest inside one another.  Hundreds of such dialects are widely used; for example all modern word processors and publication systems use an XML dialect to define their documents (with a compression layer wrapped around the underlying XML).  Other non-document formats use XML as well, however.",
   "id": "9cb59d3132f357e0"
  },
  {
   "metadata": {},
   "cell_type": "markdown",
   "source": "In contrast to a format like JSON which allow you to serialize pretty much arbitrary Python objects (with caveats discussed in other lessons), or CSV which allows you to serialize any data that is roughly tabular, when you work with XML you start with a specific dialect, and read, modify, and write data with that dialect in mind.",
   "id": "7f08e4962a261011"
  },
  {
   "metadata": {},
   "cell_type": "markdown",
   "source": [
    "# XML Schemata\n",
    "\n",
    "There are several different languages in which the rules for a particular XML dialect may be defined.  All of them are outside the scope of this lesson, but the most commonly used one is the Document Type Definition (DTD).  Alternatives are XML Schema and RELAX NG.  For the next several lessons, we use an XML markup of an English translation of the Quran that was prepared by J. Bosak.  A number of religious texts are in the common archive that is contained in the repository for this course (following the license for distribution as a whole)."
   ],
   "id": "811df6fb5e9313e0"
  },
  {
   "metadata": {},
   "cell_type": "markdown",
   "source": "Looking at one DTD will give a sense of how they are defined, but this lesson will not describe precisely all the rules available.  In concept, a DTD is similar to a formal grammar, and somewhat similar to a regular expression or glob pattern.  XML Schema and RELAX NG are formally equivalent, but use different syntax.",
   "id": "3fd612f657663b12"
  },
  {
   "metadata": {},
   "cell_type": "markdown",
   "source": "J. Bosak created a relatively simple DTD that defines elements sufficient to encode the several religious texts.  I have simplified that DTD further to include only those elements required by the Quran translation specifically.  Looking at the simplified DTD will provide some idea of the kinds of elements that can be defined.",
   "id": "924dfc85397db4ca"
  },
  {
   "metadata": {},
   "cell_type": "markdown",
   "source": [
    "```dtd\n",
    "<!-- DTD for testaments    J. Bosak -->\n",
    "<!-- Early versions 1992-1998 -->\n",
    "<!-- Major revision Copyright (c) Jon Bosak September 1998 -->\n",
    "<!-- Subset by David Mertz 2020 -->\n",
    "<!ENTITY % plaintext \"#PCDATA|i\">\n",
    "<!ELEMENT tstmt     (coverpg?,titlepg?,preface?,suracoll+)>\n",
    "<!ELEMENT coverpg   ((title|title2)+, (subtitle|p)*)>\n",
    "<!ELEMENT titlepg   ((title|title2)+, (subtitle|p)*)>\n",
    "```"
   ],
   "id": "de129d2e25dd4c56"
  },
  {
   "metadata": {},
   "cell_type": "markdown",
   "source": [
    "```dtd\n",
    "<!ELEMENT title     (%plaintext;)*>\n",
    "<!ELEMENT title2    (%plaintext;)*>\n",
    "<!ELEMENT subtitle  (p)+>\n",
    "<!ELEMENT preface   (ptitle+, p+)>\n",
    "<!ELEMENT ptitle    (%plaintext;)*>\n",
    "<!ELEMENT suracoll  (sura+)>\n",
    "<!ELEMENT sura      (bktlong, bktshort, epigraph?, v+)>\n",
    "```"
   ],
   "id": "79179adc2913c078"
  },
  {
   "metadata": {},
   "cell_type": "markdown",
   "source": [
    "```dtd\n",
    "<!ELEMENT bktlong   (%plaintext;)*>\n",
    "<!ELEMENT bktshort  (%plaintext;)*>\n",
    "<!ELEMENT epigraph  (%plaintext;)*>\n",
    "<!ELEMENT p         (%plaintext;)*>\n",
    "<!ELEMENT v         (%plaintext;)*>\n",
    "<!ELEMENT i         (%plaintext;)*>\n",
    "```"
   ],
   "id": "be470fccd82efbd1"
  },
  {
   "metadata": {},
   "cell_type": "markdown",
   "source": "The first few lines of the document we will work with follow this schema and look like the below.",
   "id": "3ce4ffb198fe7b43"
  },
  {
   "metadata": {},
   "cell_type": "markdown",
   "source": [
    "```xml\n",
    "<?xml version=\"1.0\"?>\n",
    "<!DOCTYPE tstmt SYSTEM \"../common/tstmt.dtd\">\n",
    "<tstmt  attr1=\"Test1\" attr2=\"Test2\">\n",
    "<coverpg>\n",
    "<title>The Quran</title>\n",
    "<title2>One of a group of four religious works marked up for\n",
    "electronic publication from publicly available sources</title2>\n",
    "```"
   ],
   "id": "946ef263c771c49b"
  },
  {
   "metadata": {},
   "cell_type": "markdown",
   "source": [
    "```xml\n",
    "<subtitle>\n",
    "<p>SGML version by Jon Bosak, 1992-1994</p>\n",
    "<p>XML version by Jon Bosak, 1996-1998</p>\n",
    "<p>The XML markup and added material in this version are\n",
    "Copyright &#169; 1998 Jon Bosak</p>\n",
    "</subtitle>\n",
    "```"
   ],
   "id": "c8ca5141ef26daff"
  },
  {
   "metadata": {},
   "cell_type": "markdown",
   "source": [
    "```xml\n",
    "<subtitle>\n",
    "<p>The set of which this work is a part may freely be distributed on\n",
    "condition that it not be modified or altered in any way.  The\n",
    "individual works making up the set &#8212; <i>The Old Testament, The\n",
    "New Testament, The Quran,</i> and <i>The Book of Mormon</i> &#8212;\n",
    "cannot be distributed separately without violating the terms under\n",
    "which the set is made available.</p>\n",
    "</subtitle>\n",
    "```"
   ],
   "id": "a4d7d0f5f27067d8"
  },
  {
   "metadata": {},
   "cell_type": "markdown",
   "source": [
    "# Reading the XML Document\n",
    "\n",
    "An ElementTree object is a specialized data structure that mimics the hierarchical features of XML.  Reading it is straightforward, and a variety of atributes and methods are attached to the overall tree and to its various branches and leaves. In the original document only subelements are used, but no attributes; I added attributes for demonstration."
   ],
   "id": "cf8b1e676b036f43"
  },
  {
   "metadata": {},
   "cell_type": "markdown",
   "source": "> The data associated with this notebook can be found in the files associated with this course",
   "id": "6fbbc23b7bbe000b"
  },
  {
   "metadata": {
    "ExecuteTime": {
     "end_time": "2025-07-18T06:47:55.557904Z",
     "start_time": "2025-07-18T06:47:55.542885Z"
    }
   },
   "cell_type": "code",
   "source": [
    "from pprint import pprint\n",
    "import xml.etree.ElementTree as ET\n",
    "\n",
    "tree = ET.parse('data/quran.xml')\n",
    "root = tree.getroot()\n",
    "root.tag, root.attrib"
   ],
   "id": "7b0ab045abf01b0d",
   "outputs": [
    {
     "data": {
      "text/plain": [
       "('tstmt', {'attr1': 'Test1', 'attr2': 'Test2'})"
      ]
     },
     "execution_count": 32,
     "metadata": {},
     "output_type": "execute_result"
    }
   ],
   "execution_count": 32
  },
  {
   "metadata": {},
   "cell_type": "markdown",
   "source": "The methods `.find()` and `.findall()` are available on each subelement to locate nested subelements (children) of a given element.",
   "id": "d9defe2e2b208d28"
  },
  {
   "metadata": {
    "ExecuteTime": {
     "end_time": "2025-07-18T06:47:57.321793Z",
     "start_time": "2025-07-18T06:47:57.315695Z"
    }
   },
   "cell_type": "code",
   "source": [
    "suras = tree.find('suracoll').findall('sura')\n",
    "\n",
    "print(\"Number of suras:\", len(suras))\n",
    "print(\"Structure of sura 101:\")\n",
    "print([elem.tag for elem in suras[100]])"
   ],
   "id": "2ebc3f7075b175db",
   "outputs": [
    {
     "name": "stdout",
     "output_type": "stream",
     "text": [
      "Number of suras: 114\n",
      "Structure of sura 101:\n",
      "['bktlong', 'bktshort', 'epigraph', 'v']\n"
     ]
    }
   ],
   "execution_count": 33
  },
  {
   "metadata": {},
   "cell_type": "markdown",
   "source": "To find children that may be more deeply nested, the `.iter()` method is often appropriate.  For example, we can find the 114 nested suras.",
   "id": "23179ffa5e547fc6"
  },
  {
   "metadata": {
    "ExecuteTime": {
     "end_time": "2025-07-18T06:48:00.784205Z",
     "start_time": "2025-07-18T06:48:00.778658Z"
    }
   },
   "cell_type": "code",
   "source": [
    "suras = list(tree.iter('sura'))\n",
    "sura101 = suras[100] # zero-based Python\n",
    "len([sura for sura in suras])"
   ],
   "id": "636167743fd4ea97",
   "outputs": [
    {
     "data": {
      "text/plain": [
       "114"
      ]
     },
     "execution_count": 34,
     "metadata": {},
     "output_type": "execute_result"
    }
   ],
   "execution_count": 34
  },
  {
   "metadata": {},
   "cell_type": "markdown",
   "source": "We might wish to view the text within child elements, for example.",
   "id": "13967214baf7f2cf"
  },
  {
   "metadata": {
    "ExecuteTime": {
     "end_time": "2025-07-18T06:48:02.882258Z",
     "start_time": "2025-07-18T06:48:02.879076Z"
    }
   },
   "cell_type": "code",
   "source": [
    "for verse in sura101.findall('v'):\n",
    "    print(verse.text)"
   ],
   "id": "930e6326e1f66c09",
   "outputs": [
    {
     "name": "stdout",
     "output_type": "stream",
     "text": [
      "The Striking Calamity.\n"
     ]
    }
   ],
   "execution_count": 35
  },
  {
   "metadata": {},
   "cell_type": "markdown",
   "source": [
    "## Modifying an Element\n",
    "\n",
    "Using methods of elements, we may modify either attributes or children. In this example, we are not following the schema, but instead inventing a new element not defined in the DTD. After we have added an element and some content and attributes to that element, we might serialize the modified element as XML.  For illustration, a comment is also added."
   ],
   "id": "45c29ff7fe25d80b"
  },
  {
   "metadata": {
    "ExecuteTime": {
     "end_time": "2025-07-18T06:48:04.471374Z",
     "start_time": "2025-07-18T06:48:04.468004Z"
    }
   },
   "cell_type": "code",
   "source": [
    "sura101.append(ET.Comment(\"Demonstrate a comment\"))\n",
    "child = ET.SubElement(sura101, 'external')\n",
    "child.text = \"\\n*** This text is not part of Quran! ***\\n\"\n",
    "child.set('silly', 'yes')\n",
    "child.set('discard', \"True\")"
   ],
   "id": "86bcd60da3894949",
   "outputs": [],
   "execution_count": 36
  },
  {
   "metadata": {},
   "cell_type": "code",
   "outputs": [],
   "execution_count": null,
   "source": "ET.dump(sura101)",
   "id": "24d0ae4b7f5f1938"
  },
  {
   "metadata": {},
   "cell_type": "markdown",
   "source": [
    "# What Is Missing?\n",
    "\n",
    "There are a number of XML features this lesson simply has not considered.  If we look at validation, entity resolution, namespaces, CDATA sections, character encoding and escaping, and some additional concepts you will need for robust XML processing.  For this lesson, and the next two, we just want you to be familiar with basic serialization and deserialization between Python and XML.\n",
    "\n",
    "Understanding XML in full is its own longer course, and is not usually something you need to know for the basic handling, of the sort we show."
   ],
   "id": "efd6fd30d3d5848"
  },
  {
   "metadata": {},
   "cell_type": "markdown",
   "source": [
    "# Reading XML with lxml.objectify\n",
    "\n",
    "The *ElementTree* abstraction tries to find a compromise between an XML way of thinking and a Python way of thinking.  The Python standard library also comes with several other submodules for handling XML that are much closer to the XML way of thinking.  These include `xml.dom` (Document Object Model), `xml.sax` (Simple API for XML), and ` xml.parsers.expat`."
   ],
   "id": "aa2c7c9c68ce0731"
  },
  {
   "metadata": {},
   "cell_type": "markdown",
   "source": "SAX and Expat are incremental stream-oriented parsers for XML, they both can be very fast and work incrementally. Both require quite a lot of boilerplate and are low-level. Expat is always non-validating, and can be blazingly fast.  The Document Object Model (DOM) creates an entire specialized object, with a variety of methods, as does ElementTree.  However, DOM is a standard created initially for JavaScript, and the method names are verbose, numerous, and feel out of place in Python.  Unless you need to closely match parallel code written in a language such as Java, JavaScript, or C#, I recommend against using the DOM approach.",
   "id": "347b89bcf3701df9"
  },
  {
   "metadata": {},
   "cell_type": "markdown",
   "source": "If you want to work in a *more Pythonic* style with XML trees, the `lxml` library comes with an API called `objectify`.  This is based on much earlier work by my colleague Uche Ogbuji on Amara bindery and by me even earlier as `gnosis.xml.objectify`.  Neither of those old projects are currently maintained, but `lxml.objectify` is very similar and intuitive to work with.  In general `lxml` is a fast and well tested XML library, built on `libxml2` and `libxslt`, that provides both the `objectify` interface and an enhanced and faster version of `ElementTree`.",
   "id": "aff24cedee55925e"
  },
  {
   "metadata": {},
   "cell_type": "markdown",
   "source": "# A More Pythonic Approach",
   "id": "1ab613fa05a26ac9"
  },
  {
   "metadata": {
    "ExecuteTime": {
     "end_time": "2025-07-18T06:57:03.976303Z",
     "start_time": "2025-07-18T06:57:03.950082Z"
    }
   },
   "cell_type": "code",
   "source": [
    "from lxml import etree\n",
    "from lxml import objectify"
   ],
   "id": "d70ae5c7bc6b98ca",
   "outputs": [],
   "execution_count": 38
  },
  {
   "metadata": {},
   "cell_type": "markdown",
   "source": "Recall that the marked up version of the Quran as XML we worked with in the last lesson looks something like this:",
   "id": "504494fdedcb643b"
  },
  {
   "metadata": {},
   "cell_type": "markdown",
   "source": [
    "```xml\n",
    "<?xml version=\"1.0\"?>\n",
    "<!DOCTYPE tstmt SYSTEM \"../common/tstmt.dtd\">\n",
    "<tstmt  attr1=\"Test1\" attr2=\"Test2\">\n",
    "<coverpg>\n",
    "<title>The Quran</title>\n",
    "<!-- some elements omitted -->\n",
    "</coverpg>\n",
    "```"
   ],
   "id": "eb32e25dd1bacfa9"
  },
  {
   "metadata": {},
   "cell_type": "markdown",
   "source": "Continuing a fragment of the XML:",
   "id": "cea084ecbbf38d45"
  },
  {
   "metadata": {},
   "cell_type": "markdown",
   "source": [
    "```xml\n",
    "<suracoll>\n",
    "<sura>\n",
    "<bktlong>1. The Opening</bktlong>\n",
    "<bktshort>1. The Opening</bktshort>\n",
    "<v>In the name of Allah, the Beneficent, the Merciful.</v>\n",
    "<v>All praise is due to Allah, the Lord of the Worlds.</v>\n",
    "<v>The Beneficent, the Merciful.</v>\n",
    "<v>Master of the Day of Judgment.</v>\n",
    "<!-- continues -->\n",
    "</sura>\n",
    "</suracoll>\n",
    "```"
   ],
   "id": "402b71b4a280ceda"
  },
  {
   "metadata": {},
   "cell_type": "markdown",
   "source": "If we wish to use the ElementTree interface (here as `lxml.etree`) to create a list of the verses in Sura 101, we would write code similar to this:",
   "id": "297e34e20a5cbaa1"
  },
  {
   "metadata": {},
   "cell_type": "markdown",
   "source": "> The data associated with this notebook can be found in the files associated with this course",
   "id": "90b8e520ebddc3a4"
  },
  {
   "metadata": {
    "ExecuteTime": {
     "end_time": "2025-07-18T06:58:37.439700Z",
     "start_time": "2025-07-18T06:58:37.426474Z"
    }
   },
   "cell_type": "code",
   "source": [
    "tree = etree.parse('data/quran.xml')\n",
    "quran = tree.getroot()\n",
    "\n",
    "suras = quran.find('suracoll').findall('sura')\n",
    "[elem.text for elem in suras[100] if elem.tag == 'v']"
   ],
   "id": "e828ae68843f11c3",
   "outputs": [
    {
     "data": {
      "text/plain": [
       "['The Striking Calamity.']"
      ]
     },
     "execution_count": 39,
     "metadata": {},
     "output_type": "execute_result"
    }
   ],
   "execution_count": 39
  },
  {
   "metadata": {},
   "cell_type": "markdown",
   "source": "In contrast, the objectify approach treats the nested elements and attributes as if they were simply attributes of a native Python object with nested data.  XML attributes are accessed with the Python attribute `.attrib`.  Text is accessed with the Python attribute `.text`.  Child elements that occur in parallel are simply presented as a list-like collection.  Reading in the XML data has similar boilerplate as ElementTree, but working with it often feels more natural.",
   "id": "81dc7f299653d939"
  },
  {
   "metadata": {
    "ExecuteTime": {
     "end_time": "2025-07-18T07:08:27.741116Z",
     "start_time": "2025-07-18T07:08:27.729008Z"
    }
   },
   "cell_type": "code",
   "source": [
    "doc = objectify.parse(open('data/quran.xml'))\n",
    "quran_o = objectify.E.root(doc.getroot())\n",
    "\n",
    "quran_o.tstmt.suracoll.sura[100].v[:]"
   ],
   "id": "5f8c222b8267be93",
   "outputs": [
    {
     "data": {
      "text/plain": [
       "['The Striking Calamity.']"
      ]
     },
     "execution_count": 43,
     "metadata": {},
     "output_type": "execute_result"
    }
   ],
   "execution_count": 43
  },
  {
   "metadata": {},
   "cell_type": "markdown",
   "source": "If we want to see the XML attributes, they are provided as a dictionary.",
   "id": "db56938fbd49c37"
  },
  {
   "metadata": {
    "ExecuteTime": {
     "end_time": "2025-07-18T07:08:29.383547Z",
     "start_time": "2025-07-18T07:08:29.379864Z"
    }
   },
   "cell_type": "code",
   "source": [
    "print(quran_o.tstmt.attrib)\n",
    "title = quran_o.tstmt.coverpg.title\n",
    "print(title, title.attrib) # No attributes"
   ],
   "id": "86e9615c929363aa",
   "outputs": [
    {
     "name": "stdout",
     "output_type": "stream",
     "text": [
      "{'attr1': 'Test1', 'attr2': 'Test2'}\n",
      "Quran {}\n"
     ]
    }
   ],
   "execution_count": 44
  },
  {
   "metadata": {},
   "cell_type": "markdown",
   "source": "Accessing a different path into nested elements.",
   "id": "a80b8a40b0d79768"
  },
  {
   "metadata": {
    "ExecuteTime": {
     "end_time": "2025-07-18T07:09:25.351829Z",
     "start_time": "2025-07-18T07:09:25.344312Z"
    }
   },
   "cell_type": "code",
   "source": "quran_o.tstmt.suracoll.sura[100].bktlong",
   "id": "151740ea0a617a9",
   "outputs": [
    {
     "data": {
      "text/plain": [
       "'The Calamity'"
      ]
     },
     "execution_count": 45,
     "metadata": {},
     "output_type": "execute_result"
    }
   ],
   "execution_count": 45
  },
  {
   "metadata": {},
   "cell_type": "markdown",
   "source": "In a design compromise, a shortcut to selecting the first of several parallel children is to simply omit indexing.",
   "id": "a9b3cb9253219bd3"
  },
  {
   "metadata": {
    "ExecuteTime": {
     "end_time": "2025-07-18T07:09:44.180660Z",
     "start_time": "2025-07-18T07:09:44.172092Z"
    }
   },
   "cell_type": "code",
   "source": "quran_o.tstmt.suracoll.sura[100].v",
   "id": "e7757253adc5dbc5",
   "outputs": [
    {
     "data": {
      "text/plain": [
       "'The Striking Calamity.'"
      ]
     },
     "execution_count": 46,
     "metadata": {},
     "output_type": "execute_result"
    }
   ],
   "execution_count": 46
  },
  {
   "metadata": {},
   "cell_type": "markdown",
   "source": "Often working with objectify allows you to access the portions of interest without needing loops or comprehensions, as in the above examples.  However, these approaches can be combined, as needed.  For example, here are the first three lines of each of the last 4 Suras.",
   "id": "284b6571c19981ce"
  },
  {
   "metadata": {
    "ExecuteTime": {
     "end_time": "2025-07-18T07:10:10.117439Z",
     "start_time": "2025-07-18T07:10:10.111577Z"
    }
   },
   "cell_type": "code",
   "source": "[sura.v[:3] for sura in quran_o.tstmt.suracoll.sura[-4:]]",
   "id": "6321ba57551f4a5c",
   "outputs": [
    {
     "data": {
      "text/plain": [
       "[['May the hands of Abu Lahab be ruined, and ruined is he.'],\n",
       " ['Say, He is Allah, the One!'],\n",
       " ['Say, I seek refuge in the Lord of daybreak.'],\n",
       " ['Say, I seek refuge in the Lord of mankind.']]"
      ]
     },
     "execution_count": 47,
     "metadata": {},
     "output_type": "execute_result"
    }
   ],
   "execution_count": 47
  },
  {
   "metadata": {},
   "cell_type": "markdown",
   "source": [
    "## Serializing an Element\n",
    "\n",
    "Rather than using `.dump` which is generally only for debugging purposes, the function `etree.tostring()` can serialize a subelement as a complete XML document (adding namespace declarations or other needed elements to be complete documents rather than fragments)."
   ],
   "id": "4e9b92f21d3ad754"
  },
  {
   "metadata": {
    "ExecuteTime": {
     "end_time": "2025-07-18T07:10:25.797023Z",
     "start_time": "2025-07-18T07:10:25.791200Z"
    }
   },
   "cell_type": "code",
   "source": [
    "sura101 = quran_o.tstmt.suracoll.sura[100]\n",
    "sura_xml = etree.tostring(sura101, pretty_print=True)\n",
    "print(sura_xml.decode('utf-8'))"
   ],
   "id": "94b6fef185c6755e",
   "outputs": [
    {
     "name": "stdout",
     "output_type": "stream",
     "text": [
      "<sura xmlns:py=\"http://codespeak.net/lxml/objectify/pytype\" xmlns:xsi=\"http://www.w3.org/2001/XMLSchema-instance\" xmlns:xsd=\"http://www.w3.org/2001/XMLSchema\" index=\"101\" name=\"Al-Qariah\">\n",
      "  <bktlong>The Calamity</bktlong>\n",
      "  <bktshort>Al-Qariah</bktshort>\n",
      "  <epigraph/>\n",
      "  <v>The Striking Calamity.</v>\n",
      "</sura>\n",
      "\n"
     ]
    }
   ],
   "execution_count": 48
  },
  {
   "metadata": {},
   "cell_type": "markdown",
   "source": "Adding or modifying elements is similar to ElementTree.",
   "id": "369ebbbec8fe268f"
  },
  {
   "metadata": {
    "ExecuteTime": {
     "end_time": "2025-07-18T07:10:49.759677Z",
     "start_time": "2025-07-18T07:10:49.752234Z"
    }
   },
   "cell_type": "code",
   "source": [
    "child = objectify.SubElement(sura101, \"external\", silly=\"yes\")\n",
    "child._setText(\"*** This text is not part of Quran! ***\")"
   ],
   "id": "30b96b2f63546657",
   "outputs": [],
   "execution_count": 49
  },
  {
   "metadata": {
    "ExecuteTime": {
     "end_time": "2025-07-18T07:11:04.109430Z",
     "start_time": "2025-07-18T07:11:04.106217Z"
    }
   },
   "cell_type": "code",
   "source": [
    "sura_xml = etree.tostring(sura101, pretty_print=True)\n",
    "print(sura_xml.decode('utf-8'))"
   ],
   "id": "b0256084d3d62f1b",
   "outputs": [
    {
     "name": "stdout",
     "output_type": "stream",
     "text": [
      "<sura xmlns:py=\"http://codespeak.net/lxml/objectify/pytype\" xmlns:xsi=\"http://www.w3.org/2001/XMLSchema-instance\" xmlns:xsd=\"http://www.w3.org/2001/XMLSchema\" index=\"101\" name=\"Al-Qariah\">\n",
      "  <bktlong>The Calamity</bktlong>\n",
      "  <bktshort>Al-Qariah</bktshort>\n",
      "  <epigraph/>\n",
      "  <v>The Striking Calamity.</v>\n",
      "  <external silly=\"yes\">*** This text is not part of Quran! ***</external>\n",
      "</sura>\n",
      "\n"
     ]
    }
   ],
   "execution_count": 50
  }
 ],
 "metadata": {
  "kernelspec": {
   "display_name": "Python 3",
   "language": "python",
   "name": "python3"
  },
  "language_info": {
   "codemirror_mode": {
    "name": "ipython",
    "version": 2
   },
   "file_extension": ".py",
   "mimetype": "text/x-python",
   "name": "python",
   "nbconvert_exporter": "python",
   "pygments_lexer": "ipython2",
   "version": "2.7.6"
  }
 },
 "nbformat": 4,
 "nbformat_minor": 5
}
