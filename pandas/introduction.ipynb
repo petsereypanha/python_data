{
 "cells": [
  {
   "metadata": {},
   "cell_type": "markdown",
   "source": "# Introduction to Pandas\n",
   "id": "f28d9e6dd1c6f922"
  },
  {
   "metadata": {},
   "cell_type": "markdown",
   "source": [
    "## Dictionary to DataFrame\n",
    "Pandas is an open source library, providing high-performance, easy-to-use data structures and data analysis tools for Python. Sounds promising!\n",
    "\n",
    "The DataFrame is one of Pandas' most important data structures. It's basically a way to store tabular data where you can label the rows and the columns. One way to build a DataFrame is from a dictionary.\n",
    "\n",
    "In the exercises that follow you will be working with vehicle data from different countries. Each observation corresponds to a country and the columns give information about the number of vehicles per capita, whether people drive left or right, and so on.\n",
    "\n",
    "Three lists are defined in the script:\n",
    "\n",
    "- names, containing the country names for which data is available.\n",
    "- dr, a list with booleans that tells whether people drive left or right in the corresponding country.\n",
    "- cpc, the number of motor vehicles per 1000 people in the corresponding country.\n",
    "Each dictionary key is a column label and each value is a list which contains the column elements.\n",
    "### Instructions\n",
    "- Import pandas as pd.\n",
    "- Use the pre-defined lists to create a dictionary called my_dict. There should be three key value pairs:\n",
    "    - key 'country' and value names.\n",
    "    - key 'drives_right' and value dr.\n",
    "    - key 'cars_per_cap' and value cpc.\n",
    "- Use pd.DataFrame() to turn your dict into a DataFrame called cars.\n",
    "- Print out cars and see how beautiful it is."
   ],
   "id": "cc789f0e4f9a365a"
  },
  {
   "metadata": {
    "ExecuteTime": {
     "end_time": "2025-08-09T11:16:37.821673Z",
     "start_time": "2025-08-09T11:16:36.638900Z"
    }
   },
   "cell_type": "code",
   "source": [
    "# Pre-defined lists\n",
    "names = ['United States', 'Australia', 'Japan', 'India', 'Russia', 'Morocco', 'Egypt']\n",
    "dr =  [True, False, False, False, True, True, True]\n",
    "cpc = [809, 731, 588, 18, 200, 70, 45]\n",
    "\n",
    "# Import pandas as pd\n",
    "import pandas as pd\n",
    "\n",
    "# Create dictionary my_dict with three key:value pairs: my_dict\n",
    "my_dict = {\n",
    "    'country': names,\n",
    "    'drives_right': dr,\n",
    "    'cars_per_cap': cpc\n",
    "}\n",
    "\n",
    "# Build a DataFrame cars from my_dict: cars\n",
    "cars = pd.DataFrame(my_dict)\n",
    "\n",
    "# Print cars\n",
    "print(cars)\n"
   ],
   "id": "4118dd7ee9bb1878",
   "outputs": [
    {
     "name": "stdout",
     "output_type": "stream",
     "text": [
      "         country  drives_right  cars_per_cap\n",
      "0  United States          True           809\n",
      "1      Australia         False           731\n",
      "2          Japan         False           588\n",
      "3          India         False            18\n",
      "4         Russia          True           200\n",
      "5        Morocco          True            70\n",
      "6          Egypt          True            45\n"
     ]
    }
   ],
   "execution_count": 1
  },
  {
   "metadata": {},
   "cell_type": "markdown",
   "source": [
    "## Dictionary to DataFrame\n",
    "The Python code that solves the previous exercise is included in the script. Have you noticed that the row labels (i.e. the labels for the different observations) were automatically set to integers from 0 up to 6?\n",
    "\n",
    "To solve this a list row_labels has been created. You can use it to specify the row labels of the cars DataFrame. You do this by setting the index attribute of cars, that you can access as cars.index.\n",
    "###  Instructions\n",
    "- Hit Run Code to see that, indeed, the row labels are not correctly set.\n",
    "- Specify the row labels by setting cars.index equal to row_labels.\n",
    "- Print out cars again and check if the row labels are correct this time."
   ],
   "id": "83b76475d9afa94f"
  },
  {
   "metadata": {
    "ExecuteTime": {
     "end_time": "2025-08-09T11:21:55.912272Z",
     "start_time": "2025-08-09T11:21:55.893363Z"
    }
   },
   "cell_type": "code",
   "source": [
    "# Definition of row_labels\n",
    "row_labels = ['US', 'AUS', 'JPN', 'IN', 'RU', 'MOR', 'EG']\n",
    "\n",
    "# Specify row labels of cars\n",
    "cars.index = row_labels\n",
    "\n",
    "# Print cars again\n",
    "print(cars)"
   ],
   "id": "63b507934a2bd80b",
   "outputs": [
    {
     "name": "stdout",
     "output_type": "stream",
     "text": [
      "           country  drives_right  cars_per_cap\n",
      "US   United States          True           809\n",
      "AUS      Australia         False           731\n",
      "JPN          Japan         False           588\n",
      "IN           India         False            18\n",
      "RU          Russia          True           200\n",
      "MOR        Morocco          True            70\n",
      "EG           Egypt          True            45\n"
     ]
    }
   ],
   "execution_count": 2
  },
  {
   "metadata": {},
   "cell_type": "markdown",
   "source": [
    "## CSV to DataFrame\n",
    "Putting data in a dictionary and then building a DataFrame works, but it's not very efficient. What if you're dealing with millions of observations? In those cases, the data is typically available as files with a regular structure. One of those file types is the CSV file, which is short for \"comma-separated values\".\n",
    "\n",
    "To import CSV data into Python as a Pandas DataFrame you can use read_csv().\n",
    "\n",
    "Let's explore this function with the same cars data from the previous exercises. This time, however, the data is available in a CSV file, named cars.csv. It is available in your current working directory, so the path to the file is simply 'cars.csv'.\n",
    "### Instructions\n",
    "- To import CSV files you still need the pandas package: import it as pd.\n",
    "- Use pd.read_csv() to import cars.csv data as a DataFrame. Store this DataFrame as cars.\n",
    "- Print out cars. Does everything look OK?\n",
    "\n"
   ],
   "id": "3c4082b235b46ae5"
  },
  {
   "metadata": {
    "ExecuteTime": {
     "end_time": "2025-08-09T11:36:28.287476Z",
     "start_time": "2025-08-09T11:36:28.237088Z"
    }
   },
   "cell_type": "code",
   "source": [
    "# Import pandas as pd\n",
    "import pandas as pd\n",
    "\n",
    "# Import the cars.csv data: cars\n",
    "cars = pd.read_csv('data/cars.csv')\n",
    "\n",
    "\n",
    "# Print out cars\n",
    "print(cars)\n"
   ],
   "id": "e345df8a617c747c",
   "outputs": [
    {
     "name": "stdout",
     "output_type": "stream",
     "text": [
      "  Unnamed: 0  cars_per_cap        country  drives_right\n",
      "0         US           809  United States          True\n",
      "1        AUS           731      Australia         False\n",
      "2        JPN           588          Japan         False\n",
      "3         IN            18          India         False\n",
      "4         RU           200         Russia          True\n",
      "5        MOR            70        Morocco          True\n",
      "6         EG            45          Egypt          True\n"
     ]
    }
   ],
   "execution_count": 3
  },
  {
   "metadata": {},
   "cell_type": "markdown",
   "source": [
    "Your read_csv() call to import the CSV data didn't generate an error, but the output is not entirely what we wanted. The row labels were imported as another column without a name.\n",
    "\n",
    "Remember index_col, an argument of read_csv(), that you can use to specify which column in the CSV file should be used as a row label? Well, that's exactly what you need here!\n",
    "\n",
    "Python code that solves the previous exercise is already included; can you make the appropriate changes to fix the data import?\n",
    "### Instructions\n",
    "- Run the code with Run Code and assert that the first column should actually be used as row labels.\n",
    "- Specify the index_col argument inside pd.read_csv(): set it to 0, so that the first column is used as row labels.\n",
    "- Has the printout of cars improved now?"
   ],
   "id": "9a0a46f907918ad3"
  },
  {
   "metadata": {
    "ExecuteTime": {
     "end_time": "2025-08-09T16:39:36.407786Z",
     "start_time": "2025-08-09T16:39:36.051020Z"
    }
   },
   "cell_type": "code",
   "source": [
    "# Import pandas as pd\n",
    "import pandas as pd\n",
    "\n",
    "# Fix import by including index_col\n",
    "cars = pd.read_csv('data/cars.csv', index_col=0)\n",
    "# Print out cars\n",
    "print(cars)"
   ],
   "id": "2f6a5d1dfe999d59",
   "outputs": [
    {
     "name": "stdout",
     "output_type": "stream",
     "text": [
      "            cars_per_cap        country  drives_right\n",
      "Unnamed: 0                                           \n",
      "US                   809  United States          True\n",
      "AUS                  731      Australia         False\n",
      "JPN                  588          Japan         False\n",
      "IN                    18          India         False\n",
      "RU                   200         Russia          True\n",
      "MOR                   70        Morocco          True\n",
      "EG                    45          Egypt          True\n"
     ]
    }
   ],
   "execution_count": 2
  },
  {
   "metadata": {},
   "cell_type": "markdown",
   "source": [
    "## Square Brackets\n",
    "In the video, you saw that you can index and select Pandas DataFrames in many different ways. The simplest, but not the most powerful way, is to use square brackets.\n",
    "\n",
    "In the sample code, the same cars data is imported from a CSV files as a Pandas DataFrame. To select only the cars_per_cap column from cars, you can use:\n",
    "\n",
    "cars['cars_per_cap'] <br>\n",
    "cars[['cars_per_cap']]\n",
    "\n",
    "The single bracket version gives a Pandas Series, the double bracket version gives a Pandas DataFrame.\n",
    "### Instructions\n",
    "- Use single square brackets to print out the country column of cars as a Pandas Series.\n",
    "- Use double square brackets to print out the country column of cars as a Pandas DataFrame.\n",
    "- Use double square brackets to print out a DataFrame with both the country and drives_right columns of cars, in this order."
   ],
   "id": "62a575531444e480"
  },
  {
   "metadata": {
    "ExecuteTime": {
     "end_time": "2025-08-09T16:35:38.528152Z",
     "start_time": "2025-08-09T16:35:38.510645Z"
    }
   },
   "cell_type": "code",
   "source": [
    "# Print out country column as Pandas Series\n",
    "print(cars['country'])\n",
    "\n",
    "# Print out country column as Pandas DataFrame\n",
    "print(cars[['country']])\n",
    "\n",
    "# Print out DataFrame with country and drives_right columns\n",
    "print(cars[['country', 'drives_right']])"
   ],
   "id": "45841b5239894637",
   "outputs": [
    {
     "name": "stdout",
     "output_type": "stream",
     "text": [
      "Unnamed: 0\n",
      "US     United States\n",
      "AUS        Australia\n",
      "JPN            Japan\n",
      "IN             India\n",
      "RU            Russia\n",
      "MOR          Morocco\n",
      "EG             Egypt\n",
      "Name: country, dtype: object\n",
      "                  country\n",
      "Unnamed: 0               \n",
      "US          United States\n",
      "AUS             Australia\n",
      "JPN                 Japan\n",
      "IN                  India\n",
      "RU                 Russia\n",
      "MOR               Morocco\n",
      "EG                  Egypt\n",
      "                  country  drives_right\n",
      "Unnamed: 0                             \n",
      "US          United States          True\n",
      "AUS             Australia         False\n",
      "JPN                 Japan         False\n",
      "IN                  India         False\n",
      "RU                 Russia          True\n",
      "MOR               Morocco          True\n",
      "EG                  Egypt          True\n"
     ]
    }
   ],
   "execution_count": 15
  },
  {
   "metadata": {},
   "cell_type": "markdown",
   "source": [
    "Square brackets can do more than just selecting columns. You can also use them to get rows, or observations, from a DataFrame. The following call selects the first five rows from the cars DataFrame:\n",
    "\n",
    "cars[0:5] <br>\n",
    "The result is another DataFrame containing only the rows you specified.\n",
    "\n",
    "Pay attention: You can only select rows using square brackets if you specify a slice, like 0:4. Also, you're using the integer indexes of the rows here, not the row labels!\n",
    "### Instructions\n",
    "- Select the first 3 observations from cars and print them out.\n",
    "- Select the fourth, fifth and sixth observation, corresponding to row indexes 3, 4 and 5, and print them out."
   ],
   "id": "dbc9694ba1da3507"
  },
  {
   "metadata": {
    "ExecuteTime": {
     "end_time": "2025-08-09T16:39:42.797208Z",
     "start_time": "2025-08-09T16:39:42.787805Z"
    }
   },
   "cell_type": "code",
   "source": [
    "# Print out first 3 observations\n",
    "print(cars[0:3])\n",
    "\n",
    "# Print out fourth, fifth and sixth observation\n",
    "print(cars[3:6])"
   ],
   "id": "b523c9bae4074c12",
   "outputs": [
    {
     "name": "stdout",
     "output_type": "stream",
     "text": [
      "            cars_per_cap        country  drives_right\n",
      "Unnamed: 0                                           \n",
      "US                   809  United States          True\n",
      "AUS                  731      Australia         False\n",
      "JPN                  588          Japan         False\n",
      "            cars_per_cap  country  drives_right\n",
      "Unnamed: 0                                     \n",
      "IN                    18    India         False\n",
      "RU                   200   Russia          True\n",
      "MOR                   70  Morocco          True\n"
     ]
    }
   ],
   "execution_count": 3
  },
  {
   "metadata": {},
   "cell_type": "markdown",
   "source": [
    "## loc and iloc\n",
    "With loc and ilocyou can do practically any data selection operation on DataFrames you can think of. loc is label-based, which means that you have to specify rows and columns based on their row and column labels. iloc is integer index based, so you have to specify rows and columns by their integer index like you did in the previous exercise.\n",
    "\n",
    "Try out the following commands to experiment with loc and iloc to select observations. Each pair of commands here gives the same result.\n",
    "\n",
    "cars.loc['RU'] <br>\n",
    "cars.iloc[4]\n",
    "\n",
    "cars.loc[['RU']] <br>\n",
    "cars.iloc[[4]]\n",
    "\n",
    "cars.loc[['RU', 'AUS']] <br>\n",
    "cars.iloc[[4, 1]]\n",
    "\n",
    "As before, code is included that imports the cars data as a Pandas DataFrame.\n",
    "### Instructions\n",
    "- Use loc or iloc to select the observation corresponding to Japan as a Series. The label of this row is JPN, the index is 2. Make sure to print the resulting Series.\n",
    "- Use loc or iloc to select the observations for Australia and Egypt as a DataFrame. You can find out about the labels/indexes of these rows by inspecting cars. Make sure to print the resulting DataFrame."
   ],
   "id": "f834d62aa7810edf"
  },
  {
   "metadata": {
    "ExecuteTime": {
     "end_time": "2025-08-09T16:46:22.364275Z",
     "start_time": "2025-08-09T16:46:22.345224Z"
    }
   },
   "cell_type": "code",
   "source": [
    "# Print out observation for Japan\n",
    "print(cars.loc['JPN'])\n",
    "\n",
    "# Print out observations for Australia and Egypt\n",
    "print(cars.loc[['AUS', 'EG']])"
   ],
   "id": "a77f0992e3dee05",
   "outputs": [
    {
     "name": "stdout",
     "output_type": "stream",
     "text": [
      "cars_per_cap      588\n",
      "country         Japan\n",
      "drives_right    False\n",
      "Name: JPN, dtype: object\n",
      "            cars_per_cap    country  drives_right\n",
      "Unnamed: 0                                       \n",
      "AUS                  731  Australia         False\n",
      "EG                    45      Egypt          True\n"
     ]
    }
   ],
   "execution_count": 4
  },
  {
   "metadata": {},
   "cell_type": "markdown",
   "source": [
    "loc and iloc also allow you to select both rows and columns from a DataFrame. To experiment, try out the following commands. Again, paired commands produce the same result.\n",
    "\n",
    "cars.loc['IN', 'cars_per_cap'] <br>\n",
    "cars.iloc[3, 0]\n",
    "\n",
    "cars.loc[['IN', 'RU'], 'cars_per_cap'] <br>\n",
    "cars.iloc[[3, 4], 0]\n",
    "\n",
    "cars.loc[['IN', 'RU'], ['cars_per_cap', 'country']] <br>\n",
    "cars.iloc[[3, 4], [0, 1]]\n",
    "### Instructions\n",
    "- Print out the drives_right value of the row corresponding to Morocco (its row label is MOR)\n",
    "- Print out a sub-DataFrame, containing the observations for Russia and Morocco and the columns country and drives_right."
   ],
   "id": "2d83ba399a185d5d"
  },
  {
   "metadata": {
    "ExecuteTime": {
     "end_time": "2025-08-09T16:49:51.811040Z",
     "start_time": "2025-08-09T16:49:51.789926Z"
    }
   },
   "cell_type": "code",
   "source": [
    "# Print out drives_right value of Morocco\n",
    "print(cars.loc['MOR', 'drives_right'])\n",
    "\n",
    "# Print sub-DataFrame\n",
    "print(cars.loc[['RU', 'MOR'], ['country', 'drives_right']])"
   ],
   "id": "8880fc07ee66763c",
   "outputs": [
    {
     "name": "stdout",
     "output_type": "stream",
     "text": [
      "True\n",
      "            country  drives_right\n",
      "Unnamed: 0                       \n",
      "RU           Russia          True\n",
      "MOR         Morocco          True\n"
     ]
    }
   ],
   "execution_count": 5
  },
  {
   "metadata": {},
   "cell_type": "markdown",
   "source": [
    "It's also possible to select only columns with loc and iloc. In both cases, you simply put a slice going from beginning to end in front of the comma:\n",
    "\n",
    "cars.loc[:, 'country'] <br>\n",
    "cars.iloc[:, 1]\n",
    "\n",
    "cars.loc[:, ['country','drives_right']]<br>\n",
    "cars.iloc[:, [1, 2]]\n",
    "\n",
    "### Instructions\n",
    "- Print out the drives_right column as a Series using loc or iloc.\n",
    "- Print out the drives_right column as a DataFrame using loc or iloc.\n",
    "- Print out both the cars_per_cap and drives_right column as a DataFrame using loc or iloc."
   ],
   "id": "2476306442c2b768"
  },
  {
   "metadata": {
    "ExecuteTime": {
     "end_time": "2025-08-09T17:00:55.309364Z",
     "start_time": "2025-08-09T17:00:55.292420Z"
    }
   },
   "cell_type": "code",
   "source": [
    "# Print out drives_right column as Series\n",
    "print(cars.loc[:, 'drives_right'])\n",
    "\n",
    "# Print out drives_right column as DataFrame\n",
    "print(cars.loc[:, ['drives_right']])\n",
    "\n",
    "# Print out cars_per_cap and drives_right as DataFrame\n",
    "print(cars.loc[:, ['cars_per_cap', 'drives_right']])\n"
   ],
   "id": "58c40a7428af312a",
   "outputs": [
    {
     "name": "stdout",
     "output_type": "stream",
     "text": [
      "Unnamed: 0\n",
      "US      True\n",
      "AUS    False\n",
      "JPN    False\n",
      "IN     False\n",
      "RU      True\n",
      "MOR     True\n",
      "EG      True\n",
      "Name: drives_right, dtype: bool\n",
      "            drives_right\n",
      "Unnamed: 0              \n",
      "US                  True\n",
      "AUS                False\n",
      "JPN                False\n",
      "IN                 False\n",
      "RU                  True\n",
      "MOR                 True\n",
      "EG                  True\n",
      "            cars_per_cap  drives_right\n",
      "Unnamed: 0                            \n",
      "US                   809          True\n",
      "AUS                  731         False\n",
      "JPN                  588         False\n",
      "IN                    18         False\n",
      "RU                   200          True\n",
      "MOR                   70          True\n",
      "EG                    45          True\n"
     ]
    }
   ],
   "execution_count": 6
  }
 ],
 "metadata": {
  "kernelspec": {
   "display_name": "Python 3",
   "language": "python",
   "name": "python3"
  },
  "language_info": {
   "codemirror_mode": {
    "name": "ipython",
    "version": 2
   },
   "file_extension": ".py",
   "mimetype": "text/x-python",
   "name": "python",
   "nbconvert_exporter": "python",
   "pygments_lexer": "ipython2",
   "version": "2.7.6"
  }
 },
 "nbformat": 4,
 "nbformat_minor": 5
}
