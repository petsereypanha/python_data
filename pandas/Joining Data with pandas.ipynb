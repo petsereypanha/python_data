{
 "cells": [
  {
   "metadata": {},
   "cell_type": "markdown",
   "source": "# Data Merging Basics",
   "id": "bc7609e34288b0ca"
  },
  {
   "metadata": {},
   "cell_type": "markdown",
   "source": "Learn how you can merge disparate data using inner joins. By combining information from multiple sources you’ll uncover compelling insights that may have previously been hidden. You’ll also learn how the relationship between those sources, such as one-to-one or one-to-many, can affect your result.",
   "id": "75d1016661c12e51"
  },
  {
   "metadata": {},
   "cell_type": "markdown",
   "source": [
    "## What column to merge on?\n",
    "Chicago provides a list of taxicab owners and vehicles licensed to operate within the city, for public safety. Your goal is to merge two tables together. One table is called taxi_owners, with info about the taxi cab company owners, and one is called taxi_veh, with info about each taxi cab vehicle. Both the taxi_owners and taxi_veh tables have been loaded for you to explore.\n",
    "\n",
    "Choose the column you would use to merge the two tables on using the .merge() method.\n",
    "### Solution\n",
    "- \"vid\" in taxi_veh and \"vid\" in taxi_owners"
   ],
   "id": "3a25770bfef3a4d5"
  },
  {
   "metadata": {},
   "cell_type": "markdown",
   "source": [
    "## Your first inner join\n",
    "You have been tasked with figuring out what the most popular types of fuel used in Chicago taxis are. To complete the analysis, you need to merge the taxi_owners and taxi_veh tables together on the vid column. You can then use the merged table along with the .value_counts() method to find the most common fuel_type.\n",
    "\n",
    "Since you'll be working with pandas throughout the course, the package will be preloaded for you as pd in each exercise in this course. Also the taxi_owners and taxi_veh DataFrames are loaded for you.\n",
    "### Instructions\n",
    " - Merge taxi_owners with taxi_veh on the column vid, and save the result to taxi_own_veh."
   ],
   "id": "87dd612502a0942a"
  },
  {
   "metadata": {
    "ExecuteTime": {
     "end_time": "2025-08-13T12:23:36.063388Z",
     "start_time": "2025-08-13T12:23:36.046707Z"
    }
   },
   "cell_type": "code",
   "source": [
    "# Import pandas as pd\n",
    "import pandas as pd\n",
    "# Load the taxi_owners and taxi_veh DataFrames\n",
    "taxi_owners = pd.read_csv('data/taxi_owners.csv')\n",
    "taxi_veh = pd.read_csv('data/taxi_veh.csv')"
   ],
   "id": "b991819e2e62018d",
   "outputs": [],
   "execution_count": 16
  },
  {
   "metadata": {
    "ExecuteTime": {
     "end_time": "2025-08-13T12:23:36.085574Z",
     "start_time": "2025-08-13T12:23:36.076374Z"
    }
   },
   "cell_type": "code",
   "source": [
    "# Merge the taxi_owners and taxi_veh tables\n",
    "taxi_own_veh = taxi_owners.merge(taxi_veh, on='vid')\n",
    "\n",
    "# Print the column names of the taxi_own_veh\n",
    "print(taxi_own_veh.columns)"
   ],
   "id": "b1bbd4a3d1a2379e",
   "outputs": [
    {
     "name": "stdout",
     "output_type": "stream",
     "text": [
      "Index(['rid', 'vid', 'owner_x', 'address', 'zip', 'make', 'model', 'year',\n",
      "       'fuel_type', 'owner_y'],\n",
      "      dtype='object')\n"
     ]
    }
   ],
   "execution_count": 17
  },
  {
   "metadata": {},
   "cell_type": "markdown",
   "source": "- Set the left and right table suffixes for overlapping columns of the merge to _own and _veh, respectively.",
   "id": "726b1be9893f0982"
  },
  {
   "metadata": {
    "ExecuteTime": {
     "end_time": "2025-08-13T12:23:36.103880Z",
     "start_time": "2025-08-13T12:23:36.097553Z"
    }
   },
   "cell_type": "code",
   "source": [
    "# Merge the taxi_owners and taxi_veh tables setting a suffix\n",
    "taxi_own_veh = taxi_owners.merge(taxi_veh, on='vid',\n",
    "                                 suffixes=('_own', '_veh'))\n",
    "\n",
    "# Print the column names of taxi_own_veh\n",
    "print(taxi_own_veh.columns)"
   ],
   "id": "3edab6413f002e7",
   "outputs": [
    {
     "name": "stdout",
     "output_type": "stream",
     "text": [
      "Index(['rid', 'vid', 'owner_own', 'address', 'zip', 'make', 'model', 'year',\n",
      "       'fuel_type', 'owner_veh'],\n",
      "      dtype='object')\n"
     ]
    }
   ],
   "execution_count": 18
  },
  {
   "metadata": {},
   "cell_type": "markdown",
   "source": "- Select the fuel_type column from taxi_own_veh and print the value_counts() to find the most popular fuel_types used.",
   "id": "d69c767107cdf336"
  },
  {
   "metadata": {
    "ExecuteTime": {
     "end_time": "2025-08-13T12:23:36.132772Z",
     "start_time": "2025-08-13T12:23:36.126166Z"
    }
   },
   "cell_type": "code",
   "source": [
    "# Merge the taxi_owners and taxi_veh tables setting a suffix\n",
    "taxi_own_veh = taxi_owners.merge(taxi_veh, on='vid', suffixes=('_own','_veh'))\n",
    "\n",
    "# Print the value_counts to find the most popular fuel_type\n",
    "print(taxi_own_veh['fuel_type'].value_counts())"
   ],
   "id": "6394416800059c88",
   "outputs": [
    {
     "name": "stdout",
     "output_type": "stream",
     "text": [
      "fuel_type\n",
      "HYBRID        2782\n",
      "GASOLINE       609\n",
      "FLEX FUEL       85\n",
      "COMPRESSED      27\n",
      "HYBR             1\n",
      "Name: count, dtype: int64\n"
     ]
    }
   ],
   "execution_count": 19
  },
  {
   "metadata": {},
   "cell_type": "markdown",
   "source": [
    "## Inner joins and number of rows returned\n",
    "All of the merges you have studied to this point are called inner joins. It is necessary to understand that inner joins only return the rows with matching values in both tables. You will explore this further by reviewing the merge between the wards and census tables, then comparing it to merges of copies of these tables that are slightly altered, named wards_altered, and census_altered. The first row of the wards column has been changed in the altered tables. You will examine how this affects the merge between them. The tables have been loaded for you.\n",
    "\n",
    "For this exercise, it is important to know that the wards and census tables start with 50 rows.\n",
    "### Instructions\n",
    "- Merge wards and census on the ward column and save the result to wards_census."
   ],
   "id": "b7cce80aebdda605"
  },
  {
   "metadata": {
    "ExecuteTime": {
     "end_time": "2025-08-13T12:23:36.162578Z",
     "start_time": "2025-08-13T12:23:36.156451Z"
    }
   },
   "cell_type": "code",
   "source": [
    "# Load the wards and census DataFrames\n",
    "wards = pd.read_csv('data/wards.csv')\n",
    "census = pd.read_csv('data/census.csv')"
   ],
   "id": "5bcb1a4da40143aa",
   "outputs": [],
   "execution_count": 20
  },
  {
   "metadata": {
    "ExecuteTime": {
     "end_time": "2025-08-13T12:23:36.179794Z",
     "start_time": "2025-08-13T12:23:36.175185Z"
    }
   },
   "cell_type": "code",
   "source": [
    "# Merge the wards and census tables on the ward column\n",
    "wards_census = wards.merge(census, on='ward')\n",
    "\n",
    "# Print the shape of wards_census\n",
    "print('wards_census table shape:', wards_census.shape)\n"
   ],
   "id": "531a0d5abf075513",
   "outputs": [
    {
     "name": "stdout",
     "output_type": "stream",
     "text": [
      "wards_census table shape: (50, 9)\n"
     ]
    }
   ],
   "execution_count": 21
  },
  {
   "metadata": {},
   "cell_type": "markdown",
   "source": "- Merge the wards_altered and census tables on the ward column, and notice the difference in returned rows.",
   "id": "edf8cb0eade0d1d7"
  },
  {
   "metadata": {
    "ExecuteTime": {
     "end_time": "2025-08-13T12:24:37.639380Z",
     "start_time": "2025-08-13T12:24:37.619834Z"
    }
   },
   "cell_type": "code",
   "source": [
    "# Print the first few rows of the wards_altered table to view the change\n",
    "wards_altered = wards.copy()\n",
    "print(wards_altered[['ward']].head())\n",
    "\n",
    "# Merge the wards_altered and census tables on the ward column\n",
    "wards_altered_census = wards_altered.merge(census, on='ward')\n",
    "\n",
    "# Print the shape of wards_altered_census\n",
    "print('wards_altered_census table shape:', wards_altered_census.shape)"
   ],
   "id": "8988949c9ff14a11",
   "outputs": [
    {
     "name": "stdout",
     "output_type": "stream",
     "text": [
      "   ward\n",
      "0     1\n",
      "1     2\n",
      "2     3\n",
      "3     4\n",
      "4     5\n",
      "wards_altered_census table shape: (50, 9)\n"
     ]
    }
   ],
   "execution_count": 24
  },
  {
   "metadata": {},
   "cell_type": "markdown",
   "source": "- Merge the wards and census_altered tables on the ward column, and notice the difference in returned rows",
   "id": "fbd015baaeb5d723"
  },
  {
   "metadata": {
    "ExecuteTime": {
     "end_time": "2025-08-13T12:24:59.924776Z",
     "start_time": "2025-08-13T12:24:59.906740Z"
    }
   },
   "cell_type": "code",
   "source": [
    "# Print the first few rows of the census_altered table to view the change\n",
    "census_altered = census.copy()\n",
    "print(census_altered[['ward']].head())\n",
    "\n",
    "# Merge the wards and census_altered tables on the ward column\n",
    "wards_census_altered = wards.merge(census_altered, on='ward')\n",
    "\n",
    "# Print the shape of wards_census_altered\n",
    "print('wards_census_altered table shape:', wards_census_altered.shape)"
   ],
   "id": "e1a21b251a2843d9",
   "outputs": [
    {
     "name": "stdout",
     "output_type": "stream",
     "text": [
      "   ward\n",
      "0   1.0\n",
      "1   2.0\n",
      "2   3.0\n",
      "3   4.0\n",
      "4   5.0\n",
      "wards_census_altered table shape: (50, 9)\n"
     ]
    }
   ],
   "execution_count": 26
  },
  {
   "metadata": {},
   "cell_type": "markdown",
   "source": "## One-to-many relationships",
   "id": "4a1d773101dbf2db"
  }
 ],
 "metadata": {
  "kernelspec": {
   "display_name": "Python 3",
   "language": "python",
   "name": "python3"
  },
  "language_info": {
   "codemirror_mode": {
    "name": "ipython",
    "version": 2
   },
   "file_extension": ".py",
   "mimetype": "text/x-python",
   "name": "python",
   "nbconvert_exporter": "python",
   "pygments_lexer": "ipython2",
   "version": "2.7.6"
  }
 },
 "nbformat": 4,
 "nbformat_minor": 5
}
