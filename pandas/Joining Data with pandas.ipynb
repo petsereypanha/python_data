{
 "cells": [
  {
   "metadata": {},
   "cell_type": "markdown",
   "source": "# Data Merging Basics",
   "id": "bc7609e34288b0ca"
  },
  {
   "metadata": {},
   "cell_type": "markdown",
   "source": "Learn how you can merge disparate data using inner joins. By combining information from multiple sources you’ll uncover compelling insights that may have previously been hidden. You’ll also learn how the relationship between those sources, such as one-to-one or one-to-many, can affect your result.",
   "id": "75d1016661c12e51"
  },
  {
   "metadata": {},
   "cell_type": "markdown",
   "source": [
    "## What column to merge on?\n",
    "Chicago provides a list of taxicab owners and vehicles licensed to operate within the city, for public safety. Your goal is to merge two tables together. One table is called taxi_owners, with info about the taxi cab company owners, and one is called taxi_veh, with info about each taxi cab vehicle. Both the taxi_owners and taxi_veh tables have been loaded for you to explore.\n",
    "\n",
    "Choose the column you would use to merge the two tables on using the .merge() method.\n",
    "### Solution\n",
    "- \"vid\" in taxi_veh and \"vid\" in taxi_owners"
   ],
   "id": "3a25770bfef3a4d5"
  },
  {
   "metadata": {},
   "cell_type": "markdown",
   "source": [
    "## Your first inner join\n",
    "You have been tasked with figuring out what the most popular types of fuel used in Chicago taxis are. To complete the analysis, you need to merge the taxi_owners and taxi_veh tables together on the vid column. You can then use the merged table along with the .value_counts() method to find the most common fuel_type.\n",
    "\n",
    "Since you'll be working with pandas throughout the course, the package will be preloaded for you as pd in each exercise in this course. Also the taxi_owners and taxi_veh DataFrames are loaded for you.\n",
    "### Instructions\n",
    " - Merge taxi_owners with taxi_veh on the column vid, and save the result to taxi_own_veh."
   ],
   "id": "87dd612502a0942a"
  },
  {
   "metadata": {
    "ExecuteTime": {
     "end_time": "2025-08-13T12:23:36.063388Z",
     "start_time": "2025-08-13T12:23:36.046707Z"
    }
   },
   "cell_type": "code",
   "source": [
    "# Import pandas as pd\n",
    "import pandas as pd\n",
    "# Load the taxi_owners and taxi_veh DataFrames\n",
    "taxi_owners = pd.read_csv('data/taxi_owners.csv')\n",
    "taxi_veh = pd.read_csv('data/taxi_veh.csv')"
   ],
   "id": "b991819e2e62018d",
   "outputs": [],
   "execution_count": 16
  },
  {
   "metadata": {
    "ExecuteTime": {
     "end_time": "2025-08-13T12:23:36.085574Z",
     "start_time": "2025-08-13T12:23:36.076374Z"
    }
   },
   "cell_type": "code",
   "source": [
    "# Merge the taxi_owners and taxi_veh tables\n",
    "taxi_own_veh = taxi_owners.merge(taxi_veh, on='vid')\n",
    "\n",
    "# Print the column names of the taxi_own_veh\n",
    "print(taxi_own_veh.columns)"
   ],
   "id": "b1bbd4a3d1a2379e",
   "outputs": [
    {
     "name": "stdout",
     "output_type": "stream",
     "text": [
      "Index(['rid', 'vid', 'owner_x', 'address', 'zip', 'make', 'model', 'year',\n",
      "       'fuel_type', 'owner_y'],\n",
      "      dtype='object')\n"
     ]
    }
   ],
   "execution_count": 17
  },
  {
   "metadata": {},
   "cell_type": "markdown",
   "source": "- Set the left and right table suffixes for overlapping columns of the merge to _own and _veh, respectively.",
   "id": "726b1be9893f0982"
  },
  {
   "metadata": {
    "ExecuteTime": {
     "end_time": "2025-08-13T12:23:36.103880Z",
     "start_time": "2025-08-13T12:23:36.097553Z"
    }
   },
   "cell_type": "code",
   "source": [
    "# Merge the taxi_owners and taxi_veh tables setting a suffix\n",
    "taxi_own_veh = taxi_owners.merge(taxi_veh, on='vid',\n",
    "                                 suffixes=('_own', '_veh'))\n",
    "\n",
    "# Print the column names of taxi_own_veh\n",
    "print(taxi_own_veh.columns)"
   ],
   "id": "3edab6413f002e7",
   "outputs": [
    {
     "name": "stdout",
     "output_type": "stream",
     "text": [
      "Index(['rid', 'vid', 'owner_own', 'address', 'zip', 'make', 'model', 'year',\n",
      "       'fuel_type', 'owner_veh'],\n",
      "      dtype='object')\n"
     ]
    }
   ],
   "execution_count": 18
  },
  {
   "metadata": {},
   "cell_type": "markdown",
   "source": "- Select the fuel_type column from taxi_own_veh and print the value_counts() to find the most popular fuel_types used.",
   "id": "d69c767107cdf336"
  },
  {
   "metadata": {
    "ExecuteTime": {
     "end_time": "2025-08-13T12:23:36.132772Z",
     "start_time": "2025-08-13T12:23:36.126166Z"
    }
   },
   "cell_type": "code",
   "source": [
    "# Merge the taxi_owners and taxi_veh tables setting a suffix\n",
    "taxi_own_veh = taxi_owners.merge(taxi_veh, on='vid', suffixes=('_own','_veh'))\n",
    "\n",
    "# Print the value_counts to find the most popular fuel_type\n",
    "print(taxi_own_veh['fuel_type'].value_counts())"
   ],
   "id": "6394416800059c88",
   "outputs": [
    {
     "name": "stdout",
     "output_type": "stream",
     "text": [
      "fuel_type\n",
      "HYBRID        2782\n",
      "GASOLINE       609\n",
      "FLEX FUEL       85\n",
      "COMPRESSED      27\n",
      "HYBR             1\n",
      "Name: count, dtype: int64\n"
     ]
    }
   ],
   "execution_count": 19
  },
  {
   "metadata": {},
   "cell_type": "markdown",
   "source": [
    "## Inner joins and number of rows returned\n",
    "All of the merges you have studied to this point are called inner joins. It is necessary to understand that inner joins only return the rows with matching values in both tables. You will explore this further by reviewing the merge between the wards and census tables, then comparing it to merges of copies of these tables that are slightly altered, named wards_altered, and census_altered. The first row of the wards column has been changed in the altered tables. You will examine how this affects the merge between them. The tables have been loaded for you.\n",
    "\n",
    "For this exercise, it is important to know that the wards and census tables start with 50 rows.\n",
    "### Instructions\n",
    "- Merge wards and census on the ward column and save the result to wards_census."
   ],
   "id": "b7cce80aebdda605"
  },
  {
   "metadata": {
    "ExecuteTime": {
     "end_time": "2025-08-13T12:23:36.162578Z",
     "start_time": "2025-08-13T12:23:36.156451Z"
    }
   },
   "cell_type": "code",
   "source": [
    "# Load the wards and census DataFrames\n",
    "wards = pd.read_csv('data/wards.csv')\n",
    "census = pd.read_csv('data/census.csv')"
   ],
   "id": "5bcb1a4da40143aa",
   "outputs": [],
   "execution_count": 20
  },
  {
   "metadata": {
    "ExecuteTime": {
     "end_time": "2025-08-13T12:23:36.179794Z",
     "start_time": "2025-08-13T12:23:36.175185Z"
    }
   },
   "cell_type": "code",
   "source": [
    "# Merge the wards and census tables on the ward column\n",
    "wards_census = wards.merge(census, on='ward')\n",
    "\n",
    "# Print the shape of wards_census\n",
    "print('wards_census table shape:', wards_census.shape)\n"
   ],
   "id": "531a0d5abf075513",
   "outputs": [
    {
     "name": "stdout",
     "output_type": "stream",
     "text": [
      "wards_census table shape: (50, 9)\n"
     ]
    }
   ],
   "execution_count": 21
  },
  {
   "metadata": {},
   "cell_type": "markdown",
   "source": "- Merge the wards_altered and census tables on the ward column, and notice the difference in returned rows.",
   "id": "edf8cb0eade0d1d7"
  },
  {
   "metadata": {
    "ExecuteTime": {
     "end_time": "2025-08-13T12:24:37.639380Z",
     "start_time": "2025-08-13T12:24:37.619834Z"
    }
   },
   "cell_type": "code",
   "source": [
    "# Print the first few rows of the wards_altered table to view the change\n",
    "wards_altered = wards.copy()\n",
    "print(wards_altered[['ward']].head())\n",
    "\n",
    "# Merge the wards_altered and census tables on the ward column\n",
    "wards_altered_census = wards_altered.merge(census, on='ward')\n",
    "\n",
    "# Print the shape of wards_altered_census\n",
    "print('wards_altered_census table shape:', wards_altered_census.shape)"
   ],
   "id": "8988949c9ff14a11",
   "outputs": [
    {
     "name": "stdout",
     "output_type": "stream",
     "text": [
      "   ward\n",
      "0     1\n",
      "1     2\n",
      "2     3\n",
      "3     4\n",
      "4     5\n",
      "wards_altered_census table shape: (50, 9)\n"
     ]
    }
   ],
   "execution_count": 24
  },
  {
   "metadata": {},
   "cell_type": "markdown",
   "source": "- Merge the wards and census_altered tables on the ward column, and notice the difference in returned rows",
   "id": "fbd015baaeb5d723"
  },
  {
   "metadata": {
    "ExecuteTime": {
     "end_time": "2025-08-13T12:24:59.924776Z",
     "start_time": "2025-08-13T12:24:59.906740Z"
    }
   },
   "cell_type": "code",
   "source": [
    "# Print the first few rows of the census_altered table to view the change\n",
    "census_altered = census.copy()\n",
    "print(census_altered[['ward']].head())\n",
    "\n",
    "# Merge the wards and census_altered tables on the ward column\n",
    "wards_census_altered = wards.merge(census_altered, on='ward')\n",
    "\n",
    "# Print the shape of wards_census_altered\n",
    "print('wards_census_altered table shape:', wards_census_altered.shape)"
   ],
   "id": "e1a21b251a2843d9",
   "outputs": [
    {
     "name": "stdout",
     "output_type": "stream",
     "text": [
      "   ward\n",
      "0   1.0\n",
      "1   2.0\n",
      "2   3.0\n",
      "3   4.0\n",
      "4   5.0\n",
      "wards_census_altered table shape: (50, 9)\n"
     ]
    }
   ],
   "execution_count": 26
  },
  {
   "metadata": {},
   "cell_type": "markdown",
   "source": "## One-to-many relationships",
   "id": "4a1d773101dbf2db"
  },
  {
   "metadata": {},
   "cell_type": "markdown",
   "source": [
    "## One-to-many merge\n",
    "A business may have one or multiple owners. In this exercise, you will continue to gain experience with one-to-many merges by merging a table of business owners, called biz_owners, to the licenses table. Recall from the video lesson, with a one-to-many relationship, a row in the left table may be repeated if it is related to multiple rows in the right table. In this lesson, you will explore this further by finding out what is the most common business owner title. (i.e., secretary, CEO, or vice president)\n",
    "\n",
    "The licenses and biz_owners DataFrames are loaded for you.\n",
    "### Instructions\n",
    " - Starting with the licenses table on the left, merge it to the biz_owners table on the column account, and save the results to a variable named licenses_owners.\n",
    " - Group licenses_owners by title and count the number of accounts for each title. Save the result as counted_df\n",
    " - Sort counted_df by the number of accounts in descending order, and save this as a variable named sorted_df.\n",
    " - Use the .head() method to print the first few rows of the sorted_df."
   ],
   "id": "db77417ccff91643"
  },
  {
   "metadata": {},
   "cell_type": "code",
   "outputs": [],
   "execution_count": null,
   "source": [
    "# Merge the licenses and biz_owners table on account\n",
    "licenses = pd.read_csv('data/licenses.csv')\n",
    "biz_owners = pd.read_csv('data/biz_owners.csv')\n",
    "licenses_owners = licenses.merge(biz_owners, on='account')\n",
    "\n",
    "# Group the results by title then count the number of accounts\n",
    "counted_df = licenses_owners.groupby('title').agg({'account':'count'})\n",
    "\n",
    "# Sort the counted_df in descending order\n",
    "sorted_df = counted_df.sort_values(by='account', ascending=False)\n",
    "\n",
    "# Use .head() method to print the first few rows of sorted_df\n",
    "print(sorted_df.head())"
   ],
   "id": "fb4131dc84816f3d"
  },
  {
   "metadata": {},
   "cell_type": "markdown",
   "source": [
    "## Total riders in a month\n",
    "Your goal is to find the total number of rides provided to passengers passing through the Wilson station (station_name == 'Wilson') when riding Chicago's public transportation system on weekdays (day_type == 'Weekday') in July (month == 7). Luckily, Chicago provides this detailed data, but it is in three different tables. You will work on merging these tables together to answer the question. This data is different from the business related data you have seen so far, but all the information you need to answer the question is provided.\n",
    "\n",
    "The cal, ridership, and stations DataFrames have been loaded for you. The relationship between the tables can be seen in the diagram below.\n"
   ],
   "id": "c86271159c0db9af"
  }
 ],
 "metadata": {
  "kernelspec": {
   "display_name": "Python 3",
   "language": "python",
   "name": "python3"
  },
  "language_info": {
   "codemirror_mode": {
    "name": "ipython",
    "version": 2
   },
   "file_extension": ".py",
   "mimetype": "text/x-python",
   "name": "python",
   "nbconvert_exporter": "python",
   "pygments_lexer": "ipython2",
   "version": "2.7.6"
  }
 },
 "nbformat": 4,
 "nbformat_minor": 5
}
