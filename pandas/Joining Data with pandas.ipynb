{
 "cells": [
  {
   "metadata": {},
   "cell_type": "markdown",
   "source": "# Data Merging Basics",
   "id": "bc7609e34288b0ca"
  },
  {
   "metadata": {},
   "cell_type": "markdown",
   "source": "Learn how you can merge disparate data using inner joins. By combining information from multiple sources you’ll uncover compelling insights that may have previously been hidden. You’ll also learn how the relationship between those sources, such as one-to-one or one-to-many, can affect your result.",
   "id": "75d1016661c12e51"
  },
  {
   "metadata": {},
   "cell_type": "markdown",
   "source": [
    "## What column to merge on?\n",
    "Chicago provides a list of taxicab owners and vehicles licensed to operate within the city, for public safety. Your goal is to merge two tables together. One table is called taxi_owners, with info about the taxi cab company owners, and one is called taxi_veh, with info about each taxi cab vehicle. Both the taxi_owners and taxi_veh tables have been loaded for you to explore.\n",
    "\n",
    "Choose the column you would use to merge the two tables on using the .merge() method.\n",
    "### Solution\n",
    "- \"vid\" in taxi_veh and \"vid\" in taxi_owners"
   ],
   "id": "3a25770bfef3a4d5"
  },
  {
   "metadata": {},
   "cell_type": "markdown",
   "source": [
    "## Your first inner join\n",
    "You have been tasked with figuring out what the most popular types of fuel used in Chicago taxis are. To complete the analysis, you need to merge the taxi_owners and taxi_veh tables together on the vid column. You can then use the merged table along with the .value_counts() method to find the most common fuel_type.\n",
    "\n",
    "Since you'll be working with pandas throughout the course, the package will be preloaded for you as pd in each exercise in this course. Also the taxi_owners and taxi_veh DataFrames are loaded for you.\n",
    "### Instructions\n",
    " - Merge taxi_owners with taxi_veh on the column vid, and save the result to taxi_own_veh."
   ],
   "id": "87dd612502a0942a"
  },
  {
   "metadata": {
    "ExecuteTime": {
     "end_time": "2025-08-14T20:23:04.948829Z",
     "start_time": "2025-08-14T20:23:04.443186Z"
    }
   },
   "cell_type": "code",
   "source": [
    "# Import pandas as pd\n",
    "import pandas as pd\n",
    "# Import matplotlib.pyplot as plt\n",
    "import matplotlib.pyplot as plt"
   ],
   "id": "8af8e1bad780688e",
   "outputs": [],
   "execution_count": 1
  },
  {
   "metadata": {
    "ExecuteTime": {
     "end_time": "2025-08-14T20:23:04.971117Z",
     "start_time": "2025-08-14T20:23:04.960573Z"
    }
   },
   "cell_type": "code",
   "source": [
    "# Load the taxi_owners and taxi_veh DataFrames\n",
    "taxi_owners = pd.read_csv('../data/taxi_owners.csv')\n",
    "taxi_veh = pd.read_csv('../data/taxi_veh.csv')"
   ],
   "id": "b991819e2e62018d",
   "outputs": [],
   "execution_count": 2
  },
  {
   "metadata": {
    "ExecuteTime": {
     "end_time": "2025-08-14T20:23:05.056258Z",
     "start_time": "2025-08-14T20:23:05.049528Z"
    }
   },
   "cell_type": "code",
   "source": [
    "# Merge the taxi_owners and taxi_veh tables\n",
    "taxi_own_veh = taxi_owners.merge(taxi_veh, on='vid')\n",
    "\n",
    "# Print the column names of the taxi_own_veh\n",
    "print(taxi_own_veh.columns)"
   ],
   "id": "b1bbd4a3d1a2379e",
   "outputs": [
    {
     "name": "stdout",
     "output_type": "stream",
     "text": [
      "Index(['rid', 'vid', 'owner_x', 'address', 'zip', 'make', 'model', 'year',\n",
      "       'fuel_type', 'owner_y'],\n",
      "      dtype='object')\n"
     ]
    }
   ],
   "execution_count": 3
  },
  {
   "metadata": {},
   "cell_type": "markdown",
   "source": "- Set the left and right table suffixes for overlapping columns of the merge to _own and _veh, respectively.",
   "id": "726b1be9893f0982"
  },
  {
   "metadata": {
    "ExecuteTime": {
     "end_time": "2025-08-14T20:23:05.082547Z",
     "start_time": "2025-08-14T20:23:05.076790Z"
    }
   },
   "cell_type": "code",
   "source": [
    "# Merge the taxi_owners and taxi_veh tables setting a suffix\n",
    "taxi_own_veh = taxi_owners.merge(taxi_veh, on='vid',\n",
    "                                 suffixes=('_own', '_veh'))\n",
    "\n",
    "# Print the column names of taxi_own_veh\n",
    "print(taxi_own_veh.columns)"
   ],
   "id": "3edab6413f002e7",
   "outputs": [
    {
     "name": "stdout",
     "output_type": "stream",
     "text": [
      "Index(['rid', 'vid', 'owner_own', 'address', 'zip', 'make', 'model', 'year',\n",
      "       'fuel_type', 'owner_veh'],\n",
      "      dtype='object')\n"
     ]
    }
   ],
   "execution_count": 4
  },
  {
   "metadata": {},
   "cell_type": "markdown",
   "source": "- Select the fuel_type column from taxi_own_veh and print the value_counts() to find the most popular fuel_types used.",
   "id": "d69c767107cdf336"
  },
  {
   "metadata": {
    "ExecuteTime": {
     "end_time": "2025-08-14T20:23:05.245804Z",
     "start_time": "2025-08-14T20:23:05.238059Z"
    }
   },
   "cell_type": "code",
   "source": [
    "# Merge the taxi_owners and taxi_veh tables setting a suffix\n",
    "taxi_own_veh = taxi_owners.merge(taxi_veh, on='vid', suffixes=('_own','_veh'))\n",
    "\n",
    "# Print the value_counts to find the most popular fuel_type\n",
    "print(taxi_own_veh['fuel_type'].value_counts())"
   ],
   "id": "6394416800059c88",
   "outputs": [
    {
     "name": "stdout",
     "output_type": "stream",
     "text": [
      "fuel_type\n",
      "HYBRID        2782\n",
      "GASOLINE       609\n",
      "FLEX FUEL       85\n",
      "COMPRESSED      27\n",
      "HYBR             1\n",
      "Name: count, dtype: int64\n"
     ]
    }
   ],
   "execution_count": 5
  },
  {
   "metadata": {},
   "cell_type": "markdown",
   "source": [
    "## Inner joins and number of rows returned\n",
    "All of the merges you have studied to this point are called inner joins. It is necessary to understand that inner joins only return the rows with matching values in both tables. You will explore this further by reviewing the merge between the wards and census tables, then comparing it to merges of copies of these tables that are slightly altered, named wards_altered, and census_altered. The first row of the wards column has been changed in the altered tables. You will examine how this affects the merge between them. The tables have been loaded for you.\n",
    "\n",
    "For this exercise, it is important to know that the wards and census tables start with 50 rows.\n",
    "### Instructions\n",
    "- Merge wards and census on the ward column and save the result to wards_census."
   ],
   "id": "b7cce80aebdda605"
  },
  {
   "metadata": {
    "ExecuteTime": {
     "end_time": "2025-08-14T20:23:05.343618Z",
     "start_time": "2025-08-14T20:23:05.335608Z"
    }
   },
   "cell_type": "code",
   "source": [
    "# Load the wards and census DataFrames\n",
    "wards = pd.read_csv('../data/wards.csv')\n",
    "census = pd.read_csv('../data/census.csv')"
   ],
   "id": "5bcb1a4da40143aa",
   "outputs": [],
   "execution_count": 6
  },
  {
   "metadata": {
    "ExecuteTime": {
     "end_time": "2025-08-14T20:23:05.361305Z",
     "start_time": "2025-08-14T20:23:05.357676Z"
    }
   },
   "cell_type": "code",
   "source": [
    "# Merge the wards and census tables on the ward column\n",
    "wards_census = wards.merge(census, on='ward')\n",
    "\n",
    "# Print the shape of wards_census\n",
    "print('wards_census table shape:', wards_census.shape)\n"
   ],
   "id": "531a0d5abf075513",
   "outputs": [
    {
     "name": "stdout",
     "output_type": "stream",
     "text": [
      "wards_census table shape: (50, 11)\n"
     ]
    }
   ],
   "execution_count": 7
  },
  {
   "metadata": {},
   "cell_type": "markdown",
   "source": "- Merge the wards_altered and census tables on the ward column, and notice the difference in returned rows.",
   "id": "edf8cb0eade0d1d7"
  },
  {
   "metadata": {
    "ExecuteTime": {
     "end_time": "2025-08-14T20:23:05.405432Z",
     "start_time": "2025-08-14T20:23:05.401225Z"
    }
   },
   "cell_type": "code",
   "source": [
    "# Print the first few rows of the wards_altered table to view the change\n",
    "wards_altered = wards.copy()\n",
    "print(wards_altered[['ward']].head())\n",
    "\n",
    "# Merge the wards_altered and census tables on the ward column\n",
    "wards_altered_census = wards_altered.merge(census, on='ward')\n",
    "\n",
    "# Print the shape of wards_altered_census\n",
    "print('wards_altered_census table shape:', wards_altered_census.shape)"
   ],
   "id": "8988949c9ff14a11",
   "outputs": [
    {
     "name": "stdout",
     "output_type": "stream",
     "text": [
      "   ward\n",
      "0     1\n",
      "1     2\n",
      "2     3\n",
      "3     4\n",
      "4     5\n",
      "wards_altered_census table shape: (50, 11)\n"
     ]
    }
   ],
   "execution_count": 8
  },
  {
   "metadata": {},
   "cell_type": "markdown",
   "source": "- Merge the wards and census_altered tables on the ward column, and notice the difference in returned rows",
   "id": "fbd015baaeb5d723"
  },
  {
   "metadata": {
    "ExecuteTime": {
     "end_time": "2025-08-14T20:23:05.457783Z",
     "start_time": "2025-08-14T20:23:05.453616Z"
    }
   },
   "cell_type": "code",
   "source": [
    "# Print the first few rows of the census_altered table to view the change\n",
    "census_altered = census.copy()\n",
    "print(census_altered[['ward']].head())\n",
    "\n",
    "# Merge the wards and census_altered tables on the ward column\n",
    "wards_census_altered = wards.merge(census_altered, on='ward')\n",
    "\n",
    "# Print the shape of wards_census_altered\n",
    "print('wards_census_altered table shape:', wards_census_altered.shape)"
   ],
   "id": "e1a21b251a2843d9",
   "outputs": [
    {
     "name": "stdout",
     "output_type": "stream",
     "text": [
      "   ward\n",
      "0     1\n",
      "1     2\n",
      "2     3\n",
      "3     4\n",
      "4     5\n",
      "wards_census_altered table shape: (50, 11)\n"
     ]
    }
   ],
   "execution_count": 9
  },
  {
   "metadata": {},
   "cell_type": "markdown",
   "source": "## One-to-many relationships",
   "id": "4a1d773101dbf2db"
  },
  {
   "metadata": {},
   "cell_type": "markdown",
   "source": [
    "## One-to-many merge\n",
    "A business may have one or multiple owners. In this exercise, you will continue to gain experience with one-to-many merges by merging a table of business owners, called biz_owners, to the licenses table. Recall from the video lesson, with a one-to-many relationship, a row in the left table may be repeated if it is related to multiple rows in the right table. In this lesson, you will explore this further by finding out what is the most common business owner title. (i.e., secretary, CEO, or vice president)\n",
    "\n",
    "The licenses and biz_owners DataFrames are loaded for you.\n",
    "### Instructions\n",
    " - Starting with the licenses table on the left, merge it to the biz_owners table on the column account, and save the results to a variable named licenses_owners.\n",
    " - Group licenses_owners by title and count the number of accounts for each title. Save the result as counted_df\n",
    " - Sort counted_df by the number of accounts in descending order, and save this as a variable named sorted_df.\n",
    " - Use the .head() method to print the first few rows of the sorted_df."
   ],
   "id": "db77417ccff91643"
  },
  {
   "metadata": {
    "ExecuteTime": {
     "end_time": "2025-08-14T20:23:05.541944Z",
     "start_time": "2025-08-14T20:23:05.513961Z"
    }
   },
   "cell_type": "code",
   "source": [
    "# Merge the licenses and biz_owners table on account\n",
    "licenses = pd.read_csv('../data/licenses.csv')\n",
    "biz_owners = pd.read_csv('../data/biz_owners.csv')\n",
    "licenses_owners = licenses.merge(biz_owners, on='account')"
   ],
   "id": "f1f03a46b833a9f1",
   "outputs": [],
   "execution_count": 10
  },
  {
   "metadata": {
    "ExecuteTime": {
     "end_time": "2025-08-14T20:23:05.575759Z",
     "start_time": "2025-08-14T20:23:05.564866Z"
    }
   },
   "cell_type": "code",
   "source": [
    "# Group the results by title then count the number of accounts\n",
    "licenses_owners = licenses.merge(biz_owners, on='account')\n",
    "counted_df = licenses_owners.groupby('title').agg({'account':'count'})\n",
    "\n",
    "# Sort the counted_df in descending order\n",
    "sorted_df = counted_df.sort_values(by='account', ascending=False)\n",
    "\n",
    "# Use .head() method to print the first few rows of sorted_df\n",
    "print(sorted_df.head())"
   ],
   "id": "fb4131dc84816f3d",
   "outputs": [
    {
     "name": "stdout",
     "output_type": "stream",
     "text": [
      "                 account\n",
      "title                   \n",
      "PRESIDENT           6258\n",
      "SECRETARY           5204\n",
      "SOLE PROPRIETOR     1658\n",
      "OTHER               1199\n",
      "VICE PRESIDENT       969\n"
     ]
    }
   ],
   "execution_count": 11
  },
  {
   "metadata": {},
   "cell_type": "markdown",
   "source": [
    "## Total riders in a month\n",
    "Your goal is to find the total number of rides provided to passengers passing through the Wilson station (station_name == 'Wilson') when riding Chicago's public transportation system on weekdays (day_type == 'Weekday') in July (month == 7). Luckily, Chicago provides this detailed data, but it is in three different tables. You will work on merging these tables together to answer the question. This data is different from the business related data you have seen so far, but all the information you need to answer the question is provided.\n",
    "\n",
    "The cal, ridership, and stations DataFrames have been loaded for you. The relationship between the tables can be seen in the diagram below.\n",
    "![Cla](../data/cta_L_diagram.png)\n",
    "### Instructions\n",
    "- Merge the ridership and cal tables together, starting with the ridership table on the left and save the result to the variable ridership_cal. If you code takes too long to run, your merge conditions might be incorrect."
   ],
   "id": "c86271159c0db9af"
  },
  {
   "metadata": {
    "ExecuteTime": {
     "end_time": "2025-08-14T20:23:05.633675Z",
     "start_time": "2025-08-14T20:23:05.622515Z"
    }
   },
   "cell_type": "code",
   "source": [
    "# load the ridership and cal DataFrames\n",
    "cal = pd.read_csv('../data/cal.csv')\n",
    "stations = pd.read_csv('../data/stations.csv')\n",
    "ridership = pd.read_csv('../data/ridership.csv')\n",
    "\n",
    "# head of the DataFrames\n",
    "print(stations.head())\n",
    "print(cal.head())\n",
    "print(ridership.head())"
   ],
   "id": "193aa12bd85fee82",
   "outputs": [
    {
     "name": "stdout",
     "output_type": "stream",
     "text": [
      "   station_id        station_name    location          NULL\n",
      "0       40010  Austin-Forest Park  (41.870851   -87.776812)\n",
      "1       40020         Harlem-Lake  (41.886848   -87.803176)\n",
      "2       40030        Pulaski-Lake  (41.885412   -87.725404)\n",
      "3       40040        Quincy/Wells  (41.878723    -87.63374)\n",
      "4       40050               Davis   (42.04771   -87.683543)\n",
      "   year  month  day        day_type\n",
      "0  2019      1    1  Sunday/Holiday\n",
      "1  2019      1    2         Weekday\n",
      "2  2019      1    3         Weekday\n",
      "3  2019      1    4         Weekday\n",
      "4  2019      1    5        Saturday\n",
      "   station_id  year  month  day  rides\n",
      "0       40010  2019      1    1    576\n",
      "1       40010  2019      1    2   1457\n",
      "2       40010  2019      1    3   1543\n",
      "3       40010  2019      1    4   1621\n",
      "4       40010  2019      1    5    719\n"
     ]
    }
   ],
   "execution_count": 12
  },
  {
   "metadata": {
    "ExecuteTime": {
     "end_time": "2025-08-14T20:23:05.699331Z",
     "start_time": "2025-08-14T20:23:05.694427Z"
    }
   },
   "cell_type": "code",
   "source": [
    "# Merge the ridership and cal tables\n",
    "ridership_cal = ridership.merge(cal)"
   ],
   "id": "e2fd5ea0663742ad",
   "outputs": [],
   "execution_count": 13
  },
  {
   "metadata": {},
   "cell_type": "markdown",
   "source": "- Extend the previous merge to three tables by also merging the stations table.",
   "id": "ed807529b62beff0"
  },
  {
   "metadata": {
    "ExecuteTime": {
     "end_time": "2025-08-14T20:23:05.790449Z",
     "start_time": "2025-08-14T20:23:05.782224Z"
    }
   },
   "cell_type": "code",
   "source": [
    "ridership_cal_stations = ridership.merge(cal, on=['year','month','day']) \\\n",
    "                                .merge(stations.astype({'station_id': int}), on='station_id')"
   ],
   "id": "51d97823e50e4717",
   "outputs": [],
   "execution_count": 14
  },
  {
   "metadata": {},
   "cell_type": "markdown",
   "source": "- Create a variable called filter_criteria to select the appropriate rows from the merged table so that you can sum the rides column.",
   "id": "246249cb874ea51a"
  },
  {
   "metadata": {
    "ExecuteTime": {
     "end_time": "2025-08-14T20:23:05.846185Z",
     "start_time": "2025-08-14T20:23:05.840127Z"
    }
   },
   "cell_type": "code",
   "source": [
    "# Create a filter to filter ridership_cal_stations\n",
    "filter_criteria = ((ridership_cal_stations['month'] == 7)\n",
    "                   & (ridership_cal_stations['day_type'] == 'Weekday')\n",
    "                   & (ridership_cal_stations['station_name'] == 'Wilson'))\n",
    "\n",
    "# Use .loc and the filter to select for rides\n",
    "print(ridership_cal_stations.loc[filter_criteria, 'rides'].sum())"
   ],
   "id": "6f0ff94f3cdc145d",
   "outputs": [
    {
     "name": "stdout",
     "output_type": "stream",
     "text": [
      "140005\n"
     ]
    }
   ],
   "execution_count": 15
  },
  {
   "metadata": {},
   "cell_type": "markdown",
   "source": [
    "## Three table merge\n",
    "To solidify the concept of a three DataFrame merge, practice another exercise. A reasonable extension of our review of Chicago business data would include looking at demographics information about the neighborhoods where the businesses are. A table with the median income by zip code has been provided to you. You will merge the licenses and wards tables with this new income-by-zip-code table called zip_demo.\n",
    "\n",
    "The licenses, wards, and zip_demo DataFrames have been loaded for you.\n",
    "### Instructions\n",
    " - Starting with the licenses table, merge to it the zip_demo table on the zip column. Then merge the resulting table to the wards table on the ward column. Save result of the three merged tables to a variable named licenses_zip_ward.\n",
    " - Group the results of the three merged tables by the column alderman and find the median income."
   ],
   "id": "e4ce7074c618a21e"
  },
  {
   "metadata": {
    "ExecuteTime": {
     "end_time": "2025-08-14T20:23:05.916840Z",
     "start_time": "2025-08-14T20:23:05.911984Z"
    }
   },
   "cell_type": "code",
   "source": [
    "# Load the zip_demo DataFrames\n",
    "zip_demo = pd.read_csv('../data/zip_demo.csv')"
   ],
   "id": "1f4cf729bcb8e69",
   "outputs": [],
   "execution_count": 16
  },
  {
   "metadata": {
    "ExecuteTime": {
     "end_time": "2025-08-14T20:23:05.975143Z",
     "start_time": "2025-08-14T20:23:05.962622Z"
    }
   },
   "cell_type": "code",
   "source": [
    "# Merge licenses and zip_demo, on zip; and merge the wards on ward\n",
    "licenses_zip_ward = licenses.merge(zip_demo, on='zip') \\\n",
    "\t.merge(wards, on='ward')\n",
    "\n",
    "# Print the results by alderman and show median income\n",
    "print(licenses_zip_ward.groupby('alderman').agg({'income':'median'}))"
   ],
   "id": "36dea00b9d0d470b",
   "outputs": [
    {
     "name": "stdout",
     "output_type": "stream",
     "text": [
      "                             income\n",
      "alderman                           \n",
      "Ameya Pawar                 66246.0\n",
      "Anthony A. Beale            38206.0\n",
      "Anthony V. Napolitano       82226.0\n",
      "Ariel E. Reyboras           41307.0\n",
      "Brendan Reilly              39179.0\n",
      "Brian Hopkins               87143.0\n",
      "Carlos Ramirez-Rosa         66246.0\n",
      "Carrie M. Austin            38206.0\n",
      "Chris Taliaferro            55566.0\n",
      "Daniel \"Danny\" Solis        41226.0\n",
      "David H. Moore              33304.0\n",
      "Deborah Mell                66246.0\n",
      "Debra L. Silverstein        50554.0\n",
      "Derrick G. Curtis           65770.0\n",
      "Edward M. Burke             42335.0\n",
      "Emma M. Mitts               36283.0\n",
      "George Cardenas             33959.0\n",
      "Gilbert Villegas            41307.0\n",
      "Gregory I. Mitchell         24941.0\n",
      "Harry Osterman              45442.0\n",
      "Howard B. Brookins Jr.      33304.0\n",
      "James Cappleman             79565.0\n",
      "Jason C. Ervin              41226.0\n",
      "Joe Moore                   39163.0\n",
      "John S. Arena               70122.0\n",
      "Leslie A. Hairston          28024.0\n",
      "Margaret Laurino            70122.0\n",
      "Marty Quinn                 67045.0\n",
      "Matthew J. O'Shea           59488.0\n",
      "Michael  Jr.                31445.0\n",
      "Michael R. Zalewski         42335.0\n",
      "Michelle A. Harris          32558.0\n",
      "Michelle Smith             100116.0\n",
      "Milagros \"Milly\" Santiago   41307.0\n",
      "Nicholas Sposato            62223.0\n",
      "Pat Dowell                  41679.0\n",
      "Patrick Daley Thompson      41226.0\n",
      "Patrick J. O'Connor         50554.0\n",
      "Proco \"Joe\" Moreno          87143.0\n",
      "Raymond A. Lopez            33959.0\n",
      "Ricardo Munoz               31445.0\n",
      "Roberto Maldonado           68223.0\n",
      "Roderick T. Sawyer          32558.0\n",
      "Scott Waguespack            68223.0\n",
      "Susan Sadlowski Garza       38417.0\n",
      "Tom Tunney                  88708.0\n",
      "Toni L. Foulkes             27573.0\n",
      "Walter Burnett  Jr.         87143.0\n",
      "William D. Burns            14565.0\n",
      "Willie B. Cochran           28024.0\n"
     ]
    }
   ],
   "execution_count": 17
  },
  {
   "metadata": {},
   "cell_type": "markdown",
   "source": [
    "## One-to-many merge with multiple tables\n",
    "In this exercise, assume that you are looking to start a business in the city of Chicago. Your perfect idea is to start a company that uses goats to mow the lawn for other businesses. However, you have to choose a location in the city to put your goat farm. You need a location with a great deal of space and relatively few businesses and people around to avoid complaints about the smell. You will need to merge three tables to help you choose your location. The land_use table has info on the percentage of vacant land by city ward. The census table has population by ward, and the licenses table lists businesses by ward.\n",
    "\n",
    "The land_use, census, and licenses tables have been loaded for you.\n",
    "### Instructions\n",
    "- Merge land_use and census on the ward column. Merge the result of this with licenses on the ward column, using the suffix _cen for the left table and _lic for the right table. Save this to the variable land_cen_lic."
   ],
   "id": "24c639431bc3b254"
  },
  {
   "metadata": {
    "ExecuteTime": {
     "end_time": "2025-08-14T20:23:06.035750Z",
     "start_time": "2025-08-14T20:23:06.031296Z"
    }
   },
   "cell_type": "code",
   "source": [
    "# Load the land_use DataFrame\n",
    "land_use = pd.read_csv('../data/land_use.csv')"
   ],
   "id": "3cc29a5cba9dc322",
   "outputs": [],
   "execution_count": 18
  },
  {
   "metadata": {
    "ExecuteTime": {
     "end_time": "2025-08-14T20:23:06.090048Z",
     "start_time": "2025-08-14T20:23:06.082644Z"
    }
   },
   "cell_type": "code",
   "source": [
    "# Merge land_use and census and merge result with licenses including suffixes\n",
    "land_cen_lic = land_use.merge(census, on='ward') \\\n",
    "                    .merge(licenses, on='ward', suffixes=('_cen','_lic'))"
   ],
   "id": "719a1e7f9a9087c2",
   "outputs": [],
   "execution_count": 19
  },
  {
   "metadata": {},
   "cell_type": "markdown",
   "source": "- Group land_cen_lic by ward, pop_2010 (the population in 2010), and vacant, then count the number of accounts. Save the results to pop_vac_lic.",
   "id": "dd097a1872086219"
  },
  {
   "metadata": {
    "ExecuteTime": {
     "end_time": "2025-08-14T20:23:06.136926Z",
     "start_time": "2025-08-14T20:23:06.129854Z"
    }
   },
   "cell_type": "code",
   "source": [
    "# Group by ward, pop_2010, and vacant, then count the # of accounts\n",
    "pop_vac_lic = land_cen_lic.groupby(['ward', 'pop_2010', 'vacant'],\n",
    "                                   as_index=False).agg({'account':'count'})"
   ],
   "id": "99da06c54848e2c5",
   "outputs": [],
   "execution_count": 20
  },
  {
   "metadata": {},
   "cell_type": "markdown",
   "source": "- Sort pop_vac_lic by vacant, account, andpop_2010 in descending, ascending, and ascending order respectively. Save it as sorted_pop_vac_lic.",
   "id": "eb9a9451ff416040"
  },
  {
   "metadata": {
    "ExecuteTime": {
     "end_time": "2025-08-14T20:23:06.179867Z",
     "start_time": "2025-08-14T20:23:06.174078Z"
    }
   },
   "cell_type": "code",
   "source": [
    "# Sort pop_vac_lic and print the results\n",
    "sorted_pop_vac_lic = pop_vac_lic.sort_values(by=['vacant', 'account', 'pop_2010'],\n",
    "                                             ascending=[False, True, True])"
   ],
   "id": "49a2fbe996937a0d",
   "outputs": [],
   "execution_count": 21
  },
  {
   "metadata": {
    "ExecuteTime": {
     "end_time": "2025-08-14T20:23:06.225249Z",
     "start_time": "2025-08-14T20:23:06.221652Z"
    }
   },
   "cell_type": "code",
   "source": [
    "# Print the top few rows of sorted_pop_vac_lic\n",
    "print(sorted_pop_vac_lic.head())"
   ],
   "id": "63b7013777c3612b",
   "outputs": [
    {
     "name": "stdout",
     "output_type": "stream",
     "text": [
      "    ward  pop_2010  vacant  account\n",
      "6      7     51581      19       80\n",
      "19    20     52372      15      123\n",
      "9     10     51535      14      130\n",
      "23    24     54909      13       98\n",
      "15    16     51954      13      156\n"
     ]
    }
   ],
   "execution_count": 22
  },
  {
   "metadata": {},
   "cell_type": "markdown",
   "source": "# Merging Tables With Different Join Types",
   "id": "d14bf5ffd8cf3716"
  },
  {
   "metadata": {},
   "cell_type": "markdown",
   "source": [
    "## Counting missing rows with left join\n",
    "The Movie Database is supported by volunteers going out into the world, collecting data, and entering it into the database. This includes financial data, such as movie budget and revenue. If you wanted to know which movies are still missing data, you could use a left join to identify them. Practice using a left join by merging the movies table and the financials table.\n",
    "\n",
    "The movies and financials tables have been loaded for you.\n",
    "### Instructions\n",
    "- Merge the movies table, as the left table, with the financials table using a left join, and save the result to movies_financials."
   ],
   "id": "8bca7f6e01d7f144"
  },
  {
   "metadata": {
    "ExecuteTime": {
     "end_time": "2025-08-14T20:23:06.278783Z",
     "start_time": "2025-08-14T20:23:06.270642Z"
    }
   },
   "cell_type": "code",
   "source": [
    "# Import the movies and financials DataFrames\n",
    "movies = pd.read_csv('../data/movies.csv')\n",
    "financials = pd.read_csv('../data/financials.csv')"
   ],
   "id": "d96a1e9d80359ab",
   "outputs": [],
   "execution_count": 23
  },
  {
   "metadata": {
    "ExecuteTime": {
     "end_time": "2025-08-14T20:23:06.321886Z",
     "start_time": "2025-08-14T20:23:06.316153Z"
    }
   },
   "cell_type": "code",
   "source": [
    "# Merge movies and financials with a left join\n",
    "movies_financials = movies.merge(financials, on='id', how='left')"
   ],
   "id": "67784f8eb198ac6f",
   "outputs": [],
   "execution_count": 24
  },
  {
   "metadata": {},
   "cell_type": "markdown",
   "source": "- Count the number of rows in movies_financials with a null value in the budget column.",
   "id": "ba352b7e5873beff"
  },
  {
   "metadata": {
    "ExecuteTime": {
     "end_time": "2025-08-14T20:23:06.356142Z",
     "start_time": "2025-08-14T20:23:06.353088Z"
    }
   },
   "cell_type": "code",
   "source": [
    "# Count the number of rows in the budget column that are missing\n",
    "number_of_missing_fin = movies_financials['budget'].isna().sum()"
   ],
   "id": "94096a272c2e6c7",
   "outputs": [],
   "execution_count": 25
  },
  {
   "metadata": {
    "ExecuteTime": {
     "end_time": "2025-08-14T20:23:06.388208Z",
     "start_time": "2025-08-14T20:23:06.386082Z"
    }
   },
   "cell_type": "code",
   "source": [
    "# Print the number of movies missing financials\n",
    "print(number_of_missing_fin)"
   ],
   "id": "b146ffa9d46c2f66",
   "outputs": [
    {
     "name": "stdout",
     "output_type": "stream",
     "text": [
      "1574\n"
     ]
    }
   ],
   "execution_count": 26
  },
  {
   "metadata": {},
   "cell_type": "markdown",
   "source": [
    "## Enriching a dataset\n",
    "Setting how='left' with the .merge()method is a useful technique for enriching or enhancing a dataset with additional information from a different table. In this exercise, you will start off with a sample of movie data from the movie series Toy Story. Your goal is to enrich this data by adding the marketing tag line for each movie. You will compare the results of a left join versus an inner join.\n",
    "\n",
    "The toy_story DataFrame contains the Toy Story movies. The toy_story and taglines DataFrames have been loaded for you.\n",
    "### Instructions\n",
    "- Merge toy_story and taglines on the id column with a left join, and save the result as toystory_tag.\n"
   ],
   "id": "867f8e7c1fdc5717"
  },
  {
   "metadata": {
    "ExecuteTime": {
     "end_time": "2025-08-14T20:23:06.430697Z",
     "start_time": "2025-08-14T20:23:06.423681Z"
    }
   },
   "cell_type": "code",
   "source": [
    "# Load the toy_story and taglines DataFrames\n",
    "toy_story = pd.read_csv('../data/toy_story.csv')\n",
    "taglines = pd.read_csv('../data/taglines.csv')"
   ],
   "id": "28115a924bdd11f8",
   "outputs": [],
   "execution_count": 27
  },
  {
   "metadata": {
    "ExecuteTime": {
     "end_time": "2025-08-14T20:23:06.470424Z",
     "start_time": "2025-08-14T20:23:06.465276Z"
    }
   },
   "cell_type": "code",
   "source": [
    "# Merge the toy_story and taglines tables with a left join\n",
    "toystory_tag = toy_story.merge(taglines, on='id', how='left')\n",
    "\n",
    "# Print the rows and shape of toystory_tag\n",
    "print(toystory_tag)\n",
    "print(toystory_tag.shape)"
   ],
   "id": "a121039f036a63d8",
   "outputs": [
    {
     "name": "stdout",
     "output_type": "stream",
     "text": [
      "      id        title  popularity release_date                   tagline\n",
      "0  10193  Toy Story 3      59.995   2010-06-16  No toy gets left behind.\n",
      "1    863  Toy Story 2      73.575   1999-10-30        The toys are back!\n",
      "2    862    Toy Story      73.640   1995-10-30                       NaN\n",
      "(3, 5)\n"
     ]
    }
   ],
   "execution_count": 28
  },
  {
   "metadata": {},
   "cell_type": "markdown",
   "source": "- With toy_story as the left table, merge to it taglines on the id column with an inner join, and save as toystory_tag.",
   "id": "69607678112074d3"
  },
  {
   "metadata": {
    "ExecuteTime": {
     "end_time": "2025-08-14T20:23:06.530842Z",
     "start_time": "2025-08-14T20:23:06.524Z"
    }
   },
   "cell_type": "code",
   "source": [
    "# Merge the toy_story and taglines tables with a inner join\n",
    "toystory_tag = toy_story.merge(taglines, on='id', how='inner')\n",
    "\n",
    "# Print the rows and shape of toystory_tag\n",
    "print(toystory_tag)\n",
    "print(toystory_tag.shape)"
   ],
   "id": "4098836d38d4b26f",
   "outputs": [
    {
     "name": "stdout",
     "output_type": "stream",
     "text": [
      "      id        title  popularity release_date                   tagline\n",
      "0  10193  Toy Story 3      59.995   2010-06-16  No toy gets left behind.\n",
      "1    863  Toy Story 2      73.575   1999-10-30        The toys are back!\n",
      "(2, 5)\n"
     ]
    }
   ],
   "execution_count": 29
  },
  {
   "metadata": {},
   "cell_type": "markdown",
   "source": "# Other joins",
   "id": "54dcf72607ee6860"
  },
  {
   "metadata": {},
   "cell_type": "markdown",
   "source": [
    "## Right join to find unique movies\n",
    "Most of the recent big-budget science fiction movies can also be classified as action movies. You are given a table of science fiction movies called scifi_movies and another table of action movies called action_movies. Your goal is to find which movies are considered only science fiction movies. Once you have this table, you can merge the movies table in to see the movie names. Since this exercise is related to science fiction movies, use a right join as your superhero power to solve this problem.\n",
    "\n",
    "The movies, scifi_movies, and action_movies tables have been loaded for you.\n",
    "### Instructions\n",
    "- Merge scifi_movies and action_movies on the id column using a right join, and save"
   ],
   "id": "8df35af5b5b8e270"
  },
  {
   "metadata": {
    "ExecuteTime": {
     "end_time": "2025-08-14T20:23:06.588317Z",
     "start_time": "2025-08-14T20:23:06.578070Z"
    }
   },
   "cell_type": "code",
   "source": [
    "# Load the movies, scifi_movies, and action_movies DataFrames\n",
    "movies = pd.read_csv('../data/movies.csv')\n",
    "scifi_movies = pd.read_csv('../data/scifi_movies.csv')\n",
    "action_movies = pd.read_csv('../data/action_movies.csv')"
   ],
   "id": "cde05a40a77f53ca",
   "outputs": [],
   "execution_count": 30
  },
  {
   "metadata": {
    "ExecuteTime": {
     "end_time": "2025-08-14T20:23:06.623800Z",
     "start_time": "2025-08-14T20:23:06.619507Z"
    }
   },
   "cell_type": "code",
   "source": [
    "# Merge scifi_movies and action_movies on id using a right join\n",
    "scifi_action = scifi_movies.merge(action_movies, on='movie_id', how='right')"
   ],
   "id": "2dd41118bc85817c",
   "outputs": [],
   "execution_count": 31
  },
  {
   "metadata": {},
   "cell_type": "markdown",
   "source": "- Update the merge to add suffixes, where '_act' and '_sci' are suffixes for the left and right tables, respectively.",
   "id": "7cfc689dac5dcf19"
  },
  {
   "metadata": {
    "ExecuteTime": {
     "end_time": "2025-08-14T20:23:06.665172Z",
     "start_time": "2025-08-14T20:23:06.660624Z"
    }
   },
   "cell_type": "code",
   "source": [
    "# Merge action_movies to scifi_movies with right join\n",
    "action_scifi = action_movies.merge(scifi_movies, on='movie_id', how='right',\n",
    "                                   suffixes=('_act', '_sci'))\n",
    "\n",
    "# Print the first few rows of action_scifi to see the structure\n",
    "print(action_scifi.head())"
   ],
   "id": "c31e412048743c06",
   "outputs": [
    {
     "name": "stdout",
     "output_type": "stream",
     "text": [
      "   movie_id genre_act        genre_sci\n",
      "0        11    Action  Science Fiction\n",
      "1        18    Action  Science Fiction\n",
      "2        19       NaN  Science Fiction\n",
      "3        38       NaN  Science Fiction\n",
      "4        62       NaN  Science Fiction\n"
     ]
    }
   ],
   "execution_count": 32
  },
  {
   "metadata": {},
   "cell_type": "markdown",
   "source": "- From action_scifi, subset only the rows where the genre_act column is null.",
   "id": "b3f87d456c0feff6"
  },
  {
   "metadata": {
    "ExecuteTime": {
     "end_time": "2025-08-14T20:23:06.713092Z",
     "start_time": "2025-08-14T20:23:06.708888Z"
    }
   },
   "cell_type": "code",
   "source": [
    "# Merge action_movies to the scifi_movies with right join\n",
    "action_scifi = action_movies.merge(scifi_movies, on='movie_id', how='right',\n",
    "                                   suffixes=('_act','_sci'))\n",
    "\n",
    "# From action_scifi, select only the rows where the genre_act column is null\n",
    "scifi_only = action_scifi[action_scifi['genre_act'].isna()]"
   ],
   "id": "c3040f768b38b040",
   "outputs": [],
   "execution_count": 33
  },
  {
   "metadata": {},
   "cell_type": "markdown",
   "source": "- Merge movies and scifi_only using the id column in the left table and the movie_id column in the right table with an inner join.",
   "id": "2ca217baaa5f82ba"
  },
  {
   "metadata": {
    "ExecuteTime": {
     "end_time": "2025-08-14T20:23:06.763526Z",
     "start_time": "2025-08-14T20:23:06.757876Z"
    }
   },
   "cell_type": "code",
   "source": [
    "# Merge the movies and scifi_only tables with an inner join\n",
    "movies_and_scifi_only = movies.merge(scifi_only, left_on='id', right_on='movie_id', how='inner')\n",
    "\n",
    "# Print the first few rows and shape of movies_and_scifi_only\n",
    "print(movies_and_scifi_only.head())\n",
    "print(movies_and_scifi_only.shape)"
   ],
   "id": "7146a54439cd9208",
   "outputs": [
    {
     "name": "stdout",
     "output_type": "stream",
     "text": [
      "      id                         title  popularity release_date  movie_id  \\\n",
      "0  18841  The Lost Skeleton of Cadavra       1.681   2001-09-12     18841   \n",
      "1  26672     The Thief and the Cobbler       2.439   1993-09-23     26672   \n",
      "2  15301      Twilight Zone: The Movie      12.900   1983-06-24     15301   \n",
      "3   8452                   The 6th Day      18.450   2000-11-17      8452   \n",
      "4   1649    Bill & Ted's Bogus Journey      11.350   1991-07-19      1649   \n",
      "\n",
      "  genre_act        genre_sci  \n",
      "0       NaN  Science Fiction  \n",
      "1       NaN  Science Fiction  \n",
      "2       NaN  Science Fiction  \n",
      "3       NaN  Science Fiction  \n",
      "4       NaN  Science Fiction  \n",
      "(258, 7)\n"
     ]
    }
   ],
   "execution_count": 34
  },
  {
   "metadata": {},
   "cell_type": "markdown",
   "source": [
    "## Popular genres with right join\n",
    "What are the genres of the most popular movies? To answer this question, you need to merge data from the movies and movie_to_genres tables. In a table called pop_movies, the top 10 most popular movies in the movies table have been selected. To ensure that you are analyzing all of the popular movies, merge it with the movie_to_genres table using a right join. To complete your analysis, count the number of different genres. Also, the two tables can be merged by the movie ID. However, in pop_movies that column is called id, and in movie_to_genres it's called movie_id.\n",
    "\n",
    "The pop_movies and movie_to_genres tables have been loaded for you.\n",
    "### Instructions\n",
    "- Merge movie_to_genres and pop_movies using a right join. Save the results as genres_movies.\n",
    "- Group genres_movies by genre and count the number of id values."
   ],
   "id": "3dc127372591b8e7"
  },
  {
   "metadata": {
    "ExecuteTime": {
     "end_time": "2025-08-14T20:23:06.826083Z",
     "start_time": "2025-08-14T20:23:06.820301Z"
    }
   },
   "cell_type": "code",
   "source": [
    "# Load the pop_movies and movie_to_genres DataFrames\n",
    "pop_movies = pd.read_csv('../data/pop_movies.csv')\n",
    "movie_to_genres = pd.read_csv('../data/movie_to_genres.csv')"
   ],
   "id": "bc9bdc0e71879e8b",
   "outputs": [],
   "execution_count": 35
  },
  {
   "metadata": {
    "ExecuteTime": {
     "end_time": "2025-08-14T20:23:06.867453Z",
     "start_time": "2025-08-14T20:23:06.862942Z"
    }
   },
   "cell_type": "code",
   "source": [
    "print(pop_movies.head())\n",
    "print(movie_to_genres.head())"
   ],
   "id": "a7fa6fe6ecd02a5f",
   "outputs": [
    {
     "name": "stdout",
     "output_type": "stream",
     "text": [
      "       id                    title  popularity release_date\n",
      "0  211672                  Minions     875.581   2015-06-17\n",
      "1  157336             Interstellar     724.248   2014-11-05\n",
      "2  293660                 Deadpool     514.570   2016-02-09\n",
      "3  118340  Guardians of the Galaxy     481.099   2014-07-30\n",
      "4   76341       Mad Max: Fury Road     434.279   2015-05-13\n",
      "   movie_id            genre\n",
      "0         5            Crime\n",
      "1         5           Comedy\n",
      "2        11  Science Fiction\n",
      "3        11           Action\n",
      "4        11        Adventure\n"
     ]
    }
   ],
   "execution_count": 36
  },
  {
   "metadata": {
    "ExecuteTime": {
     "end_time": "2025-08-14T20:23:06.994762Z",
     "start_time": "2025-08-14T20:23:06.919346Z"
    }
   },
   "cell_type": "code",
   "source": [
    "# Use right join to merge the movie_to_genres and pop_movies tables\n",
    "genres_movies = movie_to_genres.merge(pop_movies, how='right', left_on='movie_id', right_on='id')\n",
    "\n",
    "# Count the number of genres\n",
    "genre_count = genres_movies.groupby('genre').agg({'id':'count'})\n",
    "\n",
    "# Plot a bar chart of the genre_count\n",
    "genre_count.plot(kind='bar')\n",
    "plt.show()"
   ],
   "id": "566e343b848d9152",
   "outputs": [
    {
     "data": {
      "text/plain": [
       "<Figure size 640x480 with 1 Axes>"
      ],
      "image/png": "[encoded data removed]"
     },
     "metadata": {},
     "output_type": "display_data"
    }
   ],
   "execution_count": 37
  },
  {
   "metadata": {},
   "cell_type": "markdown",
   "source": [
    "## Using outer join to select actors\n",
    "One cool aspect of using an outer join is that, because it returns all rows from both merged tables and null where they do not match, you can use it to find rows that do not have a match in the other table. To try for yourself, you have been given two tables with a list of actors from two popular movies: Iron Man 1 and Iron Man 2. Most of the actors played in both movies. Use an outer join to find actors who did not act in both movies.\n",
    "\n",
    "The Iron Man 1 table is called iron_1_actors, and Iron Man 2 table is called iron_2_actors. Both tables have been loaded for you and a few rows printed so you can see the structure.\n",
    "\n",
    "![outer_join](../data/noJoin.png)\n",
    "### Instructions\n",
    "- Save to iron_1_and_2 the merge of iron_1_actors (left) with iron_2_actors tables with an outer join on the id column, and set suffixes to ('_1','_2').\n",
    "- Create an index that returns True if name_1 or name_2 are null, and False otherwise."
   ],
   "id": "1e56abf8a06c5ec0"
  },
  {
   "metadata": {
    "ExecuteTime": {
     "end_time": "2025-08-14T20:23:07.035038Z",
     "start_time": "2025-08-14T20:23:07.030974Z"
    }
   },
   "cell_type": "code",
   "source": [
    "# Load the iron_1_actors and iron_2_actors DataFrames\n",
    "iron_1_actors = pd.read_csv('../data/iron_1_actors.csv')\n",
    "iron_2_actors = pd.read_csv('../data/iron_2_actors.csv')"
   ],
   "id": "3e4ec83e775b6a67",
   "outputs": [],
   "execution_count": 38
  },
  {
   "metadata": {
    "ExecuteTime": {
     "end_time": "2025-08-14T20:23:07.085466Z",
     "start_time": "2025-08-14T20:23:07.080403Z"
    }
   },
   "cell_type": "code",
   "source": [
    "# Merge iron_1_actors to iron_2_actors on id with outer join using suffixes\n",
    "iron_1_and_2 = iron_1_actors.merge(iron_2_actors,\n",
    "                                     on='id',\n",
    "                                     how='outer',\n",
    "                                     suffixes=('_1', '_2'))\n",
    "\n",
    "# Create an index that returns true if name_1 or name_2 are null\n",
    "m = ((iron_1_and_2['name_1'].isna()) |\n",
    "     (iron_1_and_2['name_2'].isna()))\n",
    "\n",
    "# Print the first few rows of iron_1_and_2\n",
    "print(iron_1_and_2[m].head())"
   ],
   "id": "5f06377270ca2f07",
   "outputs": [
    {
     "name": "stdout",
     "output_type": "stream",
     "text": [
      "                   character_1    id                           name_1  \\\n",
      "0                        Viper     1  1209419               Tim Rigby   \n",
      "1                        Viper     2   195442      Russell Richardson   \n",
      "2  Obadiah Stane / Iron Monger  1229                     Jeff Bridges   \n",
      "3                          NaN  1245                              NaN   \n",
      "4                          NaN  1896                              NaN   \n",
      "\n",
      "                                        character_2              name_2  \n",
      "0                                               NaN                 NaN  \n",
      "1                                               NaN                 NaN  \n",
      "2                                               NaN                 NaN  \n",
      "3  Natalie Rushman / Natasha Romanoff / Black Widow  Scarlett Johansson  \n",
      "4      Lt. Col. James \"Rhodey\" Rhodes / War Machine         Don Cheadle  \n"
     ]
    }
   ],
   "execution_count": 39
  },
  {
   "metadata": {},
   "cell_type": "markdown",
   "source": [
    "## Self join\n",
    "Merging a table to itself can be useful when you want to compare values in a column to other values in the same column. In this exercise, you will practice this by creating a table that for each movie will list the movie director and a member of the crew on one row. You have been given a table called crews, which has columns id, job, and name. First, merge the table to itself using the movie ID. This merge will give you a larger table where for each movie, every job is matched against each other. Then select only those rows with a director in the left table, and avoid having a row where the director's job is listed in both the left and right tables. This filtering will remove job combinations that aren't with the director.\n",
    "\n",
    "The crews table has been loaded for you.\n",
    "### Instructions\n",
    "- To a variable called crews_self_merged, merge the crews table to itself on the id column using an inner join, setting the suffixes to '_dir' and '_crew' for the left and right tables respectively."
   ],
   "id": "7eb5482f7d458037"
  },
  {
   "metadata": {
    "ExecuteTime": {
     "end_time": "2025-08-14T20:23:07.148467Z",
     "start_time": "2025-08-14T20:23:07.128530Z"
    }
   },
   "cell_type": "code",
   "source": [
    "# Load the crews DataFrame\n",
    "crews = pd.read_csv('../data/crews.csv')"
   ],
   "id": "80d95927327cecec",
   "outputs": [],
   "execution_count": 40
  },
  {
   "metadata": {
    "ExecuteTime": {
     "end_time": "2025-08-14T20:23:07.236910Z",
     "start_time": "2025-08-14T20:23:07.177615Z"
    }
   },
   "cell_type": "code",
   "source": [
    "# Merge the crews table to itself\n",
    "crews_self_merged = crews.merge(crews, on='id', how='inner',suffixes=('_dir', '_crew'))"
   ],
   "id": "42109ef9e63085ea",
   "outputs": [],
   "execution_count": 41
  },
  {
   "metadata": {},
   "cell_type": "markdown",
   "source": "- Create a Boolean index, named boolean_filter, that selects rows from the left table with the job of 'Director' and avoids rows with the job of 'Director' in the right table.",
   "id": "cd1dc104ca98a489"
  },
  {
   "metadata": {
    "ExecuteTime": {
     "end_time": "2025-08-14T20:23:07.338122Z",
     "start_time": "2025-08-14T20:23:07.271262Z"
    }
   },
   "cell_type": "code",
   "source": [
    "# Create a Boolean index to select the appropriate\n",
    "boolean_filter = ((crews_self_merged['job_dir'] == 'Director') & (crews_self_merged['job_crew'] != 'Director'))\n",
    "direct_crews = crews_self_merged[boolean_filter]"
   ],
   "id": "d9666354248c8298",
   "outputs": [],
   "execution_count": 42
  },
  {
   "metadata": {},
   "cell_type": "markdown",
   "source": "- Use the .head() method to print the first few rows of direct_crews.",
   "id": "b04ec887b87d7624"
  },
  {
   "metadata": {
    "ExecuteTime": {
     "end_time": "2025-08-14T20:23:07.375391Z",
     "start_time": "2025-08-14T20:23:07.372263Z"
    }
   },
   "cell_type": "code",
   "source": [
    "# Print the first few rows of direct_crews\n",
    "print(direct_crews.head())"
   ],
   "id": "c64bc5c8c99d336e",
   "outputs": [
    {
     "name": "stdout",
     "output_type": "stream",
     "text": [
      "        id   job_dir       name_dir        job_crew          name_crew\n",
      "156  19995  Director  James Cameron          Editor  Stephen E. Rivkin\n",
      "157  19995  Director  James Cameron  Sound Designer  Christopher Boyes\n",
      "158  19995  Director  James Cameron         Casting          Mali Finn\n",
      "160  19995  Director  James Cameron          Writer      James Cameron\n",
      "161  19995  Director  James Cameron    Set Designer    Richard F. Mays\n"
     ]
    }
   ],
   "execution_count": 43
  },
  {
   "metadata": {},
   "cell_type": "markdown",
   "source": "# Merging on indexes",
   "id": "406f76386728c9de"
  },
  {
   "metadata": {},
   "cell_type": "markdown",
   "source": [
    "## Index merge for movie ratings\n",
    "To practice merging on indexes, you will merge movies and a table called ratings that holds info about movie ratings. Ensure that your merge returns all rows from the movies table, and only matching rows from the ratings table.\n",
    "\n",
    "The movies and ratings tables have been loaded for you.\n",
    "### Instructions\n",
    "- Merge the movies and ratings tables on the id column, keeping all rows from the movies table, and save the result as movies_ratings."
   ],
   "id": "91778646554e06ce"
  },
  {
   "metadata": {
    "ExecuteTime": {
     "end_time": "2025-08-14T20:23:07.425636Z",
     "start_time": "2025-08-14T20:23:07.421384Z"
    }
   },
   "cell_type": "code",
   "source": [
    "# Load the movies and ratings DataFrames\n",
    "ratings = pd.read_csv('../data/ratings.csv')"
   ],
   "id": "ea2f58c640649af3",
   "outputs": [],
   "execution_count": 44
  },
  {
   "metadata": {
    "ExecuteTime": {
     "end_time": "2025-08-14T20:23:07.476575Z",
     "start_time": "2025-08-14T20:23:07.471271Z"
    }
   },
   "cell_type": "code",
   "source": [
    "# Merge to the movies table the ratings table on the index\n",
    "movies_ratings = movies.merge(ratings, on='id', how='left')\n",
    "\n",
    "# Print the first few rows of movies_ratings\n",
    "print(movies_ratings.head())"
   ],
   "id": "b9c76acf3d19963d",
   "outputs": [
    {
     "name": "stdout",
     "output_type": "stream",
     "text": [
      "      id                 title  popularity release_date  vote_average  \\\n",
      "0    257          Oliver Twist      20.420   2005-09-23           6.7   \n",
      "1  14290  Better Luck Tomorrow       3.877   2002-01-12           6.5   \n",
      "2  38365             Grown Ups      38.860   2010-06-24           6.0   \n",
      "3   9672              Infamous       3.681   2006-11-16           6.4   \n",
      "4  12819       Alpha and Omega      12.300   2010-09-17           5.3   \n",
      "\n",
      "   vote_count  \n",
      "0       274.0  \n",
      "1        27.0  \n",
      "2      1705.0  \n",
      "3        60.0  \n",
      "4       124.0  \n"
     ]
    }
   ],
   "execution_count": 45
  },
  {
   "metadata": {},
   "cell_type": "markdown",
   "source": [
    "## Do sequels earn more?\n",
    "It is time to put together many of the aspects that you have learned in this chapter. In this exercise, you'll find out which movie sequels earned the most compared to the original movie. To answer this question, you will merge a modified version of the sequels and financials tables where their index is the movie ID. You will need to choose a merge type that will return all of the rows from the sequels table and not all the rows of financials table need to be included in the result. From there, you will join the resulting table to itself so that you can compare the revenue values of the original movie to the sequel. Next, you will calculate the difference between the two revenues and sort the resulting dataset.\n",
    "\n",
    "The sequels and financials tables have been provided.\n",
    "### Instructions\n",
    "- With the sequels table on the left, merge to it the financials table on index named id, ensuring that all the rows from the sequels are returned and some rows from the other table may not be returned, Save the results to sequels_fin."
   ],
   "id": "a1aa88451d2b8a0f"
  },
  {
   "metadata": {
    "ExecuteTime": {
     "end_time": "2025-08-14T20:23:07.534931Z",
     "start_time": "2025-08-14T20:23:07.526475Z"
    }
   },
   "cell_type": "code",
   "source": [
    "# Load the sequels and financials DataFrames\n",
    "sequels = pd.read_csv('../data/sequels.csv', index_col='id')\n",
    "financials = pd.read_csv('../data/financials.csv', index_col='id')"
   ],
   "id": "c55bc7cdd9eef89a",
   "outputs": [],
   "execution_count": 46
  },
  {
   "metadata": {
    "ExecuteTime": {
     "end_time": "2025-08-14T20:23:07.578342Z",
     "start_time": "2025-08-14T20:23:07.574646Z"
    }
   },
   "cell_type": "code",
   "source": [
    "# Merge sequels and financials on index id\n",
    "sequels_fin = sequels.merge(financials, left_index=True, right_index=True, how='left')"
   ],
   "id": "d34fbe58cfd5bd7b",
   "outputs": [],
   "execution_count": 47
  },
  {
   "metadata": {},
   "cell_type": "markdown",
   "source": "- Merge the sequels_fin table to itself with an inner join, where the left and right tables merge on sequel and id respectively with suffixes equal to ('_org','_seq'), saving to orig_seq.",
   "id": "b52ba0383510ca0e"
  },
  {
   "metadata": {
    "ExecuteTime": {
     "end_time": "2025-08-14T20:23:07.634805Z",
     "start_time": "2025-08-14T20:23:07.630602Z"
    }
   },
   "cell_type": "code",
   "source": [
    "# Self merge with suffixes as inner join with left on sequel and right on id\n",
    "orig_seq = sequels_fin.merge(sequels_fin, left_on='sequel', right_index=True,\n",
    "                              how='inner', suffixes=('_org', '_seq'))\n",
    "\n",
    "# Add calculation to subtract revenue_org from revenue_seq\n",
    "orig_seq['diff'] = orig_seq['revenue_seq'] - orig_seq['revenue_org']"
   ],
   "id": "19a48437f8a36e",
   "outputs": [],
   "execution_count": 48
  },
  {
   "metadata": {},
   "cell_type": "markdown",
   "source": "- Select the title_org, title_seq, and diff columns of orig_seq and save this as titles_diff.",
   "id": "63dbf7c3d8e9dc0d"
  },
  {
   "metadata": {
    "ExecuteTime": {
     "end_time": "2025-08-14T20:23:07.709967Z",
     "start_time": "2025-08-14T20:23:07.706351Z"
    }
   },
   "cell_type": "code",
   "source": [
    "# Select the title_org, title_seq, and diff\n",
    "titles_diff = orig_seq[['title_org', 'title_seq', 'diff']]"
   ],
   "id": "19c106315cfddea5",
   "outputs": [],
   "execution_count": 49
  },
  {
   "metadata": {},
   "cell_type": "markdown",
   "source": "- Sort by titles_diff by diff in descending order and print the first few rows.",
   "id": "238c208b8065c387"
  },
  {
   "metadata": {
    "ExecuteTime": {
     "end_time": "2025-08-14T20:23:07.821939Z",
     "start_time": "2025-08-14T20:23:07.817264Z"
    }
   },
   "cell_type": "code",
   "source": [
    "# Print the first rows of the sorted titles_diff\n",
    "print(titles_diff.sort_values('diff',ascending=False).head())"
   ],
   "id": "50c27550ea2abc53",
   "outputs": [
    {
     "name": "stdout",
     "output_type": "stream",
     "text": [
      "               title_org        title_seq          diff\n",
      "id                                                     \n",
      "331    Jurassic Park III   Jurassic World  1.145200e+09\n",
      "272        Batman Begins  The Dark Knight  6.308000e+08\n",
      "10138         Iron Man 2       Iron Man 3  5.911000e+08\n",
      "863          Toy Story 2      Toy Story 3  5.696000e+08\n",
      "10764  Quantum of Solace          Skyfall  5.229000e+08\n"
     ]
    }
   ],
   "execution_count": 50
  },
  {
   "metadata": {},
   "cell_type": "markdown",
   "source": "# Advanced Merging and Concatenating",
   "id": "62b2687abc186065"
  },
  {
   "metadata": {},
   "cell_type": "markdown",
   "source": [
    "## Performing an anti join\n",
    "In our music streaming company dataset, each customer is assigned an employee representative to assist them. In this exercise, filter the employee table by a table of top customers, returning only those employees who are not assigned to a customer. The results should resemble the results of an anti join. The company's leadership will assign these employees additional training so that they can work with high valued customers.\n",
    "\n",
    "The top_cust and employees tables have been provided for you.\n",
    "### Instructions\n",
    "- Merge employees and top_cust with a left join, setting indicator argument to True. Save the result to empl_cust."
   ],
   "id": "f5963e3763a6db99"
  },
  {
   "metadata": {
    "ExecuteTime": {
     "end_time": "2025-08-14T20:23:07.950692Z",
     "start_time": "2025-08-14T20:23:07.946582Z"
    }
   },
   "cell_type": "code",
   "source": [
    "# Load the top_cust and employees DataFrames\n",
    "top_cust = pd.read_csv('../data/top_cust.csv')\n",
    "employees = pd.read_csv('../data/employees.csv')"
   ],
   "id": "afad39b815f08ca9",
   "outputs": [],
   "execution_count": 51
  },
  {
   "metadata": {
    "ExecuteTime": {
     "end_time": "2025-08-14T20:23:08.058779Z",
     "start_time": "2025-08-14T20:23:08.052111Z"
    }
   },
   "cell_type": "code",
   "source": [
    "# Merge employees and top_cust\n",
    "empl_cust = employees.merge( top_cust, on='srid',\n",
    "                            how='left' , indicator=True)"
   ],
   "id": "a41d34a1a560305b",
   "outputs": [],
   "execution_count": 52
  },
  {
   "metadata": {},
   "cell_type": "markdown",
   "source": "- Select the srid column of empl_cust and the rows where _merge is 'left_only'. Save the result to srid_list.",
   "id": "736681fba0234191"
  },
  {
   "metadata": {
    "ExecuteTime": {
     "end_time": "2025-08-14T20:23:08.147883Z",
     "start_time": "2025-08-14T20:23:08.144891Z"
    }
   },
   "cell_type": "code",
   "source": [
    "# Select the srid column where _merge is left_only\n",
    "srid_list = empl_cust.loc[empl_cust['_merge'] == 'left_only', 'srid']"
   ],
   "id": "e156c441fc116a0a",
   "outputs": [],
   "execution_count": 53
  },
  {
   "metadata": {},
   "cell_type": "markdown",
   "source": "- Subset the `employees` table and select those rows where the `srid` is in the variable `srid_list` and print the results.",
   "id": "709cf22276967e3a"
  },
  {
   "metadata": {
    "ExecuteTime": {
     "end_time": "2025-08-14T20:23:08.214220Z",
     "start_time": "2025-08-14T20:23:08.210172Z"
    }
   },
   "cell_type": "code",
   "source": [
    "# Get employees not working with top customers\n",
    "print(employees[employees['srid'].isin(srid_list)])"
   ],
   "id": "939015317f5eb54e",
   "outputs": [
    {
     "name": "stdout",
     "output_type": "stream",
     "text": [
      "   srid     lname    fname            title   hire_date  \\\n",
      "0     1     Adams   Andrew  General Manager  2002-08-14   \n",
      "1     2   Edwards    Nancy    Sales Manager  2002-05-01   \n",
      "5     6  Mitchell  Michael       IT Manager  2003-10-17   \n",
      "6     7      King   Robert         IT Staff  2004-01-02   \n",
      "7     8  Callahan    Laura         IT Staff  2004-03-04   \n",
      "\n",
      "                     email  \n",
      "0   andrew@chinookcorp.com  \n",
      "1    nancy@chinookcorp.com  \n",
      "5  michael@chinookcorp.com  \n",
      "6   robert@chinookcorp.com  \n",
      "7    laura@chinookcorp.com  \n"
     ]
    }
   ],
   "execution_count": 54
  },
  {
   "metadata": {},
   "cell_type": "markdown",
   "source": [
    "## Performing a semi join\n",
    "Some of the tracks that have generated the most significant amount of revenue are from TV-shows or are other non-musical audio. You have been given a table of invoices that include top revenue-generating items. Additionally, you have a table of non-musical tracks from the streaming service. In this exercise, you'll use a semi join to find the top revenue-generating non-musical tracks.\n",
    "\n",
    "The tables non_mus_tcks, top_invoices, and genres have been loaded for you.\n",
    "### Instructions\n",
    "- Merge `non_mus_tcks` and `top_invoices` on tid using an inner join. Save the result as tracks_invoices.\n",
    "- Use .isin() to subset the rows of non_mus_tcks where tid is in the tid column of tracks_invoices. Save the result as top_tracks.\n",
    "- Group top_tracks by gid and count the tid rows. Save the result to cnt_by_gid.\n",
    "- Merge cnt_by_gid with the genres table on gid and print the result."
   ],
   "id": "4973eb3ac9d7c63"
  },
  {
   "metadata": {
    "ExecuteTime": {
     "end_time": "2025-08-14T20:23:08.291454Z",
     "start_time": "2025-08-14T20:23:08.284955Z"
    }
   },
   "cell_type": "code",
   "source": [
    "# Load the non_mus_tcks, top_invoices, and genres DataFrames\n",
    "non_mus_tcks = pd.read_csv('../data/non_mus_tcks.csv')\n",
    "top_invoices = pd.read_csv('../data/top_invoices.csv')\n",
    "genres = pd.read_csv('../data/genres.csv')"
   ],
   "id": "cffdf813622eaa02",
   "outputs": [],
   "execution_count": 55
  },
  {
   "metadata": {
    "ExecuteTime": {
     "end_time": "2025-08-14T20:23:08.402093Z",
     "start_time": "2025-08-14T20:23:08.389467Z"
    }
   },
   "cell_type": "code",
   "source": [
    "# Merge non_mus_tcks and top_invoices on 'tid' using an inner join\n",
    "tracks_invoices = non_mus_tcks.merge(top_invoices, on='tid', how='inner')\n",
    "\n",
    "# Use .isin() to subset non_mus_tcks to rows with tid in tracks_invoices\n",
    "top_tracks = non_mus_tcks[non_mus_tcks['tid'].isin(tracks_invoices['tid'])]\n",
    "\n",
    "# Group top_tracks by gid and count the tid rows\n",
    "cnt_by_gid = top_tracks.groupby(['gid'], as_index=False).agg({'tid': 'count'})\n",
    "\n",
    "# Merge cnt_by_gid with genres on gid and print the result\n",
    "result = cnt_by_gid.merge(genres, on='gid')\n",
    "print(result)\n"
   ],
   "id": "1a206388bb9e91f6",
   "outputs": [
    {
     "name": "stdout",
     "output_type": "stream",
     "text": [
      "   gid  tid      name\n",
      "0   19    4  TV Shows\n",
      "1   21    2     Drama\n",
      "2   22    1    Comedy\n"
     ]
    }
   ],
   "execution_count": 56
  },
  {
   "metadata": {},
   "cell_type": "markdown",
   "source": "## Concatenate DataFrames together vertically",
   "id": "21f4a9ca9e812e9"
  },
  {
   "metadata": {},
   "cell_type": "markdown",
   "source": [
    "## Concatenation basics\n",
    "You have been given a few tables of data with musical track info for different albums from the metal band, Metallica. The track info comes from their Ride The Lightning, Master Of Puppets, and St. Anger albums. Try various features of the .concat() method by concatenating the tables vertically together in different ways.\n",
    "\n",
    "The tables tracks_master, tracks_ride, and tracks_st have loaded for you.\n",
    "### Instructions\n",
    "- Concatenate tracks_master, tracks_ride, and tracks_st, in that order, setting sort to True."
   ],
   "id": "edd208a396791760"
  },
  {
   "metadata": {
    "ExecuteTime": {
     "end_time": "2025-08-14T20:23:08.498640Z",
     "start_time": "2025-08-14T20:23:08.491395Z"
    }
   },
   "cell_type": "code",
   "source": [
    "# Load the tracks DataFrames\n",
    "tracks_master = pd.read_csv('../data/tracks_master.csv')\n",
    "tracks_ride = pd.read_csv('../data/tracks_ride.csv')\n",
    "tracks_st = pd.read_csv('../data/tracks_st.csv')"
   ],
   "id": "9fcbe0133d650da3",
   "outputs": [],
   "execution_count": 57
  },
  {
   "metadata": {
    "ExecuteTime": {
     "end_time": "2025-08-14T20:23:08.582733Z",
     "start_time": "2025-08-14T20:23:08.575260Z"
    }
   },
   "cell_type": "code",
   "source": [
    "# Concatenate the tracks\n",
    "tracks_from_albums = pd.concat([tracks_master, tracks_ride, tracks_st],\n",
    "                               sort=True)\n",
    "print(tracks_from_albums)"
   ],
   "id": "57b4db0163af6805",
   "outputs": [
    {
     "name": "stdout",
     "output_type": "stream",
     "text": [
      "   aid             composer  gid  mtid                     name   tid  u_price\n",
      "0  152  J.Hetfield/L.Ulrich    3     1                  Battery  1853     0.99\n",
      "1  152            K.Hammett    3     1        Master Of Puppets  1854     0.99\n",
      "2  152  J.Hetfield/L.Ulrich    3     1        Disposable Heroes  1857     0.99\n",
      "0  154                  NaN    3     1     Fight Fire With Fire  1874     0.99\n",
      "1  154                  NaN    3     1       Ride The Lightning  1875     0.99\n",
      "2  154                  NaN    3     1  For Whom The Bell Tolls  1876     0.99\n",
      "3  154                  NaN    3     1            Fade To Black  1877     0.99\n",
      "4  154                  NaN    3     1        Trapped Under Ice  1878     0.99\n",
      "0  155                  NaN    3     1                  Frantic  1882     0.99\n",
      "1  155                  NaN    3     1                St. Anger  1883     0.99\n",
      "2  155                  NaN    3     1     Some Kind Of Monster  1884     0.99\n",
      "3  155                  NaN    3     1             Dirty Window  1885     0.99\n",
      "4  155                  NaN    3     1            Invisible Kid  1886     0.99\n"
     ]
    }
   ],
   "execution_count": 58
  },
  {
   "metadata": {},
   "cell_type": "markdown",
   "source": "- Concatenate tracks_master, tracks_ride, and tracks_st, where the index goes from 0 to n-1.",
   "id": "22f80d7478ba3d54"
  },
  {
   "metadata": {
    "ExecuteTime": {
     "end_time": "2025-08-14T20:23:08.664193Z",
     "start_time": "2025-08-14T20:23:08.659358Z"
    }
   },
   "cell_type": "code",
   "source": [
    "# Concatenate the tracks so the index goes from 0 to n-1\n",
    "\n",
    "tracks_from_albums = pd.concat([tracks_master, tracks_ride, tracks_st],ignore_index=True, sort=True)\n",
    "print(tracks_from_albums)"
   ],
   "id": "b95bfb29d00b9607",
   "outputs": [
    {
     "name": "stdout",
     "output_type": "stream",
     "text": [
      "    aid             composer  gid  mtid                     name   tid  \\\n",
      "0   152  J.Hetfield/L.Ulrich    3     1                  Battery  1853   \n",
      "1   152            K.Hammett    3     1        Master Of Puppets  1854   \n",
      "2   152  J.Hetfield/L.Ulrich    3     1        Disposable Heroes  1857   \n",
      "3   154                  NaN    3     1     Fight Fire With Fire  1874   \n",
      "4   154                  NaN    3     1       Ride The Lightning  1875   \n",
      "5   154                  NaN    3     1  For Whom The Bell Tolls  1876   \n",
      "6   154                  NaN    3     1            Fade To Black  1877   \n",
      "7   154                  NaN    3     1        Trapped Under Ice  1878   \n",
      "8   155                  NaN    3     1                  Frantic  1882   \n",
      "9   155                  NaN    3     1                St. Anger  1883   \n",
      "10  155                  NaN    3     1     Some Kind Of Monster  1884   \n",
      "11  155                  NaN    3     1             Dirty Window  1885   \n",
      "12  155                  NaN    3     1            Invisible Kid  1886   \n",
      "\n",
      "    u_price  \n",
      "0      0.99  \n",
      "1      0.99  \n",
      "2      0.99  \n",
      "3      0.99  \n",
      "4      0.99  \n",
      "5      0.99  \n",
      "6      0.99  \n",
      "7      0.99  \n",
      "8      0.99  \n",
      "9      0.99  \n",
      "10     0.99  \n",
      "11     0.99  \n",
      "12     0.99  \n"
     ]
    }
   ],
   "execution_count": 59
  },
  {
   "metadata": {},
   "cell_type": "markdown",
   "source": "- Concatenate tracks_master, tracks_ride, and tracks_st, showing only columns that are in all tables.",
   "id": "1642fd1f92db5fd6"
  },
  {
   "metadata": {
    "ExecuteTime": {
     "end_time": "2025-08-14T20:23:08.768064Z",
     "start_time": "2025-08-14T20:23:08.764630Z"
    }
   },
   "cell_type": "code",
   "source": [
    "# Concatenate the tracks, show only columns names that are in all tables\n",
    "tracks_from_albums = pd.concat([tracks_master,tracks_ride,tracks_st],join='inner',sort=True)\n",
    "print(tracks_from_albums)"
   ],
   "id": "592b10f88f977a39",
   "outputs": [
    {
     "name": "stdout",
     "output_type": "stream",
     "text": [
      "   aid  gid  mtid                     name   tid  u_price\n",
      "0  152    3     1                  Battery  1853     0.99\n",
      "1  152    3     1        Master Of Puppets  1854     0.99\n",
      "2  152    3     1        Disposable Heroes  1857     0.99\n",
      "0  154    3     1     Fight Fire With Fire  1874     0.99\n",
      "1  154    3     1       Ride The Lightning  1875     0.99\n",
      "2  154    3     1  For Whom The Bell Tolls  1876     0.99\n",
      "3  154    3     1            Fade To Black  1877     0.99\n",
      "4  154    3     1        Trapped Under Ice  1878     0.99\n",
      "0  155    3     1                  Frantic  1882     0.99\n",
      "1  155    3     1                St. Anger  1883     0.99\n",
      "2  155    3     1     Some Kind Of Monster  1884     0.99\n",
      "3  155    3     1             Dirty Window  1885     0.99\n",
      "4  155    3     1            Invisible Kid  1886     0.99\n"
     ]
    }
   ],
   "execution_count": 60
  },
  {
   "metadata": {},
   "cell_type": "markdown",
   "source": [
    "# Concatenating with keys\n",
    "The leadership of the music streaming company has come to you and asked you for assistance in analyzing sales for a recent business quarter. They would like to know which month in the quarter saw the highest average invoice total. You have been given three tables with invoice data named inv_jul, inv_aug, and inv_sep. Concatenate these tables into one to create a graph of the average monthly invoice total.\n",
    "### Instructions\n",
    "- Concatenate the three tables together vertically in order with the oldest month first, adding '7Jul', '8Aug', and '9Sep' as keys for their respective months, and save to inv_jul_thr_sep.\n",
    "- Use the .agg() method to find the average of the total column from the grouped invoices.\n",
    "- Create a bar chart of avg_inv_by_month."
   ],
   "id": "786b84723b9c51ac"
  },
  {
   "metadata": {
    "ExecuteTime": {
     "end_time": "2025-08-14T20:39:17.618963Z",
     "start_time": "2025-08-14T20:39:17.096863Z"
    }
   },
   "cell_type": "code",
   "source": [
    "# Import the pandas libraries\n",
    "import pandas as pd\n",
    "# Import matplotlib.pyplot as plt\n",
    "import matplotlib.pyplot as plt\n",
    "# Load the invoice DataFrames\n",
    "inv_jul = pd.read_csv('../data/inv_jul.csv')\n",
    "inv_aug = pd.read_csv('../data/inv_aug.csv')\n",
    "inv_sep = pd.read_csv('../data/inv_sep.csv')"
   ],
   "id": "854b6e90d4e978de",
   "outputs": [],
   "execution_count": 3
  },
  {
   "metadata": {
    "ExecuteTime": {
     "end_time": "2025-08-14T20:39:31.176037Z",
     "start_time": "2025-08-14T20:39:31.098950Z"
    }
   },
   "cell_type": "code",
   "source": [
    "# Concatenate the tables and add keys\n",
    "inv_jul_thr_sep = pd.concat([inv_jul, inv_aug, inv_sep],\n",
    "                            keys=['7Jul', '8Aug', '9Sep'],\n",
    "                            names=['Month', 'Invoice'])\n",
    "\n",
    "avg_inv_by_month = inv_jul_thr_sep.groupby(level=0).agg({'total':'mean'})\n",
    "\n",
    "avg_inv_by_month.plot(kind='bar', title='Average Invoice Total by Month')\n",
    "plt.show()"
   ],
   "id": "87b54f6760798e4c",
   "outputs": [
    {
     "data": {
      "text/plain": [
       "<Figure size 640x480 with 1 Axes>"
      ],
      "image/png": "[encoded data removed]"
     },
     "metadata": {},
     "output_type": "display_data"
    }
   ],
   "execution_count": 4
  }
 ],
 "metadata": {
  "kernelspec": {
   "display_name": "Python 3",
   "language": "python",
   "name": "python3"
  },
  "language_info": {
   "codemirror_mode": {
    "name": "ipython",
    "version": 2
   },
   "file_extension": ".py",
   "mimetype": "text/x-python",
   "name": "python",
   "nbconvert_exporter": "python",
   "pygments_lexer": "ipython2",
   "version": "2.7.6"
  }
 },
 "nbformat": 4,
 "nbformat_minor": 5
}
