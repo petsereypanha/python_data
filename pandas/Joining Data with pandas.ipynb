{
 "cells": [
  {
   "metadata": {},
   "cell_type": "markdown",
   "source": "# Data Merging Basics",
   "id": "bc7609e34288b0ca"
  },
  {
   "metadata": {},
   "cell_type": "markdown",
   "source": "Learn how you can merge disparate data using inner joins. By combining information from multiple sources you’ll uncover compelling insights that may have previously been hidden. You’ll also learn how the relationship between those sources, such as one-to-one or one-to-many, can affect your result.",
   "id": "75d1016661c12e51"
  },
  {
   "metadata": {},
   "cell_type": "markdown",
   "source": [
    "## What column to merge on?\n",
    "Chicago provides a list of taxicab owners and vehicles licensed to operate within the city, for public safety. Your goal is to merge two tables together. One table is called taxi_owners, with info about the taxi cab company owners, and one is called taxi_veh, with info about each taxi cab vehicle. Both the taxi_owners and taxi_veh tables have been loaded for you to explore.\n",
    "\n",
    "Choose the column you would use to merge the two tables on using the .merge() method.\n",
    "### Solution\n",
    "- \"vid\" in taxi_veh and \"vid\" in taxi_owners"
   ],
   "id": "3a25770bfef3a4d5"
  },
  {
   "metadata": {},
   "cell_type": "markdown",
   "source": [
    "## Your first inner join\n",
    "You have been tasked with figuring out what the most popular types of fuel used in Chicago taxis are. To complete the analysis, you need to merge the taxi_owners and taxi_veh tables together on the vid column. You can then use the merged table along with the .value_counts() method to find the most common fuel_type.\n",
    "\n",
    "Since you'll be working with pandas throughout the course, the package will be preloaded for you as pd in each exercise in this course. Also the taxi_owners and taxi_veh DataFrames are loaded for you.\n",
    "### Instructions\n",
    " - Merge taxi_owners with taxi_veh on the column vid, and save the result to taxi_own_veh."
   ],
   "id": "87dd612502a0942a"
  },
  {
   "metadata": {
    "ExecuteTime": {
     "end_time": "2025-08-13T19:27:10.772849Z",
     "start_time": "2025-08-13T19:27:09.869755Z"
    }
   },
   "cell_type": "code",
   "source": [
    "# Import pandas as pd\n",
    "import pandas as pd\n",
    "# Load the taxi_owners and taxi_veh DataFrames\n",
    "taxi_owners = pd.read_csv('data/taxi_owners.csv')\n",
    "taxi_veh = pd.read_csv('data/taxi_veh.csv')"
   ],
   "id": "b991819e2e62018d",
   "outputs": [],
   "execution_count": 1
  },
  {
   "metadata": {
    "ExecuteTime": {
     "end_time": "2025-08-13T19:27:11.137827Z",
     "start_time": "2025-08-13T19:27:11.121125Z"
    }
   },
   "cell_type": "code",
   "source": [
    "# Merge the taxi_owners and taxi_veh tables\n",
    "taxi_own_veh = taxi_owners.merge(taxi_veh, on='vid')\n",
    "\n",
    "# Print the column names of the taxi_own_veh\n",
    "print(taxi_own_veh.columns)"
   ],
   "id": "b1bbd4a3d1a2379e",
   "outputs": [
    {
     "name": "stdout",
     "output_type": "stream",
     "text": [
      "Index(['rid', 'vid', 'owner_x', 'address', 'zip', 'make', 'model', 'year',\n",
      "       'fuel_type', 'owner_y'],\n",
      "      dtype='object')\n"
     ]
    }
   ],
   "execution_count": 2
  },
  {
   "metadata": {},
   "cell_type": "markdown",
   "source": "- Set the left and right table suffixes for overlapping columns of the merge to _own and _veh, respectively.",
   "id": "726b1be9893f0982"
  },
  {
   "metadata": {
    "ExecuteTime": {
     "end_time": "2025-08-13T19:27:11.326999Z",
     "start_time": "2025-08-13T19:27:11.315217Z"
    }
   },
   "cell_type": "code",
   "source": [
    "# Merge the taxi_owners and taxi_veh tables setting a suffix\n",
    "taxi_own_veh = taxi_owners.merge(taxi_veh, on='vid',\n",
    "                                 suffixes=('_own', '_veh'))\n",
    "\n",
    "# Print the column names of taxi_own_veh\n",
    "print(taxi_own_veh.columns)"
   ],
   "id": "3edab6413f002e7",
   "outputs": [
    {
     "name": "stdout",
     "output_type": "stream",
     "text": [
      "Index(['rid', 'vid', 'owner_own', 'address', 'zip', 'make', 'model', 'year',\n",
      "       'fuel_type', 'owner_veh'],\n",
      "      dtype='object')\n"
     ]
    }
   ],
   "execution_count": 3
  },
  {
   "metadata": {},
   "cell_type": "markdown",
   "source": "- Select the fuel_type column from taxi_own_veh and print the value_counts() to find the most popular fuel_types used.",
   "id": "d69c767107cdf336"
  },
  {
   "metadata": {
    "ExecuteTime": {
     "end_time": "2025-08-13T19:27:11.502758Z",
     "start_time": "2025-08-13T19:27:11.487092Z"
    }
   },
   "cell_type": "code",
   "source": [
    "# Merge the taxi_owners and taxi_veh tables setting a suffix\n",
    "taxi_own_veh = taxi_owners.merge(taxi_veh, on='vid', suffixes=('_own','_veh'))\n",
    "\n",
    "# Print the value_counts to find the most popular fuel_type\n",
    "print(taxi_own_veh['fuel_type'].value_counts())"
   ],
   "id": "6394416800059c88",
   "outputs": [
    {
     "name": "stdout",
     "output_type": "stream",
     "text": [
      "fuel_type\n",
      "HYBRID        2782\n",
      "GASOLINE       609\n",
      "FLEX FUEL       85\n",
      "COMPRESSED      27\n",
      "HYBR             1\n",
      "Name: count, dtype: int64\n"
     ]
    }
   ],
   "execution_count": 4
  },
  {
   "metadata": {},
   "cell_type": "markdown",
   "source": [
    "## Inner joins and number of rows returned\n",
    "All of the merges you have studied to this point are called inner joins. It is necessary to understand that inner joins only return the rows with matching values in both tables. You will explore this further by reviewing the merge between the wards and census tables, then comparing it to merges of copies of these tables that are slightly altered, named wards_altered, and census_altered. The first row of the wards column has been changed in the altered tables. You will examine how this affects the merge between them. The tables have been loaded for you.\n",
    "\n",
    "For this exercise, it is important to know that the wards and census tables start with 50 rows.\n",
    "### Instructions\n",
    "- Merge wards and census on the ward column and save the result to wards_census."
   ],
   "id": "b7cce80aebdda605"
  },
  {
   "metadata": {
    "ExecuteTime": {
     "end_time": "2025-08-13T19:27:11.679329Z",
     "start_time": "2025-08-13T19:27:11.671879Z"
    }
   },
   "cell_type": "code",
   "source": [
    "# Load the wards and census DataFrames\n",
    "wards = pd.read_csv('data/wards.csv')\n",
    "census = pd.read_csv('data/census.csv')"
   ],
   "id": "5bcb1a4da40143aa",
   "outputs": [],
   "execution_count": 5
  },
  {
   "metadata": {
    "ExecuteTime": {
     "end_time": "2025-08-13T19:27:11.735792Z",
     "start_time": "2025-08-13T19:27:11.729194Z"
    }
   },
   "cell_type": "code",
   "source": [
    "# Merge the wards and census tables on the ward column\n",
    "wards_census = wards.merge(census, on='ward')\n",
    "\n",
    "# Print the shape of wards_census\n",
    "print('wards_census table shape:', wards_census.shape)\n"
   ],
   "id": "531a0d5abf075513",
   "outputs": [
    {
     "name": "stdout",
     "output_type": "stream",
     "text": [
      "wards_census table shape: (50, 11)\n"
     ]
    }
   ],
   "execution_count": 6
  },
  {
   "metadata": {},
   "cell_type": "markdown",
   "source": "- Merge the wards_altered and census tables on the ward column, and notice the difference in returned rows.",
   "id": "edf8cb0eade0d1d7"
  },
  {
   "metadata": {
    "ExecuteTime": {
     "end_time": "2025-08-13T19:27:11.847248Z",
     "start_time": "2025-08-13T19:27:11.840712Z"
    }
   },
   "cell_type": "code",
   "source": [
    "# Print the first few rows of the wards_altered table to view the change\n",
    "wards_altered = wards.copy()\n",
    "print(wards_altered[['ward']].head())\n",
    "\n",
    "# Merge the wards_altered and census tables on the ward column\n",
    "wards_altered_census = wards_altered.merge(census, on='ward')\n",
    "\n",
    "# Print the shape of wards_altered_census\n",
    "print('wards_altered_census table shape:', wards_altered_census.shape)"
   ],
   "id": "8988949c9ff14a11",
   "outputs": [
    {
     "name": "stdout",
     "output_type": "stream",
     "text": [
      "   ward\n",
      "0     1\n",
      "1     2\n",
      "2     3\n",
      "3     4\n",
      "4     5\n",
      "wards_altered_census table shape: (50, 11)\n"
     ]
    }
   ],
   "execution_count": 7
  },
  {
   "metadata": {},
   "cell_type": "markdown",
   "source": "- Merge the wards and census_altered tables on the ward column, and notice the difference in returned rows",
   "id": "fbd015baaeb5d723"
  },
  {
   "metadata": {
    "ExecuteTime": {
     "end_time": "2025-08-13T19:27:11.938438Z",
     "start_time": "2025-08-13T19:27:11.931088Z"
    }
   },
   "cell_type": "code",
   "source": [
    "# Print the first few rows of the census_altered table to view the change\n",
    "census_altered = census.copy()\n",
    "print(census_altered[['ward']].head())\n",
    "\n",
    "# Merge the wards and census_altered tables on the ward column\n",
    "wards_census_altered = wards.merge(census_altered, on='ward')\n",
    "\n",
    "# Print the shape of wards_census_altered\n",
    "print('wards_census_altered table shape:', wards_census_altered.shape)"
   ],
   "id": "e1a21b251a2843d9",
   "outputs": [
    {
     "name": "stdout",
     "output_type": "stream",
     "text": [
      "   ward\n",
      "0     1\n",
      "1     2\n",
      "2     3\n",
      "3     4\n",
      "4     5\n",
      "wards_census_altered table shape: (50, 11)\n"
     ]
    }
   ],
   "execution_count": 8
  },
  {
   "metadata": {},
   "cell_type": "markdown",
   "source": "## One-to-many relationships",
   "id": "4a1d773101dbf2db"
  },
  {
   "metadata": {},
   "cell_type": "markdown",
   "source": [
    "## One-to-many merge\n",
    "A business may have one or multiple owners. In this exercise, you will continue to gain experience with one-to-many merges by merging a table of business owners, called biz_owners, to the licenses table. Recall from the video lesson, with a one-to-many relationship, a row in the left table may be repeated if it is related to multiple rows in the right table. In this lesson, you will explore this further by finding out what is the most common business owner title. (i.e., secretary, CEO, or vice president)\n",
    "\n",
    "The licenses and biz_owners DataFrames are loaded for you.\n",
    "### Instructions\n",
    " - Starting with the licenses table on the left, merge it to the biz_owners table on the column account, and save the results to a variable named licenses_owners.\n",
    " - Group licenses_owners by title and count the number of accounts for each title. Save the result as counted_df\n",
    " - Sort counted_df by the number of accounts in descending order, and save this as a variable named sorted_df.\n",
    " - Use the .head() method to print the first few rows of the sorted_df."
   ],
   "id": "db77417ccff91643"
  },
  {
   "metadata": {
    "ExecuteTime": {
     "end_time": "2025-08-13T19:27:12.100318Z",
     "start_time": "2025-08-13T19:27:12.046409Z"
    }
   },
   "cell_type": "code",
   "source": [
    "# Merge the licenses and biz_owners table on account\n",
    "licenses = pd.read_csv('data/licenses.csv')\n",
    "biz_owners = pd.read_csv('data/biz_owners.csv')\n",
    "licenses_owners = licenses.merge(biz_owners, on='account')"
   ],
   "id": "f1f03a46b833a9f1",
   "outputs": [],
   "execution_count": 9
  },
  {
   "metadata": {
    "ExecuteTime": {
     "end_time": "2025-08-13T19:27:12.196392Z",
     "start_time": "2025-08-13T19:27:12.171378Z"
    }
   },
   "cell_type": "code",
   "source": [
    "# Group the results by title then count the number of accounts\n",
    "licenses_owners = licenses.merge(biz_owners, on='account')\n",
    "counted_df = licenses_owners.groupby('title').agg({'account':'count'})\n",
    "\n",
    "# Sort the counted_df in descending order\n",
    "sorted_df = counted_df.sort_values(by='account', ascending=False)\n",
    "\n",
    "# Use .head() method to print the first few rows of sorted_df\n",
    "print(sorted_df.head())"
   ],
   "id": "fb4131dc84816f3d",
   "outputs": [
    {
     "name": "stdout",
     "output_type": "stream",
     "text": [
      "                 account\n",
      "title                   \n",
      "PRESIDENT           6258\n",
      "SECRETARY           5204\n",
      "SOLE PROPRIETOR     1658\n",
      "OTHER               1199\n",
      "VICE PRESIDENT       969\n"
     ]
    }
   ],
   "execution_count": 10
  },
  {
   "metadata": {},
   "cell_type": "markdown",
   "source": [
    "## Total riders in a month\n",
    "Your goal is to find the total number of rides provided to passengers passing through the Wilson station (station_name == 'Wilson') when riding Chicago's public transportation system on weekdays (day_type == 'Weekday') in July (month == 7). Luckily, Chicago provides this detailed data, but it is in three different tables. You will work on merging these tables together to answer the question. This data is different from the business related data you have seen so far, but all the information you need to answer the question is provided.\n",
    "\n",
    "The cal, ridership, and stations DataFrames have been loaded for you. The relationship between the tables can be seen in the diagram below.\n",
    "![Cla](data/cta_L_diagram.png)\n",
    "### Instructions\n",
    "- Merge the ridership and cal tables together, starting with the ridership table on the left and save the result to the variable ridership_cal. If you code takes too long to run, your merge conditions might be incorrect."
   ],
   "id": "c86271159c0db9af"
  },
  {
   "metadata": {
    "ExecuteTime": {
     "end_time": "2025-08-13T19:27:12.321357Z",
     "start_time": "2025-08-13T19:27:12.299575Z"
    }
   },
   "cell_type": "code",
   "source": [
    "# load the ridership and cal DataFrames\n",
    "cal = pd.read_csv('data/cal.csv')\n",
    "stations = pd.read_csv('data/stations.csv')\n",
    "ridership = pd.read_csv('data/ridership.csv')\n",
    "\n",
    "# head of the DataFrames\n",
    "print(stations.head())\n",
    "print(cal.head())\n",
    "print(ridership.head())"
   ],
   "id": "193aa12bd85fee82",
   "outputs": [
    {
     "name": "stdout",
     "output_type": "stream",
     "text": [
      "   station_id        station_name    location          NULL\n",
      "0       40010  Austin-Forest Park  (41.870851   -87.776812)\n",
      "1       40020         Harlem-Lake  (41.886848   -87.803176)\n",
      "2       40030        Pulaski-Lake  (41.885412   -87.725404)\n",
      "3       40040        Quincy/Wells  (41.878723    -87.63374)\n",
      "4       40050               Davis   (42.04771   -87.683543)\n",
      "   year  month  day        day_type\n",
      "0  2019      1    1  Sunday/Holiday\n",
      "1  2019      1    2         Weekday\n",
      "2  2019      1    3         Weekday\n",
      "3  2019      1    4         Weekday\n",
      "4  2019      1    5        Saturday\n",
      "   station_id  year  month  day  rides\n",
      "0       40010  2019      1    1    576\n",
      "1       40010  2019      1    2   1457\n",
      "2       40010  2019      1    3   1543\n",
      "3       40010  2019      1    4   1621\n",
      "4       40010  2019      1    5    719\n"
     ]
    }
   ],
   "execution_count": 11
  },
  {
   "metadata": {
    "ExecuteTime": {
     "end_time": "2025-08-13T19:27:12.519759Z",
     "start_time": "2025-08-13T19:27:12.512753Z"
    }
   },
   "cell_type": "code",
   "source": [
    "# Merge the ridership and cal tables\n",
    "ridership_cal = ridership.merge(cal)"
   ],
   "id": "e2fd5ea0663742ad",
   "outputs": [],
   "execution_count": 12
  },
  {
   "metadata": {},
   "cell_type": "markdown",
   "source": "- Extend the previous merge to three tables by also merging the stations table.",
   "id": "ed807529b62beff0"
  },
  {
   "metadata": {
    "ExecuteTime": {
     "end_time": "2025-08-13T19:27:12.696507Z",
     "start_time": "2025-08-13T19:27:12.681067Z"
    }
   },
   "cell_type": "code",
   "source": [
    "ridership_cal_stations = ridership.merge(cal, on=['year','month','day']) \\\n",
    "                                .merge(stations.astype({'station_id': int}), on='station_id')"
   ],
   "id": "51d97823e50e4717",
   "outputs": [],
   "execution_count": 13
  },
  {
   "metadata": {},
   "cell_type": "markdown",
   "source": "- Create a variable called filter_criteria to select the appropriate rows from the merged table so that you can sum the rides column.",
   "id": "246249cb874ea51a"
  },
  {
   "metadata": {
    "ExecuteTime": {
     "end_time": "2025-08-13T19:27:12.851617Z",
     "start_time": "2025-08-13T19:27:12.841186Z"
    }
   },
   "cell_type": "code",
   "source": [
    "# Create a filter to filter ridership_cal_stations\n",
    "filter_criteria = ((ridership_cal_stations['month'] == 7)\n",
    "                   & (ridership_cal_stations['day_type'] == 'Weekday')\n",
    "                   & (ridership_cal_stations['station_name'] == 'Wilson'))\n",
    "\n",
    "# Use .loc and the filter to select for rides\n",
    "print(ridership_cal_stations.loc[filter_criteria, 'rides'].sum())"
   ],
   "id": "6f0ff94f3cdc145d",
   "outputs": [
    {
     "name": "stdout",
     "output_type": "stream",
     "text": [
      "140005\n"
     ]
    }
   ],
   "execution_count": 14
  },
  {
   "metadata": {},
   "cell_type": "markdown",
   "source": [
    "## Three table merge\n",
    "To solidify the concept of a three DataFrame merge, practice another exercise. A reasonable extension of our review of Chicago business data would include looking at demographics information about the neighborhoods where the businesses are. A table with the median income by zip code has been provided to you. You will merge the licenses and wards tables with this new income-by-zip-code table called zip_demo.\n",
    "\n",
    "The licenses, wards, and zip_demo DataFrames have been loaded for you.\n",
    "### Instructions\n",
    " - Starting with the licenses table, merge to it the zip_demo table on the zip column. Then merge the resulting table to the wards table on the ward column. Save result of the three merged tables to a variable named licenses_zip_ward.\n",
    " - Group the results of the three merged tables by the column alderman and find the median income."
   ],
   "id": "e4ce7074c618a21e"
  },
  {
   "metadata": {
    "ExecuteTime": {
     "end_time": "2025-08-13T19:27:13.025530Z",
     "start_time": "2025-08-13T19:27:13.018474Z"
    }
   },
   "cell_type": "code",
   "source": [
    "# Load the zip_demo DataFrames\n",
    "zip_demo = pd.read_csv('data/zip_demo.csv')"
   ],
   "id": "1f4cf729bcb8e69",
   "outputs": [],
   "execution_count": 15
  },
  {
   "metadata": {
    "ExecuteTime": {
     "end_time": "2025-08-13T19:27:13.231889Z",
     "start_time": "2025-08-13T19:27:13.208146Z"
    }
   },
   "cell_type": "code",
   "source": [
    "# Merge licenses and zip_demo, on zip; and merge the wards on ward\n",
    "licenses_zip_ward = licenses.merge(zip_demo, on='zip') \\\n",
    "\t.merge(wards, on='ward')\n",
    "\n",
    "# Print the results by alderman and show median income\n",
    "print(licenses_zip_ward.groupby('alderman').agg({'income':'median'}))"
   ],
   "id": "36dea00b9d0d470b",
   "outputs": [
    {
     "name": "stdout",
     "output_type": "stream",
     "text": [
      "                             income\n",
      "alderman                           \n",
      "Ameya Pawar                 66246.0\n",
      "Anthony A. Beale            38206.0\n",
      "Anthony V. Napolitano       82226.0\n",
      "Ariel E. Reyboras           41307.0\n",
      "Brendan Reilly              39179.0\n",
      "Brian Hopkins               87143.0\n",
      "Carlos Ramirez-Rosa         66246.0\n",
      "Carrie M. Austin            38206.0\n",
      "Chris Taliaferro            55566.0\n",
      "Daniel \"Danny\" Solis        41226.0\n",
      "David H. Moore              33304.0\n",
      "Deborah Mell                66246.0\n",
      "Debra L. Silverstein        50554.0\n",
      "Derrick G. Curtis           65770.0\n",
      "Edward M. Burke             42335.0\n",
      "Emma M. Mitts               36283.0\n",
      "George Cardenas             33959.0\n",
      "Gilbert Villegas            41307.0\n",
      "Gregory I. Mitchell         24941.0\n",
      "Harry Osterman              45442.0\n",
      "Howard B. Brookins Jr.      33304.0\n",
      "James Cappleman             79565.0\n",
      "Jason C. Ervin              41226.0\n",
      "Joe Moore                   39163.0\n",
      "John S. Arena               70122.0\n",
      "Leslie A. Hairston          28024.0\n",
      "Margaret Laurino            70122.0\n",
      "Marty Quinn                 67045.0\n",
      "Matthew J. O'Shea           59488.0\n",
      "Michael  Jr.                31445.0\n",
      "Michael R. Zalewski         42335.0\n",
      "Michelle A. Harris          32558.0\n",
      "Michelle Smith             100116.0\n",
      "Milagros \"Milly\" Santiago   41307.0\n",
      "Nicholas Sposato            62223.0\n",
      "Pat Dowell                  41679.0\n",
      "Patrick Daley Thompson      41226.0\n",
      "Patrick J. O'Connor         50554.0\n",
      "Proco \"Joe\" Moreno          87143.0\n",
      "Raymond A. Lopez            33959.0\n",
      "Ricardo Munoz               31445.0\n",
      "Roberto Maldonado           68223.0\n",
      "Roderick T. Sawyer          32558.0\n",
      "Scott Waguespack            68223.0\n",
      "Susan Sadlowski Garza       38417.0\n",
      "Tom Tunney                  88708.0\n",
      "Toni L. Foulkes             27573.0\n",
      "Walter Burnett  Jr.         87143.0\n",
      "William D. Burns            14565.0\n",
      "Willie B. Cochran           28024.0\n"
     ]
    }
   ],
   "execution_count": 16
  },
  {
   "metadata": {},
   "cell_type": "markdown",
   "source": [
    "## One-to-many merge with multiple tables\n",
    "In this exercise, assume that you are looking to start a business in the city of Chicago. Your perfect idea is to start a company that uses goats to mow the lawn for other businesses. However, you have to choose a location in the city to put your goat farm. You need a location with a great deal of space and relatively few businesses and people around to avoid complaints about the smell. You will need to merge three tables to help you choose your location. The land_use table has info on the percentage of vacant land by city ward. The census table has population by ward, and the licenses table lists businesses by ward.\n",
    "\n",
    "The land_use, census, and licenses tables have been loaded for you.\n",
    "### Instructions\n",
    "- Merge land_use and census on the ward column. Merge the result of this with licenses on the ward column, using the suffix _cen for the left table and _lic for the right table. Save this to the variable land_cen_lic."
   ],
   "id": "24c639431bc3b254"
  },
  {
   "metadata": {
    "ExecuteTime": {
     "end_time": "2025-08-13T19:35:04.362126Z",
     "start_time": "2025-08-13T19:35:04.347890Z"
    }
   },
   "cell_type": "code",
   "source": [
    "# Load the land_use DataFrame\n",
    "land_use = pd.read_csv('data/land_use.csv')"
   ],
   "id": "3cc29a5cba9dc322",
   "outputs": [],
   "execution_count": 17
  },
  {
   "metadata": {
    "ExecuteTime": {
     "end_time": "2025-08-13T19:37:51.538121Z",
     "start_time": "2025-08-13T19:37:51.525018Z"
    }
   },
   "cell_type": "code",
   "source": [
    "# Merge land_use and census and merge result with licenses including suffixes\n",
    "land_cen_lic = land_use.merge(census, on='ward') \\\n",
    "                    .merge(licenses, on='ward', suffixes=('_cen','_lic'))"
   ],
   "id": "719a1e7f9a9087c2",
   "outputs": [],
   "execution_count": 19
  },
  {
   "metadata": {},
   "cell_type": "markdown",
   "source": "- Group land_cen_lic by ward, pop_2010 (the population in 2010), and vacant, then count the number of accounts. Save the results to pop_vac_lic.",
   "id": "dd097a1872086219"
  },
  {
   "metadata": {
    "ExecuteTime": {
     "end_time": "2025-08-13T19:39:38.535966Z",
     "start_time": "2025-08-13T19:39:38.516018Z"
    }
   },
   "cell_type": "code",
   "source": [
    "# Group by ward, pop_2010, and vacant, then count the # of accounts\n",
    "pop_vac_lic = land_cen_lic.groupby(['ward', 'pop_2010', 'vacant'],\n",
    "                                   as_index=False).agg({'account':'count'})"
   ],
   "id": "99da06c54848e2c5",
   "outputs": [],
   "execution_count": 20
  },
  {
   "metadata": {},
   "cell_type": "markdown",
   "source": "- Sort pop_vac_lic by vacant, account, andpop_2010 in descending, ascending, and ascending order respectively. Save it as sorted_pop_vac_lic.",
   "id": "eb9a9451ff416040"
  },
  {
   "metadata": {
    "ExecuteTime": {
     "end_time": "2025-08-13T19:42:16.367619Z",
     "start_time": "2025-08-13T19:42:16.353527Z"
    }
   },
   "cell_type": "code",
   "source": [
    "# Sort pop_vac_lic and print the results\n",
    "sorted_pop_vac_lic = pop_vac_lic.sort_values(by=['vacant', 'account', 'pop_2010'],\n",
    "                                             ascending=[False, True, True])"
   ],
   "id": "49a2fbe996937a0d",
   "outputs": [],
   "execution_count": 25
  },
  {
   "metadata": {
    "ExecuteTime": {
     "end_time": "2025-08-13T19:42:18.332065Z",
     "start_time": "2025-08-13T19:42:18.327347Z"
    }
   },
   "cell_type": "code",
   "source": [
    "# Print the top few rows of sorted_pop_vac_lic\n",
    "print(sorted_pop_vac_lic.head())"
   ],
   "id": "63b7013777c3612b",
   "outputs": [
    {
     "name": "stdout",
     "output_type": "stream",
     "text": [
      "    ward  pop_2010  vacant  account\n",
      "6      7     51581      19       80\n",
      "19    20     52372      15      123\n",
      "9     10     51535      14      130\n",
      "2      3     53039      13      173\n",
      "15    16     51954      13      156\n"
     ]
    }
   ],
   "execution_count": 26
  }
 ],
 "metadata": {
  "kernelspec": {
   "display_name": "Python 3",
   "language": "python",
   "name": "python3"
  },
  "language_info": {
   "codemirror_mode": {
    "name": "ipython",
    "version": 2
   },
   "file_extension": ".py",
   "mimetype": "text/x-python",
   "name": "python",
   "nbconvert_exporter": "python",
   "pygments_lexer": "ipython2",
   "version": "2.7.6"
  }
 },
 "nbformat": 4,
 "nbformat_minor": 5
}
