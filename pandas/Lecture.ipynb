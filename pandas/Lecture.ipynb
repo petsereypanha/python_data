{
 "cells": [
  {
   "cell_type": "markdown",
   "metadata": {},
   "source": [
    "![rmotr](https://user-images.githubusercontent.com/7065401/52071918-bda15380-2562-11e9-828c-7f95297e4a82.png)\n",
    "<hr style=\"margin-bottom: 40px;\">\n",
    "\n",
    "<img src=\"https://user-images.githubusercontent.com/7065401/39118512-dfa1cc1a-46e9-11e8-9547-093d4532451e.png\"\n",
    "    style=\"width:300px; float: right; margin: 0 40px 40px 40px;\"></img>\n",
    "\n",
    "# What is Pandas?\n",
    "\n",
    "`pandas` is an open source, BSD-licensed library providing high-performance, easy-to-use data structures and data analysis tools for the Python programming language.\n",
    "\n",
    "**The <a href=\"https://pandas.pydata.org/\">pandas</a> package is probably the most important tool for Data Scientists and Analysts working with Python today**. The powerful machine learning and glamorous visualization tools may get all the attention, but pandas is the backbone of most data-related projects.\n",
    "\n",
    "> **Fun fact 🎁**: `pandas` is derived from the term \"panel data\", an econometrics term for data sets that include observations over multiple time periods for the same individuals. — Wikipedia\n",
    "\n",
    "pandas popularity has **grown exponentially** in the last years. Here's an image of <a href=\"https://www.theatlas.com/charts/Sk4U7xecQ\">The Atlas</a> showing popularity of data science tools on Stack Overflow where we see pandas has become the dominating tools used by Python data scientists.\n",
    "\n",
    "<div>\n",
    "  <img src=\"https://www.theatlas.com/i/atlas_Sk4U7xecQ.png\" />\n",
    "</div>"
   ]
  },
  {
   "cell_type": "markdown",
   "metadata": {},
   "source": [
    "![purple-divider](https://user-images.githubusercontent.com/7065401/52071927-c1cd7100-2562-11e9-908a-dde91ba14e59.png)\n",
    "\n",
    "## What is pandas used for?\n",
    "\n",
    "If you're thinking about data science as a career, then it is imperative that one of the first things you do is learn pandas.\n",
    "\n",
    "> **This tool will help you get, clean, transform and analyze your data**.\n",
    "\n",
    "For example, say you want to explore a dataset stored in a CSV on your computer. The first step is to use pandas to extract the data from that CSV into a DataFrame (a table-like data structure, we'll see more about it later). The we proceed with the routine data analysis tasks:\n",
    "\n",
    "- Quick Exploratory Data Analysis (EDA);\n",
    "- Calculate statistics such as average, median, max, or min of each column;\n",
    "- Creating visualizations. Plot bars, lines, histograms, bubbles, and more;\n",
    "- Cleaning the data by doing things like removing missing values and filtering rows or columns by some criteria;\n",
    "- Building machine learning models to create predictions or classifications\n",
    "- Store the cleaned, transformed data back into a CSV, other file or a database;"
   ]
  },
  {
   "cell_type": "markdown",
   "metadata": {},
   "source": [
    "![purple-divider](https://user-images.githubusercontent.com/7065401/52071927-c1cd7100-2562-11e9-908a-dde91ba14e59.png)\n",
    "\n",
    "## Why no just using Excel?\n",
    "\n",
    "Excel is one of the most popular and widely-used data tools; it's hard to find an organization that doesn't work with it in some way. From analysts, to sales VPs, to CEOs, professionals use Excel for both quick stats and accounting and serious data crunching.\n",
    "\n",
    "> Using pandas with Microsoft Excel can give you the best of both worlds and optimize your workflow.\n",
    "\n",
    "Pandas works with data stored in Python to manipulate and analyze data. As opposed to Excel, Python is completely **free to download and use**.\n",
    "\n",
    "Pandas operates right on the back of Python. As a result, is **extremely fast and efficient** by using useful methods that **allow automating data processing tasks better than what Excel does**, including processing Excel files.\n",
    "\n",
    "In Excel, once you exceed 50K rows, it starts to slow down considerably. Pandas, on the other hand, **has no real limit and handles millions of data points seamlessly**. In terms of pure space, Excel caps a single spreadsheet at 1.048.576 rows exactly. At that point, your calculations would take forever to compute. More likely, Excel would just crash. A million rows may seem like a lot of data, but for data scientists, this is but a drop in the bucket.\n",
    "\n",
    "Pandas, however, has no limitation to the number of data points you can have in a `DataFrame` (their version of a data set). It’s limited only by the amount of memory (RAM) of the computer it is running on.\n",
    "\n",
    "It is also **easier to create and use complex equations and calculations on your data**. You can apply hundreds of computations to millions of data points instantly with pandas. Since Python is open source, there are already hundreds of libraries created that could streamline the length of time it takes to calculate."
   ]
  },
  {
   "cell_type": "markdown",
   "metadata": {},
   "source": [
    "![green-divider](https://user-images.githubusercontent.com/7065401/52071924-c003ad80-2562-11e9-8297-1c6595f8a7ff.png)\n",
    "\n",
    "## Hands on!\n",
    "\n",
    "We'll just import pandas and other useful libraries such as numpy, matplotlib and seaborn to work with.\n",
    "\n",
    "Note that to import pandas and numpy we use the aliases `pd` and `np`. This is just a convention, which means it's not strictly necessary, but it is recommended."
   ]
  },
  {
   "cell_type": "code",
   "execution_count": 1,
   "metadata": {},
   "outputs": [
    {
     "data": {
      "image/png": "[encoded data removed]",
      "text/plain": [
       "<Figure size 576x72 with 1 Axes>"
      ]
     },
     "metadata": {
      "needs_background": "light"
     },
     "output_type": "display_data"
    }
   ],
   "source": [
    "import numpy as np\n",
    "import pandas as pd\n",
    "import matplotlib.pyplot as plt\n",
    "import seaborn as sns\n",
    "from utils import apply_theme\n",
    "\n",
    "%matplotlib inline\n",
    "apply_theme()"
   ]
  },
  {
   "cell_type": "markdown",
   "metadata": {},
   "source": [
    "![green-divider](https://user-images.githubusercontent.com/7065401/52071924-c003ad80-2562-11e9-8297-1c6595f8a7ff.png)\n",
    "\n",
    "## NumPy and pandas\n",
    "\n",
    "**Pandas is built on top of the NumPy package**, which means that all the efficient structures and functions we saw about numpy in previous lessons, will also apply to pandas.\n",
    "\n",
    "While pandas adopts many coding idioms from NumPy, the biggest difference is that pandas is designed to work with tabular or heterogeneous data. NumPy, by contrast, is best suited for working with homogeneous numerical (possibly multidimensional) arrays."
   ]
  },
  {
   "cell_type": "markdown",
   "metadata": {},
   "source": [
    "## Overview Data Structures - Series and Dataframe\n",
    "\n",
    "To get started with pandas, you will need to get comfortable with its two main data structures: `Series` and `DataFrame`s.\n",
    "\n",
    "A `Series` is essentially used for column-data, and a `DataFrame` is a multi-dimensional table made up of a collection of `Series`. Pandas relies on NumPy arrays to store this data, which means it also uses its data types.\n",
    "\n",
    "<img width=\"550\" src=\"https://user-images.githubusercontent.com/7065401/56914690-1d889700-6a8b-11e9-874d-9d7220342610.png\" />\n",
    "\n",
    "`DataFrame`s and `Series` are quite similar in that many operations that you can do with one you can do with the other, such as filling in null values and calculating the mean.\n",
    "\n",
    "Let's define some data within Python lists:"
   ]
  },
  {
   "cell_type": "code",
   "execution_count": 2,
   "metadata": {},
   "outputs": [],
   "source": [
    "names = ['Avery Bradley', 'John Holland', 'Jonas Jerebko',\n",
    "         'Jordan Mickey', 'Terry Rozier', 'Jared Sullinger', 'Evan Turner']\n",
    "\n",
    "teams = ['Boston Celtics', 'Boston Celtics', 'Boston Celtics',\n",
    "        'Boston Celtics', 'Boston Celtics', 'Boston Celtics', 'Boston Celtics']\n",
    "\n",
    "numbers = [0, 30, 8, np.nan, 12, 7, 11]"
   ]
  },
  {
   "cell_type": "code",
   "execution_count": 3,
   "metadata": {},
   "outputs": [
    {
     "data": {
      "text/plain": [
       "['Avery Bradley',\n",
       " 'John Holland',\n",
       " 'Jonas Jerebko',\n",
       " 'Jordan Mickey',\n",
       " 'Terry Rozier',\n",
       " 'Jared Sullinger',\n",
       " 'Evan Turner']"
      ]
     },
     "execution_count": 3,
     "metadata": {},
     "output_type": "execute_result"
    }
   ],
   "source": [
    "names"
   ]
  },
  {
   "cell_type": "code",
   "execution_count": 4,
   "metadata": {},
   "outputs": [
    {
     "data": {
      "text/plain": [
       "['Boston Celtics',\n",
       " 'Boston Celtics',\n",
       " 'Boston Celtics',\n",
       " 'Boston Celtics',\n",
       " 'Boston Celtics',\n",
       " 'Boston Celtics',\n",
       " 'Boston Celtics']"
      ]
     },
     "execution_count": 4,
     "metadata": {},
     "output_type": "execute_result"
    }
   ],
   "source": [
    "teams"
   ]
  },
  {
   "cell_type": "code",
   "execution_count": 5,
   "metadata": {},
   "outputs": [
    {
     "data": {
      "text/plain": [
       "[0, 30, 8, nan, 12, 7, 11]"
      ]
     },
     "execution_count": 5,
     "metadata": {},
     "output_type": "execute_result"
    }
   ],
   "source": [
    "numbers"
   ]
  },
  {
   "cell_type": "markdown",
   "metadata": {},
   "source": [
    "### Series creation"
   ]
  },
  {
   "cell_type": "code",
   "execution_count": 6,
   "metadata": {},
   "outputs": [
    {
     "data": {
      "text/html": [
       "<div>\n",
       "<style scoped>\n",
       "    .dataframe tbody tr th:only-of-type {\n",
       "        vertical-align: middle;\n",
       "    }\n",
       "\n",
       "    .dataframe tbody tr th {\n",
       "        vertical-align: top;\n",
       "    }\n",
       "\n",
       "    .dataframe thead th {\n",
       "        text-align: right;\n",
       "    }\n",
       "</style>\n",
       "<table border=\"1\" class=\"dataframe\">\n",
       "  <thead>\n",
       "    <tr style=\"text-align: right;\">\n",
       "      <th></th>\n",
       "      <th>Name</th>\n",
       "    </tr>\n",
       "  </thead>\n",
       "  <tbody>\n",
       "    <tr>\n",
       "      <td>0</td>\n",
       "      <td>Avery Bradley</td>\n",
       "    </tr>\n",
       "    <tr>\n",
       "      <td>1</td>\n",
       "      <td>John Holland</td>\n",
       "    </tr>\n",
       "    <tr>\n",
       "      <td>2</td>\n",
       "      <td>Jonas Jerebko</td>\n",
       "    </tr>\n",
       "    <tr>\n",
       "      <td>3</td>\n",
       "      <td>Jordan Mickey</td>\n",
       "    </tr>\n",
       "    <tr>\n",
       "      <td>4</td>\n",
       "      <td>Terry Rozier</td>\n",
       "    </tr>\n",
       "    <tr>\n",
       "      <td>5</td>\n",
       "      <td>Jared Sullinger</td>\n",
       "    </tr>\n",
       "    <tr>\n",
       "      <td>6</td>\n",
       "      <td>Evan Turner</td>\n",
       "    </tr>\n",
       "  </tbody>\n",
       "</table>\n",
       "</div>"
      ],
      "text/plain": [
       "              Name\n",
       "0    Avery Bradley\n",
       "1     John Holland\n",
       "2    Jonas Jerebko\n",
       "3    Jordan Mickey\n",
       "4     Terry Rozier\n",
       "5  Jared Sullinger\n",
       "6      Evan Turner"
      ]
     },
     "execution_count": 6,
     "metadata": {},
     "output_type": "execute_result"
    }
   ],
   "source": [
    "my_series = pd.Series(names, name='Name')\n",
    "\n",
    "my_series.to_frame()"
   ]
  },
  {
   "cell_type": "markdown",
   "metadata": {},
   "source": [
    "Each value can be accessed using just its key/index position on Series:"
   ]
  },
  {
   "cell_type": "code",
   "execution_count": 7,
   "metadata": {},
   "outputs": [
    {
     "data": {
      "text/plain": [
       "'Jordan Mickey'"
      ]
     },
     "execution_count": 7,
     "metadata": {},
     "output_type": "execute_result"
    }
   ],
   "source": [
    "my_series[3]"
   ]
  },
  {
   "cell_type": "code",
   "execution_count": 8,
   "metadata": {},
   "outputs": [
    {
     "data": {
      "text/plain": [
       "'Jordan Mickey'"
      ]
     },
     "execution_count": 8,
     "metadata": {},
     "output_type": "execute_result"
    }
   ],
   "source": [
    "my_series.loc[3]"
   ]
  },
  {
   "cell_type": "markdown",
   "metadata": {},
   "source": [
    "### DataFrame creation\n",
    "\n",
    "There are many ways to create a `DataFrame` from scratch, but a great option is to just use a simple `dict`."
   ]
  },
  {
   "cell_type": "code",
   "execution_count": 9,
   "metadata": {},
   "outputs": [],
   "source": [
    "data = {\n",
    "    'Name': names,\n",
    "    'Team': teams,\n",
    "    'Number': numbers\n",
    "}"
   ]
  },
  {
   "cell_type": "code",
   "execution_count": 10,
   "metadata": {},
   "outputs": [
    {
     "data": {
      "text/html": [
       "<div>\n",
       "<style scoped>\n",
       "    .dataframe tbody tr th:only-of-type {\n",
       "        vertical-align: middle;\n",
       "    }\n",
       "\n",
       "    .dataframe tbody tr th {\n",
       "        vertical-align: top;\n",
       "    }\n",
       "\n",
       "    .dataframe thead th {\n",
       "        text-align: right;\n",
       "    }\n",
       "</style>\n",
       "<table border=\"1\" class=\"dataframe\">\n",
       "  <thead>\n",
       "    <tr style=\"text-align: right;\">\n",
       "      <th></th>\n",
       "      <th>Name</th>\n",
       "      <th>Team</th>\n",
       "      <th>Number</th>\n",
       "    </tr>\n",
       "  </thead>\n",
       "  <tbody>\n",
       "    <tr>\n",
       "      <td>0</td>\n",
       "      <td>Avery Bradley</td>\n",
       "      <td>Boston Celtics</td>\n",
       "      <td>0.000</td>\n",
       "    </tr>\n",
       "    <tr>\n",
       "      <td>1</td>\n",
       "      <td>John Holland</td>\n",
       "      <td>Boston Celtics</td>\n",
       "      <td>30.000</td>\n",
       "    </tr>\n",
       "    <tr>\n",
       "      <td>2</td>\n",
       "      <td>Jonas Jerebko</td>\n",
       "      <td>Boston Celtics</td>\n",
       "      <td>8.000</td>\n",
       "    </tr>\n",
       "    <tr>\n",
       "      <td>3</td>\n",
       "      <td>Jordan Mickey</td>\n",
       "      <td>Boston Celtics</td>\n",
       "      <td>nan</td>\n",
       "    </tr>\n",
       "    <tr>\n",
       "      <td>4</td>\n",
       "      <td>Terry Rozier</td>\n",
       "      <td>Boston Celtics</td>\n",
       "      <td>12.000</td>\n",
       "    </tr>\n",
       "    <tr>\n",
       "      <td>5</td>\n",
       "      <td>Jared Sullinger</td>\n",
       "      <td>Boston Celtics</td>\n",
       "      <td>7.000</td>\n",
       "    </tr>\n",
       "    <tr>\n",
       "      <td>6</td>\n",
       "      <td>Evan Turner</td>\n",
       "      <td>Boston Celtics</td>\n",
       "      <td>11.000</td>\n",
       "    </tr>\n",
       "  </tbody>\n",
       "</table>\n",
       "</div>"
      ],
      "text/plain": [
       "              Name            Team  Number\n",
       "0    Avery Bradley  Boston Celtics   0.000\n",
       "1     John Holland  Boston Celtics  30.000\n",
       "2    Jonas Jerebko  Boston Celtics   8.000\n",
       "3    Jordan Mickey  Boston Celtics     nan\n",
       "4     Terry Rozier  Boston Celtics  12.000\n",
       "5  Jared Sullinger  Boston Celtics   7.000\n",
       "6      Evan Turner  Boston Celtics  11.000"
      ]
     },
     "execution_count": 10,
     "metadata": {},
     "output_type": "execute_result"
    }
   ],
   "source": [
    "my_df = pd.DataFrame(data)\n",
    "\n",
    "my_df"
   ]
  },
  {
   "cell_type": "markdown",
   "metadata": {},
   "source": [
    "Each value can be accessed using its key/index position and value position on DataFrames:"
   ]
  },
  {
   "cell_type": "code",
   "execution_count": 11,
   "metadata": {},
   "outputs": [
    {
     "data": {
      "text/plain": [
       "0      Avery Bradley\n",
       "1       John Holland\n",
       "2      Jonas Jerebko\n",
       "3      Jordan Mickey\n",
       "4       Terry Rozier\n",
       "5    Jared Sullinger\n",
       "6        Evan Turner\n",
       "Name: Name, dtype: object"
      ]
     },
     "execution_count": 11,
     "metadata": {},
     "output_type": "execute_result"
    }
   ],
   "source": [
    "my_df['Name']"
   ]
  },
  {
   "cell_type": "code",
   "execution_count": 12,
   "metadata": {},
   "outputs": [
    {
     "data": {
      "text/plain": [
       "'Jordan Mickey'"
      ]
     },
     "execution_count": 12,
     "metadata": {},
     "output_type": "execute_result"
    }
   ],
   "source": [
    "my_df['Name'][3]"
   ]
  },
  {
   "cell_type": "code",
   "execution_count": 13,
   "metadata": {},
   "outputs": [
    {
     "data": {
      "text/plain": [
       "'Jordan Mickey'"
      ]
     },
     "execution_count": 13,
     "metadata": {},
     "output_type": "execute_result"
    }
   ],
   "source": [
    "my_df.loc[3, 'Name']"
   ]
  },
  {
   "cell_type": "markdown",
   "metadata": {},
   "source": [
    "> In future lectures we'll see more on locating and extracting data from the DataFrame, don't worry if you don't get it right not.\n",
    "\n",
    "Let's move on to some quick methods for creating DataFrames from various other sources."
   ]
  },
  {
   "cell_type": "markdown",
   "metadata": {},
   "source": [
    "![green-divider](https://user-images.githubusercontent.com/7065401/52071924-c003ad80-2562-11e9-8297-1c6595f8a7ff.png)\n",
    "\n",
    "## Reading external data\n",
    "\n",
    "pandas allow us to read different types of external data files such as CSV, TXT and XLS.\n",
    "\n",
    "With CSV files all you need is a single line to load in the data:"
   ]
  },
  {
   "cell_type": "code",
   "execution_count": 14,
   "metadata": {},
   "outputs": [
    {
     "data": {
      "text/html": [
       "<div>\n",
       "<style scoped>\n",
       "    .dataframe tbody tr th:only-of-type {\n",
       "        vertical-align: middle;\n",
       "    }\n",
       "\n",
       "    .dataframe tbody tr th {\n",
       "        vertical-align: top;\n",
       "    }\n",
       "\n",
       "    .dataframe thead th {\n",
       "        text-align: right;\n",
       "    }\n",
       "</style>\n",
       "<table border=\"1\" class=\"dataframe\">\n",
       "  <thead>\n",
       "    <tr style=\"text-align: right;\">\n",
       "      <th></th>\n",
       "      <th>Timestamp</th>\n",
       "      <th>Open</th>\n",
       "      <th>High</th>\n",
       "      <th>Low</th>\n",
       "      <th>Close</th>\n",
       "      <th>Volume (BTC)</th>\n",
       "      <th>Volume (Currency)</th>\n",
       "      <th>Weighted Price</th>\n",
       "    </tr>\n",
       "  </thead>\n",
       "  <tbody>\n",
       "    <tr>\n",
       "      <td>0</td>\n",
       "      <td>1/1/17 0:00</td>\n",
       "      <td>966.340</td>\n",
       "      <td>1,005.000</td>\n",
       "      <td>960.530</td>\n",
       "      <td>997.750</td>\n",
       "      <td>6,850.590</td>\n",
       "      <td>6,764,742.060</td>\n",
       "      <td>987.470</td>\n",
       "    </tr>\n",
       "    <tr>\n",
       "      <td>1</td>\n",
       "      <td>1/2/17 0:00</td>\n",
       "      <td>997.750</td>\n",
       "      <td>1,032.000</td>\n",
       "      <td>990.010</td>\n",
       "      <td>1,012.540</td>\n",
       "      <td>8,167.380</td>\n",
       "      <td>8,273,576.990</td>\n",
       "      <td>1,013.000</td>\n",
       "    </tr>\n",
       "    <tr>\n",
       "      <td>2</td>\n",
       "      <td>1/3/17 0:00</td>\n",
       "      <td>1,011.440</td>\n",
       "      <td>1,039.000</td>\n",
       "      <td>999.990</td>\n",
       "      <td>1,035.240</td>\n",
       "      <td>9,089.660</td>\n",
       "      <td>9,276,500.310</td>\n",
       "      <td>1,020.560</td>\n",
       "    </tr>\n",
       "    <tr>\n",
       "      <td>3</td>\n",
       "      <td>1/4/17 0:00</td>\n",
       "      <td>1,035.510</td>\n",
       "      <td>1,139.890</td>\n",
       "      <td>1,028.560</td>\n",
       "      <td>1,114.920</td>\n",
       "      <td>21,562.460</td>\n",
       "      <td>23,469,644.960</td>\n",
       "      <td>1,088.450</td>\n",
       "    </tr>\n",
       "    <tr>\n",
       "      <td>4</td>\n",
       "      <td>1/5/17 0:00</td>\n",
       "      <td>1,114.380</td>\n",
       "      <td>1,136.720</td>\n",
       "      <td>885.410</td>\n",
       "      <td>1,004.740</td>\n",
       "      <td>36,018.860</td>\n",
       "      <td>36,211,399.530</td>\n",
       "      <td>1,005.350</td>\n",
       "    </tr>\n",
       "  </tbody>\n",
       "</table>\n",
       "</div>"
      ],
      "text/plain": [
       "     Timestamp      Open      High       Low     Close  Volume (BTC)  Volume (Currency)  Weighted Price\n",
       "0  1/1/17 0:00   966.340 1,005.000   960.530   997.750     6,850.590      6,764,742.060         987.470\n",
       "1  1/2/17 0:00   997.750 1,032.000   990.010 1,012.540     8,167.380      8,273,576.990       1,013.000\n",
       "2  1/3/17 0:00 1,011.440 1,039.000   999.990 1,035.240     9,089.660      9,276,500.310       1,020.560\n",
       "3  1/4/17 0:00 1,035.510 1,139.890 1,028.560 1,114.920    21,562.460     23,469,644.960       1,088.450\n",
       "4  1/5/17 0:00 1,114.380 1,136.720   885.410 1,004.740    36,018.860     36,211,399.530       1,005.350"
      ]
     },
     "execution_count": 14,
     "metadata": {},
     "output_type": "execute_result"
    }
   ],
   "source": [
    "df = pd.read_csv('../data/bitcoin_data.csv')\n",
    "\n",
    "df.head()"
   ]
  },
  {
   "cell_type": "markdown",
   "metadata": {},
   "source": [
    "Also, there are many options when loading data, for example CSVs don't have indexes like our DataFrames, so we'll designate the `index_col` when reading:"
   ]
  },
  {
   "cell_type": "code",
   "execution_count": 15,
   "metadata": {},
   "outputs": [
    {
     "data": {
      "text/html": [
       "<div>\n",
       "<style scoped>\n",
       "    .dataframe tbody tr th:only-of-type {\n",
       "        vertical-align: middle;\n",
       "    }\n",
       "\n",
       "    .dataframe tbody tr th {\n",
       "        vertical-align: top;\n",
       "    }\n",
       "\n",
       "    .dataframe thead th {\n",
       "        text-align: right;\n",
       "    }\n",
       "</style>\n",
       "<table border=\"1\" class=\"dataframe\">\n",
       "  <thead>\n",
       "    <tr style=\"text-align: right;\">\n",
       "      <th></th>\n",
       "      <th>Open</th>\n",
       "      <th>High</th>\n",
       "      <th>Low</th>\n",
       "      <th>Close</th>\n",
       "    </tr>\n",
       "    <tr>\n",
       "      <th>Timestamp</th>\n",
       "      <th></th>\n",
       "      <th></th>\n",
       "      <th></th>\n",
       "      <th></th>\n",
       "    </tr>\n",
       "  </thead>\n",
       "  <tbody>\n",
       "    <tr>\n",
       "      <td>2017-01-01</td>\n",
       "      <td>966.340</td>\n",
       "      <td>1,005.000</td>\n",
       "      <td>960.530</td>\n",
       "      <td>997.750</td>\n",
       "    </tr>\n",
       "    <tr>\n",
       "      <td>2017-01-02</td>\n",
       "      <td>997.750</td>\n",
       "      <td>1,032.000</td>\n",
       "      <td>990.010</td>\n",
       "      <td>1,012.540</td>\n",
       "    </tr>\n",
       "    <tr>\n",
       "      <td>2017-01-03</td>\n",
       "      <td>1,011.440</td>\n",
       "      <td>1,039.000</td>\n",
       "      <td>999.990</td>\n",
       "      <td>1,035.240</td>\n",
       "    </tr>\n",
       "    <tr>\n",
       "      <td>2017-01-04</td>\n",
       "      <td>1,035.510</td>\n",
       "      <td>1,139.890</td>\n",
       "      <td>1,028.560</td>\n",
       "      <td>1,114.920</td>\n",
       "    </tr>\n",
       "    <tr>\n",
       "      <td>2017-01-05</td>\n",
       "      <td>1,114.380</td>\n",
       "      <td>1,136.720</td>\n",
       "      <td>885.410</td>\n",
       "      <td>1,004.740</td>\n",
       "    </tr>\n",
       "  </tbody>\n",
       "</table>\n",
       "</div>"
      ],
      "text/plain": [
       "                Open      High       Low     Close\n",
       "Timestamp                                         \n",
       "2017-01-01   966.340 1,005.000   960.530   997.750\n",
       "2017-01-02   997.750 1,032.000   990.010 1,012.540\n",
       "2017-01-03 1,011.440 1,039.000   999.990 1,035.240\n",
       "2017-01-04 1,035.510 1,139.890 1,028.560 1,114.920\n",
       "2017-01-05 1,114.380 1,136.720   885.410 1,004.740"
      ]
     },
     "execution_count": 15,
     "metadata": {},
     "output_type": "execute_result"
    }
   ],
   "source": [
    "df = pd.read_csv(\n",
    "    '../data/bitcoin_data.csv',\n",
    "    index_col=0,\n",
    "    parse_dates=True\n",
    ").loc[:, 'Open':'Close']\n",
    "\n",
    "df.head()"
   ]
  },
  {
   "cell_type": "code",
   "execution_count": 16,
   "metadata": {},
   "outputs": [
    {
     "data": {
      "text/plain": [
       "Text(0.5, 1.0, 'Bitcoin price (USD)')"
      ]
     },
     "execution_count": 16,
     "metadata": {},
     "output_type": "execute_result"
    },
    {
     "data": {
      "image/png": "[encoded data removed]",
      "text/plain": [
       "<Figure size 1152x432 with 1 Axes>"
      ]
     },
     "metadata": {
      "needs_background": "dark"
     },
     "output_type": "display_data"
    }
   ],
   "source": [
    "fig, ax = plt.subplots(figsize=(16, 6))\n",
    "\n",
    "df.plot(ax=ax)\n",
    "\n",
    "plt.title(\"Bitcoin price (USD)\", fontsize=16, fontweight='bold', color='white')"
   ]
  },
  {
   "cell_type": "markdown",
   "metadata": {},
   "source": [
    "![green-divider](https://user-images.githubusercontent.com/7065401/52071924-c003ad80-2562-11e9-8297-1c6595f8a7ff.png)\n",
    "\n",
    "## Plotting example: Bollinger bands\n",
    "\n",
    "As a sneak peek of what we'll see in upcoming lectures, lets make some basic plots using _pandas_.\n",
    "\n",
    "Bollinger Bands are a technical trading tool created by John Bollinger in the early 1980s. They arose from the need for adaptive trading bands and the observation that volatility was dynamic, not static as was widely believed at the time."
   ]
  },
  {
   "cell_type": "markdown",
   "metadata": {},
   "source": [
    "### Calculate Bollinger bands\n",
    "\n",
    "To demostrate the strategy we will use a 30 periods rolling mean window, and 1.5 standard deviations for each of the bands. This might not be the optimal configuration for this dataset, but we will talk more about optimizing these two arguments later."
   ]
  },
  {
   "cell_type": "code",
   "execution_count": 17,
   "metadata": {},
   "outputs": [],
   "source": [
    "# set number of days and standard deviations to use for rolling \n",
    "# lookback period for Bollinger band calculation\n",
    "window = 30\n",
    "no_of_std = 1.5\n",
    "\n",
    "# calculate rolling mean and standard deviation\n",
    "rolling_mean = df['Close'].rolling(window).mean()\n",
    "rolling_std = df['Close'].rolling(window).std()\n",
    "\n",
    "# create two new DataFrame columns to hold values of upper and lower Bollinger bands\n",
    "df['Rolling Mean'] = rolling_mean\n",
    "df['Bollinger High'] = rolling_mean + (rolling_std * no_of_std)\n",
    "df['Bollinger Low'] = rolling_mean - (rolling_std * no_of_std)"
   ]
  },
  {
   "cell_type": "code",
   "execution_count": 18,
   "metadata": {},
   "outputs": [
    {
     "data": {
      "text/html": [
       "<div>\n",
       "<style scoped>\n",
       "    .dataframe tbody tr th:only-of-type {\n",
       "        vertical-align: middle;\n",
       "    }\n",
       "\n",
       "    .dataframe tbody tr th {\n",
       "        vertical-align: top;\n",
       "    }\n",
       "\n",
       "    .dataframe thead th {\n",
       "        text-align: right;\n",
       "    }\n",
       "</style>\n",
       "<table border=\"1\" class=\"dataframe\">\n",
       "  <thead>\n",
       "    <tr style=\"text-align: right;\">\n",
       "      <th></th>\n",
       "      <th>Open</th>\n",
       "      <th>High</th>\n",
       "      <th>Low</th>\n",
       "      <th>Close</th>\n",
       "      <th>Rolling Mean</th>\n",
       "      <th>Bollinger High</th>\n",
       "      <th>Bollinger Low</th>\n",
       "    </tr>\n",
       "    <tr>\n",
       "      <th>Timestamp</th>\n",
       "      <th></th>\n",
       "      <th></th>\n",
       "      <th></th>\n",
       "      <th></th>\n",
       "      <th></th>\n",
       "      <th></th>\n",
       "      <th></th>\n",
       "    </tr>\n",
       "  </thead>\n",
       "  <tbody>\n",
       "    <tr>\n",
       "      <td>2018-03-24</td>\n",
       "      <td>8,917.990</td>\n",
       "      <td>9,020.000</td>\n",
       "      <td>8,505.000</td>\n",
       "      <td>8,547.000</td>\n",
       "      <td>9,533.030</td>\n",
       "      <td>11,150.406</td>\n",
       "      <td>7,915.654</td>\n",
       "    </tr>\n",
       "    <tr>\n",
       "      <td>2018-03-25</td>\n",
       "      <td>8,541.960</td>\n",
       "      <td>8,680.000</td>\n",
       "      <td>8,368.630</td>\n",
       "      <td>8,453.900</td>\n",
       "      <td>9,475.957</td>\n",
       "      <td>11,109.229</td>\n",
       "      <td>7,842.684</td>\n",
       "    </tr>\n",
       "    <tr>\n",
       "      <td>2018-03-26</td>\n",
       "      <td>8,451.120</td>\n",
       "      <td>8,500.000</td>\n",
       "      <td>7,831.150</td>\n",
       "      <td>8,149.660</td>\n",
       "      <td>9,424.612</td>\n",
       "      <td>11,096.248</td>\n",
       "      <td>7,752.976</td>\n",
       "    </tr>\n",
       "    <tr>\n",
       "      <td>2018-03-27</td>\n",
       "      <td>8,152.260</td>\n",
       "      <td>8,211.620</td>\n",
       "      <td>7,742.110</td>\n",
       "      <td>7,791.700</td>\n",
       "      <td>9,364.668</td>\n",
       "      <td>11,094.048</td>\n",
       "      <td>7,635.287</td>\n",
       "    </tr>\n",
       "    <tr>\n",
       "      <td>2018-03-28</td>\n",
       "      <td>7,791.690</td>\n",
       "      <td>8,104.980</td>\n",
       "      <td>7,723.030</td>\n",
       "      <td>8,039.860</td>\n",
       "      <td>9,288.506</td>\n",
       "      <td>11,032.616</td>\n",
       "      <td>7,544.396</td>\n",
       "    </tr>\n",
       "  </tbody>\n",
       "</table>\n",
       "</div>"
      ],
      "text/plain": [
       "                Open      High       Low     Close  Rolling Mean  Bollinger High  Bollinger Low\n",
       "Timestamp                                                                                      \n",
       "2018-03-24 8,917.990 9,020.000 8,505.000 8,547.000     9,533.030      11,150.406      7,915.654\n",
       "2018-03-25 8,541.960 8,680.000 8,368.630 8,453.900     9,475.957      11,109.229      7,842.684\n",
       "2018-03-26 8,451.120 8,500.000 7,831.150 8,149.660     9,424.612      11,096.248      7,752.976\n",
       "2018-03-27 8,152.260 8,211.620 7,742.110 7,791.700     9,364.668      11,094.048      7,635.287\n",
       "2018-03-28 7,791.690 8,104.980 7,723.030 8,039.860     9,288.506      11,032.616      7,544.396"
      ]
     },
     "execution_count": 18,
     "metadata": {},
     "output_type": "execute_result"
    }
   ],
   "source": [
    "df.tail()"
   ]
  },
  {
   "cell_type": "code",
   "execution_count": 19,
   "metadata": {},
   "outputs": [
    {
     "data": {
      "text/plain": [
       "Text(0.5, 1.0, 'Bitcoin - Bollinger bands (USD)')"
      ]
     },
     "execution_count": 19,
     "metadata": {},
     "output_type": "execute_result"
    },
    {
     "data": {
      "image/png": "[encoded data removed]",
      "text/plain": [
       "<Figure size 1152x432 with 1 Axes>"
      ]
     },
     "metadata": {
      "needs_background": "dark"
     },
     "output_type": "display_data"
    }
   ],
   "source": [
    "fig, ax = plt.subplots(figsize=(16, 6))\n",
    "\n",
    "df[['Close','Bollinger High','Bollinger Low']].plot(ax=ax)\n",
    "\n",
    "plt.title(\"Bitcoin - Bollinger bands (USD)\", fontsize=16, fontweight='bold', color='white')"
   ]
  },
  {
   "cell_type": "markdown",
   "metadata": {},
   "source": [
    "> Check out the blog post we wrote about <a href=\"https://blog.rmotr.com/bitcoin-trading-with-python-bollinger-bands-strategy-analysis-b1a223385a89\">Bollinger bands here</a>!"
   ]
  },
  {
   "cell_type": "markdown",
   "metadata": {},
   "source": [
    "![purple-divider](https://user-images.githubusercontent.com/7065401/52071927-c1cd7100-2562-11e9-908a-dde91ba14e59.png)"
   ]
  }
 ],
 "metadata": {
  "kernelspec": {
   "display_name": "Python 3",
   "language": "python",
   "name": "python3"
  },
  "language_info": {
   "codemirror_mode": {
    "name": "ipython",
    "version": 3
   },
   "file_extension": ".py",
   "mimetype": "text/x-python",
   "name": "python",
   "nbconvert_exporter": "python",
   "pygments_lexer": "ipython3",
   "version": "3.6.5"
  }
 },
 "nbformat": 4,
 "nbformat_minor": 2
}
