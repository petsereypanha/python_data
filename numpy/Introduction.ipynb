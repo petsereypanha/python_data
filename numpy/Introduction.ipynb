{
 "cells": [
  {
   "metadata": {},
   "cell_type": "markdown",
   "source": [
    "# Numpy Introduction\n",
    "Numpy is a powerful library for numerical computing in Python. It provides support for large,"
   ],
   "id": "8467430254909edf"
  },
  {
   "metadata": {},
   "cell_type": "markdown",
   "source": [
    "## Lists Recap\n",
    "that the Python list is pretty powerful. A list can hold any type and can hold different types at the same time. You can also change, add and remove elements. This is wonderful, but one feature is missing, a feature that is super important for aspiring data scientists as yourself. When analyzing data, you'll often want to carry out operations over entire collections of values, and you want to do this fast. With lists, this is a problem."
   ],
   "id": "da75451703ab6a7f"
  },
  {
   "metadata": {
    "ExecuteTime": {
     "end_time": "2025-08-08T22:28:36.043281Z",
     "start_time": "2025-08-08T22:28:35.854643Z"
    }
   },
   "cell_type": "code",
   "source": [
    "# Import the numpy package as np\n",
    "import numpy as np\n",
    "\n",
    "baseball = [180, 215, 210, 210, 188, 176, 209, 200]\n",
    "\n",
    "# Create a numpy array from baseball: np_baseball\n",
    "np_baseball = np.array(baseball)\n",
    "\n",
    "# Print out type of np_baseball\n",
    "print(np_baseball)"
   ],
   "id": "fb8c84302944a35c",
   "outputs": [
    {
     "name": "stdout",
     "output_type": "stream",
     "text": [
      "[180 215 210 210 188 176 209 200]\n"
     ]
    }
   ],
   "execution_count": 1
  },
  {
   "metadata": {
    "ExecuteTime": {
     "end_time": "2025-08-08T22:33:10.937996Z",
     "start_time": "2025-08-08T22:33:10.928429Z"
    }
   },
   "cell_type": "code",
   "source": [
    "# Import numpy\n",
    "import numpy as np\n",
    "height_in = [74, 74, 72, 72, 75, 71, 73, 70]\n",
    "# Create a numpy array from height_in: np_height_in\n",
    "np_height_in = np.array(height_in)\n",
    "\n",
    "# Print out np_height_in\n",
    "print(np_height_in)\n",
    "\n",
    "# Convert np_height_in to m: np_height_m\n",
    "np_height_m = np_height_in * 0.0254\n",
    "\n",
    "# Print np_height_m\n",
    "print(np_height_m)"
   ],
   "id": "6216a893bd0c364",
   "outputs": [
    {
     "name": "stdout",
     "output_type": "stream",
     "text": [
      "[74 74 72 72 75 71 73 70]\n",
      "[1.8796 1.8796 1.8288 1.8288 1.905  1.8034 1.8542 1.778 ]\n"
     ]
    }
   ],
   "execution_count": 3
  },
  {
   "metadata": {
    "ExecuteTime": {
     "end_time": "2025-08-08T22:38:26.089122Z",
     "start_time": "2025-08-08T22:38:26.080692Z"
    }
   },
   "cell_type": "code",
   "source": [
    "import numpy as np\n",
    "weight_lb = [180, 215, 210, 210, 188, 176, 209, 200]\n",
    "np_weight_lb = np.array(weight_lb)\n",
    "np_height_in = np.array(height_in)\n",
    "\n",
    "# Print out the weight at index 50\n",
    "print(np_weight_lb[:])\n",
    "\n",
    "# Print out sub-array of np_height_in: index 100 up to and including index 110\n",
    "print(np_height_in[0:4])"
   ],
   "id": "dac70019ede41867",
   "outputs": [
    {
     "name": "stdout",
     "output_type": "stream",
     "text": [
      "[180 215 210 210 188 176 209 200]\n",
      "[74 74 72 72]\n"
     ]
    }
   ],
   "execution_count": 4
  },
  {
   "metadata": {
    "ExecuteTime": {
     "end_time": "2025-08-08T22:48:04.058625Z",
     "start_time": "2025-08-08T22:48:04.043626Z"
    }
   },
   "cell_type": "code",
   "source": [
    "import numpy as np\n",
    "\n",
    "baseball = [[180, 78.4],\n",
    "            [215, 102.7],\n",
    "            [210, 98.5],\n",
    "            [188, 75.2]]\n",
    "\n",
    "# Create a 2D numpy array from baseball: np_baseball\n",
    "np_baseball = np.array(baseball)\n",
    "\n",
    "# Print out the type of np_baseball\n",
    "print(type(np_baseball))\n",
    "\n",
    "# Print out the shape of np_baseball\n",
    "print(np_baseball.shape)"
   ],
   "id": "57faafb72c77c761",
   "outputs": [
    {
     "name": "stdout",
     "output_type": "stream",
     "text": [
      "<class 'numpy.ndarray'>\n",
      "(4, 2)\n"
     ]
    }
   ],
   "execution_count": 5
  },
  {
   "metadata": {
    "ExecuteTime": {
     "end_time": "2025-08-08T22:49:26.671377Z",
     "start_time": "2025-08-08T22:49:26.665869Z"
    }
   },
   "cell_type": "code",
   "source": [
    "import numpy as np\n",
    "\n",
    "# Create a 2D numpy array from baseball: np_baseball\n",
    "np_baseball = np.array(baseball)\n",
    "\n",
    "# Print out the shape of np_baseball\n",
    "print(np_baseball.shape)"
   ],
   "id": "fec34694dc9580db",
   "outputs": [
    {
     "name": "stdout",
     "output_type": "stream",
     "text": [
      "(4, 2)\n"
     ]
    }
   ],
   "execution_count": 6
  },
  {
   "metadata": {
    "ExecuteTime": {
     "end_time": "2025-08-08T22:59:12.161690Z",
     "start_time": "2025-08-08T22:59:12.152051Z"
    }
   },
   "cell_type": "code",
   "source": [
    "import numpy as np\n",
    "\n",
    "\n",
    "np_baseball = np.array([\n",
    "    [180, 78.4, 25],\n",
    "    [215, 102.7, 30],\n",
    "    [210, 98.5, 28],\n",
    "    [188, 75.2, 26]\n",
    "])\n",
    "\n",
    "# Create a new array: updated\n",
    "updated = np.array([\n",
    "    [1, 0.5, 1],\n",
    "    [0, -1.2, 0],\n",
    "    [2, 0.3, -1],\n",
    "    [1, 0.8, 0]\n",
    "])\n",
    "\n",
    "# Print out addition of np_baseball and updated\n",
    "print(np_baseball + updated)\n",
    "\n",
    "# Create numpy array: conversion\n",
    "conversion = np.array([0.0254, 0.453592, 1])\n",
    "\n",
    "# Print out product of np_baseball and conversion\n",
    "print(np_baseball * conversion)"
   ],
   "id": "80a6035ed21ebb32",
   "outputs": [
    {
     "name": "stdout",
     "output_type": "stream",
     "text": [
      "[[181.   78.9  26. ]\n",
      " [215.  101.5  30. ]\n",
      " [212.   98.8  27. ]\n",
      " [189.   76.   26. ]]\n",
      "[[ 4.572     35.5616128 25.       ]\n",
      " [ 5.461     46.5838984 30.       ]\n",
      " [ 5.334     44.678812  28.       ]\n",
      " [ 4.7752    34.1101184 26.       ]]\n"
     ]
    }
   ],
   "execution_count": 9
  },
  {
   "metadata": {},
   "cell_type": "markdown",
   "source": [
    "### Numpy Statistics\n",
    "Numpy provides a wide range of statistical functions that can be applied to arrays. These functions are"
   ],
   "id": "9a3dcd73da67bd48"
  },
  {
   "metadata": {
    "ExecuteTime": {
     "end_time": "2025-08-08T23:07:19.125637Z",
     "start_time": "2025-08-08T23:07:19.100452Z"
    }
   },
   "cell_type": "code",
   "source": [
    "import numpy as np\n",
    "\n",
    "# Create np_height_in from np_baseball\n",
    "np_height_in = np_baseball[:,0]\n",
    "\n",
    "# Print out the mean of np_height_in\n",
    "print(np.mean(np_height_in))\n",
    "\n",
    "# Print out the median of np_height_in\n",
    "print(np.median(np_height_in))"
   ],
   "id": "95ac275215a37dd8",
   "outputs": [
    {
     "name": "stdout",
     "output_type": "stream",
     "text": [
      "198.25\n",
      "199.0\n"
     ]
    }
   ],
   "execution_count": 10
  },
  {
   "metadata": {
    "ExecuteTime": {
     "end_time": "2025-08-08T23:14:40.049719Z",
     "start_time": "2025-08-08T23:14:40.039708Z"
    }
   },
   "cell_type": "code",
   "source": [
    "avg = np.mean(np_baseball[:,0])\n",
    "print(\"Average: \" + str(avg))\n",
    "\n",
    "# Print median height\n",
    "med = np.median(np_baseball[:,0])\n",
    "print(\"Median: \" + str(med))\n",
    "\n",
    "# Print out the standard deviation on height\n",
    "stddev = np.std(np_baseball[:,0])\n",
    "print(\"Standard Deviation: \" + str(stddev))\n",
    "\n",
    "# Print out correlation between first and second column\n",
    "corr = np.corrcoef(np_baseball[:, 0], np_baseball[:, 1])\n",
    "print(\"Correlation: \" + str(corr))"
   ],
   "id": "6f08524b39b5f4d8",
   "outputs": [
    {
     "name": "stdout",
     "output_type": "stream",
     "text": [
      "Average: 198.25\n",
      "Median: 199.0\n",
      "Standard Deviation: 14.635146053251399\n",
      "Correlation: [[1.         0.95865738]\n",
      " [0.95865738 1.        ]]\n"
     ]
    }
   ],
   "execution_count": 12
  }
 ],
 "metadata": {
  "kernelspec": {
   "display_name": "Python 3",
   "language": "python",
   "name": "python3"
  },
  "language_info": {
   "codemirror_mode": {
    "name": "ipython",
    "version": 2
   },
   "file_extension": ".py",
   "mimetype": "text/x-python",
   "name": "python",
   "nbconvert_exporter": "python",
   "pygments_lexer": "ipython2",
   "version": "2.7.6"
  }
 },
 "nbformat": 4,
 "nbformat_minor": 5
}
