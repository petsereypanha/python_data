{
 "cells": [
  {
   "cell_type": "markdown",
   "metadata": {},
   "source": [
    "# Nested Collections"
   ]
  },
  {
   "cell_type": "markdown",
   "metadata": {},
   "source": [
    "### Part 1: Maps nested into sequences"
   ]
  },
  {
   "cell_type": "code",
   "metadata": {
    "ExecuteTime": {
     "end_time": "2025-07-15T07:26:01.678581Z",
     "start_time": "2025-07-15T07:26:01.671700Z"
    }
   },
   "source": [
    "products = [{\n",
    "    'id': 'W-101',\n",
    "    'name': 'Arakh of Khal Drogo',\n",
    "    'price': 250,\n",
    "    'category': 'Weapons'\n",
    "}, {\n",
    "    'id': 'W-90',\n",
    "    'name': 'Damascus Steel Widows Wail',\n",
    "    'price': 960,\n",
    "    'category': 'Weapons'\n",
    "}, {\n",
    "    'id': 'W-32',\n",
    "    'name': 'Damascus Oathkeeper Sword',\n",
    "    'price': 810,\n",
    "    'category': 'Weapons'\n",
    "}, {\n",
    "    'id': 'S-81',\n",
    "    'name': 'Lannister Shield',\n",
    "    'price': 310,\n",
    "    'category': 'Shields'\n",
    "}, {\n",
    "    'id': 'S-13',\n",
    "    'name': 'Stark Infantry Shield',\n",
    "    'price': 180,\n",
    "    'category': 'Shields'\n",
    "}, {\n",
    "    'id': 'H-78',\n",
    "    'name': 'Helm of the Unsullied',\n",
    "    'price': 90,\n",
    "    'category': 'Helms'\n",
    "}, {\n",
    "    'id': 'H-54',\n",
    "    'name': \"The Hound's Helm\",\n",
    "    'price': 120,\n",
    "    'category': 'Helms'\n",
    "}, {\n",
    "    'id': 'H-67',\n",
    "    'name': 'Helmet of Loras Tyrell',\n",
    "    'price': 1378,\n",
    "    'category': 'Helms'\n",
    "}]"
   ],
   "outputs": [],
   "execution_count": 2
  },
  {
   "cell_type": "markdown",
   "metadata": {},
   "source": [
    "**1. Find the most expensive item**\n",
    "\n",
    "_(Result will be a single item)_"
   ]
  },
  {
   "cell_type": "code",
   "execution_count": 17,
   "metadata": {},
   "outputs": [
    {
     "data": {
      "text/plain": [
       "{'category': 'Helms',\n",
       " 'id': 'H-67',\n",
       " 'name': 'Helmet of Loras Tyrell',\n",
       " 'price': 1378}"
      ]
     },
     "execution_count": 17,
     "metadata": {},
     "output_type": "execute_result"
    }
   ],
   "source": [
    "most_expensive_product = {}\n",
    "for product in products:\n",
    "    price = product['price']\n",
    "    if price >= most_expensive_product.get('price', 0):\n",
    "        most_expensive_product = product\n",
    "\n",
    "most_expensive_product"
   ]
  },
  {
   "cell_type": "markdown",
   "metadata": {},
   "source": [
    "**2. Find the most expensive Weapon**\n",
    "\n",
    "_(Result is also an item, but we've applied a filter)_"
   ]
  },
  {
   "cell_type": "code",
   "metadata": {
    "ExecuteTime": {
     "end_time": "2025-07-15T07:26:04.708217Z",
     "start_time": "2025-07-15T07:26:04.699145Z"
    }
   },
   "source": [
    "most_expensive_product = {}\n",
    "for product in products:\n",
    "    price = product['price']\n",
    "    cat = product['category']\n",
    "    if price >= most_expensive_product.get('price', 0) and cat == 'Weapons':\n",
    "        most_expensive_product = product\n",
    "\n",
    "most_expensive_product"
   ],
   "outputs": [
    {
     "data": {
      "text/plain": [
       "{'id': 'W-90',\n",
       " 'name': 'Damascus Steel Widows Wail',\n",
       " 'price': 960,\n",
       " 'category': 'Weapons'}"
      ]
     },
     "execution_count": 3,
     "metadata": {},
     "output_type": "execute_result"
    }
   ],
   "execution_count": 3
  },
  {
   "cell_type": "markdown",
   "metadata": {},
   "source": [
    "**3. Find the most expensive item per category**\n",
    "\n",
    "_(Result is another collection)_"
   ]
  },
  {
   "cell_type": "code",
   "execution_count": 18,
   "metadata": {},
   "outputs": [
    {
     "data": {
      "text/plain": [
       "[{'category': 'Weapons',\n",
       "  'id': 'W-101',\n",
       "  'name': 'Arakh of Khal Drogo',\n",
       "  'price': 250},\n",
       " {'category': 'Weapons',\n",
       "  'id': 'W-90',\n",
       "  'name': 'Damascus Steel Widows Wail',\n",
       "  'price': 960},\n",
       " {'category': 'Weapons',\n",
       "  'id': 'W-32',\n",
       "  'name': 'Damascus Oathkeeper Sword',\n",
       "  'price': 810}]"
      ]
     },
     "execution_count": 18,
     "metadata": {},
     "output_type": "execute_result"
    }
   ],
   "source": [
    "weapons = []\n",
    "for product in products:\n",
    "    cat = product['category']\n",
    "    if cat == 'Weapons':\n",
    "        weapons.append(product)\n",
    "weapons"
   ]
  },
  {
   "cell_type": "markdown",
   "metadata": {},
   "source": [
    "**4. Calculate the total sum of prices of products**\n",
    "\n",
    "_(Result is a single number)_"
   ]
  },
  {
   "cell_type": "code",
   "execution_count": 21,
   "metadata": {},
   "outputs": [
    {
     "data": {
      "text/plain": [
       "4098"
      ]
     },
     "execution_count": 21,
     "metadata": {},
     "output_type": "execute_result"
    }
   ],
   "source": [
    "product_prices = []\n",
    "for product in products:\n",
    "    product_prices.append(product['price'])\n",
    "sum(product_prices)"
   ]
  },
  {
   "cell_type": "markdown",
   "metadata": {},
   "source": [
    "**5. Count the number of items per category**\n",
    "\n",
    "_(Result is another collection)_"
   ]
  },
  {
   "cell_type": "code",
   "execution_count": 32,
   "metadata": {},
   "outputs": [
    {
     "data": {
      "text/plain": [
       "{'Helms': 3, 'Shields': 2, 'Weapons': 3}"
      ]
     },
     "execution_count": 32,
     "metadata": {},
     "output_type": "execute_result"
    }
   ],
   "source": [
    "\"\"\"\n",
    "Weapons: 3\n",
    "Shields: 2\n",
    "Helms: 5\n",
    "\"\"\"\n",
    "result = {}\n",
    "for product in products:\n",
    "    cat = product['category']  # 'Weapons'\n",
    "    result[cat] = result.get(cat, 0) + 1\n",
    "\n",
    "result"
   ]
  },
  {
   "cell_type": "markdown",
   "metadata": {},
   "source": [
    "### Part 2: Sequences nested into maps"
   ]
  },
  {
   "cell_type": "code",
   "execution_count": 34,
   "metadata": {},
   "outputs": [],
   "source": [
    "character = {\n",
    "    'name': 'The Hound',\n",
    "    'weapons': ['W-101', 'W-390'],\n",
    "    'hemls': ['H-54'],\n",
    "    'shields': ['S-13', 'S98']\n",
    "}"
   ]
  },
  {
   "cell_type": "code",
   "execution_count": 36,
   "metadata": {},
   "outputs": [
    {
     "name": "stdout",
     "output_type": "stream",
     "text": [
      "W-101\n",
      "W-390\n"
     ]
    }
   ],
   "source": [
    "for weapon in character['weapons']:\n",
    "    print(weapon)"
   ]
  },
  {
   "cell_type": "markdown",
   "metadata": {},
   "source": [
    "### Part 3: Putting it all together"
   ]
  },
  {
   "cell_type": "code",
   "execution_count": 38,
   "metadata": {},
   "outputs": [],
   "source": [
    "character:\n",
    "    name: str\n",
    "    weapons: [P1, P2, P3]\n",
    "character = {\n",
    "    'name': 'The Hound',\n",
    "    'weapons': [{\n",
    "        'id': 'W-101',\n",
    "        'name': 'Arakh of Khal Drogo',\n",
    "        'price': 250,\n",
    "        'category': 'Weapons'\n",
    "    }, {\n",
    "        'id': 'W-90',\n",
    "        'name': 'Damascus Steel Widows Wail',\n",
    "        'price': 960,\n",
    "        'category': 'Weapons'\n",
    "    }],\n",
    "    'hemls': [{\n",
    "        'id': 'H-54',\n",
    "        'name': \"The Hound's Helm\",\n",
    "        'price': 120,\n",
    "        'category': 'Helms'\n",
    "    }],\n",
    "    'shields': [{\n",
    "        'id': 'S-81',\n",
    "        'name': 'Lannister Shield',\n",
    "        'price': 310,\n",
    "        'category': 'Shields'\n",
    "    }, {\n",
    "        'id': 'S-13',\n",
    "        'name': 'Stark Infantry Shield',\n",
    "        'price': 180,\n",
    "        'category': 'Shields'\n",
    "    },]\n",
    "}"
   ]
  },
  {
   "cell_type": "code",
   "execution_count": 44,
   "metadata": {},
   "outputs": [
    {
     "data": {
      "text/plain": [
       "{'hemls': {'category': 'Helms',\n",
       "  'id': 'H-54',\n",
       "  'name': \"The Hound's Helm\",\n",
       "  'price': 120},\n",
       " 'shields': {'category': 'Shields',\n",
       "  'id': 'S-81',\n",
       "  'name': 'Lannister Shield',\n",
       "  'price': 310},\n",
       " 'weapons': {'category': 'Weapons',\n",
       "  'id': 'W-90',\n",
       "  'name': 'Damascus Steel Widows Wail',\n",
       "  'price': 960}}"
      ]
     },
     "execution_count": 44,
     "metadata": {},
     "output_type": "execute_result"
    }
   ],
   "source": [
    "\"\"\"\n",
    "weapons: P75,\n",
    "shields: P9\n",
    "helms: P1\n",
    "\"\"\"\n",
    "# Getting the most expensive items under these keys:\n",
    "keys = ['weapons', 'hemls', 'shields']\n",
    "result = {}\n",
    "\n",
    "for key in keys:\n",
    "    products = character[key]\n",
    "    most_expensive_prod_in_key = {}\n",
    "    \n",
    "    for product in products:\n",
    "        price = product['price']\n",
    "        if price > most_expensive_prod_in_key.get('price', 0):\n",
    "            most_expensive_prod_in_key = product\n",
    "\n",
    "    result[key] = most_expensive_prod_in_key\n",
    "result"
   ]
  },
  {
   "cell_type": "code",
   "execution_count": null,
   "metadata": {},
   "outputs": [],
   "source": []
  }
 ],
 "metadata": {
  "kernelspec": {
   "display_name": "Python 3",
   "language": "python",
   "name": "python3"
  },
  "language_info": {
   "codemirror_mode": {
    "name": "ipython",
    "version": 3
   },
   "file_extension": ".py",
   "mimetype": "text/x-python",
   "name": "python",
   "nbconvert_exporter": "python",
   "pygments_lexer": "ipython3",
   "version": "3.6.0"
  }
 },
 "nbformat": 4,
 "nbformat_minor": 2
}
