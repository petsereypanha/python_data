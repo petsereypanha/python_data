{
 "cells": [
  {
   "metadata": {},
   "cell_type": "markdown",
   "source": "# Explicit indexes",
   "id": "880b2b3e22c8fea9"
  },
  {
   "metadata": {},
   "cell_type": "markdown",
   "source": [
    "## Setting and removing indexes\n",
    "pandas allows you to designate columns as an index. This enables cleaner code when taking subsets (as well as providing more efficient lookup under some circumstances).\n",
    "\n",
    "In this chapter, you'll be exploring temperatures, a DataFrame of average temperatures in cities around the world. pandas is loaded as pd.\n",
    "### Instructions\n",
    "- Look at temperatures.\n",
    "- Set the index of temperatures to \"city\", assigning to temperatures_ind.\n",
    "- Look at temperatures_ind. How is it different from temperatures?\n",
    "- Reset the index of temperatures_ind, keeping its contents.\n",
    "- Reset the index of temperatures_ind, dropping its contents."
   ],
   "id": "ad40db058936710b"
  },
  {
   "metadata": {
    "ExecuteTime": {
     "end_time": "2025-08-12T05:38:06.539816Z",
     "start_time": "2025-08-12T05:38:06.512724Z"
    }
   },
   "cell_type": "code",
   "source": [
    "import pandas as pd\n",
    "# Create a DataFrame of temperatures\n",
    "temperatures = pd.read_csv('data/temperatures.csv')"
   ],
   "id": "eecf0da430c1d77f",
   "outputs": [],
   "execution_count": 7
  },
  {
   "metadata": {
    "ExecuteTime": {
     "end_time": "2025-08-12T05:38:06.569803Z",
     "start_time": "2025-08-12T05:38:06.558564Z"
    }
   },
   "cell_type": "code",
   "source": [
    "# Look at temperatures\n",
    "print(temperatures)\n",
    "\n",
    "# Set the index of temperatures to city\n",
    "temperatures_ind = temperatures.set_index('city')\n",
    "\n",
    "# Look at temperatures_ind\n",
    "print(temperatures_ind)\n",
    "\n",
    "# Reset the temperatures_ind index, keeping its contents\n",
    "print(temperatures_ind.reset_index())\n",
    "\n",
    "# Reset the temperatures_ind index, dropping its contents\n",
    "print(temperatures_ind.reset_index(drop=True))"
   ],
   "id": "991948ecd08fc1e2",
   "outputs": [
    {
     "name": "stdout",
     "output_type": "stream",
     "text": [
      "             date     city        country avg_temp_c\n",
      "0      2000-01-01  Abidjan  Côte D'Ivoire     27.293\n",
      "1      2000-02-01  Abidjan  Côte D'Ivoire     27.685\n",
      "2      2000-03-01  Abidjan  Côte D'Ivoire     29.061\n",
      "3      2000-04-01  Abidjan  Côte D'Ivoire     28.162\n",
      "4      2000-05-01  Abidjan  Côte D'Ivoire     27.547\n",
      "...           ...      ...            ...        ...\n",
      "16496  2013-05-01     Xian          China     18.979\n",
      "16497  2013-06-01     Xian          China     23.522\n",
      "16498  2013-07-01     Xian          China     25.251\n",
      "16499  2013-08-01     Xian          China     24.528\n",
      "16500  2013-09-01     Xian          China        NaN\n",
      "\n",
      "[16501 rows x 4 columns]\n",
      "               date        country avg_temp_c\n",
      "city                                         \n",
      "Abidjan  2000-01-01  Côte D'Ivoire     27.293\n",
      "Abidjan  2000-02-01  Côte D'Ivoire     27.685\n",
      "Abidjan  2000-03-01  Côte D'Ivoire     29.061\n",
      "Abidjan  2000-04-01  Côte D'Ivoire     28.162\n",
      "Abidjan  2000-05-01  Côte D'Ivoire     27.547\n",
      "...             ...            ...        ...\n",
      "Xian     2013-05-01          China     18.979\n",
      "Xian     2013-06-01          China     23.522\n",
      "Xian     2013-07-01          China     25.251\n",
      "Xian     2013-08-01          China     24.528\n",
      "Xian     2013-09-01          China        NaN\n",
      "\n",
      "[16501 rows x 3 columns]\n",
      "          city        date        country avg_temp_c\n",
      "0      Abidjan  2000-01-01  Côte D'Ivoire     27.293\n",
      "1      Abidjan  2000-02-01  Côte D'Ivoire     27.685\n",
      "2      Abidjan  2000-03-01  Côte D'Ivoire     29.061\n",
      "3      Abidjan  2000-04-01  Côte D'Ivoire     28.162\n",
      "4      Abidjan  2000-05-01  Côte D'Ivoire     27.547\n",
      "...        ...         ...            ...        ...\n",
      "16496     Xian  2013-05-01          China     18.979\n",
      "16497     Xian  2013-06-01          China     23.522\n",
      "16498     Xian  2013-07-01          China     25.251\n",
      "16499     Xian  2013-08-01          China     24.528\n",
      "16500     Xian  2013-09-01          China        NaN\n",
      "\n",
      "[16501 rows x 4 columns]\n",
      "             date        country avg_temp_c\n",
      "0      2000-01-01  Côte D'Ivoire     27.293\n",
      "1      2000-02-01  Côte D'Ivoire     27.685\n",
      "2      2000-03-01  Côte D'Ivoire     29.061\n",
      "3      2000-04-01  Côte D'Ivoire     28.162\n",
      "4      2000-05-01  Côte D'Ivoire     27.547\n",
      "...           ...            ...        ...\n",
      "16496  2013-05-01          China     18.979\n",
      "16497  2013-06-01          China     23.522\n",
      "16498  2013-07-01          China     25.251\n",
      "16499  2013-08-01          China     24.528\n",
      "16500  2013-09-01          China        NaN\n",
      "\n",
      "[16501 rows x 3 columns]\n"
     ]
    }
   ],
   "execution_count": 8
  },
  {
   "metadata": {},
   "cell_type": "markdown",
   "source": [
    "## Subsetting with .loc[]\n",
    "The killer feature for indexes is .loc[]: a subsetting method that accepts index values. When you pass it a single argument, it will take a subset of rows.\n",
    "\n",
    "The code for subsetting using .loc[] can be easier to read than standard square bracket subsetting, which can make your code less burdensome to maintain.\n",
    "\n",
    "pandas is loaded as pd. temperatures and temperatures_ind are available; the latter is indexed by city.\n",
    "### Instructions\n",
    "- Create a list called cities that contains \"London\" and \"Paris\".\n",
    "- Use [] subsetting to filter temperatures for rows where the city column takes a value in the cities list.\n",
    "- Use .loc[] subsetting to filter temperatures_ind for rows where the city is in the cities list."
   ],
   "id": "4ba3d2eb4f0d5d7c"
  },
  {
   "metadata": {
    "ExecuteTime": {
     "end_time": "2025-08-12T05:38:06.586573Z",
     "start_time": "2025-08-12T05:38:06.579314Z"
    }
   },
   "cell_type": "code",
   "source": [
    "# Make a list of cities to subset on\n",
    "cities = [\"London\", \"Paris\"]\n",
    "\n",
    "# Subset temperatures using square brackets\n",
    "print(temperatures[temperatures['city'].isin(cities)])\n",
    "\n",
    "# Subset temperatures_ind using .loc[]\n",
    "print(temperatures_ind.loc[temperatures_ind.index.isin(cities)])"
   ],
   "id": "ce9459d9fccf6039",
   "outputs": [
    {
     "name": "stdout",
     "output_type": "stream",
     "text": [
      "             date    city         country avg_temp_c\n",
      "8910   2000-01-01  London  United Kingdom      4.693\n",
      "8911   2000-02-01  London  United Kingdom      6.115\n",
      "8912   2000-03-01  London  United Kingdom      7.422\n",
      "8913   2000-04-01  London  United Kingdom      8.246\n",
      "8914   2000-05-01  London  United Kingdom     12.491\n",
      "...           ...     ...             ...        ...\n",
      "12041  2013-05-01   Paris          France     11.703\n",
      "12042  2013-06-01   Paris          France     16.340\n",
      "12043  2013-07-01   Paris          France     21.186\n",
      "12044  2013-08-01   Paris          France     19.235\n",
      "12045  2013-09-01   Paris          France        NaN\n",
      "\n",
      "[330 rows x 4 columns]\n",
      "              date         country avg_temp_c\n",
      "city                                         \n",
      "London  2000-01-01  United Kingdom      4.693\n",
      "London  2000-02-01  United Kingdom      6.115\n",
      "London  2000-03-01  United Kingdom      7.422\n",
      "London  2000-04-01  United Kingdom      8.246\n",
      "London  2000-05-01  United Kingdom     12.491\n",
      "...            ...             ...        ...\n",
      "Paris   2013-05-01          France     11.703\n",
      "Paris   2013-06-01          France     16.340\n",
      "Paris   2013-07-01          France     21.186\n",
      "Paris   2013-08-01          France     19.235\n",
      "Paris   2013-09-01          France        NaN\n",
      "\n",
      "[330 rows x 3 columns]\n"
     ]
    }
   ],
   "execution_count": 9
  },
  {
   "metadata": {},
   "cell_type": "markdown",
   "source": [
    "## Setting multi-level indexes\n",
    "Indexes can also be made out of multiple columns, forming a multi-level index (sometimes called a hierarchical index). There is a trade-off to using these.\n",
    "\n",
    "The benefit is that multi-level indexes make it more natural to reason about nested categorical variables. For example, in a clinical trial, you might have control and treatment groups. Then each test subject belongs to one or another group, and we can say that a test subject is nested inside the treatment group. Similarly, in the temperature dataset, the city is located in the country, so we can say a city is nested inside the country.\n",
    "\n",
    "The main downside is that the code for manipulating indexes is different from the code for manipulating columns, so you have to learn two syntaxes and keep track of how your data is represented.\n",
    "\n",
    "pandas is loaded as pd. temperatures is available.\n",
    "### Instructions\n",
    "- Set the index of temperatures to the \"country\" and \"city\" columns, and assign this to temperatures_ind.\n",
    "- Specify two country/city pairs to keep: \"Brazil\"/\"Rio De Janeiro\" and \"Pakistan\"/\"Lahore\", assigning to rows_to_keep.\n",
    "- Print and subset temperatures_ind for rows_to_keep using .loc[]."
   ],
   "id": "f0f79cdee46e6ab1"
  },
  {
   "metadata": {
    "ExecuteTime": {
     "end_time": "2025-08-12T05:38:06.608500Z",
     "start_time": "2025-08-12T05:38:06.599801Z"
    }
   },
   "cell_type": "code",
   "source": [
    "# Index temperatures by country & city\n",
    "temperatures_ind = temperatures.set_index(['country', 'city'])\n",
    "\n",
    "# List of tuples: Brazil, Rio De Janeiro & Pakistan, Lahore\n",
    "rows_to_keep = [('Brazil', 'Rio De Janeiro'), ('Pakistan', 'Lahore')]\n",
    "\n",
    "# Subset for rows to keep\n",
    "print(temperatures_ind.loc[rows_to_keep])\n"
   ],
   "id": "3ac76b5ac981e686",
   "outputs": [
    {
     "name": "stdout",
     "output_type": "stream",
     "text": [
      "                               date avg_temp_c\n",
      "country  city                                 \n",
      "Brazil   Rio De Janeiro  2000-01-01     25.974\n",
      "         Rio De Janeiro  2000-02-01     26.699\n",
      "         Rio De Janeiro  2000-03-01     26.270\n",
      "         Rio De Janeiro  2000-04-01     25.750\n",
      "         Rio De Janeiro  2000-05-01     24.356\n",
      "...                             ...        ...\n",
      "Pakistan Lahore          2013-05-01     33.457\n",
      "         Lahore          2013-06-01     34.456\n",
      "         Lahore          2013-07-01     33.279\n",
      "         Lahore          2013-08-01     31.511\n",
      "         Lahore          2013-09-01        NaN\n",
      "\n",
      "[330 rows x 2 columns]\n"
     ]
    }
   ],
   "execution_count": 10
  },
  {
   "metadata": {},
   "cell_type": "markdown",
   "source": [
    "## Sorting by index values\n",
    "Previously, you changed the order of the rows in a DataFrame by calling .sort_values(). It's also useful to be able to sort by elements in the index. For this, you need to use .sort_index().\n",
    "\n",
    "pandas is loaded as pd. temperatures_ind has a multi-level index of country and city, and is available.\n",
    "### Instructions\n",
    "- Sort temperatures_ind by the index values.\n",
    "- Sort temperatures_ind by the index values at the \"city\" level.\n",
    "- Sort temperatures_ind by ascending country then descending city."
   ],
   "id": "44bd16362a50c0eb"
  },
  {
   "metadata": {
    "ExecuteTime": {
     "end_time": "2025-08-12T05:41:16.608431Z",
     "start_time": "2025-08-12T05:41:16.578746Z"
    }
   },
   "cell_type": "code",
   "source": [
    "# Sort temperatures_ind by index values\n",
    "print(temperatures_ind.sort_index())\n",
    "\n",
    "# Sort temperatures_ind by index values at the city level\n",
    "print(temperatures_ind.sort_index(level='city'))\n",
    "\n",
    "# Sort temperatures_ind by country then descending city\n",
    "print(temperatures_ind.sort_index(level=['country', 'city'], ascending=[True, False]))"
   ],
   "id": "13eefe483665ffe5",
   "outputs": [
    {
     "name": "stdout",
     "output_type": "stream",
     "text": [
      "                          date  avg_temp_c\n",
      "country     city                          \n",
      "Afghanistan Kabul   2000-01-01       3.326\n",
      "            Kabul   2000-02-01       3.454\n",
      "            Kabul   2000-03-01       9.612\n",
      "            Kabul   2000-04-01      17.925\n",
      "            Kabul   2000-05-01      24.658\n",
      "...                        ...         ...\n",
      "Zimbabwe    Harare  2013-06-01       17.02\n",
      "            Harare  2013-07-01      16.299\n",
      "            Harare  2013-08-01      19.232\n",
      "            Harare  2013-09-01         NaN\n",
      "country     city          date  avg_temp_c\n",
      "\n",
      "[16501 rows x 2 columns]\n",
      "                             date  avg_temp_c\n",
      "country       city                           \n",
      "Côte D'Ivoire Abidjan  2000-01-01      27.293\n",
      "              Abidjan  2000-02-01      27.685\n",
      "              Abidjan  2000-03-01      29.061\n",
      "              Abidjan  2000-04-01      28.162\n",
      "              Abidjan  2000-05-01      27.547\n",
      "...                           ...         ...\n",
      "China         Xian     2013-06-01      23.522\n",
      "              Xian     2013-07-01      25.251\n",
      "              Xian     2013-08-01      24.528\n",
      "              Xian     2013-09-01         NaN\n",
      "country       city           date  avg_temp_c\n",
      "\n",
      "[16501 rows x 2 columns]\n",
      "                          date  avg_temp_c\n",
      "country     city                          \n",
      "Afghanistan Kabul   2000-01-01       3.326\n",
      "            Kabul   2000-02-01       3.454\n",
      "            Kabul   2000-03-01       9.612\n",
      "            Kabul   2000-04-01      17.925\n",
      "            Kabul   2000-05-01      24.658\n",
      "...                        ...         ...\n",
      "Zimbabwe    Harare  2013-06-01       17.02\n",
      "            Harare  2013-07-01      16.299\n",
      "            Harare  2013-08-01      19.232\n",
      "            Harare  2013-09-01         NaN\n",
      "country     city          date  avg_temp_c\n",
      "\n",
      "[16501 rows x 2 columns]\n"
     ]
    }
   ],
   "execution_count": 11
  }
 ],
 "metadata": {
  "kernelspec": {
   "display_name": "Python 3",
   "language": "python",
   "name": "python3"
  },
  "language_info": {
   "codemirror_mode": {
    "name": "ipython",
    "version": 2
   },
   "file_extension": ".py",
   "mimetype": "text/x-python",
   "name": "python",
   "nbconvert_exporter": "python",
   "pygments_lexer": "ipython2",
   "version": "2.7.6"
  }
 },
 "nbformat": 4,
 "nbformat_minor": 5
}
