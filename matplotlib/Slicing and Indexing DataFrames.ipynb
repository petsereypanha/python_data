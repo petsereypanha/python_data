{
 "cells": [
  {
   "metadata": {},
   "cell_type": "markdown",
   "source": "# Explicit indexes",
   "id": "880b2b3e22c8fea9"
  },
  {
   "metadata": {},
   "cell_type": "markdown",
   "source": [
    "## Setting and removing indexes\n",
    "pandas allows you to designate columns as an index. This enables cleaner code when taking subsets (as well as providing more efficient lookup under some circumstances).\n",
    "\n",
    "In this chapter, you'll be exploring temperatures, a DataFrame of average temperatures in cities around the world. pandas is loaded as pd.\n",
    "### Instructions\n",
    "- Look at temperatures.\n",
    "- Set the index of temperatures to \"city\", assigning to temperatures_ind.\n",
    "- Look at temperatures_ind. How is it different from temperatures?\n",
    "- Reset the index of temperatures_ind, keeping its contents.\n",
    "- Reset the index of temperatures_ind, dropping its contents."
   ],
   "id": "ad40db058936710b"
  },
  {
   "metadata": {
    "ExecuteTime": {
     "end_time": "2025-08-12T16:31:08.789345Z",
     "start_time": "2025-08-12T16:31:08.280598Z"
    }
   },
   "cell_type": "code",
   "source": [
    "import pandas as pd\n",
    "# Create a DataFrame of temperatures\n",
    "temperatures = pd.read_csv('data/temperatures.csv')"
   ],
   "id": "eecf0da430c1d77f",
   "outputs": [],
   "execution_count": 2
  },
  {
   "metadata": {
    "ExecuteTime": {
     "end_time": "2025-08-12T16:31:08.822580Z",
     "start_time": "2025-08-12T16:31:08.809844Z"
    }
   },
   "cell_type": "code",
   "source": [
    "# Look at temperatures\n",
    "print(temperatures)\n",
    "\n",
    "# Set the index of temperatures to city\n",
    "temperatures_ind = temperatures.set_index('city')\n",
    "\n",
    "# Look at temperatures_ind\n",
    "print(temperatures_ind)\n",
    "\n",
    "# Reset the temperatures_ind index, keeping its contents\n",
    "print(temperatures_ind.reset_index())\n",
    "\n",
    "# Reset the temperatures_ind index, dropping its contents\n",
    "print(temperatures_ind.reset_index(drop=True))"
   ],
   "id": "991948ecd08fc1e2",
   "outputs": [
    {
     "name": "stdout",
     "output_type": "stream",
     "text": [
      "             date     city        country  avg_temp_c  year\n",
      "0      2000-01-01  Abidjan  Côte D'Ivoire      27.293  2000\n",
      "1      2000-02-01  Abidjan  Côte D'Ivoire      27.685  2000\n",
      "2      2000-03-01  Abidjan  Côte D'Ivoire      29.061  2000\n",
      "3      2000-04-01  Abidjan  Côte D'Ivoire      28.162  2000\n",
      "4      2000-05-01  Abidjan  Côte D'Ivoire      27.547  2000\n",
      "...           ...      ...            ...         ...   ...\n",
      "16495  2013-05-01     Xian          China      18.979  2013\n",
      "16496  2013-06-01     Xian          China      23.522  2013\n",
      "16497  2013-07-01     Xian          China      25.251  2013\n",
      "16498  2013-08-01     Xian          China      24.528  2013\n",
      "16499  2013-09-01     Xian          China         NaN  2013\n",
      "\n",
      "[16500 rows x 5 columns]\n",
      "               date        country  avg_temp_c  year\n",
      "city                                                \n",
      "Abidjan  2000-01-01  Côte D'Ivoire      27.293  2000\n",
      "Abidjan  2000-02-01  Côte D'Ivoire      27.685  2000\n",
      "Abidjan  2000-03-01  Côte D'Ivoire      29.061  2000\n",
      "Abidjan  2000-04-01  Côte D'Ivoire      28.162  2000\n",
      "Abidjan  2000-05-01  Côte D'Ivoire      27.547  2000\n",
      "...             ...            ...         ...   ...\n",
      "Xian     2013-05-01          China      18.979  2013\n",
      "Xian     2013-06-01          China      23.522  2013\n",
      "Xian     2013-07-01          China      25.251  2013\n",
      "Xian     2013-08-01          China      24.528  2013\n",
      "Xian     2013-09-01          China         NaN  2013\n",
      "\n",
      "[16500 rows x 4 columns]\n",
      "          city        date        country  avg_temp_c  year\n",
      "0      Abidjan  2000-01-01  Côte D'Ivoire      27.293  2000\n",
      "1      Abidjan  2000-02-01  Côte D'Ivoire      27.685  2000\n",
      "2      Abidjan  2000-03-01  Côte D'Ivoire      29.061  2000\n",
      "3      Abidjan  2000-04-01  Côte D'Ivoire      28.162  2000\n",
      "4      Abidjan  2000-05-01  Côte D'Ivoire      27.547  2000\n",
      "...        ...         ...            ...         ...   ...\n",
      "16495     Xian  2013-05-01          China      18.979  2013\n",
      "16496     Xian  2013-06-01          China      23.522  2013\n",
      "16497     Xian  2013-07-01          China      25.251  2013\n",
      "16498     Xian  2013-08-01          China      24.528  2013\n",
      "16499     Xian  2013-09-01          China         NaN  2013\n",
      "\n",
      "[16500 rows x 5 columns]\n",
      "             date        country  avg_temp_c  year\n",
      "0      2000-01-01  Côte D'Ivoire      27.293  2000\n",
      "1      2000-02-01  Côte D'Ivoire      27.685  2000\n",
      "2      2000-03-01  Côte D'Ivoire      29.061  2000\n",
      "3      2000-04-01  Côte D'Ivoire      28.162  2000\n",
      "4      2000-05-01  Côte D'Ivoire      27.547  2000\n",
      "...           ...            ...         ...   ...\n",
      "16495  2013-05-01          China      18.979  2013\n",
      "16496  2013-06-01          China      23.522  2013\n",
      "16497  2013-07-01          China      25.251  2013\n",
      "16498  2013-08-01          China      24.528  2013\n",
      "16499  2013-09-01          China         NaN  2013\n",
      "\n",
      "[16500 rows x 4 columns]\n"
     ]
    }
   ],
   "execution_count": 3
  },
  {
   "metadata": {},
   "cell_type": "markdown",
   "source": [
    "## Subsetting with .loc[]\n",
    "The killer feature for indexes is .loc[]: a subsetting method that accepts index values. When you pass it a single argument, it will take a subset of rows.\n",
    "\n",
    "The code for subsetting using .loc[] can be easier to read than standard square bracket subsetting, which can make your code less burdensome to maintain.\n",
    "\n",
    "pandas is loaded as pd. temperatures and temperatures_ind are available; the latter is indexed by city.\n",
    "### Instructions\n",
    "- Create a list called cities that contains \"London\" and \"Paris\".\n",
    "- Use [] subsetting to filter temperatures for rows where the city column takes a value in the cities list.\n",
    "- Use .loc[] subsetting to filter temperatures_ind for rows where the city is in the cities list."
   ],
   "id": "4ba3d2eb4f0d5d7c"
  },
  {
   "metadata": {
    "ExecuteTime": {
     "end_time": "2025-08-12T16:31:08.925996Z",
     "start_time": "2025-08-12T16:31:08.917400Z"
    }
   },
   "cell_type": "code",
   "source": [
    "# Make a list of cities to subset on\n",
    "cities = [\"London\", \"Paris\"]\n",
    "\n",
    "# Subset temperatures using square brackets\n",
    "print(temperatures[temperatures['city'].isin(cities)])\n",
    "\n",
    "# Subset temperatures_ind using .loc[]\n",
    "print(temperatures_ind.loc[temperatures_ind.index.isin(cities)])"
   ],
   "id": "ce9459d9fccf6039",
   "outputs": [
    {
     "name": "stdout",
     "output_type": "stream",
     "text": [
      "             date    city         country  avg_temp_c  year\n",
      "8910   2000-01-01  London  United Kingdom       4.693  2000\n",
      "8911   2000-02-01  London  United Kingdom       6.115  2000\n",
      "8912   2000-03-01  London  United Kingdom       7.422  2000\n",
      "8913   2000-04-01  London  United Kingdom       8.246  2000\n",
      "8914   2000-05-01  London  United Kingdom      12.491  2000\n",
      "...           ...     ...             ...         ...   ...\n",
      "12040  2013-05-01   Paris          France      11.703  2013\n",
      "12041  2013-06-01   Paris          France      16.340  2013\n",
      "12042  2013-07-01   Paris          France      21.186  2013\n",
      "12043  2013-08-01   Paris          France      19.235  2013\n",
      "12044  2013-09-01   Paris          France         NaN  2013\n",
      "\n",
      "[330 rows x 5 columns]\n",
      "              date         country  avg_temp_c  year\n",
      "city                                                \n",
      "London  2000-01-01  United Kingdom       4.693  2000\n",
      "London  2000-02-01  United Kingdom       6.115  2000\n",
      "London  2000-03-01  United Kingdom       7.422  2000\n",
      "London  2000-04-01  United Kingdom       8.246  2000\n",
      "London  2000-05-01  United Kingdom      12.491  2000\n",
      "...            ...             ...         ...   ...\n",
      "Paris   2013-05-01          France      11.703  2013\n",
      "Paris   2013-06-01          France      16.340  2013\n",
      "Paris   2013-07-01          France      21.186  2013\n",
      "Paris   2013-08-01          France      19.235  2013\n",
      "Paris   2013-09-01          France         NaN  2013\n",
      "\n",
      "[330 rows x 4 columns]\n"
     ]
    }
   ],
   "execution_count": 4
  },
  {
   "metadata": {},
   "cell_type": "markdown",
   "source": [
    "## Setting multi-level indexes\n",
    "Indexes can also be made out of multiple columns, forming a multi-level index (sometimes called a hierarchical index). There is a trade-off to using these.\n",
    "\n",
    "The benefit is that multi-level indexes make it more natural to reason about nested categorical variables. For example, in a clinical trial, you might have control and treatment groups. Then each test subject belongs to one or another group, and we can say that a test subject is nested inside the treatment group. Similarly, in the temperature dataset, the city is located in the country, so we can say a city is nested inside the country.\n",
    "\n",
    "The main downside is that the code for manipulating indexes is different from the code for manipulating columns, so you have to learn two syntaxes and keep track of how your data is represented.\n",
    "\n",
    "pandas is loaded as pd. temperatures is available.\n",
    "### Instructions\n",
    "- Set the index of temperatures to the \"country\" and \"city\" columns, and assign this to temperatures_ind.\n",
    "- Specify two country/city pairs to keep: \"Brazil\"/\"Rio De Janeiro\" and \"Pakistan\"/\"Lahore\", assigning to rows_to_keep.\n",
    "- Print and subset temperatures_ind for rows_to_keep using .loc[]."
   ],
   "id": "f0f79cdee46e6ab1"
  },
  {
   "metadata": {
    "ExecuteTime": {
     "end_time": "2025-08-12T16:31:08.992423Z",
     "start_time": "2025-08-12T16:31:08.978244Z"
    }
   },
   "cell_type": "code",
   "source": [
    "# Index temperatures by country & city\n",
    "temperatures_ind = temperatures.set_index(['country', 'city'])\n",
    "\n",
    "# List of tuples: Brazil, Rio De Janeiro & Pakistan, Lahore\n",
    "rows_to_keep = [('Brazil', 'Rio De Janeiro'), ('Pakistan', 'Lahore')]\n",
    "\n",
    "# Subset for rows to keep\n",
    "print(temperatures_ind.loc[rows_to_keep])\n"
   ],
   "id": "3ac76b5ac981e686",
   "outputs": [
    {
     "name": "stdout",
     "output_type": "stream",
     "text": [
      "                               date  avg_temp_c  year\n",
      "country  city                                        \n",
      "Brazil   Rio De Janeiro  2000-01-01      25.974  2000\n",
      "         Rio De Janeiro  2000-02-01      26.699  2000\n",
      "         Rio De Janeiro  2000-03-01      26.270  2000\n",
      "         Rio De Janeiro  2000-04-01      25.750  2000\n",
      "         Rio De Janeiro  2000-05-01      24.356  2000\n",
      "...                             ...         ...   ...\n",
      "Pakistan Lahore          2013-05-01      33.457  2013\n",
      "         Lahore          2013-06-01      34.456  2013\n",
      "         Lahore          2013-07-01      33.279  2013\n",
      "         Lahore          2013-08-01      31.511  2013\n",
      "         Lahore          2013-09-01         NaN  2013\n",
      "\n",
      "[330 rows x 3 columns]\n"
     ]
    }
   ],
   "execution_count": 5
  },
  {
   "metadata": {},
   "cell_type": "markdown",
   "source": [
    "## Sorting by index values\n",
    "Previously, you changed the order of the rows in a DataFrame by calling .sort_values(). It's also useful to be able to sort by elements in the index. For this, you need to use .sort_index().\n",
    "\n",
    "pandas is loaded as pd. temperatures_ind has a multi-level index of country and city, and is available.\n",
    "### Instructions\n",
    "- Sort temperatures_ind by the index values.\n",
    "- Sort temperatures_ind by the index values at the \"city\" level.\n",
    "- Sort temperatures_ind by ascending country then descending city."
   ],
   "id": "44bd16362a50c0eb"
  },
  {
   "metadata": {
    "ExecuteTime": {
     "end_time": "2025-08-12T16:31:09.040230Z",
     "start_time": "2025-08-12T16:31:09.022162Z"
    }
   },
   "cell_type": "code",
   "source": [
    "# Sort temperatures_ind by index values\n",
    "print(temperatures_ind.sort_index())\n",
    "\n",
    "# Sort temperatures_ind by index values at the city level\n",
    "print(temperatures_ind.sort_index(level='city'))\n",
    "\n",
    "# Sort temperatures_ind by country then descending city\n",
    "print(temperatures_ind.sort_index(level=['country', 'city'], ascending=[True, False]))"
   ],
   "id": "13eefe483665ffe5",
   "outputs": [
    {
     "name": "stdout",
     "output_type": "stream",
     "text": [
      "                          date  avg_temp_c  year\n",
      "country     city                                \n",
      "Afghanistan Kabul   2000-01-01       3.326  2000\n",
      "            Kabul   2000-02-01       3.454  2000\n",
      "            Kabul   2000-03-01       9.612  2000\n",
      "            Kabul   2000-04-01      17.925  2000\n",
      "            Kabul   2000-05-01      24.658  2000\n",
      "...                        ...         ...   ...\n",
      "Zimbabwe    Harare  2013-05-01      18.298  2013\n",
      "            Harare  2013-06-01      17.020  2013\n",
      "            Harare  2013-07-01      16.299  2013\n",
      "            Harare  2013-08-01      19.232  2013\n",
      "            Harare  2013-09-01         NaN  2013\n",
      "\n",
      "[16500 rows x 3 columns]\n",
      "                             date  avg_temp_c  year\n",
      "country       city                                 \n",
      "Côte D'Ivoire Abidjan  2000-01-01      27.293  2000\n",
      "              Abidjan  2000-02-01      27.685  2000\n",
      "              Abidjan  2000-03-01      29.061  2000\n",
      "              Abidjan  2000-04-01      28.162  2000\n",
      "              Abidjan  2000-05-01      27.547  2000\n",
      "...                           ...         ...   ...\n",
      "China         Xian     2013-05-01      18.979  2013\n",
      "              Xian     2013-06-01      23.522  2013\n",
      "              Xian     2013-07-01      25.251  2013\n",
      "              Xian     2013-08-01      24.528  2013\n",
      "              Xian     2013-09-01         NaN  2013\n",
      "\n",
      "[16500 rows x 3 columns]\n",
      "                          date  avg_temp_c  year\n",
      "country     city                                \n",
      "Afghanistan Kabul   2000-01-01       3.326  2000\n",
      "            Kabul   2000-02-01       3.454  2000\n",
      "            Kabul   2000-03-01       9.612  2000\n",
      "            Kabul   2000-04-01      17.925  2000\n",
      "            Kabul   2000-05-01      24.658  2000\n",
      "...                        ...         ...   ...\n",
      "Zimbabwe    Harare  2013-05-01      18.298  2013\n",
      "            Harare  2013-06-01      17.020  2013\n",
      "            Harare  2013-07-01      16.299  2013\n",
      "            Harare  2013-08-01      19.232  2013\n",
      "            Harare  2013-09-01         NaN  2013\n",
      "\n",
      "[16500 rows x 3 columns]\n"
     ]
    }
   ],
   "execution_count": 6
  },
  {
   "metadata": {},
   "cell_type": "markdown",
   "source": "# Slicing and subsetting with .loc and .iloc",
   "id": "b34e0cf917c9bc85"
  },
  {
   "metadata": {},
   "cell_type": "markdown",
   "source": [
    "## Slicing index values\n",
    "Slicing lets you select consecutive elements of an object using first:last syntax. DataFrames can be sliced by index values or by row/column number; we'll start with the first case. This involves slicing inside the .loc[] method.\n",
    "\n",
    "Compared to slicing lists, there are a few things to remember.\n",
    "\n",
    "- You can only slice an index if the index is sorted (using .sort_index()).\n",
    "- To slice at the outer level, first and last can be strings.\n",
    "- To slice at inner levels, first and last should be tuples.\n",
    "- If you pass a single slice to .loc[], it will slice the rows.\n",
    "\n",
    "pandas is loaded as pd. temperatures_ind has country and city in the index, and is available.\n",
    "### Instructions\n",
    "- Sort the index of temperatures_ind.\n",
    "- Use slicing with .loc[] to get these subsets:\n",
    "    - from Pakistan to Philippines.\n",
    "    - from Lahore to Manila. (This will return nonsense.)\n",
    "    - from Pakistan, Lahore to Philippines, Manila."
   ],
   "id": "3e05d1002133cd3a"
  },
  {
   "metadata": {
    "ExecuteTime": {
     "end_time": "2025-08-12T16:31:09.080166Z",
     "start_time": "2025-08-12T16:31:09.068259Z"
    }
   },
   "cell_type": "code",
   "source": [
    "# Sort the index of temperatures_ind\n",
    "temperatures_srt = temperatures_ind.sort_index()\n",
    "\n",
    "# Subset rows from Pakistan to Philippines\n",
    "print(temperatures_srt.loc['Pakistan':'Philippines'])\n",
    "\n",
    "# Try to subset rows from Lahore to Manila\n",
    "print(temperatures_srt.loc['Lahore':'Manila'])\n",
    "\n",
    "# Subset rows from Pakistan, Lahore to Philippines, Manila\n",
    "print(temperatures_srt.loc[('Pakistan', 'Lahore'):('Philippines', 'Manila')])"
   ],
   "id": "e9290e2e805df9bd",
   "outputs": [
    {
     "name": "stdout",
     "output_type": "stream",
     "text": [
      "                              date  avg_temp_c  year\n",
      "country     city                                    \n",
      "Pakistan    Faisalabad  2000-01-01      12.792  2000\n",
      "            Faisalabad  2000-02-01      14.339  2000\n",
      "            Faisalabad  2000-03-01      20.309  2000\n",
      "            Faisalabad  2000-04-01      29.072  2000\n",
      "            Faisalabad  2000-05-01      34.845  2000\n",
      "...                            ...         ...   ...\n",
      "Philippines Manila      2013-05-01      29.552  2013\n",
      "            Manila      2013-06-01      28.572  2013\n",
      "            Manila      2013-07-01      27.266  2013\n",
      "            Manila      2013-08-01      26.754  2013\n",
      "            Manila      2013-09-01         NaN  2013\n",
      "\n",
      "[825 rows x 3 columns]\n",
      "Empty DataFrame\n",
      "Columns: [date, avg_temp_c, year]\n",
      "Index: []\n",
      "                          date  avg_temp_c  year\n",
      "country     city                                \n",
      "Pakistan    Lahore  2000-01-01      12.792  2000\n",
      "            Lahore  2000-02-01      14.339  2000\n",
      "            Lahore  2000-03-01      20.309  2000\n",
      "            Lahore  2000-04-01      29.072  2000\n",
      "            Lahore  2000-05-01      34.845  2000\n",
      "...                        ...         ...   ...\n",
      "Philippines Manila  2013-05-01      29.552  2013\n",
      "            Manila  2013-06-01      28.572  2013\n",
      "            Manila  2013-07-01      27.266  2013\n",
      "            Manila  2013-08-01      26.754  2013\n",
      "            Manila  2013-09-01         NaN  2013\n",
      "\n",
      "[495 rows x 3 columns]\n"
     ]
    }
   ],
   "execution_count": 7
  },
  {
   "metadata": {},
   "cell_type": "markdown",
   "source": [
    "## Slicing in both directions\n",
    "You've seen slicing DataFrames by rows and by columns, but since DataFrames are two-dimensional objects, it is often natural to slice both dimensions at once. That is, by passing two arguments to .loc[], you can subset by rows and columns in one go.\n",
    "\n",
    "pandas is loaded as pd. temperatures_srt is indexed by country and city, has a sorted index, and is available.\n",
    "### Instructions\n",
    "- Use .loc[] slicing to subset rows from India, Hyderabad to Iraq, Baghdad.\n",
    "- Use .loc[] slicing to subset columns from date to avg_temp_c.\n",
    "- Slice in both directions at once from Hyderabad to Baghdad, and date to avg_temp_c."
   ],
   "id": "d3ec00ead657cd"
  },
  {
   "metadata": {
    "ExecuteTime": {
     "end_time": "2025-08-12T16:31:09.116369Z",
     "start_time": "2025-08-12T16:31:09.110409Z"
    }
   },
   "cell_type": "code",
   "source": [
    "# Subset rows from India, Hyderabad to Iraq, Baghdad\n",
    "print(temperatures_srt.loc[('India','Hyderabad'):('Iraq','Baghdad')])"
   ],
   "id": "90c342f7bf05d11d",
   "outputs": [
    {
     "name": "stdout",
     "output_type": "stream",
     "text": [
      "                         date  avg_temp_c  year\n",
      "country city                                   \n",
      "India   Hyderabad  2000-01-01      23.779  2000\n",
      "        Hyderabad  2000-02-01      25.826  2000\n",
      "        Hyderabad  2000-03-01      28.821  2000\n",
      "        Hyderabad  2000-04-01      32.698  2000\n",
      "        Hyderabad  2000-05-01      32.438  2000\n",
      "...                       ...         ...   ...\n",
      "Iraq    Baghdad    2013-05-01      28.673  2013\n",
      "        Baghdad    2013-06-01      33.803  2013\n",
      "        Baghdad    2013-07-01      36.392  2013\n",
      "        Baghdad    2013-08-01      35.463  2013\n",
      "        Baghdad    2013-09-01         NaN  2013\n",
      "\n",
      "[2145 rows x 3 columns]\n"
     ]
    }
   ],
   "execution_count": 8
  },
  {
   "metadata": {
    "ExecuteTime": {
     "end_time": "2025-08-12T16:31:09.144324Z",
     "start_time": "2025-08-12T16:31:09.138636Z"
    }
   },
   "cell_type": "code",
   "source": [
    "# Subset columns from date to avg_temp_c\n",
    "print(temperatures_srt.loc[:, 'date':'avg_temp_c'])"
   ],
   "id": "2ea94f2ecfb549f0",
   "outputs": [
    {
     "name": "stdout",
     "output_type": "stream",
     "text": [
      "                          date  avg_temp_c\n",
      "country     city                          \n",
      "Afghanistan Kabul   2000-01-01       3.326\n",
      "            Kabul   2000-02-01       3.454\n",
      "            Kabul   2000-03-01       9.612\n",
      "            Kabul   2000-04-01      17.925\n",
      "            Kabul   2000-05-01      24.658\n",
      "...                        ...         ...\n",
      "Zimbabwe    Harare  2013-05-01      18.298\n",
      "            Harare  2013-06-01      17.020\n",
      "            Harare  2013-07-01      16.299\n",
      "            Harare  2013-08-01      19.232\n",
      "            Harare  2013-09-01         NaN\n",
      "\n",
      "[16500 rows x 2 columns]\n"
     ]
    }
   ],
   "execution_count": 9
  },
  {
   "metadata": {
    "ExecuteTime": {
     "end_time": "2025-08-12T16:31:09.193709Z",
     "start_time": "2025-08-12T16:31:09.188039Z"
    }
   },
   "cell_type": "code",
   "source": [
    "# Subset in both directions at once\n",
    "# Subset in both directions at once\n",
    "print(temperatures_srt.loc[('India', 'Hyderabad'):('Iraq', 'Baghdad'), 'date':'avg_temp_c'])"
   ],
   "id": "221a6196e751c5e3",
   "outputs": [
    {
     "name": "stdout",
     "output_type": "stream",
     "text": [
      "                         date  avg_temp_c\n",
      "country city                             \n",
      "India   Hyderabad  2000-01-01      23.779\n",
      "        Hyderabad  2000-02-01      25.826\n",
      "        Hyderabad  2000-03-01      28.821\n",
      "        Hyderabad  2000-04-01      32.698\n",
      "        Hyderabad  2000-05-01      32.438\n",
      "...                       ...         ...\n",
      "Iraq    Baghdad    2013-05-01      28.673\n",
      "        Baghdad    2013-06-01      33.803\n",
      "        Baghdad    2013-07-01      36.392\n",
      "        Baghdad    2013-08-01      35.463\n",
      "        Baghdad    2013-09-01         NaN\n",
      "\n",
      "[2145 rows x 2 columns]\n"
     ]
    }
   ],
   "execution_count": 10
  },
  {
   "metadata": {},
   "cell_type": "markdown",
   "source": [
    "## Slicing time series\n",
    "Slicing is particularly useful for time series since it's a common thing to want to filter for data within a date range. Add the date column to the index, then use .loc[] to perform the subsetting. The important thing to remember is to keep your dates in ISO 8601 format, that is, \"yyyy-mm-dd\" for year-month-day, \"yyyy-mm\" for year-month, and \"yyyy\" for year.\n",
    "\n",
    "Recall from Chapter 1 that you can combine multiple Boolean conditions using logical operators, such as &. To do so in one line of code, you'll need to add parentheses () around each condition.\n",
    "\n",
    "pandas is loaded as pd and temperatures, with no index, is available.\n",
    "### Instructions\n",
    "- Use Boolean conditions, not .isin() or .loc[], and the full date \"yyyy-mm-dd\", to subset temperatures for rows where the date column is in 2010 and 2011 and print the results.\n",
    "- Set the index of temperatures to the date column and sort it.\n",
    "- Use .loc[] to subset temperatures_ind for rows in 2010 and 2011.\n",
    "- Use .loc[] to subset temperatures_ind for rows from August 2010 to February 2011."
   ],
   "id": "c6f946184e9ad1b9"
  },
  {
   "metadata": {
    "ExecuteTime": {
     "end_time": "2025-08-12T16:31:09.243945Z",
     "start_time": "2025-08-12T16:31:09.237001Z"
    }
   },
   "cell_type": "code",
   "source": [
    "# Use Boolean conditions to subset temperatures for rows in 2010 and 2011\n",
    "temperatures_bool = temperatures[(temperatures['date'] >= '2010-01-01') & (temperatures['date'] <= '2011-12-31')]\n",
    "print(temperatures_bool)"
   ],
   "id": "fc7808cbd48bd24b",
   "outputs": [
    {
     "name": "stdout",
     "output_type": "stream",
     "text": [
      "             date     city        country  avg_temp_c  year\n",
      "120    2010-01-01  Abidjan  Côte D'Ivoire      28.270  2010\n",
      "121    2010-02-01  Abidjan  Côte D'Ivoire      29.262  2010\n",
      "122    2010-03-01  Abidjan  Côte D'Ivoire      29.596  2010\n",
      "123    2010-04-01  Abidjan  Côte D'Ivoire      29.068  2010\n",
      "124    2010-05-01  Abidjan  Côte D'Ivoire      28.258  2010\n",
      "...           ...      ...            ...         ...   ...\n",
      "16474  2011-08-01     Xian          China      23.069  2011\n",
      "16475  2011-09-01     Xian          China      16.775  2011\n",
      "16476  2011-10-01     Xian          China      12.587  2011\n",
      "16477  2011-11-01     Xian          China       7.543  2011\n",
      "16478  2011-12-01     Xian          China      -0.490  2011\n",
      "\n",
      "[2400 rows x 5 columns]\n"
     ]
    }
   ],
   "execution_count": 11
  },
  {
   "metadata": {
    "ExecuteTime": {
     "end_time": "2025-08-12T16:31:09.301894Z",
     "start_time": "2025-08-12T16:31:09.283573Z"
    }
   },
   "cell_type": "code",
   "source": [
    "\n",
    "# Set date as the index and sort the index\n",
    "temperatures_ind = temperatures.set_index('date').sort_index()\n",
    "\n",
    "# Use .loc[] to subset temperatures_ind for rows in 2010 and 2011\n",
    "print(temperatures_ind.loc['2010':'2011'])\n",
    "\n",
    "# Use .loc[] to subset temperatures_ind for rows from Aug 2010 to Feb 2011\n",
    "print(temperatures_ind.loc['2010-08':'2011-02'])"
   ],
   "id": "8beb91fec30604b9",
   "outputs": [
    {
     "name": "stdout",
     "output_type": "stream",
     "text": [
      "                  city    country  avg_temp_c  year\n",
      "date                                               \n",
      "2010-01-01  Faisalabad   Pakistan      11.810  2010\n",
      "2010-01-01   Melbourne  Australia      20.016  2010\n",
      "2010-01-01   Chongqing      China       7.921  2010\n",
      "2010-01-01   São Paulo     Brazil      23.738  2010\n",
      "2010-01-01   Guangzhou      China      14.136  2010\n",
      "...                ...        ...         ...   ...\n",
      "2010-12-01     Jakarta  Indonesia      26.602  2010\n",
      "2010-12-01       Gizeh      Egypt      16.530  2010\n",
      "2010-12-01      Nagpur      India      19.120  2010\n",
      "2010-12-01      Sydney  Australia      19.559  2010\n",
      "2010-12-01    Salvador     Brazil      26.265  2010\n",
      "\n",
      "[1200 rows x 4 columns]\n",
      "                     city        country  avg_temp_c  year\n",
      "date                                                      \n",
      "2010-08-01       Calcutta          India      30.226  2010\n",
      "2010-08-01           Pune          India      24.941  2010\n",
      "2010-08-01          Izmir         Turkey      28.352  2010\n",
      "2010-08-01        Tianjin          China      25.543  2010\n",
      "2010-08-01         Manila    Philippines      27.101  2010\n",
      "...                   ...            ...         ...   ...\n",
      "2011-01-01  Dar Es Salaam       Tanzania      28.541  2011\n",
      "2011-01-01        Nairobi          Kenya      17.768  2011\n",
      "2011-01-01    Addis Abeba       Ethiopia      17.708  2011\n",
      "2011-01-01        Nanjing          China       0.144  2011\n",
      "2011-01-01       New York  United States      -4.463  2011\n",
      "\n",
      "[600 rows x 4 columns]\n"
     ]
    }
   ],
   "execution_count": 12
  },
  {
   "metadata": {},
   "cell_type": "markdown",
   "source": [
    "## Subsetting by row/column number\n",
    "The most common ways to subset rows are the ways we've previously discussed: using a Boolean condition or by index labels. However, it is also occasionally useful to pass row numbers.\n",
    "\n",
    "This is done using .iloc[], and like .loc[], it can take two arguments to let you subset by rows and columns.\n",
    "\n",
    "pandas is loaded as pd. temperatures (without an index) is available.\n",
    "### Instructions\n",
    "+ Use .iloc[] on temperatures to take subsets.\n",
    "    - Get the 23rd row, 2nd column (index positions 22 and 1).\n",
    "    - Get the first 5 rows (index positions 0 to 5).\n",
    "    - Get all rows, columns 3 and 4 (index positions 2 to 4).\n",
    "    - Get the first 5 rows, columns 3 and 4."
   ],
   "id": "97d25b140e9f3ab6"
  },
  {
   "metadata": {
    "ExecuteTime": {
     "end_time": "2025-08-12T16:31:09.348340Z",
     "start_time": "2025-08-12T16:31:09.343667Z"
    }
   },
   "cell_type": "code",
   "source": [
    "# Get 23rd row, 2nd column (index 22, 1)\n",
    "print(temperatures.iloc[22, 1])"
   ],
   "id": "f65a32af024d6c5",
   "outputs": [
    {
     "name": "stdout",
     "output_type": "stream",
     "text": [
      "Abidjan\n"
     ]
    }
   ],
   "execution_count": 13
  },
  {
   "metadata": {
    "ExecuteTime": {
     "end_time": "2025-08-12T16:31:09.383268Z",
     "start_time": "2025-08-12T16:31:09.378508Z"
    }
   },
   "cell_type": "code",
   "source": [
    "# Use slicing to get the first 5 rows\n",
    "print(temperatures.iloc[0:5])"
   ],
   "id": "700a2af3d39da3f6",
   "outputs": [
    {
     "name": "stdout",
     "output_type": "stream",
     "text": [
      "         date     city        country  avg_temp_c  year\n",
      "0  2000-01-01  Abidjan  Côte D'Ivoire      27.293  2000\n",
      "1  2000-02-01  Abidjan  Côte D'Ivoire      27.685  2000\n",
      "2  2000-03-01  Abidjan  Côte D'Ivoire      29.061  2000\n",
      "3  2000-04-01  Abidjan  Côte D'Ivoire      28.162  2000\n",
      "4  2000-05-01  Abidjan  Côte D'Ivoire      27.547  2000\n"
     ]
    }
   ],
   "execution_count": 14
  },
  {
   "metadata": {
    "ExecuteTime": {
     "end_time": "2025-08-12T16:31:09.457405Z",
     "start_time": "2025-08-12T16:31:09.451538Z"
    }
   },
   "cell_type": "code",
   "source": [
    "# Use slicing to get columns 3 to 4\n",
    "print(temperatures.iloc[:, 2:4])"
   ],
   "id": "a3dba878158b36c4",
   "outputs": [
    {
     "name": "stdout",
     "output_type": "stream",
     "text": [
      "             country  avg_temp_c\n",
      "0      Côte D'Ivoire      27.293\n",
      "1      Côte D'Ivoire      27.685\n",
      "2      Côte D'Ivoire      29.061\n",
      "3      Côte D'Ivoire      28.162\n",
      "4      Côte D'Ivoire      27.547\n",
      "...              ...         ...\n",
      "16495          China      18.979\n",
      "16496          China      23.522\n",
      "16497          China      25.251\n",
      "16498          China      24.528\n",
      "16499          China         NaN\n",
      "\n",
      "[16500 rows x 2 columns]\n"
     ]
    }
   ],
   "execution_count": 15
  },
  {
   "metadata": {
    "ExecuteTime": {
     "end_time": "2025-08-12T16:31:09.510469Z",
     "start_time": "2025-08-12T16:31:09.505622Z"
    }
   },
   "cell_type": "code",
   "source": [
    "\n",
    "# Use slicing in both directions at once\n",
    "print(temperatures.iloc[0:5, 2:4])"
   ],
   "id": "328f0cd907e7e5cb",
   "outputs": [
    {
     "name": "stdout",
     "output_type": "stream",
     "text": [
      "         country  avg_temp_c\n",
      "0  Côte D'Ivoire      27.293\n",
      "1  Côte D'Ivoire      27.685\n",
      "2  Côte D'Ivoire      29.061\n",
      "3  Côte D'Ivoire      28.162\n",
      "4  Côte D'Ivoire      27.547\n"
     ]
    }
   ],
   "execution_count": 16
  },
  {
   "metadata": {},
   "cell_type": "markdown",
   "source": "# Working with pivot tables",
   "id": "84c3f9e4d85e994a"
  },
  {
   "metadata": {},
   "cell_type": "markdown",
   "source": [
    "## Pivot temperature by city and year\n",
    "It's interesting to see how temperatures for each city change over time—looking at every month results in a big table, which can be tricky to reason about. Instead, let's look at how temperatures change by year.\n",
    "\n",
    "You can access the components of a date (year, month and day) using code of the form dataframe[\"column\"].dt.component. For example, the month component is dataframe[\"column\"].dt.month, and the year component is dataframe[\"column\"].dt.year.\n",
    "\n",
    "Once you have the year column, you can create a pivot table with the data aggregated by city and year, which you'll explore in the coming exercises.\n",
    "\n",
    "pandas is loaded as pd. temperatures is available.\n",
    "### Instructions\n",
    "- Add a year column to temperatures, from the year component of the date column.\n",
    "- Make a pivot table of the avg_temp_c column, with country and city as rows, and year as columns. Assign to temp_by_country_city_vs_year, and look at the result."
   ],
   "id": "93b762177c8b8e99"
  },
  {
   "metadata": {
    "ExecuteTime": {
     "end_time": "2025-08-12T16:31:09.603337Z",
     "start_time": "2025-08-12T16:31:09.565354Z"
    }
   },
   "cell_type": "code",
   "source": [
    "# Add a year column to temperatures\n",
    "temperatures['year'] = pd.to_datetime(temperatures['date']).dt.year\n",
    "\n",
    "# Pivot avg_temp_c by country and city vs year\n",
    "temp_by_country_city_vs_year = temperatures.pivot_table(\n",
    "    values='avg_temp_c',\n",
    "    index=['country', 'city'],\n",
    "    columns='date',\n",
    ")\n",
    "\n",
    "# See the result\n",
    "print(temp_by_country_city_vs_year)"
   ],
   "id": "870550379992abc7",
   "outputs": [
    {
     "name": "stdout",
     "output_type": "stream",
     "text": [
      "date                            2000-01-01  2000-02-01  2000-03-01  \\\n",
      "country       city                                                   \n",
      "Afghanistan   Kabul                  3.326       3.454       9.612   \n",
      "Angola        Luanda                25.077      25.493      26.496   \n",
      "Australia     Melbourne             18.527      22.095      18.945   \n",
      "              Sydney                18.470      20.713      20.220   \n",
      "Bangladesh    Dhaka                 18.829      20.947      26.035   \n",
      "...                                    ...         ...         ...   \n",
      "United States Chicago                0.137       4.083       8.274   \n",
      "              Los Angeles           10.772      10.262      12.335   \n",
      "              New York              -3.168      -0.162       6.391   \n",
      "Vietnam       Ho Chi Minh City      26.647      26.672      27.655   \n",
      "Zimbabwe      Harare                22.119      21.569      22.370   \n",
      "\n",
      "date                            2000-04-01  2000-05-01  2000-06-01  \\\n",
      "country       city                                                   \n",
      "Afghanistan   Kabul                 17.925      24.658      25.582   \n",
      "Angola        Luanda                25.689      25.113      23.461   \n",
      "Australia     Melbourne             14.839      11.087       9.239   \n",
      "              Sydney                18.602      16.614      14.454   \n",
      "Bangladesh    Dhaka                 28.545      28.684      29.037   \n",
      "...                                    ...         ...         ...   \n",
      "United States Chicago                7.615      13.867      17.939   \n",
      "              Los Angeles           15.684      19.073      22.524   \n",
      "              New York               8.897      15.944      20.234   \n",
      "Vietnam       Ho Chi Minh City      28.378      28.597      28.046   \n",
      "Zimbabwe      Harare                19.999      17.703      16.324   \n",
      "\n",
      "date                            2000-07-01  2000-08-01  2000-09-01  \\\n",
      "country       city                                                   \n",
      "Afghanistan   Kabul                 26.107      25.459      22.116   \n",
      "Angola        Luanda                21.126      21.975      23.530   \n",
      "Australia     Melbourne              8.538       9.230      11.632   \n",
      "              Sydney                14.735      14.474      16.932   \n",
      "Bangladesh    Dhaka                 28.825      29.253      28.688   \n",
      "...                                    ...         ...         ...   \n",
      "United States Chicago               21.087      22.840      19.061   \n",
      "              Los Angeles           23.573      25.053      21.951   \n",
      "              New York              20.727      20.791      17.095   \n",
      "Vietnam       Ho Chi Minh City      28.036      28.089      28.067   \n",
      "Zimbabwe      Harare                15.291      16.914      22.165   \n",
      "\n",
      "date                            2000-10-01  ...  2012-12-01  2013-01-01  \\\n",
      "country       city                          ...                           \n",
      "Afghanistan   Kabul                 16.806  ...       4.026       2.347   \n",
      "Angola        Luanda                24.339  ...      25.519      26.331   \n",
      "Australia     Melbourne             12.440  ...      18.425      20.274   \n",
      "              Sydney                17.032  ...      19.617      21.160   \n",
      "Bangladesh    Dhaka                 27.744  ...      19.438      17.116   \n",
      "...                                    ...  ...         ...         ...   \n",
      "United States Chicago               15.110  ...       5.592       1.056   \n",
      "              Los Angeles           15.903  ...       8.712       8.813   \n",
      "              New York              11.323  ...       2.586      -0.968   \n",
      "Vietnam       Ho Chi Minh City      26.901  ...      28.123      26.597   \n",
      "Zimbabwe      Harare                23.800  ...      22.679      22.235   \n",
      "\n",
      "date                            2013-02-01  2013-03-01  2013-04-01  \\\n",
      "country       city                                                   \n",
      "Afghanistan   Kabul                  4.802       8.681      14.936   \n",
      "Angola        Luanda                26.944      26.945      26.233   \n",
      "Australia     Melbourne             21.516      19.964      14.762   \n",
      "              Sydney                20.026      20.483      18.547   \n",
      "Bangladesh    Dhaka                 21.840      27.036      29.012   \n",
      "...                                    ...         ...         ...   \n",
      "United States Chicago               -0.509       1.323       6.644   \n",
      "              Los Angeles            9.804      14.463      15.921   \n",
      "              New York              -1.365       2.518       9.723   \n",
      "Vietnam       Ho Chi Minh City      27.586      28.731      29.360   \n",
      "Zimbabwe      Harare                22.737      22.051      20.180   \n",
      "\n",
      "date                            2013-05-01  2013-06-01  2013-07-01  \\\n",
      "country       city                                                   \n",
      "Afghanistan   Kabul                 21.245      25.859      26.805   \n",
      "Angola        Luanda                25.278      22.864      20.706   \n",
      "Australia     Melbourne             11.836       9.365       9.774   \n",
      "              Sydney                16.947      15.911      15.518   \n",
      "Bangladesh    Dhaka                 28.755      30.133      29.650   \n",
      "...                                    ...         ...         ...   \n",
      "United States Chicago               13.734      17.913      21.914   \n",
      "              Los Angeles           19.028      22.434      25.090   \n",
      "              New York              15.544      20.892      24.722   \n",
      "Vietnam       Ho Chi Minh City      29.688      28.939      28.425   \n",
      "Zimbabwe      Harare                18.298      17.020      16.299   \n",
      "\n",
      "date                            2013-08-01  2013-09-01  \n",
      "country       city                                      \n",
      "Afghanistan   Kabul                 24.974         NaN  \n",
      "Angola        Luanda                21.130         NaN  \n",
      "Australia     Melbourne             10.441         NaN  \n",
      "              Sydney                16.126         NaN  \n",
      "Bangladesh    Dhaka                 29.154         NaN  \n",
      "...                                    ...         ...  \n",
      "United States Chicago               22.230      19.977  \n",
      "              Los Angeles           24.232      23.301  \n",
      "              New York              21.001      17.408  \n",
      "Vietnam       Ho Chi Minh City      28.314         NaN  \n",
      "Zimbabwe      Harare                19.232         NaN  \n",
      "\n",
      "[100 rows x 165 columns]\n"
     ]
    }
   ],
   "execution_count": 17
  },
  {
   "metadata": {},
   "cell_type": "markdown",
   "source": [
    "## Subsetting pivot tables\n",
    "A pivot table is just a DataFrame with sorted indexes, so the techniques you have learned already can be used to subset them. In particular, the .loc[] + slicing combination is often helpful.\n",
    "\n",
    "pandas is loaded as pd. temp_by_country_city_vs_year is available.\n",
    "### Instructions\n",
    "- Use .loc[] on temp_by_country_city_vs_year to take subsets.\n",
    "\n",
    "    - From Egypt to India.\n",
    "    - From Egypt, Cairo to India, Delhi.\n",
    "    - From Egypt, Cairo to India, Delhi, and 2005 to 2010."
   ],
   "id": "d270b3688757abaf"
  },
  {
   "metadata": {
    "ExecuteTime": {
     "end_time": "2025-08-12T16:31:09.664147Z",
     "start_time": "2025-08-12T16:31:09.647374Z"
    }
   },
   "cell_type": "code",
   "source": [
    "# Subset for Egypt to India\n",
    "print(temp_by_country_city_vs_year.loc['Egypt':'India'])"
   ],
   "id": "81c21f4fcd16f64",
   "outputs": [
    {
     "name": "stdout",
     "output_type": "stream",
     "text": [
      "date                  2000-01-01  2000-02-01  2000-03-01  2000-04-01  \\\n",
      "country  city                                                          \n",
      "Egypt    Alexandria       13.579      14.300      15.266      19.556   \n",
      "         Cairo            12.669      13.728      16.026      22.396   \n",
      "         Gizeh            12.669      13.728      16.026      22.396   \n",
      "Ethiopia Addis Abeba      17.391      19.183      20.230      20.398   \n",
      "France   Paris             3.845       6.587       7.872      10.067   \n",
      "Germany  Berlin            1.324       4.718       5.806      11.805   \n",
      "India    Ahmadabad        20.781      21.246      26.565      32.275   \n",
      "         Bangalore        23.673      25.351      27.238      28.501   \n",
      "         Bombay           25.599      24.076      25.489      28.188   \n",
      "         Calcutta         19.196      21.275      26.881      30.165   \n",
      "         Delhi            15.201      16.388      22.921      31.266   \n",
      "         Hyderabad        23.779      25.826      28.821      32.698   \n",
      "         Jaipur           16.837      17.592      23.932      32.219   \n",
      "         Kanpur           15.152      16.919      23.325      30.723   \n",
      "         Lakhnau          15.152      16.919      23.325      30.723   \n",
      "         Madras           25.143      26.705      28.267      31.341   \n",
      "         Nagpur           20.086      21.229      26.191      32.968   \n",
      "         New Delhi        15.201      16.388      22.921      31.266   \n",
      "         Pune             21.620      22.414      25.775      30.013   \n",
      "         Surat            21.588      22.293      27.136      31.714   \n",
      "\n",
      "date                  2000-05-01  2000-06-01  2000-07-01  2000-08-01  \\\n",
      "country  city                                                          \n",
      "Egypt    Alexandria       21.828      24.619      27.091      26.930   \n",
      "         Cairo            24.927      27.514      29.586      28.090   \n",
      "         Gizeh            24.927      27.514      29.586      28.090   \n",
      "Ethiopia Addis Abeba      19.977      18.254      17.109      16.944   \n",
      "France   Paris            15.451      17.666      16.954      19.512   \n",
      "Germany  Berlin           16.376      18.432      16.932      18.930   \n",
      "India    Ahmadabad        32.847      32.490      28.678      28.616   \n",
      "         Bangalore        28.059      25.140      25.015      24.333   \n",
      "         Bombay           28.860      28.342      27.188      27.461   \n",
      "         Calcutta         30.245      29.861      29.320      29.694   \n",
      "         Delhi            34.524      33.074      30.925      30.687   \n",
      "         Hyderabad        32.438      28.422      27.137      26.576   \n",
      "         Jaipur           34.423      33.773      29.981      29.577   \n",
      "         Kanpur           33.110      31.189      29.702      29.850   \n",
      "         Lakhnau          33.110      31.189      29.702      29.850   \n",
      "         Madras           33.117      31.455      30.483      29.683   \n",
      "         Nagpur           33.266      29.565      26.673      27.219   \n",
      "         New Delhi        34.524      33.074      30.925      30.687   \n",
      "         Pune             29.434      26.915      24.930      25.085   \n",
      "         Surat            31.760      30.919      28.011      28.326   \n",
      "\n",
      "date                  2000-09-01  2000-10-01  ...  2012-12-01  2013-01-01  \\\n",
      "country  city                                 ...                           \n",
      "Egypt    Alexandria       25.939      22.842  ...      16.763      15.039   \n",
      "         Cairo            26.400      22.370  ...      15.522      14.187   \n",
      "         Gizeh            26.400      22.370  ...      15.522      14.187   \n",
      "Ethiopia Addis Abeba      17.542      17.113  ...      17.808      18.852   \n",
      "France   Paris            16.548      11.676  ...       5.593       3.044   \n",
      "Germany  Berlin           14.656      12.284  ...       0.999       0.113   \n",
      "India    Ahmadabad        29.087      29.285  ...      22.325      19.645   \n",
      "         Bangalore        25.280      24.635  ...      23.881      24.168   \n",
      "         Bombay           27.997      28.820  ...      26.828      24.187   \n",
      "         Calcutta         28.846      28.017  ...      19.621      17.757   \n",
      "         Delhi            30.083      28.164  ...      16.566      13.756   \n",
      "         Hyderabad        27.433      26.927  ...      24.006      24.670   \n",
      "         Jaipur           29.375      28.449  ...      17.915      15.421   \n",
      "         Kanpur           28.622      27.077  ...      15.933      13.490   \n",
      "         Lakhnau          28.622      27.077  ...      15.933      13.490   \n",
      "         Madras           30.007      28.408  ...      26.222      26.141   \n",
      "         Nagpur           27.168      26.916  ...      20.465      19.112   \n",
      "         New Delhi        30.083      28.164  ...      16.566      13.756   \n",
      "         Pune             25.663      25.695  ...      21.747      21.109   \n",
      "         Surat            28.465      28.131  ...      22.504      20.213   \n",
      "\n",
      "date                  2013-02-01  2013-03-01  2013-04-01  2013-05-01  \\\n",
      "country  city                                                          \n",
      "Egypt    Alexandria       16.083      18.477      19.111      23.647   \n",
      "         Cairo            15.931      19.695      21.146      27.100   \n",
      "         Gizeh            15.931      19.695      21.146      27.100   \n",
      "Ethiopia Addis Abeba      20.047      21.180      20.570      19.774   \n",
      "France   Paris             2.456       4.570       9.559      11.703   \n",
      "Germany  Berlin            0.314      -0.391       9.088      14.139   \n",
      "India    Ahmadabad        22.726      27.196      30.762      33.856   \n",
      "         Bangalore        25.798      28.057      29.593      29.189   \n",
      "         Bombay           25.005      26.301      27.335      29.718   \n",
      "         Calcutta         21.982      27.702      30.435      30.921   \n",
      "         Delhi            17.824      24.025      29.304      34.746   \n",
      "         Hyderabad        26.226      29.598      32.245      34.650   \n",
      "         Jaipur           18.674      24.509      29.809      35.003   \n",
      "         Kanpur           18.137      23.971      29.119      33.950   \n",
      "         Lakhnau          18.137      23.971      29.119      33.950   \n",
      "         Madras           27.093      29.070      32.124      34.587   \n",
      "         Nagpur           22.333      26.750      31.107      35.869   \n",
      "         New Delhi        17.824      24.025      29.304      34.746   \n",
      "         Pune             23.807      26.849      29.036      31.024   \n",
      "         Surat            23.930      27.922      30.546      32.980   \n",
      "\n",
      "date                  2013-06-01  2013-07-01  2013-08-01  2013-09-01  \n",
      "country  city                                                         \n",
      "Egypt    Alexandria       25.329      26.369      27.453         NaN  \n",
      "         Cairo            28.392      28.217      28.588         NaN  \n",
      "         Gizeh            28.392      28.217      28.588         NaN  \n",
      "Ethiopia Addis Abeba      18.736      18.148      19.005         NaN  \n",
      "France   Paris            16.340      21.186      19.235         NaN  \n",
      "Germany  Berlin           17.473      20.901      19.335         NaN  \n",
      "India    Ahmadabad        31.099      28.073      27.512         NaN  \n",
      "         Bangalore        25.835      25.008      25.236         NaN  \n",
      "         Bombay           27.686      26.519      26.953         NaN  \n",
      "         Calcutta         30.618      30.000      29.539         NaN  \n",
      "         Delhi            33.066      31.053      29.900         NaN  \n",
      "         Hyderabad        29.487      27.011      26.923         NaN  \n",
      "         Jaipur           32.896      29.936      28.505         NaN  \n",
      "         Kanpur           31.236      29.817      29.250         NaN  \n",
      "         Lakhnau          31.236      29.817      29.250         NaN  \n",
      "         Madras           32.996      30.770      30.513         NaN  \n",
      "         Nagpur           29.540      26.258      25.930         NaN  \n",
      "         New Delhi        33.066      31.053      29.900         NaN  \n",
      "         Pune             26.362      24.150      24.444         NaN  \n",
      "         Surat            29.418      27.306      27.187         NaN  \n",
      "\n",
      "[20 rows x 165 columns]\n"
     ]
    }
   ],
   "execution_count": 18
  },
  {
   "metadata": {
    "ExecuteTime": {
     "end_time": "2025-08-12T16:31:09.719863Z",
     "start_time": "2025-08-12T16:31:09.703055Z"
    }
   },
   "cell_type": "code",
   "source": [
    "# Subset for Egypt, Cairo to India, Delhi\n",
    "print(temp_by_country_city_vs_year.loc[('Egypt', 'Cairo'):('India', 'Delhi')])"
   ],
   "id": "6c6531f7486a7949",
   "outputs": [
    {
     "name": "stdout",
     "output_type": "stream",
     "text": [
      "date                  2000-01-01  2000-02-01  2000-03-01  2000-04-01  \\\n",
      "country  city                                                          \n",
      "Egypt    Cairo            12.669      13.728      16.026      22.396   \n",
      "         Gizeh            12.669      13.728      16.026      22.396   \n",
      "Ethiopia Addis Abeba      17.391      19.183      20.230      20.398   \n",
      "France   Paris             3.845       6.587       7.872      10.067   \n",
      "Germany  Berlin            1.324       4.718       5.806      11.805   \n",
      "India    Ahmadabad        20.781      21.246      26.565      32.275   \n",
      "         Bangalore        23.673      25.351      27.238      28.501   \n",
      "         Bombay           25.599      24.076      25.489      28.188   \n",
      "         Calcutta         19.196      21.275      26.881      30.165   \n",
      "         Delhi            15.201      16.388      22.921      31.266   \n",
      "\n",
      "date                  2000-05-01  2000-06-01  2000-07-01  2000-08-01  \\\n",
      "country  city                                                          \n",
      "Egypt    Cairo            24.927      27.514      29.586      28.090   \n",
      "         Gizeh            24.927      27.514      29.586      28.090   \n",
      "Ethiopia Addis Abeba      19.977      18.254      17.109      16.944   \n",
      "France   Paris            15.451      17.666      16.954      19.512   \n",
      "Germany  Berlin           16.376      18.432      16.932      18.930   \n",
      "India    Ahmadabad        32.847      32.490      28.678      28.616   \n",
      "         Bangalore        28.059      25.140      25.015      24.333   \n",
      "         Bombay           28.860      28.342      27.188      27.461   \n",
      "         Calcutta         30.245      29.861      29.320      29.694   \n",
      "         Delhi            34.524      33.074      30.925      30.687   \n",
      "\n",
      "date                  2000-09-01  2000-10-01  ...  2012-12-01  2013-01-01  \\\n",
      "country  city                                 ...                           \n",
      "Egypt    Cairo            26.400      22.370  ...      15.522      14.187   \n",
      "         Gizeh            26.400      22.370  ...      15.522      14.187   \n",
      "Ethiopia Addis Abeba      17.542      17.113  ...      17.808      18.852   \n",
      "France   Paris            16.548      11.676  ...       5.593       3.044   \n",
      "Germany  Berlin           14.656      12.284  ...       0.999       0.113   \n",
      "India    Ahmadabad        29.087      29.285  ...      22.325      19.645   \n",
      "         Bangalore        25.280      24.635  ...      23.881      24.168   \n",
      "         Bombay           27.997      28.820  ...      26.828      24.187   \n",
      "         Calcutta         28.846      28.017  ...      19.621      17.757   \n",
      "         Delhi            30.083      28.164  ...      16.566      13.756   \n",
      "\n",
      "date                  2013-02-01  2013-03-01  2013-04-01  2013-05-01  \\\n",
      "country  city                                                          \n",
      "Egypt    Cairo            15.931      19.695      21.146      27.100   \n",
      "         Gizeh            15.931      19.695      21.146      27.100   \n",
      "Ethiopia Addis Abeba      20.047      21.180      20.570      19.774   \n",
      "France   Paris             2.456       4.570       9.559      11.703   \n",
      "Germany  Berlin            0.314      -0.391       9.088      14.139   \n",
      "India    Ahmadabad        22.726      27.196      30.762      33.856   \n",
      "         Bangalore        25.798      28.057      29.593      29.189   \n",
      "         Bombay           25.005      26.301      27.335      29.718   \n",
      "         Calcutta         21.982      27.702      30.435      30.921   \n",
      "         Delhi            17.824      24.025      29.304      34.746   \n",
      "\n",
      "date                  2013-06-01  2013-07-01  2013-08-01  2013-09-01  \n",
      "country  city                                                         \n",
      "Egypt    Cairo            28.392      28.217      28.588         NaN  \n",
      "         Gizeh            28.392      28.217      28.588         NaN  \n",
      "Ethiopia Addis Abeba      18.736      18.148      19.005         NaN  \n",
      "France   Paris            16.340      21.186      19.235         NaN  \n",
      "Germany  Berlin           17.473      20.901      19.335         NaN  \n",
      "India    Ahmadabad        31.099      28.073      27.512         NaN  \n",
      "         Bangalore        25.835      25.008      25.236         NaN  \n",
      "         Bombay           27.686      26.519      26.953         NaN  \n",
      "         Calcutta         30.618      30.000      29.539         NaN  \n",
      "         Delhi            33.066      31.053      29.900         NaN  \n",
      "\n",
      "[10 rows x 165 columns]\n"
     ]
    }
   ],
   "execution_count": 19
  },
  {
   "metadata": {
    "ExecuteTime": {
     "end_time": "2025-08-12T16:31:09.793493Z",
     "start_time": "2025-08-12T16:31:09.767063Z"
    }
   },
   "cell_type": "code",
   "source": [
    "# Subset for Egypt, Cairo to India, Delhi, and 2005 to 2010\n",
    "print(temp_by_country_city_vs_year.loc[('Egypt', 'Cairo'):('India', 'Delhi'), '2005':'2010'])"
   ],
   "id": "ad91f4e59781fb1a",
   "outputs": [
    {
     "name": "stdout",
     "output_type": "stream",
     "text": [
      "date                  2005-01-01  2005-02-01  2005-03-01  2005-04-01  \\\n",
      "country  city                                                          \n",
      "Egypt    Cairo            14.030      14.640      18.033      21.585   \n",
      "         Gizeh            14.030      14.640      18.033      21.585   \n",
      "Ethiopia Addis Abeba      17.940      19.785      20.685      20.464   \n",
      "France   Paris             5.053       2.884       7.415      10.884   \n",
      "Germany  Berlin            3.103      -0.236       3.808      10.174   \n",
      "India    Ahmadabad        18.898      21.815      27.380      30.601   \n",
      "         Bangalore        23.972      25.618      27.825      27.795   \n",
      "         Bombay           24.447      24.707      25.961      28.128   \n",
      "         Calcutta         19.341      23.576      27.695      30.152   \n",
      "         Delhi            14.383      17.669      24.469      29.322   \n",
      "\n",
      "date                  2005-05-01  2005-06-01  2005-07-01  2005-08-01  \\\n",
      "country  city                                                          \n",
      "Egypt    Cairo            24.951      27.693      29.401      29.256   \n",
      "         Gizeh            24.951      27.693      29.401      29.256   \n",
      "Ethiopia Addis Abeba      19.366      17.923      16.991      17.563   \n",
      "France   Paris            14.130      18.816      19.582      18.266   \n",
      "Germany  Berlin           14.129      16.931      19.569      17.204   \n",
      "India    Ahmadabad        33.250      32.509      29.117      27.755   \n",
      "         Bangalore        28.348      26.187      25.047      25.148   \n",
      "         Bombay           29.409      29.042      27.677      26.980   \n",
      "         Calcutta         31.062      31.595      28.833      29.485   \n",
      "         Delhi            32.998      35.200      30.544      31.364   \n",
      "\n",
      "date                  2005-09-01  2005-10-01  ...  2009-03-01  2009-04-01  \\\n",
      "country  city                                 ...                           \n",
      "Egypt    Cairo            27.505      22.994  ...      17.388      22.001   \n",
      "         Gizeh            27.505      22.994  ...      17.388      22.001   \n",
      "Ethiopia Addis Abeba      17.797      17.419  ...      20.189      20.335   \n",
      "France   Paris            17.279      14.817  ...       7.197      12.098   \n",
      "Germany  Berlin           16.233      11.816  ...       5.541      13.183   \n",
      "India    Ahmadabad        28.180      27.628  ...      28.640      31.847   \n",
      "         Bangalore        25.032      24.560  ...      27.573      28.769   \n",
      "         Bombay           27.015      28.060  ...      27.193      28.936   \n",
      "         Calcutta         29.398      26.943  ...      27.711      31.778   \n",
      "         Delhi            29.675      26.409  ...      24.655      30.182   \n",
      "\n",
      "date                  2009-05-01  2009-06-01  2009-07-01  2009-08-01  \\\n",
      "country  city                                                          \n",
      "Egypt    Cairo            25.103      29.393      30.087      28.830   \n",
      "         Gizeh            25.103      29.393      30.087      28.830   \n",
      "Ethiopia Addis Abeba      20.283      19.222      17.484      17.513   \n",
      "France   Paris            14.758      17.136      19.354      20.509   \n",
      "Germany  Berlin           14.535      15.899      19.780      20.181   \n",
      "India    Ahmadabad        34.075      32.957      29.426      29.072   \n",
      "         Bangalore        27.906      26.277      25.122      25.490   \n",
      "         Bombay           29.735      29.548      27.385      27.852   \n",
      "         Calcutta         30.585      31.665      29.575      29.533   \n",
      "         Delhi            34.067      35.543      32.271      31.519   \n",
      "\n",
      "date                  2009-09-01  2009-10-01  2009-11-01  2009-12-01  \n",
      "country  city                                                         \n",
      "Egypt    Cairo            27.262      25.113      19.458      16.361  \n",
      "         Gizeh            27.262      25.113      19.458      16.361  \n",
      "Ethiopia Addis Abeba      18.187      17.788      18.098      18.298  \n",
      "France   Paris            16.363      11.724       9.938       3.609  \n",
      "Germany  Berlin           16.003       8.222       8.033       0.186  \n",
      "India    Ahmadabad        29.360      28.299      25.187      22.478  \n",
      "         Bangalore        25.389      25.368      24.438      23.565  \n",
      "         Bombay           28.173      28.396      28.324      27.043  \n",
      "         Calcutta         29.626      27.273      24.281      19.817  \n",
      "         Delhi            30.154      26.600      21.214      16.871  \n",
      "\n",
      "[10 rows x 60 columns]\n"
     ]
    }
   ],
   "execution_count": 20
  },
  {
   "metadata": {},
   "cell_type": "markdown",
   "source": [
    "## Calculating on a pivot table\n",
    "Pivot tables are filled with summary statistics, but they are only a first step to finding something insightful. Often you'll need to perform further calculations on them. A common thing to do is to find the rows or columns where the highest or lowest value occurs.\n",
    "\n",
    "Recall from Chapter 1 that you can easily subset a Series or DataFrame to find rows of interest using a logical condition inside of square brackets. For example: series[series > value].\n",
    "\n",
    "pandas is loaded as pd and the DataFrame temp_by_country_city_vs_year is available. The .head() for this DataFrame is shown below, with only a few of the year columns displayed:\n",
    "\n",
    "![Calculating on a pivot table](matplotlib/data/Calculating on a pivot table.png)\n"
   ],
   "id": "274d12248e977187"
  },
  {
   "metadata": {
    "ExecuteTime": {
     "end_time": "2025-08-12T16:31:09.887211Z",
     "start_time": "2025-08-12T16:31:09.869265Z"
    }
   },
   "cell_type": "code",
   "source": [
    "# Get the worldwide mean temp by year\n",
    "mean_temp_by_year = temp_by_country_city_vs_year.mean()\n",
    "\n",
    "# Filter for the year that had the highest mean temp\n",
    "print(mean_temp_by_year[mean_temp_by_year == mean_temp_by_year.max()])"
   ],
   "id": "771f147ee7e4f0e8",
   "outputs": [
    {
     "name": "stdout",
     "output_type": "stream",
     "text": [
      "date\n",
      "2002-07-01    25.35836\n",
      "dtype: float64\n",
      "country  city  \n",
      "China    Harbin    4.858494\n",
      "dtype: float64\n"
     ]
    }
   ],
   "execution_count": 21
  },
  {
   "metadata": {
    "ExecuteTime": {
     "end_time": "2025-08-12T16:31:24.593348Z",
     "start_time": "2025-08-12T16:31:24.584300Z"
    }
   },
   "cell_type": "code",
   "source": [
    "# Get the mean temp by city\n",
    "mean_temp_by_city = temp_by_country_city_vs_year.mean(axis=1)\n",
    "\n",
    "# Filter for the city that had the lowest mean temp\n",
    "print(mean_temp_by_city[mean_temp_by_city == mean_temp_by_city.min()])"
   ],
   "id": "1f4ad110543693ca",
   "outputs": [
    {
     "name": "stdout",
     "output_type": "stream",
     "text": [
      "country  city  \n",
      "China    Harbin    4.858494\n",
      "dtype: float64\n"
     ]
    }
   ],
   "execution_count": 22
  }
 ],
 "metadata": {
  "kernelspec": {
   "display_name": "Python 3",
   "language": "python",
   "name": "python3"
  },
  "language_info": {
   "codemirror_mode": {
    "name": "ipython",
    "version": 2
   },
   "file_extension": ".py",
   "mimetype": "text/x-python",
   "name": "python",
   "nbconvert_exporter": "python",
   "pygments_lexer": "ipython2",
   "version": "2.7.6"
  }
 },
 "nbformat": 4,
 "nbformat_minor": 5
}
