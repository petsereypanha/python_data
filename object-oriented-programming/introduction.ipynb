{
 "cells": [
  {
   "metadata": {},
   "cell_type": "code",
   "outputs": [],
   "execution_count": null,
   "source": "",
   "id": "51dd532cf8bb635d"
  },
  {
   "metadata": {},
   "cell_type": "markdown",
   "source": "# Classes and Objects",
   "id": "7ea49b9e4872711"
  },
  {
   "metadata": {
    "ExecuteTime": {
     "end_time": "2025-07-18T15:37:07.607595Z",
     "start_time": "2025-07-18T15:37:07.604806Z"
    }
   },
   "cell_type": "code",
   "source": [
    "class Cookie(object):\n",
    "    pass"
   ],
   "id": "6b71108a17fcf3dc",
   "outputs": [],
   "execution_count": 1
  },
  {
   "metadata": {
    "ExecuteTime": {
     "end_time": "2025-07-18T15:37:27.641962Z",
     "start_time": "2025-07-18T15:37:27.638489Z"
    }
   },
   "cell_type": "code",
   "source": "c1 = Cookie()",
   "id": "b292710b728f5252",
   "outputs": [],
   "execution_count": 2
  },
  {
   "metadata": {},
   "cell_type": "code",
   "outputs": [],
   "execution_count": null,
   "source": "c2 = Cookie()",
   "id": "d639bcdbe5910781"
  },
  {
   "metadata": {
    "ExecuteTime": {
     "end_time": "2025-07-18T15:38:33.087589Z",
     "start_time": "2025-07-18T15:38:33.084333Z"
    }
   },
   "cell_type": "code",
   "source": "c3 = Cookie()",
   "id": "65ce7dc3399c5643",
   "outputs": [],
   "execution_count": 5
  },
  {
   "metadata": {
    "ExecuteTime": {
     "end_time": "2025-07-18T15:38:11.028789Z",
     "start_time": "2025-07-18T15:38:11.021174Z"
    }
   },
   "cell_type": "code",
   "source": "c1",
   "id": "81349dc9cbe68c4d",
   "outputs": [
    {
     "data": {
      "text/plain": [
       "<__main__.Cookie at 0x103570c20>"
      ]
     },
     "execution_count": 3,
     "metadata": {},
     "output_type": "execute_result"
    }
   ],
   "execution_count": 3
  },
  {
   "metadata": {},
   "cell_type": "code",
   "outputs": [],
   "execution_count": null,
   "source": "c2",
   "id": "dba285a0cf552c96"
  },
  {
   "metadata": {
    "ExecuteTime": {
     "end_time": "2025-07-18T15:38:34.648171Z",
     "start_time": "2025-07-18T15:38:34.643014Z"
    }
   },
   "cell_type": "code",
   "source": "c3",
   "id": "d716edefa6e0da1b",
   "outputs": [
    {
     "data": {
      "text/plain": [
       "<__main__.Cookie at 0x10366f110>"
      ]
     },
     "execution_count": 6,
     "metadata": {},
     "output_type": "execute_result"
    }
   ],
   "execution_count": 6
  }
 ],
 "metadata": {
  "kernelspec": {
   "display_name": "Python 3",
   "language": "python",
   "name": "python3"
  },
  "language_info": {
   "codemirror_mode": {
    "name": "ipython",
    "version": 2
   },
   "file_extension": ".py",
   "mimetype": "text/x-python",
   "name": "python",
   "nbconvert_exporter": "python",
   "pygments_lexer": "ipython2",
   "version": "2.7.6"
  }
 },
 "nbformat": 4,
 "nbformat_minor": 5
}
