{
 "cells": [
  {
   "metadata": {},
   "cell_type": "markdown",
   "source": "# Methods",
   "id": "b0c3113516449187"
  },
  {
   "metadata": {
    "ExecuteTime": {
     "end_time": "2025-07-18T19:48:13.982242Z",
     "start_time": "2025-07-18T19:48:13.979366Z"
    }
   },
   "cell_type": "code",
   "source": [
    "from psutil import users\n",
    "\n",
    "\n",
    "class User(object):\n",
    "    pass"
   ],
   "id": "410777267ff56c94",
   "outputs": [],
   "execution_count": 1
  },
  {
   "metadata": {
    "ExecuteTime": {
     "end_time": "2025-07-18T19:49:12.521678Z",
     "start_time": "2025-07-18T19:49:12.514916Z"
    }
   },
   "cell_type": "code",
   "source": [
    "dara = User()\n",
    "dara.name = 'Dara'\n",
    "dara.username = 'Dara_Boy'\n",
    "dara.age = 30"
   ],
   "id": "7cea7f248e2c4e34",
   "outputs": [],
   "execution_count": 2
  },
  {
   "metadata": {
    "ExecuteTime": {
     "end_time": "2025-07-18T19:50:07.030022Z",
     "start_time": "2025-07-18T19:50:07.023695Z"
    }
   },
   "cell_type": "code",
   "source": [
    "raty = User()\n",
    "raty.name = 'Raty'\n",
    "raty.username = 'Raty1234'\n",
    "raty.age = 40"
   ],
   "id": "e258a1e8d1336ba1",
   "outputs": [],
   "execution_count": 3
  },
  {
   "metadata": {},
   "cell_type": "markdown",
   "source": "Our Object: `mary.full_name()` => `Mary Smith`",
   "id": "c0ef3a88aedd8a12"
  },
  {
   "metadata": {
    "ExecuteTime": {
     "end_time": "2025-07-18T19:51:44.225613Z",
     "start_time": "2025-07-18T19:51:44.223048Z"
    }
   },
   "cell_type": "code",
   "source": [
    "def name(user):\n",
    "    return '{} {}'.format(user.name, user.username)"
   ],
   "id": "22b1fb6c1df92869",
   "outputs": [],
   "execution_count": 5
  },
  {
   "metadata": {
    "ExecuteTime": {
     "end_time": "2025-07-18T19:51:56.627704Z",
     "start_time": "2025-07-18T19:51:56.618907Z"
    }
   },
   "cell_type": "code",
   "source": "name(dara)",
   "id": "72a75132cf4bed34",
   "outputs": [
    {
     "data": {
      "text/plain": [
       "'Dara Dara_Boy'"
      ]
     },
     "execution_count": 6,
     "metadata": {},
     "output_type": "execute_result"
    }
   ],
   "execution_count": 6
  },
  {
   "metadata": {
    "ExecuteTime": {
     "end_time": "2025-07-18T19:52:08.019256Z",
     "start_time": "2025-07-18T19:52:08.013977Z"
    }
   },
   "cell_type": "code",
   "source": "name(raty)",
   "id": "1a694e70a68f47d3",
   "outputs": [
    {
     "data": {
      "text/plain": [
       "'Raty Raty1234'"
      ]
     },
     "execution_count": 7,
     "metadata": {},
     "output_type": "execute_result"
    }
   ],
   "execution_count": 7
  },
  {
   "metadata": {},
   "cell_type": "markdown",
   "source": "Objective 2: `john.can_drive()` => True|False(age > 18)",
   "id": "e31d861b5498fd77"
  },
  {
   "metadata": {
    "ExecuteTime": {
     "end_time": "2025-07-18T19:55:57.914945Z",
     "start_time": "2025-07-18T19:55:57.910592Z"
    }
   },
   "cell_type": "code",
   "source": [
    "def drive(user, age_min):\n",
    "    if user.age >= age_min:\n",
    "        return True\n",
    "    return False"
   ],
   "id": "83a4c5066ddb26f2",
   "outputs": [],
   "execution_count": 11
  },
  {
   "metadata": {
    "ExecuteTime": {
     "end_time": "2025-07-18T19:55:59.694065Z",
     "start_time": "2025-07-18T19:55:59.688906Z"
    }
   },
   "cell_type": "code",
   "source": "drive(dara, 12)",
   "id": "e550ba6752e07e99",
   "outputs": [
    {
     "data": {
      "text/plain": [
       "True"
      ]
     },
     "execution_count": 12,
     "metadata": {},
     "output_type": "execute_result"
    }
   ],
   "execution_count": 12
  },
  {
   "metadata": {
    "ExecuteTime": {
     "end_time": "2025-07-18T19:56:01.151169Z",
     "start_time": "2025-07-18T19:56:01.146584Z"
    }
   },
   "cell_type": "code",
   "source": "drive(raty, 50)",
   "id": "f40d6970f81b4294",
   "outputs": [
    {
     "data": {
      "text/plain": [
       "True"
      ]
     },
     "execution_count": 13,
     "metadata": {},
     "output_type": "execute_result"
    }
   ],
   "execution_count": 13
  },
  {
   "metadata": {
    "ExecuteTime": {
     "end_time": "2025-07-18T20:16:43.936021Z",
     "start_time": "2025-07-18T20:16:43.925581Z"
    }
   },
   "cell_type": "code",
   "source": [
    "class User(object):\n",
    "    def name(self):\n",
    "        return '{} {}'.format(self.name,self.username)\n",
    "    def drive(self, age_min):\n",
    "        if self.age >= age_min:\n",
    "            return True\n",
    "        return False"
   ],
   "id": "331643faf8976472",
   "outputs": [],
   "execution_count": 28
  },
  {
   "metadata": {
    "ExecuteTime": {
     "end_time": "2025-07-18T20:16:50.532058Z",
     "start_time": "2025-07-18T20:16:50.527789Z"
    }
   },
   "cell_type": "code",
   "source": [
    "heng = User()\n",
    "heng.name = 'Heng'\n",
    "heng.username = 'Heng_Boy'\n",
    "heng.age = 16"
   ],
   "id": "d7098c812e657331",
   "outputs": [],
   "execution_count": 31
  },
  {
   "metadata": {
    "ExecuteTime": {
     "end_time": "2025-07-18T20:16:49.276718Z",
     "start_time": "2025-07-18T20:16:49.272089Z"
    }
   },
   "cell_type": "code",
   "source": [
    "leng = User()\n",
    "leng.name = 'Leng'\n",
    "leng.username = 'Leng_Boy'\n",
    "leng.age = 18"
   ],
   "id": "ccb69f3d00fb55b9",
   "outputs": [],
   "execution_count": 30
  },
  {
   "metadata": {},
   "cell_type": "markdown",
   "source": "Can Drive",
   "id": "cc6670044bc1c877"
  },
  {
   "metadata": {
    "ExecuteTime": {
     "end_time": "2025-07-18T20:16:52.183901Z",
     "start_time": "2025-07-18T20:16:52.179397Z"
    }
   },
   "cell_type": "code",
   "source": "heng.drive(45)",
   "id": "3f00e065ef91ffdc",
   "outputs": [
    {
     "data": {
      "text/plain": [
       "False"
      ]
     },
     "execution_count": 32,
     "metadata": {},
     "output_type": "execute_result"
    }
   ],
   "execution_count": 32
  },
  {
   "metadata": {},
   "cell_type": "markdown",
   "source": "# initializing Objects",
   "id": "87f43a343c91b675"
  },
  {
   "metadata": {
    "ExecuteTime": {
     "end_time": "2025-07-18T20:30:08.842839Z",
     "start_time": "2025-07-18T20:30:08.837594Z"
    }
   },
   "cell_type": "code",
   "source": [
    "class User(object):\n",
    "    def full_name(self):\n",
    "        return '{} {}'.format(self.f_name,self.l_name)\n",
    "    def drive_c(self, age_min:18):\n",
    "        if self.age >= age_min:\n",
    "            return True\n",
    "        return False\n",
    "    def __init__( user, f_name, l_name, age ):\n",
    "        user.f_name = f_name\n",
    "        user.l_name = l_name\n",
    "        user.age = age"
   ],
   "id": "e96473e7fb24f20e",
   "outputs": [],
   "execution_count": 14
  },
  {
   "metadata": {
    "ExecuteTime": {
     "end_time": "2025-07-18T20:30:10.380197Z",
     "start_time": "2025-07-18T20:30:10.376050Z"
    }
   },
   "cell_type": "code",
   "source": "fong = User('Fong', 'Sary', 40)",
   "id": "7cb2f066e7075938",
   "outputs": [],
   "execution_count": 15
  },
  {
   "metadata": {
    "ExecuteTime": {
     "end_time": "2025-07-18T20:30:50.070250Z",
     "start_time": "2025-07-18T20:30:50.064419Z"
    }
   },
   "cell_type": "code",
   "source": "nana = User('Nan', 'Peng', 30)",
   "id": "e30880ff688c1f1b",
   "outputs": [],
   "execution_count": 19
  },
  {
   "metadata": {
    "ExecuteTime": {
     "end_time": "2025-07-18T20:30:14.505254Z",
     "start_time": "2025-07-18T20:30:14.500771Z"
    }
   },
   "cell_type": "code",
   "source": "fong.full_name()",
   "id": "162d9c2ae8de9d23",
   "outputs": [
    {
     "data": {
      "text/plain": [
       "'Fong Sary'"
      ]
     },
     "execution_count": 16,
     "metadata": {},
     "output_type": "execute_result"
    }
   ],
   "execution_count": 16
  },
  {
   "metadata": {
    "ExecuteTime": {
     "end_time": "2025-07-18T20:30:51.908959Z",
     "start_time": "2025-07-18T20:30:51.904790Z"
    }
   },
   "cell_type": "code",
   "source": "nana.full_name()",
   "id": "44a5c68cee368a5e",
   "outputs": [
    {
     "data": {
      "text/plain": [
       "'Nan Peng'"
      ]
     },
     "execution_count": 20,
     "metadata": {},
     "output_type": "execute_result"
    }
   ],
   "execution_count": 20
  },
  {
   "metadata": {
    "ExecuteTime": {
     "end_time": "2025-07-18T20:31:13.386209Z",
     "start_time": "2025-07-18T20:31:13.379282Z"
    }
   },
   "cell_type": "code",
   "source": "fong.drive_c(80)",
   "id": "95e4e2bc25252865",
   "outputs": [
    {
     "data": {
      "text/plain": [
       "False"
      ]
     },
     "execution_count": 21,
     "metadata": {},
     "output_type": "execute_result"
    }
   ],
   "execution_count": 21
  },
  {
   "metadata": {
    "ExecuteTime": {
     "end_time": "2025-07-18T20:32:13.237123Z",
     "start_time": "2025-07-18T20:32:13.231712Z"
    }
   },
   "cell_type": "code",
   "source": "nana.drive_c(10)",
   "id": "9969d811b612372",
   "outputs": [
    {
     "data": {
      "text/plain": [
       "True"
      ]
     },
     "execution_count": 23,
     "metadata": {},
     "output_type": "execute_result"
    }
   ],
   "execution_count": 23
  }
 ],
 "metadata": {
  "kernelspec": {
   "display_name": "Python 3",
   "language": "python",
   "name": "python3"
  },
  "language_info": {
   "codemirror_mode": {
    "name": "ipython",
    "version": 2
   },
   "file_extension": ".py",
   "mimetype": "text/x-python",
   "name": "python",
   "nbconvert_exporter": "python",
   "pygments_lexer": "ipython2",
   "version": "2.7.6"
  }
 },
 "nbformat": 4,
 "nbformat_minor": 5
}
