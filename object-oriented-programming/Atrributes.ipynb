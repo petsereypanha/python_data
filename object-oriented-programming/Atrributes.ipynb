{
 "cells": [
  {
   "metadata": {},
   "cell_type": "markdown",
   "source": [
    "# Class Attributes\n",
    "\n",
    "*([slides](https://docs.google.com/presentation/d/1b5fJd57_Wtq6wy5vYr8AtbR9UuNpyMidMT6kK_Q13cQ/edit#slide=id.g236b2a0149_0_498))*"
   ],
   "id": "435bf0dd159ed05d"
  },
  {
   "metadata": {
    "ExecuteTime": {
     "end_time": "2025-07-18T20:50:33.225423Z",
     "start_time": "2025-07-18T20:50:33.223145Z"
    }
   },
   "cell_type": "code",
   "source": [
    "class Cookies(object):\n",
    "    DEFAULT_SCARF_COLOR = 'green'"
   ],
   "id": "6f034c37fb2d9684",
   "outputs": [],
   "execution_count": 1
  },
  {
   "metadata": {
    "ExecuteTime": {
     "end_time": "2025-07-18T20:50:48.448841Z",
     "start_time": "2025-07-18T20:50:48.442879Z"
    }
   },
   "cell_type": "code",
   "source": "Cookies.DEFAULT_SCARF_COLOR",
   "id": "8c9c31b96f8b87b2",
   "outputs": [
    {
     "data": {
      "text/plain": [
       "'green'"
      ]
     },
     "execution_count": 2,
     "metadata": {},
     "output_type": "execute_result"
    }
   ],
   "execution_count": 2
  },
  {
   "metadata": {},
   "cell_type": "markdown",
   "source": "(They're just like regular attributes but linked to a class instead to objects/instances)",
   "id": "a7d72705f7d7d7ad"
  },
  {
   "metadata": {
    "ExecuteTime": {
     "end_time": "2025-07-18T20:51:34.610248Z",
     "start_time": "2025-07-18T20:51:34.601496Z"
    }
   },
   "cell_type": "code",
   "source": "Cookies.DEFAULT_SCARF_COLOR = 'Red'",
   "id": "f70ea6b8f25db713",
   "outputs": [],
   "execution_count": 3
  },
  {
   "metadata": {
    "ExecuteTime": {
     "end_time": "2025-07-18T20:51:44.182244Z",
     "start_time": "2025-07-18T20:51:44.177070Z"
    }
   },
   "cell_type": "code",
   "source": "Cookies.DEFAULT_SCARF_COLOR",
   "id": "75071303ec06cf63",
   "outputs": [
    {
     "data": {
      "text/plain": [
       "'Red'"
      ]
     },
     "execution_count": 4,
     "metadata": {},
     "output_type": "execute_result"
    }
   ],
   "execution_count": 4
  },
  {
   "metadata": {},
   "cell_type": "markdown",
   "source": "**Class attributes can be accessed from instances too:**",
   "id": "12745a365535e03a"
  },
  {
   "metadata": {
    "ExecuteTime": {
     "end_time": "2025-07-18T20:52:41.966264Z",
     "start_time": "2025-07-18T20:52:41.961081Z"
    }
   },
   "cell_type": "code",
   "source": [
    "c1 = Cookies()\n",
    "c2 = Cookies()"
   ],
   "id": "6e08edc721256834",
   "outputs": [],
   "execution_count": 5
  },
  {
   "metadata": {
    "ExecuteTime": {
     "end_time": "2025-07-18T20:52:53.047297Z",
     "start_time": "2025-07-18T20:52:53.042742Z"
    }
   },
   "cell_type": "code",
   "source": "c1.DEFAULT_SCARF_COLOR",
   "id": "f5862206dd18a362",
   "outputs": [
    {
     "data": {
      "text/plain": [
       "'Red'"
      ]
     },
     "execution_count": 6,
     "metadata": {},
     "output_type": "execute_result"
    }
   ],
   "execution_count": 6
  },
  {
   "metadata": {
    "ExecuteTime": {
     "end_time": "2025-07-18T20:53:00.701782Z",
     "start_time": "2025-07-18T20:53:00.693149Z"
    }
   },
   "cell_type": "code",
   "source": "c2.DEFAULT_SCARF_COLOR",
   "id": "2fd216b23bbb8c8c",
   "outputs": [
    {
     "data": {
      "text/plain": [
       "'Red'"
      ]
     },
     "execution_count": 7,
     "metadata": {},
     "output_type": "execute_result"
    }
   ],
   "execution_count": 7
  },
  {
   "metadata": {},
   "cell_type": "markdown",
   "source": "\"Accessed\" means for **READING**. What about setting them? It does **NOT** work from instances. Example:",
   "id": "82ab93b8757e727c"
  },
  {
   "metadata": {
    "ExecuteTime": {
     "end_time": "2025-07-18T20:55:16.807808Z",
     "start_time": "2025-07-18T20:55:16.801039Z"
    }
   },
   "cell_type": "code",
   "source": [
    "c1.DEFAULT_SCARF_COLOR = \"Yellow\"\n",
    "c2.DEFAULT_SCARF_COLOR = \"Green\""
   ],
   "id": "eb2d89beb56ce036",
   "outputs": [],
   "execution_count": 8
  },
  {
   "metadata": {
    "ExecuteTime": {
     "end_time": "2025-07-18T20:55:57.762658Z",
     "start_time": "2025-07-18T20:55:57.758790Z"
    }
   },
   "cell_type": "code",
   "source": "c1.DEFAULT_SCARF_COLOR",
   "id": "3ed28bfe8aafd179",
   "outputs": [
    {
     "data": {
      "text/plain": [
       "'Yellow'"
      ]
     },
     "execution_count": 11,
     "metadata": {},
     "output_type": "execute_result"
    }
   ],
   "execution_count": 11
  },
  {
   "metadata": {
    "ExecuteTime": {
     "end_time": "2025-07-18T20:56:03.568094Z",
     "start_time": "2025-07-18T20:56:03.560243Z"
    }
   },
   "cell_type": "code",
   "source": "c2.DEFAULT_SCARF_COLOR",
   "id": "3a45b696b36bd735",
   "outputs": [
    {
     "data": {
      "text/plain": [
       "'Green'"
      ]
     },
     "execution_count": 12,
     "metadata": {},
     "output_type": "execute_result"
    }
   ],
   "execution_count": 12
  },
  {
   "metadata": {},
   "cell_type": "markdown",
   "source": "What happened with `c2` and the `Cookie` class?",
   "id": "1ca128bea9a129e4"
  },
  {
   "metadata": {
    "ExecuteTime": {
     "end_time": "2025-07-18T20:57:15.094449Z",
     "start_time": "2025-07-18T20:57:15.086738Z"
    }
   },
   "cell_type": "code",
   "source": "Cookies.DEFAULT_SCARF_COLOR",
   "id": "283fbbcd3a5e1012",
   "outputs": [
    {
     "data": {
      "text/plain": [
       "'Red'"
      ]
     },
     "execution_count": 13,
     "metadata": {},
     "output_type": "execute_result"
    }
   ],
   "execution_count": 13
  },
  {
   "metadata": {},
   "cell_type": "markdown",
   "source": "**WARNING**: Never try to modify a Class Attribute from an instance.",
   "id": "84e35fdff807651e"
  },
  {
   "metadata": {},
   "cell_type": "markdown",
   "source": [
    "### Accessing Class Attributes from instances\n",
    "Instances can access _Class Attributes_ also from within methods. Example:"
   ],
   "id": "db5f042bf74a2da6"
  },
  {
   "metadata": {
    "ExecuteTime": {
     "end_time": "2025-07-18T20:57:50.105211Z",
     "start_time": "2025-07-18T20:57:50.092454Z"
    }
   },
   "cell_type": "code",
   "source": [
    "class Cookie(object):\n",
    "    DEFAULT_SCARF_COLOR = 'green'\n",
    "\n",
    "    def __init__(self, buttons, scarf=None):\n",
    "        # scarf is optional\n",
    "        self.buttons = buttons\n",
    "        if scarf:\n",
    "            self.scarf = scarf\n",
    "        else:\n",
    "            # self.scarf = Cookie.DEFAULT_SCARF_COLOR\n",
    "            self.scarf = self.DEFAULT_SCARF_COLOR"
   ],
   "id": "af350bb470e06bef",
   "outputs": [],
   "execution_count": 14
  },
  {
   "metadata": {
    "ExecuteTime": {
     "end_time": "2025-07-18T20:58:29.058096Z",
     "start_time": "2025-07-18T20:58:29.052458Z"
    }
   },
   "cell_type": "code",
   "source": "c1 = Cookie('Blue')",
   "id": "9c027df9db6c2c77",
   "outputs": [],
   "execution_count": 15
  },
  {
   "metadata": {
    "ExecuteTime": {
     "end_time": "2025-07-18T20:58:37.732735Z",
     "start_time": "2025-07-18T20:58:37.726766Z"
    }
   },
   "cell_type": "code",
   "source": "c1.buttons",
   "id": "64df69ff5761ba41",
   "outputs": [
    {
     "data": {
      "text/plain": [
       "'Blue'"
      ]
     },
     "execution_count": 16,
     "metadata": {},
     "output_type": "execute_result"
    }
   ],
   "execution_count": 16
  },
  {
   "metadata": {
    "ExecuteTime": {
     "end_time": "2025-07-18T20:58:52.316900Z",
     "start_time": "2025-07-18T20:58:52.310570Z"
    }
   },
   "cell_type": "code",
   "source": "c1.scarf",
   "id": "7ada7b88554d3701",
   "outputs": [
    {
     "data": {
      "text/plain": [
       "'green'"
      ]
     },
     "execution_count": 17,
     "metadata": {},
     "output_type": "execute_result"
    }
   ],
   "execution_count": 17
  },
  {
   "metadata": {},
   "cell_type": "markdown",
   "source": "### Example. Keeping an instance ID",
   "id": "932b4f7a5442963"
  },
  {
   "metadata": {
    "ExecuteTime": {
     "end_time": "2025-07-18T21:02:51.258319Z",
     "start_time": "2025-07-18T21:02:51.254630Z"
    }
   },
   "cell_type": "code",
   "source": [
    "class Cookie(object):\n",
    "    ID = 1\n",
    "\n",
    "    def __init__(self):\n",
    "        self.id = Cookie.ID\n",
    "        Cookie.ID += 1"
   ],
   "id": "6ac0da6ad1d9b8e3",
   "outputs": [],
   "execution_count": 34
  },
  {
   "metadata": {
    "ExecuteTime": {
     "end_time": "2025-07-18T21:02:52.821769Z",
     "start_time": "2025-07-18T21:02:52.818341Z"
    }
   },
   "cell_type": "code",
   "source": [
    "c1 = Cookie()\n",
    "c2 = Cookie()\n",
    "c3 = Cookie()"
   ],
   "id": "b8b5dc369adb42fd",
   "outputs": [],
   "execution_count": 35
  },
  {
   "metadata": {
    "ExecuteTime": {
     "end_time": "2025-07-18T21:02:56.770017Z",
     "start_time": "2025-07-18T21:02:56.764956Z"
    }
   },
   "cell_type": "code",
   "source": "c1.id",
   "id": "828dd306460a0bf8",
   "outputs": [
    {
     "data": {
      "text/plain": [
       "1"
      ]
     },
     "execution_count": 36,
     "metadata": {},
     "output_type": "execute_result"
    }
   ],
   "execution_count": 36
  },
  {
   "metadata": {
    "ExecuteTime": {
     "end_time": "2025-07-18T21:02:59.045340Z",
     "start_time": "2025-07-18T21:02:59.041542Z"
    }
   },
   "cell_type": "code",
   "source": "c2.id",
   "id": "50b7a336e6c4909e",
   "outputs": [
    {
     "data": {
      "text/plain": [
       "2"
      ]
     },
     "execution_count": 37,
     "metadata": {},
     "output_type": "execute_result"
    }
   ],
   "execution_count": 37
  },
  {
   "metadata": {},
   "cell_type": "code",
   "outputs": [],
   "execution_count": null,
   "source": "c3.id",
   "id": "b241a4a2ed87712b"
  },
  {
   "metadata": {},
   "cell_type": "markdown",
   "source": [
    "# Class Methods\n",
    "\n",
    "As we have _Class Attributes_, we can also have _Class Methods_. Methods associated to a class:"
   ],
   "id": "a9e55f9b5ab8abce"
  },
  {
   "metadata": {
    "ExecuteTime": {
     "end_time": "2025-07-18T21:08:04.463832Z",
     "start_time": "2025-07-18T21:08:04.453152Z"
    }
   },
   "cell_type": "code",
   "source": [
    "class Cookie(object):\n",
    "    @classmethod\n",
    "    def dummy_method(cls):\n",
    "        return \"Hello World\""
   ],
   "id": "5ee71b53c7d5b4b0",
   "outputs": [],
   "execution_count": 39
  },
  {
   "metadata": {
    "ExecuteTime": {
     "end_time": "2025-07-18T21:08:22.307960Z",
     "start_time": "2025-07-18T21:08:22.303146Z"
    }
   },
   "cell_type": "code",
   "source": "Cookie.dummy_method()",
   "id": "feec4f08dbcc65ff",
   "outputs": [
    {
     "data": {
      "text/plain": [
       "'Hello World'"
      ]
     },
     "execution_count": 40,
     "metadata": {},
     "output_type": "execute_result"
    }
   ],
   "execution_count": 40
  },
  {
   "metadata": {},
   "cell_type": "markdown",
   "source": "Instances can still access class methods:",
   "id": "344c13d123703c20"
  },
  {
   "metadata": {
    "ExecuteTime": {
     "end_time": "2025-07-18T21:08:48.517967Z",
     "start_time": "2025-07-18T21:08:48.512510Z"
    }
   },
   "cell_type": "code",
   "source": "c1 = Cookie()",
   "id": "4f1ed46e8f27f77d",
   "outputs": [],
   "execution_count": 41
  },
  {
   "metadata": {
    "ExecuteTime": {
     "end_time": "2025-07-18T21:09:02.712696Z",
     "start_time": "2025-07-18T21:09:02.708605Z"
    }
   },
   "cell_type": "code",
   "source": "c1.dummy_method()",
   "id": "ce6179a2cd74f2ad",
   "outputs": [
    {
     "data": {
      "text/plain": [
       "'Hello World'"
      ]
     },
     "execution_count": 42,
     "metadata": {},
     "output_type": "execute_result"
    }
   ],
   "execution_count": 42
  },
  {
   "metadata": {},
   "cell_type": "markdown",
   "source": "Usually, _Class Methods_ will access _Class Attributes_:",
   "id": "b5f12d275b7d0845"
  },
  {
   "metadata": {
    "ExecuteTime": {
     "end_time": "2025-07-18T21:09:32.775992Z",
     "start_time": "2025-07-18T21:09:32.768182Z"
    }
   },
   "cell_type": "code",
   "source": [
    "class Cookie(object):\n",
    "    DEFAULT_SCARF_COLOR = 'green'\n",
    "\n",
    "    @classmethod\n",
    "    def get_scarf_color(cls):\n",
    "        return Cookie.DEFAULT_SCARF_COLOR  # Can also use `cls`"
   ],
   "id": "30ae3b3c197e47c4",
   "outputs": [],
   "execution_count": 43
  },
  {
   "metadata": {
    "ExecuteTime": {
     "end_time": "2025-07-18T21:09:34.169342Z",
     "start_time": "2025-07-18T21:09:34.164670Z"
    }
   },
   "cell_type": "code",
   "source": "Cookie.get_scarf_color()",
   "id": "4902e1bcf6030fe9",
   "outputs": [
    {
     "data": {
      "text/plain": [
       "'green'"
      ]
     },
     "execution_count": 44,
     "metadata": {},
     "output_type": "execute_result"
    }
   ],
   "execution_count": 44
  },
  {
   "metadata": {},
   "cell_type": "markdown",
   "source": "_Class Methods_ can also modify _Class Attributes_:",
   "id": "4974c8fb042e9a8f"
  },
  {
   "metadata": {
    "ExecuteTime": {
     "end_time": "2025-07-18T21:09:54.373862Z",
     "start_time": "2025-07-18T21:09:54.370028Z"
    }
   },
   "cell_type": "code",
   "source": [
    "import random\n",
    "\n",
    "class Cookie(object):\n",
    "    DEFAULT_SCARF_COLOR = 'green'\n",
    "    COLOR_OPTIONS = ['Blue', 'Red', 'Green', 'Yellow', 'Black']\n",
    "\n",
    "    @classmethod\n",
    "    def randomize_scarf_color(cls):\n",
    "\n",
    "        cls.DEFAULT_SCARF_COLOR = random.choice(cls.COLOR_OPTIONS)"
   ],
   "id": "79f4015dc66c769f",
   "outputs": [],
   "execution_count": 45
  },
  {
   "metadata": {
    "ExecuteTime": {
     "end_time": "2025-07-18T21:10:18.508320Z",
     "start_time": "2025-07-18T21:10:18.500591Z"
    }
   },
   "cell_type": "code",
   "source": "Cookie.DEFAULT_SCARF_COLOR",
   "id": "cd89e92bc9f6496c",
   "outputs": [
    {
     "data": {
      "text/plain": [
       "'green'"
      ]
     },
     "execution_count": 46,
     "metadata": {},
     "output_type": "execute_result"
    }
   ],
   "execution_count": 46
  },
  {
   "metadata": {
    "ExecuteTime": {
     "end_time": "2025-07-18T21:10:20.007138Z",
     "start_time": "2025-07-18T21:10:20.003220Z"
    }
   },
   "cell_type": "code",
   "source": "Cookie.randomize_scarf_color()",
   "id": "14181b5d9560db6d",
   "outputs": [],
   "execution_count": 47
  },
  {
   "metadata": {
    "ExecuteTime": {
     "end_time": "2025-07-18T21:10:21.975346Z",
     "start_time": "2025-07-18T21:10:21.970616Z"
    }
   },
   "cell_type": "code",
   "source": "Cookie.DEFAULT_SCARF_COLOR",
   "id": "a15315cb0472c4ef",
   "outputs": [
    {
     "data": {
      "text/plain": [
       "'Blue'"
      ]
     },
     "execution_count": 48,
     "metadata": {},
     "output_type": "execute_result"
    }
   ],
   "execution_count": 48
  },
  {
   "metadata": {},
   "cell_type": "markdown",
   "source": "### Example: Cookies ID and count",
   "id": "1c97e50b65c816f9"
  },
  {
   "metadata": {
    "ExecuteTime": {
     "end_time": "2025-07-18T21:10:45.722895Z",
     "start_time": "2025-07-18T21:10:45.718531Z"
    }
   },
   "cell_type": "code",
   "source": [
    "class Cookie(object):\n",
    "    ID = 1\n",
    "\n",
    "    def __init__(self):\n",
    "        self.id = Cookie.ID\n",
    "        Cookie.ID += 1\n",
    "\n",
    "    @classmethod\n",
    "    def get_cookies_count(cls):\n",
    "        return Cookie.ID"
   ],
   "id": "397218f6cbb4db5f",
   "outputs": [],
   "execution_count": 49
  },
  {
   "metadata": {},
   "cell_type": "code",
   "outputs": [],
   "execution_count": null,
   "source": [
    "c1 = Cookie()\n",
    "c2 = Cookie()\n",
    "c3 = Cookie()"
   ],
   "id": "14aaceb2c85507fc"
  },
  {
   "metadata": {
    "ExecuteTime": {
     "end_time": "2025-07-18T21:11:33.487731Z",
     "start_time": "2025-07-18T21:11:33.479294Z"
    }
   },
   "cell_type": "code",
   "source": "",
   "id": "1936cc909d4b6157",
   "outputs": [
    {
     "data": {
      "text/plain": [
       "4"
      ]
     },
     "execution_count": 51,
     "metadata": {},
     "output_type": "execute_result"
    }
   ],
   "execution_count": null
  }
 ],
 "metadata": {
  "kernelspec": {
   "display_name": "Python 3",
   "language": "python",
   "name": "python3"
  },
  "language_info": {
   "codemirror_mode": {
    "name": "ipython",
    "version": 2
   },
   "file_extension": ".py",
   "mimetype": "text/x-python",
   "name": "python",
   "nbconvert_exporter": "python",
   "pygments_lexer": "ipython2",
   "version": "2.7.6"
  }
 },
 "nbformat": 4,
 "nbformat_minor": 5
}
