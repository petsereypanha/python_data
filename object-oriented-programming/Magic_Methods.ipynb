{
 "cells": [
  {
   "cell_type": "markdown",
   "metadata": {},
   "source": [
    "# Introduction to Magic Methods\n",
    "\n",
    "* _(Recommended reading: https://blog.rmotr.com/python-magic-methods-and-getattr-75cf896b3f88)_\n",
    "* _(Magic Methods Guide: https://rszalski.github.io/magicmethods/)_\n",
    "\n",
    "Magic methods are all those methods that you're NOT invoking directly. Python is doing it for you. It's a really **broad** term. Each magic method has it's own usage and purpose."
   ]
  },
  {
   "cell_type": "markdown",
   "metadata": {},
   "source": [
    "### `__str__` and `__repr__`\n",
    "\n",
    "* **`__str__`** > What humans read\n",
    "* **`__repr__`** > What machines read"
   ]
  },
  {
   "cell_type": "code",
   "execution_count": 1,
   "metadata": {},
   "outputs": [],
   "source": [
    "class Book(object):\n",
    "    def __init__(self, title, author):\n",
    "        self.title = title\n",
    "        self.author = author"
   ]
  },
  {
   "cell_type": "code",
   "execution_count": 2,
   "metadata": {},
   "outputs": [],
   "source": [
    "emma = Book('Emma', 'Jane Austen')\n",
    "the_raven = Book('The Raven', 'E. A. Poe')"
   ]
  },
  {
   "cell_type": "code",
   "execution_count": 3,
   "metadata": {},
   "outputs": [],
   "source": [
    "print(emma)"
   ]
  },
  {
   "cell_type": "code",
   "execution_count": 4,
   "metadata": {},
   "outputs": [
    {
     "name": "stdout",
     "output_type": "stream",
     "text": [
      "<__main__.Book object at 0x10fd39b38>\n"
     ]
    }
   ],
   "source": [
    "print(the_raven)"
   ]
  },
  {
   "cell_type": "code",
   "execution_count": 5,
   "metadata": {},
   "outputs": [],
   "source": [
    "class Book(object):\n",
    "    def __init__(self, title, author):\n",
    "        self.title = title\n",
    "        self.author = author\n",
    "    \n",
    "    def __str__(self):\n",
    "        return \"{} by {}\".format(self.title, self.author)\n",
    "\n",
    "emma = Book('Emma', 'Jane Austen')\n",
    "the_raven = Book('The Raven', 'E. A. Poe')"
   ]
  },
  {
   "cell_type": "code",
   "execution_count": 6,
   "metadata": {},
   "outputs": [
    {
     "name": "stdout",
     "output_type": "stream",
     "text": [
      "Emma by Jane Austen\n"
     ]
    }
   ],
   "source": [
    "print(emma)"
   ]
  },
  {
   "cell_type": "code",
   "execution_count": 7,
   "metadata": {},
   "outputs": [
    {
     "name": "stdout",
     "output_type": "stream",
     "text": [
      "The Raven by E. A. Poe\n"
     ]
    }
   ],
   "source": [
    "print(the_raven)"
   ]
  },
  {
   "cell_type": "code",
   "execution_count": 8,
   "metadata": {},
   "outputs": [
    {
     "data": {
      "text/plain": [
       "<__main__.Book at 0x10fd4f400>"
      ]
     },
     "execution_count": 8,
     "metadata": {},
     "output_type": "execute_result"
    }
   ],
   "source": [
    "emma"
   ]
  },
  {
   "cell_type": "code",
   "execution_count": 9,
   "metadata": {},
   "outputs": [
    {
     "data": {
      "text/plain": [
       "<__main__.Book at 0x10fd4f358>"
      ]
     },
     "execution_count": 9,
     "metadata": {},
     "output_type": "execute_result"
    }
   ],
   "source": [
    "the_raven"
   ]
  },
  {
   "cell_type": "code",
   "execution_count": 10,
   "metadata": {},
   "outputs": [],
   "source": [
    "class Book(object):\n",
    "    def __init__(self, title, author):\n",
    "        self.title = title\n",
    "        self.author = author\n",
    "    \n",
    "    def __str__(self):\n",
    "        return \"{} by {}\".format(self.title, self.author)\n",
    "    \n",
    "    def __repr__(self):\n",
    "        return \"Book(title='{}', auhtor='{}')\".format(self.title, self.author)\n",
    "\n",
    "\n",
    "emma = Book('Emma', 'Jane Austen')\n",
    "the_raven = Book('The Raven', 'E. A. Poe')"
   ]
  },
  {
   "cell_type": "code",
   "execution_count": 11,
   "metadata": {},
   "outputs": [
    {
     "data": {
      "text/plain": [
       "Book(title='Emma', auhtor='Jane Austen')"
      ]
     },
     "execution_count": 11,
     "metadata": {},
     "output_type": "execute_result"
    }
   ],
   "source": [
    "emma"
   ]
  },
  {
   "cell_type": "code",
   "execution_count": 12,
   "metadata": {},
   "outputs": [
    {
     "data": {
      "text/plain": [
       "Book(title='The Raven', auhtor='E. A. Poe')"
      ]
     },
     "execution_count": 12,
     "metadata": {},
     "output_type": "execute_result"
    }
   ],
   "source": [
    "the_raven"
   ]
  },
  {
   "cell_type": "code",
   "execution_count": 13,
   "metadata": {},
   "outputs": [],
   "source": [
    "from datetime import datetime\n",
    "d = datetime(2018, 1, 1, 21, 30, 55)"
   ]
  },
  {
   "cell_type": "code",
   "execution_count": 14,
   "metadata": {},
   "outputs": [
    {
     "name": "stdout",
     "output_type": "stream",
     "text": [
      "2018-01-01 21:30:55\n"
     ]
    }
   ],
   "source": [
    "print(d)"
   ]
  },
  {
   "cell_type": "code",
   "execution_count": 15,
   "metadata": {},
   "outputs": [
    {
     "data": {
      "text/plain": [
       "datetime.datetime(2018, 1, 1, 21, 30, 55)"
      ]
     },
     "execution_count": 15,
     "metadata": {},
     "output_type": "execute_result"
    }
   ],
   "source": [
    "d"
   ]
  },
  {
   "cell_type": "code",
   "execution_count": 16,
   "metadata": {},
   "outputs": [
    {
     "data": {
      "text/plain": [
       "'2018-01-01 21:30:55'"
      ]
     },
     "execution_count": 16,
     "metadata": {},
     "output_type": "execute_result"
    }
   ],
   "source": [
    "str(d)"
   ]
  },
  {
   "cell_type": "code",
   "execution_count": 17,
   "metadata": {},
   "outputs": [
    {
     "data": {
      "text/plain": [
       "'datetime.datetime(2018, 1, 1, 21, 30, 55)'"
      ]
     },
     "execution_count": 17,
     "metadata": {},
     "output_type": "execute_result"
    }
   ],
   "source": [
    "repr(d)"
   ]
  },
  {
   "cell_type": "markdown",
   "metadata": {},
   "source": [
    "### More to Magic Methods\n",
    "\n",
    "`__str__` and `__repr__` give us a sense of what Magic Methods \"are\". Special methods that Python treats differently. We **never** invoke Magic Methods directly.\n",
    "\n",
    "For a better example, we need to talk about **INTERFACES**. Next lesson."
   ]
  },
  {
   "metadata": {},
   "cell_type": "markdown",
   "source": [
    "# Interfaces\n",
    "\n",
    "\n",
    "Python use the same interfaces for MANY things. Just a few examples:"
   ]
  },
  {
   "metadata": {
    "ExecuteTime": {
     "end_time": "2025-07-20T13:05:44.623360Z",
     "start_time": "2025-07-20T13:05:44.616262Z"
    }
   },
   "cell_type": "code",
   "source": "[1, 2] + ['a', 'b']",
   "outputs": [
    {
     "data": {
      "text/plain": [
       "[1, 2, 'a', 'b']"
      ]
     },
     "execution_count": 1,
     "metadata": {},
     "output_type": "execute_result"
    }
   ],
   "execution_count": 1
  },
  {
   "metadata": {
    "ExecuteTime": {
     "end_time": "2025-07-20T13:05:47.456845Z",
     "start_time": "2025-07-20T13:05:47.452457Z"
    }
   },
   "cell_type": "code",
   "source": "'abc' + 'def'",
   "outputs": [
    {
     "data": {
      "text/plain": [
       "'abcdef'"
      ]
     },
     "execution_count": 2,
     "metadata": {},
     "output_type": "execute_result"
    }
   ],
   "execution_count": 2
  },
  {
   "metadata": {
    "ExecuteTime": {
     "end_time": "2025-07-20T13:05:54.165592Z",
     "start_time": "2025-07-20T13:05:54.161209Z"
    }
   },
   "cell_type": "code",
   "source": "3 + 2",
   "outputs": [
    {
     "data": {
      "text/plain": [
       "5"
      ]
     },
     "execution_count": 3,
     "metadata": {},
     "output_type": "execute_result"
    }
   ],
   "execution_count": 3
  },
  {
   "metadata": {},
   "cell_type": "markdown",
   "source": "**Membership testing**"
  },
  {
   "metadata": {
    "ExecuteTime": {
     "end_time": "2025-07-20T13:06:10.526955Z",
     "start_time": "2025-07-20T13:06:10.523034Z"
    }
   },
   "cell_type": "code",
   "source": "'W' in 'Hello World'",
   "outputs": [
    {
     "data": {
      "text/plain": [
       "True"
      ]
     },
     "execution_count": 4,
     "metadata": {},
     "output_type": "execute_result"
    }
   ],
   "execution_count": 4
  },
  {
   "metadata": {
    "ExecuteTime": {
     "end_time": "2025-07-20T13:06:17.397228Z",
     "start_time": "2025-07-20T13:06:17.392565Z"
    }
   },
   "cell_type": "code",
   "source": "3 in (1, 2, 3, 4)",
   "outputs": [
    {
     "data": {
      "text/plain": [
       "True"
      ]
     },
     "execution_count": 5,
     "metadata": {},
     "output_type": "execute_result"
    }
   ],
   "execution_count": 5
  },
  {
   "metadata": {
    "ExecuteTime": {
     "end_time": "2025-07-20T13:06:24.395878Z",
     "start_time": "2025-07-20T13:06:24.392531Z"
    }
   },
   "cell_type": "code",
   "source": "3 in range(5)",
   "outputs": [
    {
     "data": {
      "text/plain": [
       "True"
      ]
     },
     "execution_count": 6,
     "metadata": {},
     "output_type": "execute_result"
    }
   ],
   "execution_count": 6
  },
  {
   "metadata": {
    "ExecuteTime": {
     "end_time": "2025-07-20T13:06:30.810316Z",
     "start_time": "2025-07-20T13:06:30.806615Z"
    }
   },
   "cell_type": "code",
   "source": "'last_name' in {'first_name': 'Jane', 'last_name': 'Doe'}",
   "outputs": [
    {
     "data": {
      "text/plain": [
       "True"
      ]
     },
     "execution_count": 7,
     "metadata": {},
     "output_type": "execute_result"
    }
   ],
   "execution_count": 7
  },
  {
   "metadata": {},
   "cell_type": "markdown",
   "source": "**Accessing elements**"
  },
  {
   "metadata": {
    "ExecuteTime": {
     "end_time": "2025-07-20T13:06:55.130742Z",
     "start_time": "2025-07-20T13:06:55.127245Z"
    }
   },
   "cell_type": "code",
   "source": "\"hello\"[2]",
   "outputs": [
    {
     "data": {
      "text/plain": [
       "'l'"
      ]
     },
     "execution_count": 8,
     "metadata": {},
     "output_type": "execute_result"
    }
   ],
   "execution_count": 8
  },
  {
   "metadata": {
    "ExecuteTime": {
     "end_time": "2025-07-20T13:07:04.352409Z",
     "start_time": "2025-07-20T13:07:04.347873Z"
    }
   },
   "cell_type": "code",
   "source": [
    "l = [1, 2, 3]\n",
    "l[1]"
   ],
   "outputs": [
    {
     "data": {
      "text/plain": [
       "2"
      ]
     },
     "execution_count": 9,
     "metadata": {},
     "output_type": "execute_result"
    }
   ],
   "execution_count": 9
  }
 ],
 "metadata": {
  "kernelspec": {
   "display_name": "Python 3",
   "language": "python",
   "name": "python3"
  },
  "language_info": {
   "codemirror_mode": {
    "name": "ipython",
    "version": 3
   },
   "file_extension": ".py",
   "mimetype": "text/x-python",
   "name": "python",
   "nbconvert_exporter": "python",
   "pygments_lexer": "ipython3",
   "version": "3.6.0"
  }
 },
 "nbformat": 4,
 "nbformat_minor": 2
}
