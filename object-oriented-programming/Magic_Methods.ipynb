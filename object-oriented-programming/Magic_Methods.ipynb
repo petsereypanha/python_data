{
 "cells": [
  {
   "cell_type": "markdown",
   "metadata": {},
   "source": [
    "# Introduction to Magic Methods\n",
    "\n",
    "* _(Recommended reading: https://blog.rmotr.com/python-magic-methods-and-getattr-75cf896b3f88)_\n",
    "* _(Magic Methods Guide: https://rszalski.github.io/magicmethods/)_\n",
    "\n",
    "Magic methods are all those methods that you're NOT invoking directly. Python is doing it for you. It's a really **broad** term. Each magic method has it's own usage and purpose."
   ]
  },
  {
   "cell_type": "markdown",
   "metadata": {},
   "source": [
    "### `__str__` and `__repr__`\n",
    "\n",
    "* **`__str__`** > What humans read\n",
    "* **`__repr__`** > What machines read"
   ]
  },
  {
   "cell_type": "code",
   "execution_count": 1,
   "metadata": {},
   "outputs": [],
   "source": [
    "class Book(object):\n",
    "    def __init__(self, title, author):\n",
    "        self.title = title\n",
    "        self.author = author"
   ]
  },
  {
   "cell_type": "code",
   "execution_count": 2,
   "metadata": {},
   "outputs": [],
   "source": [
    "emma = Book('Emma', 'Jane Austen')\n",
    "the_raven = Book('The Raven', 'E. A. Poe')"
   ]
  },
  {
   "cell_type": "code",
   "execution_count": 3,
   "metadata": {},
   "outputs": [],
   "source": [
    "print(emma)"
   ]
  },
  {
   "cell_type": "code",
   "execution_count": 4,
   "metadata": {},
   "outputs": [
    {
     "name": "stdout",
     "output_type": "stream",
     "text": [
      "<__main__.Book object at 0x10fd39b38>\n"
     ]
    }
   ],
   "source": [
    "print(the_raven)"
   ]
  },
  {
   "cell_type": "code",
   "execution_count": 5,
   "metadata": {},
   "outputs": [],
   "source": [
    "class Book(object):\n",
    "    def __init__(self, title, author):\n",
    "        self.title = title\n",
    "        self.author = author\n",
    "    \n",
    "    def __str__(self):\n",
    "        return \"{} by {}\".format(self.title, self.author)\n",
    "\n",
    "emma = Book('Emma', 'Jane Austen')\n",
    "the_raven = Book('The Raven', 'E. A. Poe')"
   ]
  },
  {
   "cell_type": "code",
   "execution_count": 6,
   "metadata": {},
   "outputs": [
    {
     "name": "stdout",
     "output_type": "stream",
     "text": [
      "Emma by Jane Austen\n"
     ]
    }
   ],
   "source": [
    "print(emma)"
   ]
  },
  {
   "cell_type": "code",
   "execution_count": 7,
   "metadata": {},
   "outputs": [
    {
     "name": "stdout",
     "output_type": "stream",
     "text": [
      "The Raven by E. A. Poe\n"
     ]
    }
   ],
   "source": [
    "print(the_raven)"
   ]
  },
  {
   "cell_type": "code",
   "execution_count": 8,
   "metadata": {},
   "outputs": [
    {
     "data": {
      "text/plain": [
       "<__main__.Book at 0x10fd4f400>"
      ]
     },
     "execution_count": 8,
     "metadata": {},
     "output_type": "execute_result"
    }
   ],
   "source": [
    "emma"
   ]
  },
  {
   "cell_type": "code",
   "execution_count": 9,
   "metadata": {},
   "outputs": [
    {
     "data": {
      "text/plain": [
       "<__main__.Book at 0x10fd4f358>"
      ]
     },
     "execution_count": 9,
     "metadata": {},
     "output_type": "execute_result"
    }
   ],
   "source": [
    "the_raven"
   ]
  },
  {
   "cell_type": "code",
   "execution_count": 10,
   "metadata": {},
   "outputs": [],
   "source": [
    "class Book(object):\n",
    "    def __init__(self, title, author):\n",
    "        self.title = title\n",
    "        self.author = author\n",
    "    \n",
    "    def __str__(self):\n",
    "        return \"{} by {}\".format(self.title, self.author)\n",
    "    \n",
    "    def __repr__(self):\n",
    "        return \"Book(title='{}', auhtor='{}')\".format(self.title, self.author)\n",
    "\n",
    "\n",
    "emma = Book('Emma', 'Jane Austen')\n",
    "the_raven = Book('The Raven', 'E. A. Poe')"
   ]
  },
  {
   "cell_type": "code",
   "execution_count": 11,
   "metadata": {},
   "outputs": [
    {
     "data": {
      "text/plain": [
       "Book(title='Emma', auhtor='Jane Austen')"
      ]
     },
     "execution_count": 11,
     "metadata": {},
     "output_type": "execute_result"
    }
   ],
   "source": [
    "emma"
   ]
  },
  {
   "cell_type": "code",
   "execution_count": 12,
   "metadata": {},
   "outputs": [
    {
     "data": {
      "text/plain": [
       "Book(title='The Raven', auhtor='E. A. Poe')"
      ]
     },
     "execution_count": 12,
     "metadata": {},
     "output_type": "execute_result"
    }
   ],
   "source": [
    "the_raven"
   ]
  },
  {
   "cell_type": "code",
   "execution_count": 13,
   "metadata": {},
   "outputs": [],
   "source": [
    "from datetime import datetime\n",
    "d = datetime(2018, 1, 1, 21, 30, 55)"
   ]
  },
  {
   "cell_type": "code",
   "execution_count": 14,
   "metadata": {},
   "outputs": [
    {
     "name": "stdout",
     "output_type": "stream",
     "text": [
      "2018-01-01 21:30:55\n"
     ]
    }
   ],
   "source": [
    "print(d)"
   ]
  },
  {
   "cell_type": "code",
   "execution_count": 15,
   "metadata": {},
   "outputs": [
    {
     "data": {
      "text/plain": [
       "datetime.datetime(2018, 1, 1, 21, 30, 55)"
      ]
     },
     "execution_count": 15,
     "metadata": {},
     "output_type": "execute_result"
    }
   ],
   "source": [
    "d"
   ]
  },
  {
   "cell_type": "code",
   "execution_count": 16,
   "metadata": {},
   "outputs": [
    {
     "data": {
      "text/plain": [
       "'2018-01-01 21:30:55'"
      ]
     },
     "execution_count": 16,
     "metadata": {},
     "output_type": "execute_result"
    }
   ],
   "source": [
    "str(d)"
   ]
  },
  {
   "cell_type": "code",
   "execution_count": 17,
   "metadata": {},
   "outputs": [
    {
     "data": {
      "text/plain": [
       "'datetime.datetime(2018, 1, 1, 21, 30, 55)'"
      ]
     },
     "execution_count": 17,
     "metadata": {},
     "output_type": "execute_result"
    }
   ],
   "source": [
    "repr(d)"
   ]
  },
  {
   "cell_type": "markdown",
   "metadata": {},
   "source": [
    "### More to Magic Methods\n",
    "\n",
    "`__str__` and `__repr__` give us a sense of what Magic Methods \"are\". Special methods that Python treats differently. We **never** invoke Magic Methods directly.\n",
    "\n",
    "For a better example, we need to talk about **INTERFACES**. Next lesson."
   ]
  },
  {
   "metadata": {},
   "cell_type": "markdown",
   "source": [
    "# Interfaces\n",
    "\n",
    "\n",
    "Python use the same interfaces for MANY things. Just a few examples:"
   ]
  },
  {
   "metadata": {
    "ExecuteTime": {
     "end_time": "2025-07-20T13:05:44.623360Z",
     "start_time": "2025-07-20T13:05:44.616262Z"
    }
   },
   "cell_type": "code",
   "source": "[1, 2] + ['a', 'b']",
   "outputs": [
    {
     "data": {
      "text/plain": [
       "[1, 2, 'a', 'b']"
      ]
     },
     "execution_count": 1,
     "metadata": {},
     "output_type": "execute_result"
    }
   ],
   "execution_count": 1
  },
  {
   "metadata": {
    "ExecuteTime": {
     "end_time": "2025-07-20T13:05:47.456845Z",
     "start_time": "2025-07-20T13:05:47.452457Z"
    }
   },
   "cell_type": "code",
   "source": "'abc' + 'def'",
   "outputs": [
    {
     "data": {
      "text/plain": [
       "'abcdef'"
      ]
     },
     "execution_count": 2,
     "metadata": {},
     "output_type": "execute_result"
    }
   ],
   "execution_count": 2
  },
  {
   "metadata": {
    "ExecuteTime": {
     "end_time": "2025-07-20T13:05:54.165592Z",
     "start_time": "2025-07-20T13:05:54.161209Z"
    }
   },
   "cell_type": "code",
   "source": "3 + 2",
   "outputs": [
    {
     "data": {
      "text/plain": [
       "5"
      ]
     },
     "execution_count": 3,
     "metadata": {},
     "output_type": "execute_result"
    }
   ],
   "execution_count": 3
  },
  {
   "metadata": {},
   "cell_type": "markdown",
   "source": "**Membership testing**"
  },
  {
   "metadata": {
    "ExecuteTime": {
     "end_time": "2025-07-20T13:06:10.526955Z",
     "start_time": "2025-07-20T13:06:10.523034Z"
    }
   },
   "cell_type": "code",
   "source": "'W' in 'Hello World'",
   "outputs": [
    {
     "data": {
      "text/plain": [
       "True"
      ]
     },
     "execution_count": 4,
     "metadata": {},
     "output_type": "execute_result"
    }
   ],
   "execution_count": 4
  },
  {
   "metadata": {
    "ExecuteTime": {
     "end_time": "2025-07-20T13:06:17.397228Z",
     "start_time": "2025-07-20T13:06:17.392565Z"
    }
   },
   "cell_type": "code",
   "source": "3 in (1, 2, 3, 4)",
   "outputs": [
    {
     "data": {
      "text/plain": [
       "True"
      ]
     },
     "execution_count": 5,
     "metadata": {},
     "output_type": "execute_result"
    }
   ],
   "execution_count": 5
  },
  {
   "metadata": {
    "ExecuteTime": {
     "end_time": "2025-07-20T13:06:24.395878Z",
     "start_time": "2025-07-20T13:06:24.392531Z"
    }
   },
   "cell_type": "code",
   "source": "3 in range(5)",
   "outputs": [
    {
     "data": {
      "text/plain": [
       "True"
      ]
     },
     "execution_count": 6,
     "metadata": {},
     "output_type": "execute_result"
    }
   ],
   "execution_count": 6
  },
  {
   "metadata": {
    "ExecuteTime": {
     "end_time": "2025-07-20T13:06:30.810316Z",
     "start_time": "2025-07-20T13:06:30.806615Z"
    }
   },
   "cell_type": "code",
   "source": "'last_name' in {'first_name': 'Jane', 'last_name': 'Doe'}",
   "outputs": [
    {
     "data": {
      "text/plain": [
       "True"
      ]
     },
     "execution_count": 7,
     "metadata": {},
     "output_type": "execute_result"
    }
   ],
   "execution_count": 7
  },
  {
   "metadata": {},
   "cell_type": "markdown",
   "source": "**Accessing elements**"
  },
  {
   "metadata": {
    "ExecuteTime": {
     "end_time": "2025-07-20T13:06:55.130742Z",
     "start_time": "2025-07-20T13:06:55.127245Z"
    }
   },
   "cell_type": "code",
   "source": "\"hello\"[2]",
   "outputs": [
    {
     "data": {
      "text/plain": [
       "'l'"
      ]
     },
     "execution_count": 8,
     "metadata": {},
     "output_type": "execute_result"
    }
   ],
   "execution_count": 8
  },
  {
   "metadata": {
    "ExecuteTime": {
     "end_time": "2025-07-20T13:07:04.352409Z",
     "start_time": "2025-07-20T13:07:04.347873Z"
    }
   },
   "cell_type": "code",
   "source": [
    "l = [1, 2, 3]\n",
    "l[1]"
   ],
   "outputs": [
    {
     "data": {
      "text/plain": [
       "2"
      ]
     },
     "execution_count": 9,
     "metadata": {},
     "output_type": "execute_result"
    }
   ],
   "execution_count": 9
  },
  {
   "metadata": {
    "ExecuteTime": {
     "end_time": "2025-07-20T13:08:34.436003Z",
     "start_time": "2025-07-20T13:08:34.427707Z"
    }
   },
   "cell_type": "code",
   "source": [
    "l = [1, 2, 3]\n",
    "l[1]"
   ],
   "outputs": [
    {
     "data": {
      "text/plain": [
       "2"
      ]
     },
     "execution_count": 10,
     "metadata": {},
     "output_type": "execute_result"
    }
   ],
   "execution_count": 10
  },
  {
   "metadata": {
    "ExecuteTime": {
     "end_time": "2025-07-20T13:08:43.116561Z",
     "start_time": "2025-07-20T13:08:43.111706Z"
    }
   },
   "cell_type": "code",
   "source": [
    "d = {'name': 'Tom', 'age': 23}\n",
    "d['name']"
   ],
   "outputs": [
    {
     "data": {
      "text/plain": [
       "'Tom'"
      ]
     },
     "execution_count": 11,
     "metadata": {},
     "output_type": "execute_result"
    }
   ],
   "execution_count": 11
  },
  {
   "metadata": {},
   "cell_type": "markdown",
   "source": "Again, these are just a few examples, but as you can see, operations are kept \"consistent\"."
  },
  {
   "metadata": {},
   "cell_type": "markdown",
   "source": [
    "### Our Custom Classes\n",
    "\n",
    "We want to \"borrow\" the same interfaces for our own classes. That way, it'll be more intuitive to our users. For example:"
   ]
  },
  {
   "metadata": {
    "ExecuteTime": {
     "end_time": "2025-07-20T13:09:06.271153Z",
     "start_time": "2025-07-20T13:09:06.265456Z"
    }
   },
   "cell_type": "code",
   "source": [
    "class Weight(object):\n",
    "    def __init__(self, weight, unit='kg'):\n",
    "        self.weight = weight\n",
    "        self.unit = unit"
   ],
   "outputs": [],
   "execution_count": 12
  },
  {
   "metadata": {
    "ExecuteTime": {
     "end_time": "2025-07-20T13:09:16.650663Z",
     "start_time": "2025-07-20T13:09:16.647235Z"
    }
   },
   "cell_type": "code",
   "source": [
    "w1 = Weight(20, 'kg')\n",
    "w2 = Weight(30, 'lb')"
   ],
   "outputs": [],
   "execution_count": 13
  },
  {
   "metadata": {},
   "cell_type": "markdown",
   "source": "How can we add these two weights? The intuitive way, would be to just do:"
  },
  {
   "metadata": {
    "ExecuteTime": {
     "end_time": "2025-07-20T13:09:34.818853Z",
     "start_time": "2025-07-20T13:09:34.666153Z"
    }
   },
   "cell_type": "code",
   "source": "w1 + w2",
   "outputs": [
    {
     "ename": "TypeError",
     "evalue": "unsupported operand type(s) for +: 'Weight' and 'Weight'",
     "output_type": "error",
     "traceback": [
      "\u001B[31m---------------------------------------------------------------------------\u001B[39m",
      "\u001B[31mTypeError\u001B[39m                                 Traceback (most recent call last)",
      "\u001B[36mCell\u001B[39m\u001B[36m \u001B[39m\u001B[32mIn[14]\u001B[39m\u001B[32m, line 1\u001B[39m\n\u001B[32m----> \u001B[39m\u001B[32m1\u001B[39m \u001B[43mw1\u001B[49m\u001B[43m \u001B[49m\u001B[43m+\u001B[49m\u001B[43m \u001B[49m\u001B[43mw2\u001B[49m\n",
      "\u001B[31mTypeError\u001B[39m: unsupported operand type(s) for +: 'Weight' and 'Weight'"
     ]
    }
   ],
   "execution_count": 14
  },
  {
   "metadata": {},
   "cell_type": "markdown",
   "source": [
    "But of course that fails 😔\n",
    "\n",
    "... So, we have to come up with some \"less intuitive\" method, for example:"
   ]
  },
  {
   "metadata": {
    "ExecuteTime": {
     "end_time": "2025-07-20T13:09:51.390586Z",
     "start_time": "2025-07-20T13:09:51.385965Z"
    }
   },
   "cell_type": "code",
   "source": [
    "class Weight(object):\n",
    "    def __init__(self, weight, unit='kg'):\n",
    "        self.weight = weight\n",
    "        self.unit = unit\n",
    "\n",
    "    def __str__(self):\n",
    "        return \"{:.2f}{}\".format(self.weight, self.unit)\n",
    "\n",
    "    def add(self, other_weight):\n",
    "        \"Returns weight always in Kg. for simplicity\"\n",
    "        w1_kg = self.weight\n",
    "        if self.unit == 'lb':\n",
    "            w1_kg /= 2.2\n",
    "\n",
    "        w2_kg = other_weight.weight\n",
    "        if other_weight.unit == 'lb':\n",
    "            w2_kg /= 2.2\n",
    "\n",
    "        return Weight(w1_kg + w2_kg, unit='kg')"
   ],
   "outputs": [],
   "execution_count": 15
  },
  {
   "metadata": {
    "ExecuteTime": {
     "end_time": "2025-07-20T13:09:58.616718Z",
     "start_time": "2025-07-20T13:09:58.613068Z"
    }
   },
   "cell_type": "code",
   "source": [
    "w1 = Weight(20, unit='kg')\n",
    "w2 = Weight(30, unit='lb')"
   ],
   "outputs": [],
   "execution_count": 16
  },
  {
   "metadata": {},
   "cell_type": "code",
   "outputs": [],
   "execution_count": null,
   "source": [
    "w3 = w1.add(w2)\n",
    "print(w3)"
   ]
  },
  {
   "metadata": {},
   "cell_type": "markdown",
   "source": "Is this the best we can do? Isn't there a better way? Well, yes, Python has always a more elegant, intuitive solution, and in this case, it involves the intuitive `w1 + w2` operation. Namely, the `+` operator. We can incorporate to our own classes the behavior of the `+` operator. To do that, you need to implement the _Magic Method_ `__add__`:"
  },
  {
   "metadata": {
    "ExecuteTime": {
     "end_time": "2025-07-20T13:10:55.527634Z",
     "start_time": "2025-07-20T13:10:55.519984Z"
    }
   },
   "cell_type": "code",
   "source": [
    "class Weight(object):\n",
    "    def __init__(self, weight, unit='kg'):\n",
    "        self.weight = weight\n",
    "        self.unit = unit\n",
    "\n",
    "    def __str__(self):\n",
    "        return \"{:.2f}{}\".format(self.weight, self.unit)\n",
    "\n",
    "    def __add__(self, other_weight):\n",
    "        \"Returns weight always in Kg. for simplicity\"\n",
    "        w1_kg = self.weight\n",
    "        if self.unit == 'lb':\n",
    "            w1_kg /= 2.2\n",
    "\n",
    "        w2_kg = other_weight.weight\n",
    "        if other_weight.unit == 'lb':\n",
    "            w2_kg /= 2.2\n",
    "\n",
    "        return Weight(w1_kg + w2_kg, unit='kg')"
   ],
   "outputs": [],
   "execution_count": 18
  },
  {
   "metadata": {
    "ExecuteTime": {
     "end_time": "2025-07-20T13:11:02.223773Z",
     "start_time": "2025-07-20T13:11:02.221445Z"
    }
   },
   "cell_type": "code",
   "source": [
    "w1 = Weight(20, unit='kg')\n",
    "w2 = Weight(30, unit='lb')"
   ],
   "outputs": [],
   "execution_count": 19
  },
  {
   "metadata": {
    "ExecuteTime": {
     "end_time": "2025-07-20T13:11:09.511734Z",
     "start_time": "2025-07-20T13:11:09.508258Z"
    }
   },
   "cell_type": "code",
   "source": [
    "w3 = w1 + w2\n",
    "print(w3)"
   ],
   "outputs": [
    {
     "name": "stdout",
     "output_type": "stream",
     "text": [
      "33.64kg\n"
     ]
    }
   ],
   "execution_count": 20
  },
  {
   "metadata": {
    "ExecuteTime": {
     "end_time": "2025-07-20T13:11:15.353031Z",
     "start_time": "2025-07-20T13:11:15.348289Z"
    }
   },
   "cell_type": "code",
   "source": [
    "w3 = w1 + w2\n",
    "print(w3)"
   ],
   "outputs": [
    {
     "name": "stdout",
     "output_type": "stream",
     "text": [
      "33.64kg\n"
     ]
    }
   ],
   "execution_count": 21
  },
  {
   "metadata": {},
   "cell_type": "markdown",
   "source": "As you can see, just by renaming our previous `add` method as `__add__`, we have implemented the `+` behavior for our own custom class. So, when we did `w1 + w2` we were just doing:"
  },
  {
   "metadata": {
    "ExecuteTime": {
     "end_time": "2025-07-20T13:11:41.336376Z",
     "start_time": "2025-07-20T13:11:41.330026Z"
    }
   },
   "cell_type": "code",
   "source": [
    "w3 = w1.__add__(w2)\n",
    "print(w3)"
   ],
   "outputs": [
    {
     "name": "stdout",
     "output_type": "stream",
     "text": [
      "33.64kg\n"
     ]
    }
   ],
   "execution_count": 22
  },
  {
   "metadata": {},
   "cell_type": "markdown",
   "source": [
    "And that's the reason why these are called _Magic Methods_: **We didn't explicitly  call `__add__`. We used `+`, and Python was the one invoking the `__add__` method behind the scenes.**\n",
    "\n",
    "Once again:"
   ]
  },
  {
   "metadata": {
    "ExecuteTime": {
     "end_time": "2025-07-20T13:12:26.764872Z",
     "start_time": "2025-07-20T13:12:26.761991Z"
    }
   },
   "cell_type": "code",
   "source": [
    "w3 = w1.__add__(w2)\n",
    "print(w3)"
   ],
   "outputs": [
    {
     "name": "stdout",
     "output_type": "stream",
     "text": [
      "33.64kg\n"
     ]
    }
   ],
   "execution_count": 23
  }
 ],
 "metadata": {
  "kernelspec": {
   "display_name": "Python 3",
   "language": "python",
   "name": "python3"
  },
  "language_info": {
   "codemirror_mode": {
    "name": "ipython",
    "version": 3
   },
   "file_extension": ".py",
   "mimetype": "text/x-python",
   "name": "python",
   "nbconvert_exporter": "python",
   "pygments_lexer": "ipython3",
   "version": "3.6.0"
  }
 },
 "nbformat": 4,
 "nbformat_minor": 2
}
