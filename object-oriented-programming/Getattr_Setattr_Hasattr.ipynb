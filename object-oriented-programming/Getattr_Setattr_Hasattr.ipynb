{
 "cells": [
  {
   "metadata": {},
   "cell_type": "markdown",
   "source": [
    "# Getattr Setattr and Hasattr\n",
    "\n",
    "These methods will let you get, set or check for attributes dynamically.These are a little bit more \"advanced\" features that will allow you to write more dynamic code with higher reusability."
   ],
   "id": "a899188568d486df"
  },
  {
   "metadata": {
    "ExecuteTime": {
     "end_time": "2025-07-19T06:04:38.292404Z",
     "start_time": "2025-07-19T06:04:38.287684Z"
    }
   },
   "cell_type": "code",
   "source": [
    "class Book(object):\n",
    "    def __init__(self, title):\n",
    "        self.title = title\n",
    "class Person(object):\n",
    "    def __init__(self, name):\n",
    "        self.name = name"
   ],
   "id": "2963ae247257b9d5",
   "outputs": [],
   "execution_count": 1
  },
  {
   "metadata": {
    "ExecuteTime": {
     "end_time": "2025-07-19T06:05:46.765830Z",
     "start_time": "2025-07-19T06:05:46.759683Z"
    }
   },
   "cell_type": "code",
   "source": [
    "the_raven = Book('The ravan')\n",
    "jane = Person('Jane')"
   ],
   "id": "4f25ca38d6408b5",
   "outputs": [],
   "execution_count": 2
  },
  {
   "metadata": {
    "ExecuteTime": {
     "end_time": "2025-07-19T06:06:54.096477Z",
     "start_time": "2025-07-19T06:06:54.090080Z"
    }
   },
   "cell_type": "code",
   "source": [
    "def person_printer(a_person):\n",
    "    name = a_person.name\n",
    "    print(\"Person's name is: {}\".format(name))"
   ],
   "id": "a401d1f2d59a80cb",
   "outputs": [],
   "execution_count": 3
  },
  {
   "metadata": {
    "ExecuteTime": {
     "end_time": "2025-07-19T06:07:08.355643Z",
     "start_time": "2025-07-19T06:07:08.345849Z"
    }
   },
   "cell_type": "code",
   "source": "person_printer(jane)",
   "id": "be25badb36491489",
   "outputs": [
    {
     "name": "stdout",
     "output_type": "stream",
     "text": [
      "Person's name is: Jane\n"
     ]
    }
   ],
   "execution_count": 4
  },
  {
   "metadata": {
    "ExecuteTime": {
     "end_time": "2025-07-19T06:07:39.083589Z",
     "start_time": "2025-07-19T06:07:39.079679Z"
    }
   },
   "cell_type": "code",
   "source": [
    "def book_printer(book):\n",
    "    title = book.title\n",
    "    print(\"Book's name is: {}\".format(book.name))"
   ],
   "id": "4a4dcd174729751c",
   "outputs": [],
   "execution_count": 5
  },
  {
   "metadata": {},
   "cell_type": "markdown",
   "source": [
    "These two functions are doing pretty much the same thing.Wouldn't it be great to somehow reuse the code?\n",
    "\n",
    "Enter `getattr`:"
   ],
   "id": "d5dc0d6eb92eb72"
  },
  {
   "metadata": {
    "ExecuteTime": {
     "end_time": "2025-07-19T06:12:46.133688Z",
     "start_time": "2025-07-19T06:12:46.121409Z"
    }
   },
   "cell_type": "code",
   "source": "jane.name",
   "id": "9b39d42288d61e48",
   "outputs": [
    {
     "data": {
      "text/plain": [
       "'Jane'"
      ]
     },
     "execution_count": 6,
     "metadata": {},
     "output_type": "execute_result"
    }
   ],
   "execution_count": 6
  },
  {
   "metadata": {
    "ExecuteTime": {
     "end_time": "2025-07-19T06:12:56.727579Z",
     "start_time": "2025-07-19T06:12:56.723275Z"
    }
   },
   "cell_type": "code",
   "source": "getattr(jane, 'name')",
   "id": "3b04b58e1c65c8f7",
   "outputs": [
    {
     "data": {
      "text/plain": [
       "'Jane'"
      ]
     },
     "execution_count": 7,
     "metadata": {},
     "output_type": "execute_result"
    }
   ],
   "execution_count": 7
  },
  {
   "metadata": {
    "ExecuteTime": {
     "end_time": "2025-07-19T06:13:18.949507Z",
     "start_time": "2025-07-19T06:13:18.942333Z"
    }
   },
   "cell_type": "code",
   "source": "the_raven.title",
   "id": "563c767ba888b006",
   "outputs": [
    {
     "data": {
      "text/plain": [
       "'The ravan'"
      ]
     },
     "execution_count": 8,
     "metadata": {},
     "output_type": "execute_result"
    }
   ],
   "execution_count": 8
  },
  {
   "metadata": {
    "ExecuteTime": {
     "end_time": "2025-07-19T06:13:31.261396Z",
     "start_time": "2025-07-19T06:13:31.256504Z"
    }
   },
   "cell_type": "code",
   "source": "getattr(the_raven, 'title')",
   "id": "667ef359ef086a5b",
   "outputs": [
    {
     "data": {
      "text/plain": [
       "'The ravan'"
      ]
     },
     "execution_count": 9,
     "metadata": {},
     "output_type": "execute_result"
    }
   ],
   "execution_count": 9
  },
  {
   "metadata": {},
   "cell_type": "markdown",
   "source": "We can now rewrite the function and make it a little bit more dynamic:",
   "id": "89d994f451464f44"
  },
  {
   "metadata": {
    "ExecuteTime": {
     "end_time": "2025-07-19T06:21:08.287351Z",
     "start_time": "2025-07-19T06:21:08.279883Z"
    }
   },
   "cell_type": "code",
   "source": [
    "def object_printer(an_object):\n",
    "    if isinstance(an_object, Book):\n",
    "        attr_name = 'title'\n",
    "    elif isinstance(an_object, Person):\n",
    "        attr_name = 'name'\n",
    "\n",
    "    attr_value = getattr(an_object, attr_name)\n",
    "    print(\"Object's {} is: {}\".format(attr_name, attr_value))"
   ],
   "id": "896213c48b41ec16",
   "outputs": [],
   "execution_count": 14
  },
  {
   "metadata": {
    "ExecuteTime": {
     "end_time": "2025-07-19T06:21:10.801320Z",
     "start_time": "2025-07-19T06:21:10.797510Z"
    }
   },
   "cell_type": "code",
   "source": "object_printer(jane)",
   "id": "223989493f801fc4",
   "outputs": [
    {
     "name": "stdout",
     "output_type": "stream",
     "text": [
      "Object's name is: Jane\n"
     ]
    }
   ],
   "execution_count": 15
  },
  {
   "metadata": {
    "ExecuteTime": {
     "end_time": "2025-07-19T06:21:12.465376Z",
     "start_time": "2025-07-19T06:21:12.461229Z"
    }
   },
   "cell_type": "code",
   "source": "object_printer(the_raven)",
   "id": "de4c77833b3a2598",
   "outputs": [
    {
     "name": "stdout",
     "output_type": "stream",
     "text": [
      "Object's title is: The ravan\n"
     ]
    }
   ],
   "execution_count": 16
  },
  {
   "metadata": {},
   "cell_type": "markdown",
   "source": "This still looks a little bit hardcoded, we can improve it with `hasattr`. It'll let you check if a given object has a given attribute.",
   "id": "16d6960609287ba"
  },
  {
   "metadata": {
    "ExecuteTime": {
     "end_time": "2025-07-19T06:24:30.832570Z",
     "start_time": "2025-07-19T06:24:30.822177Z"
    }
   },
   "cell_type": "code",
   "source": "hasattr(the_raven, 'title')",
   "id": "c08ba75a0f629359",
   "outputs": [
    {
     "data": {
      "text/plain": [
       "True"
      ]
     },
     "execution_count": 17,
     "metadata": {},
     "output_type": "execute_result"
    }
   ],
   "execution_count": 17
  },
  {
   "metadata": {
    "ExecuteTime": {
     "end_time": "2025-07-19T06:25:25.024543Z",
     "start_time": "2025-07-19T06:25:25.019084Z"
    }
   },
   "cell_type": "code",
   "source": "hasattr(the_raven, 'football')",
   "id": "3700bea4a17ee8c5",
   "outputs": [
    {
     "data": {
      "text/plain": [
       "False"
      ]
     },
     "execution_count": 19,
     "metadata": {},
     "output_type": "execute_result"
    }
   ],
   "execution_count": 19
  },
  {
   "metadata": {
    "ExecuteTime": {
     "end_time": "2025-07-19T06:25:44.775252Z",
     "start_time": "2025-07-19T06:25:44.767606Z"
    }
   },
   "cell_type": "code",
   "source": "hasattr(jane, 'name')",
   "id": "a8b5f7688aa9ad79",
   "outputs": [
    {
     "data": {
      "text/plain": [
       "True"
      ]
     },
     "execution_count": 20,
     "metadata": {},
     "output_type": "execute_result"
    }
   ],
   "execution_count": 20
  },
  {
   "metadata": {
    "ExecuteTime": {
     "end_time": "2025-07-19T06:26:00.058397Z",
     "start_time": "2025-07-19T06:26:00.051869Z"
    }
   },
   "cell_type": "code",
   "source": "hasattr(jane, 'tomatoes')",
   "id": "1da57dbdd20302ab",
   "outputs": [
    {
     "data": {
      "text/plain": [
       "False"
      ]
     },
     "execution_count": 21,
     "metadata": {},
     "output_type": "execute_result"
    }
   ],
   "execution_count": 21
  },
  {
   "metadata": {},
   "cell_type": "markdown",
   "source": "So, we can rewrite our function (a little bit less hardcoded):",
   "id": "82c9c773e9aa691"
  },
  {
   "metadata": {
    "ExecuteTime": {
     "end_time": "2025-07-19T06:28:15.127564Z",
     "start_time": "2025-07-19T06:28:15.118740Z"
    }
   },
   "cell_type": "code",
   "source": [
    "def object_printer(an_object):\n",
    "    if hasattr(an_object, 'title'):\n",
    "        attr_name = 'title'\n",
    "    elif hasattr(an_object, 'name'):\n",
    "        attr_name = 'name'\n",
    "    attr_value = getattr(an_object, attr_name)\n",
    "    print(\"Object's {} is: {}\".format(attr_name, attr_value))"
   ],
   "id": "aabd2492d2d369af",
   "outputs": [],
   "execution_count": 22
  },
  {
   "metadata": {
    "ExecuteTime": {
     "end_time": "2025-07-19T06:28:40.261608Z",
     "start_time": "2025-07-19T06:28:40.258299Z"
    }
   },
   "cell_type": "code",
   "source": "object_printer(jane)",
   "id": "fd0ebe345c2bdf1f",
   "outputs": [
    {
     "name": "stdout",
     "output_type": "stream",
     "text": [
      "Object's name is: Jane\n"
     ]
    }
   ],
   "execution_count": 23
  },
  {
   "metadata": {
    "ExecuteTime": {
     "end_time": "2025-07-19T06:28:52.737316Z",
     "start_time": "2025-07-19T06:28:52.730636Z"
    }
   },
   "cell_type": "code",
   "source": "object_printer(the_raven)",
   "id": "3d1c5620c3535e98",
   "outputs": [
    {
     "name": "stdout",
     "output_type": "stream",
     "text": [
      "Object's title is: The ravan\n"
     ]
    }
   ],
   "execution_count": 24
  },
  {
   "metadata": {},
   "cell_type": "markdown",
   "source": "But, these are just strings, so we can make it even more dynamic:",
   "id": "64ead4182d246e6b"
  },
  {
   "metadata": {
    "ExecuteTime": {
     "end_time": "2025-07-19T06:33:47.828287Z",
     "start_time": "2025-07-19T06:33:47.823923Z"
    }
   },
   "cell_type": "code",
   "source": [
    "def object_printer(an_object):\n",
    "    possible_attr_name = ['title', 'name']\n",
    "    for attr_name in possible_attr_name:\n",
    "        if hasattr(an_object, attr_name):\n",
    "            attr_value = getattr(an_object, attr_name)\n",
    "            print(\"Object's {} is: {}\".format(attr_name, attr_value))"
   ],
   "id": "3187f7afa0da1780",
   "outputs": [],
   "execution_count": 26
  },
  {
   "metadata": {
    "ExecuteTime": {
     "end_time": "2025-07-19T06:33:49.407157Z",
     "start_time": "2025-07-19T06:33:49.403338Z"
    }
   },
   "cell_type": "code",
   "source": "object_printer(jane)",
   "id": "46bdcb390162d6de",
   "outputs": [
    {
     "name": "stdout",
     "output_type": "stream",
     "text": [
      "Object's name is: Jane\n"
     ]
    }
   ],
   "execution_count": 27
  },
  {
   "metadata": {
    "ExecuteTime": {
     "end_time": "2025-07-19T06:34:00.128143Z",
     "start_time": "2025-07-19T06:34:00.124968Z"
    }
   },
   "cell_type": "code",
   "source": "object_printer(the_raven)",
   "id": "ce639127de4b8ee",
   "outputs": [
    {
     "name": "stdout",
     "output_type": "stream",
     "text": [
      "Object's title is: The ravan\n"
     ]
    }
   ],
   "execution_count": 28
  },
  {
   "metadata": {},
   "cell_type": "markdown",
   "source": "Finally, `getattr` accepts third parameter to avoid checking for attributes. Example:",
   "id": "29a236c87c9d8c4d"
  },
  {
   "metadata": {
    "ExecuteTime": {
     "end_time": "2025-07-19T06:36:59.404660Z",
     "start_time": "2025-07-19T06:36:59.398805Z"
    }
   },
   "cell_type": "code",
   "source": [
    "obj = jane\n",
    "\n",
    "if hasattr(obj, 'title'):\n",
    "    value = getattr(obj, 'title')\n",
    "else:\n",
    "    value = None\n",
    "print(\"Object's title is: {}\".format(value))"
   ],
   "id": "19ab2628532e69a2",
   "outputs": [
    {
     "name": "stdout",
     "output_type": "stream",
     "text": [
      "Object's title is: None\n"
     ]
    }
   ],
   "execution_count": 29
  },
  {
   "metadata": {},
   "cell_type": "markdown",
   "source": "Can be transformed to:",
   "id": "b38e6996cc87b409"
  },
  {
   "metadata": {
    "ExecuteTime": {
     "end_time": "2025-07-19T06:38:32.741034Z",
     "start_time": "2025-07-19T06:38:32.734717Z"
    }
   },
   "cell_type": "code",
   "source": [
    "obj = jane\n",
    "value = getattr(obj, 'title', None)\n",
    "print(\"Object's title is: {}\".format(value))"
   ],
   "id": "e7ddf3dad9f6d8fc",
   "outputs": [
    {
     "name": "stdout",
     "output_type": "stream",
     "text": [
      "Object's title is: None\n"
     ]
    }
   ],
   "execution_count": 30
  },
  {
   "metadata": {},
   "cell_type": "markdown",
   "source": [
    "### `setattr`\n",
    "Let's you set values dynamically:"
   ],
   "id": "c459257c2fab272c"
  },
  {
   "metadata": {
    "ExecuteTime": {
     "end_time": "2025-07-19T06:40:19.664914Z",
     "start_time": "2025-07-19T06:40:19.656994Z"
    }
   },
   "cell_type": "code",
   "source": "setattr(jane, 'last_name', 'Jing')",
   "id": "b7d066a266b0308b",
   "outputs": [],
   "execution_count": 31
  },
  {
   "metadata": {
    "ExecuteTime": {
     "end_time": "2025-07-19T06:41:23.504186Z",
     "start_time": "2025-07-19T06:41:23.498424Z"
    }
   },
   "cell_type": "code",
   "source": "setattr(the_raven, 'author', 'E. A. Poe')",
   "id": "19858e0beee5aa8a",
   "outputs": [],
   "execution_count": 32
  },
  {
   "metadata": {},
   "cell_type": "markdown",
   "source": [
    "# Duck Typing\n",
    "> If it walks like a duck and it quacks like a duck, then it must be a duck."
   ],
   "id": "2bbc579b490706e2"
  },
  {
   "metadata": {
    "ExecuteTime": {
     "end_time": "2025-07-19T06:52:00.988986Z",
     "start_time": "2025-07-19T06:52:00.985724Z"
    }
   },
   "cell_type": "code",
   "source": [
    "class Book(object):\n",
    "    def __init__(self, title):\n",
    "        self.title = title\n",
    "class Person(object):\n",
    "    def __init__(self, name):\n",
    "        self.name = name"
   ],
   "id": "6f0bd81a416ade16",
   "outputs": [],
   "execution_count": 1
  },
  {
   "metadata": {
    "ExecuteTime": {
     "end_time": "2025-07-19T06:52:20.590430Z",
     "start_time": "2025-07-19T06:52:20.587390Z"
    }
   },
   "cell_type": "code",
   "source": [
    "the_raven = Book('The ravan')\n",
    "jane = Person('Jane')"
   ],
   "id": "ee2fb892a203be43",
   "outputs": [],
   "execution_count": 2
  },
  {
   "metadata": {
    "ExecuteTime": {
     "end_time": "2025-07-19T06:54:40.894189Z",
     "start_time": "2025-07-19T06:54:40.888658Z"
    }
   },
   "cell_type": "code",
   "source": [
    "def object_printer_1(an_object):\n",
    "    if isinstance(an_object, Book):\n",
    "        attr_name = 'title'\n",
    "    elif isinstance(an_object, Person):\n",
    "        attr_name = 'name'\n",
    "\n",
    "    attr_value = getattr(an_object, attr_name)\n",
    "    print(\"{}'s {} is: {}\".format(an_object.__class__.__name__, attr_name, attr_value))"
   ],
   "id": "8b57e75c1f6702d5",
   "outputs": [],
   "execution_count": 5
  },
  {
   "metadata": {
    "ExecuteTime": {
     "end_time": "2025-07-19T06:54:42.498429Z",
     "start_time": "2025-07-19T06:54:42.494019Z"
    }
   },
   "cell_type": "code",
   "source": [
    "def object_printer_2(an_object):\n",
    "    if hasattr(an_object, 'title'):\n",
    "        attr_name = 'title'\n",
    "    elif hasattr(an_object, 'name'):\n",
    "        attr_name = 'name'\n",
    "\n",
    "    attr_value = getattr(an_object, attr_name)\n",
    "    print(\"Object's {} is: {}\".format(attr_name, attr_value))"
   ],
   "id": "52379590b71349ef",
   "outputs": [],
   "execution_count": 6
  },
  {
   "metadata": {
    "ExecuteTime": {
     "end_time": "2025-07-19T06:54:44.363215Z",
     "start_time": "2025-07-19T06:54:44.360296Z"
    }
   },
   "cell_type": "code",
   "source": "object_printer_1(jane)",
   "id": "b0edb4e42b5a0e2d",
   "outputs": [
    {
     "name": "stdout",
     "output_type": "stream",
     "text": [
      "Person's name is: Jane\n"
     ]
    }
   ],
   "execution_count": 7
  },
  {
   "metadata": {
    "ExecuteTime": {
     "end_time": "2025-07-19T06:54:56.592661Z",
     "start_time": "2025-07-19T06:54:56.589035Z"
    }
   },
   "cell_type": "code",
   "source": "object_printer_2(jane)",
   "id": "19b787d753ba94d1",
   "outputs": [
    {
     "name": "stdout",
     "output_type": "stream",
     "text": [
      "Object's name is: Jane\n"
     ]
    }
   ],
   "execution_count": 8
  },
  {
   "metadata": {},
   "cell_type": "markdown",
   "source": "If we create a new class on the fly:",
   "id": "9dba0aab344a5802"
  },
  {
   "metadata": {
    "ExecuteTime": {
     "end_time": "2025-07-19T06:55:22.914181Z",
     "start_time": "2025-07-19T06:55:22.908744Z"
    }
   },
   "cell_type": "code",
   "source": [
    "class Customer(object):\n",
    "    def __init__(self, name):\n",
    "        self.name = name"
   ],
   "id": "4938e9871a9a66b2",
   "outputs": [],
   "execution_count": 9
  },
  {
   "metadata": {
    "ExecuteTime": {
     "end_time": "2025-07-19T06:55:32.142687Z",
     "start_time": "2025-07-19T06:55:32.140227Z"
    }
   },
   "cell_type": "code",
   "source": "tom = Customer('Tom')",
   "id": "a12c4dc1c121cada",
   "outputs": [],
   "execution_count": 10
  },
  {
   "metadata": {},
   "cell_type": "markdown",
   "source": "It will work correctly for the dynamic `object_printer_2`:",
   "id": "2a76051bdbcb20b3"
  },
  {
   "metadata": {
    "ExecuteTime": {
     "end_time": "2025-07-19T06:55:55.017535Z",
     "start_time": "2025-07-19T06:55:55.011502Z"
    }
   },
   "cell_type": "code",
   "source": "object_printer_2(tom)",
   "id": "d4582fb7f0ee679",
   "outputs": [
    {
     "name": "stdout",
     "output_type": "stream",
     "text": [
      "Object's name is: Tom\n"
     ]
    }
   ],
   "execution_count": 11
  },
  {
   "metadata": {},
   "cell_type": "markdown",
   "source": "But it will **NOT** work with `object_printer_1`:",
   "id": "9217358565f3065c"
  },
  {
   "metadata": {},
   "cell_type": "code",
   "outputs": [],
   "execution_count": null,
   "source": "object_printer_1(tom)",
   "id": "6c59be4138e30347"
  }
 ],
 "metadata": {
  "kernelspec": {
   "display_name": "Python 3",
   "language": "python",
   "name": "python3"
  },
  "language_info": {
   "codemirror_mode": {
    "name": "ipython",
    "version": 2
   },
   "file_extension": ".py",
   "mimetype": "text/x-python",
   "name": "python",
   "nbconvert_exporter": "python",
   "pygments_lexer": "ipython2",
   "version": "2.7.6"
  }
 },
 "nbformat": 4,
 "nbformat_minor": 5
}
