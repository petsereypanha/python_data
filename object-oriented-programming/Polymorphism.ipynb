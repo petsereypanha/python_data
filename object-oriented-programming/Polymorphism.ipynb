{
 "cells": [
  {
   "cell_type": "markdown",
   "metadata": {},
   "source": [
    "# Polymorphism\n",
    "\n",
    "> (from Greek πολύς, polys, \"many, much\" and μορφή, morphē, \"form, shape\")\n",
    "\n",
    "> **The ability to take many forms**\n",
    "\n",
    "Suppose we start with the following code:"
   ]
  },
  {
   "cell_type": "code",
   "execution_count": 1,
   "metadata": {},
   "outputs": [],
   "source": [
    "class Vehicle(object):\n",
    "    def __str__(self):\n",
    "        return \"Object: Vehicle\"\n",
    "\n",
    "class Car(Vehicle):\n",
    "    def __str__(self):\n",
    "        return \"Object: Car\"\n",
    "    \n",
    "class Airplane(Vehicle):\n",
    "    def __str__(self):\n",
    "        return \"Object: Airplane\""
   ]
  },
  {
   "cell_type": "code",
   "execution_count": 2,
   "metadata": {},
   "outputs": [
    {
     "name": "stdout",
     "output_type": "stream",
     "text": [
      "Object: Airplane\n",
      "Object: Car\n"
     ]
    }
   ],
   "source": [
    "a = Airplane()\n",
    "c = Car()\n",
    "\n",
    "print(a)\n",
    "print(c)"
   ]
  },
  {
   "cell_type": "markdown",
   "metadata": {},
   "source": [
    "Doesn't that feel like a lot of repetition? We can do better:"
   ]
  },
  {
   "cell_type": "code",
   "execution_count": 3,
   "metadata": {},
   "outputs": [],
   "source": [
    "class Vehicle(object):\n",
    "    def __str__(self):\n",
    "        return \"Object: {}\".format(self.__class__.__name__)\n",
    "\n",
    "class Car(Vehicle):\n",
    "    pass\n",
    "    \n",
    "class Airplane(Vehicle):\n",
    "    pass"
   ]
  },
  {
   "cell_type": "markdown",
   "metadata": {},
   "source": [
    "That looks **MUCH** better. But, does it work? Let's see it in action:"
   ]
  },
  {
   "cell_type": "code",
   "execution_count": 4,
   "metadata": {},
   "outputs": [
    {
     "name": "stdout",
     "output_type": "stream",
     "text": [
      "Object: Airplane\n",
      "Object: Car\n"
     ]
    }
   ],
   "source": [
    "a = Airplane()\n",
    "c = Car()\n",
    "\n",
    "print(a)\n",
    "print(c)"
   ]
  },
  {
   "cell_type": "markdown",
   "metadata": {},
   "source": [
    "It seems to be working exactly as the previous one, which is, hopefully, the intuitive result you were expecting.\n",
    "\n",
    "Polymorphism is pictured with this example. What does `self` mean in `Vehicle.__str__` (`line 3`)? Is it a `Vehicle`? Is it a `Car`? Well, again, that's the idea of Polymorphism, the value of `self` will be resolved dynamically, based on the type of the object that executed it.\n",
    "\n",
    "A much simpler example:"
   ]
  },
  {
   "cell_type": "code",
   "execution_count": 5,
   "metadata": {},
   "outputs": [],
   "source": [
    "class Vehicle(object):\n",
    "    def move(self):\n",
    "        my_sound = self.sound()\n",
    "        print(\"I'm moving, and I sound: {}\".format(my_sound))\n",
    "\n",
    "class Car(Vehicle):\n",
    "    def sound(self):\n",
    "        return \"Brooooom\"\n",
    "    \n",
    "class Airplane(Vehicle):\n",
    "    def sound(self):\n",
    "        return \"Nnneeaoowww\""
   ]
  },
  {
   "cell_type": "code",
   "execution_count": 6,
   "metadata": {},
   "outputs": [
    {
     "name": "stdout",
     "output_type": "stream",
     "text": [
      "I'm moving, and I sound: Nnneeaoowww\n"
     ]
    }
   ],
   "source": [
    "a = Airplane()\n",
    "a.move()"
   ]
  },
  {
   "cell_type": "code",
   "execution_count": 7,
   "metadata": {},
   "outputs": [
    {
     "name": "stdout",
     "output_type": "stream",
     "text": [
      "I'm moving, and I sound: Brooooom\n"
     ]
    }
   ],
   "source": [
    "c = Car()\n",
    "c.move()"
   ]
  },
  {
   "cell_type": "markdown",
   "metadata": {},
   "source": [
    "As we just said, the **correct** `sound` method to invoke is decided at run time. And it's resolved according to the type."
   ]
  }
 ],
 "metadata": {
  "kernelspec": {
   "display_name": "Python 3",
   "language": "python",
   "name": "python3"
  },
  "language_info": {
   "codemirror_mode": {
    "name": "ipython",
    "version": 3
   },
   "file_extension": ".py",
   "mimetype": "text/x-python",
   "name": "python",
   "nbconvert_exporter": "python",
   "pygments_lexer": "ipython3",
   "version": "3.6.0"
  }
 },
 "nbformat": 4,
 "nbformat_minor": 2
}
