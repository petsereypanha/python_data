{
 "cells": [
  {
   "metadata": {},
   "cell_type": "markdown",
   "source": [
    "# Simple Inheritance\n",
    "\n",
    "![OOP Hierarchy](https://docs.google.com/drawings/d/e/2PACX-1vTKL01wbF81Mx5ghIzapbTnrTdL8AIrErSYkZZHJ_D168t6c_H7CzaNW0OkuXajQdeEOCic5e1OhIlb/pub?w=960&h=720)"
   ],
   "id": "9c4f1887555db330"
  },
  {
   "metadata": {},
   "cell_type": "markdown",
   "source": [
    "### Inheritance: The basics\n",
    "\n",
    "A \"class\" can extend from other class. We read this relationship with the \"is a/an\". For example, \"A `Car` is a `Vehicle`\":"
   ],
   "id": "7103837c5589796d"
  },
  {
   "metadata": {
    "ExecuteTime": {
     "end_time": "2025-07-21T15:01:22.970421Z",
     "start_time": "2025-07-21T15:01:22.966828Z"
    }
   },
   "cell_type": "code",
   "source": [
    "class Vehicle(object):\n",
    "    pass\n",
    "\n",
    "class Car(Vehicle):\n",
    "    pass\n",
    "\n",
    "class Airplane(Vehicle):\n",
    "    pass"
   ],
   "id": "be3bf71a25f49591",
   "outputs": [],
   "execution_count": 1
  },
  {
   "metadata": {
    "ExecuteTime": {
     "end_time": "2025-07-21T15:01:29.522807Z",
     "start_time": "2025-07-21T15:01:29.519229Z"
    }
   },
   "cell_type": "code",
   "source": "a = Airplane()",
   "id": "4118a8fcdf2b8e78",
   "outputs": [],
   "execution_count": 2
  },
  {
   "metadata": {
    "ExecuteTime": {
     "end_time": "2025-07-21T15:01:34.839908Z",
     "start_time": "2025-07-21T15:01:34.832555Z"
    }
   },
   "cell_type": "code",
   "source": "isinstance(a, Airplane)",
   "id": "2f53e591cbb74c1b",
   "outputs": [
    {
     "data": {
      "text/plain": [
       "True"
      ]
     },
     "execution_count": 3,
     "metadata": {},
     "output_type": "execute_result"
    }
   ],
   "execution_count": 3
  },
  {
   "metadata": {
    "ExecuteTime": {
     "end_time": "2025-07-21T15:01:45.894366Z",
     "start_time": "2025-07-21T15:01:45.880668Z"
    }
   },
   "cell_type": "code",
   "source": "isinstance(a, Vehicle)",
   "id": "e59b34b628bf206a",
   "outputs": [
    {
     "data": {
      "text/plain": [
       "True"
      ]
     },
     "execution_count": 4,
     "metadata": {},
     "output_type": "execute_result"
    }
   ],
   "execution_count": 4
  },
  {
   "metadata": {},
   "cell_type": "markdown",
   "source": [
    "### What's inherited\n",
    "Inheritance includes all the behavior of the parent classes. Any method defined in the parent will be available to the children objects:"
   ],
   "id": "959087ea4a974b85"
  },
  {
   "metadata": {
    "ExecuteTime": {
     "end_time": "2025-07-21T15:02:04.378885Z",
     "start_time": "2025-07-21T15:02:04.373734Z"
    }
   },
   "cell_type": "code",
   "source": [
    "class Vehicle(object):\n",
    "    def move(self):\n",
    "        print(\"I'm a vehicle moving\")\n",
    "\n",
    "class Car(Vehicle):\n",
    "    pass\n",
    "\n",
    "class Airplane(Vehicle):\n",
    "    pass"
   ],
   "id": "7b83eb3f0fdc3e4f",
   "outputs": [],
   "execution_count": 5
  },
  {
   "metadata": {
    "ExecuteTime": {
     "end_time": "2025-07-21T15:02:12.023934Z",
     "start_time": "2025-07-21T15:02:12.020856Z"
    }
   },
   "cell_type": "code",
   "source": [
    "a = Airplane()\n",
    "c = Car()"
   ],
   "id": "272a9fd63f3b40e9",
   "outputs": [],
   "execution_count": 6
  },
  {
   "metadata": {
    "ExecuteTime": {
     "end_time": "2025-07-21T15:02:17.363637Z",
     "start_time": "2025-07-21T15:02:17.359281Z"
    }
   },
   "cell_type": "code",
   "source": "a.move()",
   "id": "8e93338ba8181365",
   "outputs": [
    {
     "name": "stdout",
     "output_type": "stream",
     "text": [
      "I'm a vehicle moving\n"
     ]
    }
   ],
   "execution_count": 7
  },
  {
   "metadata": {
    "ExecuteTime": {
     "end_time": "2025-07-21T15:02:23.240381Z",
     "start_time": "2025-07-21T15:02:23.237037Z"
    }
   },
   "cell_type": "code",
   "source": "c.move()",
   "id": "631b45e37401c63d",
   "outputs": [
    {
     "name": "stdout",
     "output_type": "stream",
     "text": [
      "I'm a vehicle moving\n"
     ]
    }
   ],
   "execution_count": 8
  },
  {
   "metadata": {},
   "cell_type": "markdown",
   "source": "But a given class might decide to provide its own definition of a given method:",
   "id": "76d196912c0d520c"
  },
  {
   "metadata": {
    "ExecuteTime": {
     "end_time": "2025-07-21T15:02:50.756062Z",
     "start_time": "2025-07-21T15:02:50.747910Z"
    }
   },
   "cell_type": "code",
   "source": [
    "class Vehicle(object):\n",
    "    def move(self):\n",
    "        print(\"I'm a vehicle moving\")\n",
    "\n",
    "class Car(Vehicle):\n",
    "    def move(self):\n",
    "        print(\"I'm a Car moving\")\n",
    "\n",
    "class Airplane(Vehicle):\n",
    "    def move(self):\n",
    "        print(\"I'm an Airplane moving\")"
   ],
   "id": "9f88bfd9545ed6b9",
   "outputs": [],
   "execution_count": 10
  },
  {
   "metadata": {
    "ExecuteTime": {
     "end_time": "2025-07-21T15:02:56.898477Z",
     "start_time": "2025-07-21T15:02:56.894529Z"
    }
   },
   "cell_type": "code",
   "source": [
    "a = Airplane()\n",
    "c = Car()"
   ],
   "id": "f82efd1595ed2e6e",
   "outputs": [],
   "execution_count": 11
  },
  {
   "metadata": {
    "ExecuteTime": {
     "end_time": "2025-07-21T15:03:04.534274Z",
     "start_time": "2025-07-21T15:03:04.529674Z"
    }
   },
   "cell_type": "code",
   "source": "a.move()",
   "id": "30bd9338c231564e",
   "outputs": [
    {
     "name": "stdout",
     "output_type": "stream",
     "text": [
      "I'm an Airplane moving\n"
     ]
    }
   ],
   "execution_count": 12
  },
  {
   "metadata": {
    "ExecuteTime": {
     "end_time": "2025-07-21T15:03:10.865642Z",
     "start_time": "2025-07-21T15:03:10.861426Z"
    }
   },
   "cell_type": "code",
   "source": "c.move()",
   "id": "555ca185e6aa2c5c",
   "outputs": [
    {
     "name": "stdout",
     "output_type": "stream",
     "text": [
      "I'm a Car moving\n"
     ]
    }
   ],
   "execution_count": 13
  },
  {
   "metadata": {},
   "cell_type": "markdown",
   "source": [
    "### Class level inheritance\n",
    "\n",
    "Everything defined at class level is also inherited:"
   ],
   "id": "e9be0ff0b694e55a"
  },
  {
   "metadata": {
    "ExecuteTime": {
     "end_time": "2025-07-21T15:04:35.271755Z",
     "start_time": "2025-07-21T15:04:35.265117Z"
    }
   },
   "cell_type": "code",
   "source": [
    "class Vehicle(object):\n",
    "    DEFAULT_COLOR = 'Blue'\n",
    "\n",
    "class Car(Vehicle):\n",
    "    pass"
   ],
   "id": "782f69256e85a2a",
   "outputs": [],
   "execution_count": 14
  },
  {
   "metadata": {
    "ExecuteTime": {
     "end_time": "2025-07-21T15:04:51.510945Z",
     "start_time": "2025-07-21T15:04:51.505954Z"
    }
   },
   "cell_type": "code",
   "source": "Car.DEFAULT_COLOR",
   "id": "6ed9b1a14b3ca5b6",
   "outputs": [
    {
     "data": {
      "text/plain": [
       "'Blue'"
      ]
     },
     "execution_count": 15,
     "metadata": {},
     "output_type": "execute_result"
    }
   ],
   "execution_count": 15
  },
  {
   "metadata": {
    "ExecuteTime": {
     "end_time": "2025-07-21T15:04:59.083570Z",
     "start_time": "2025-07-21T15:04:59.074072Z"
    }
   },
   "cell_type": "code",
   "source": [
    "c = Car()\n",
    "c.DEFAULT_COLOR"
   ],
   "id": "c555a288f3e1c4f9",
   "outputs": [
    {
     "data": {
      "text/plain": [
       "'Blue'"
      ]
     },
     "execution_count": 16,
     "metadata": {},
     "output_type": "execute_result"
    }
   ],
   "execution_count": 16
  },
  {
   "metadata": {},
   "cell_type": "code",
   "outputs": [],
   "execution_count": null,
   "source": "Test",
   "id": "57dacd3b5399d0cc"
  }
 ],
 "metadata": {
  "kernelspec": {
   "display_name": "Python 3",
   "language": "python",
   "name": "python3"
  },
  "language_info": {
   "codemirror_mode": {
    "name": "ipython",
    "version": 2
   },
   "file_extension": ".py",
   "mimetype": "text/x-python",
   "name": "python",
   "nbconvert_exporter": "python",
   "pygments_lexer": "ipython2",
   "version": "2.7.6"
  }
 },
 "nbformat": 4,
 "nbformat_minor": 5
}
