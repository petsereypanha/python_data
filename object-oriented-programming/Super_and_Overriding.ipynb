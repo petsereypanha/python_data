{
 "cells": [
  {
   "cell_type": "markdown",
   "metadata": {},
   "source": [
    "# Super and Overriding \n",
    "\n",
    "Sometimes, subclasses need to \"override\" a method to provide its own functionality. Example, in our company we have two different types of `Employee`s. **Developers** and **Managers**.\n",
    "\n",
    "Each employee has a `salary` method, that returns the yearly salary of the employee as a function of her base salary + an extra based on years of experience. It works similarly for both `Manager`s and `Developers`s, so we put all that common functionality in a super class `Employee`:"
   ]
  },
  {
   "cell_type": "code",
   "execution_count": 1,
   "metadata": {},
   "outputs": [],
   "source": [
    "class Employee:\n",
    "    def __init__(self, name, base_salary, years):\n",
    "        self.name = name\n",
    "        self.base_salary = base_salary\n",
    "        self.years = years\n",
    "        \n",
    "    def salary(self):\n",
    "        return self.base_salary + (self.years * 1000)"
   ]
  },
  {
   "cell_type": "markdown",
   "metadata": {},
   "source": [
    "Developers are regular employees, so they just extend directly from `Employee` without making any modifications:"
   ]
  },
  {
   "cell_type": "code",
   "execution_count": 2,
   "metadata": {},
   "outputs": [],
   "source": [
    "class Developer(Employee):\n",
    "    pass"
   ]
  },
  {
   "cell_type": "code",
   "execution_count": 3,
   "metadata": {},
   "outputs": [],
   "source": [
    "mary = Developer('Mary Smith', 70_000, 6)"
   ]
  },
  {
   "cell_type": "code",
   "execution_count": 4,
   "metadata": {},
   "outputs": [
    {
     "data": {
      "text/plain": [
       "76000"
      ]
     },
     "execution_count": 4,
     "metadata": {},
     "output_type": "execute_result"
    }
   ],
   "source": [
    "mary.salary()"
   ]
  },
  {
   "cell_type": "markdown",
   "metadata": {},
   "source": [
    "But managers make a little bit extra money: they make 10% more of the computed salary. So, how can we implement that in our classes?"
   ]
  },
  {
   "cell_type": "code",
   "execution_count": 5,
   "metadata": {},
   "outputs": [],
   "source": [
    "class Manager(Employee):\n",
    "    def salary(self):\n",
    "        return (self.base_salary + (self.years * 1000)) * 1.1"
   ]
  },
  {
   "cell_type": "code",
   "execution_count": 6,
   "metadata": {},
   "outputs": [],
   "source": [
    "jane = Manager('Jane Sanchez', 70_000, 6)"
   ]
  },
  {
   "cell_type": "code",
   "execution_count": 7,
   "metadata": {},
   "outputs": [
    {
     "data": {
      "text/plain": [
       "83600.0"
      ]
     },
     "execution_count": 7,
     "metadata": {},
     "output_type": "execute_result"
    }
   ],
   "source": [
    "jane.salary()"
   ]
  },
  {
   "cell_type": "markdown",
   "metadata": {},
   "source": [
    "As you can see, with the same parameters (`Base salary: $1,000` and `years of experience: 6`), Jane is making a more money.\n",
    "\n",
    "But as you can probably imagine, repeating the whole method again isn't a great idea. We just need the regular `salary` defined in the class `Employee` and add an extra 10% on top of that.\n",
    "\n",
    "Well, as everything with Python, there's a better way: `super()`: it will allow you to reference methods implemented in parent classes:"
   ]
  },
  {
   "cell_type": "code",
   "execution_count": 8,
   "metadata": {},
   "outputs": [],
   "source": [
    "class Manager(Employee):\n",
    "    def salary(self):\n",
    "        salary_from_employee = super(Manager, self).salary()\n",
    "        return salary_from_employee * 1.1"
   ]
  },
  {
   "cell_type": "code",
   "execution_count": 9,
   "metadata": {},
   "outputs": [
    {
     "data": {
      "text/plain": [
       "83600.0"
      ]
     },
     "execution_count": 9,
     "metadata": {},
     "output_type": "execute_result"
    }
   ],
   "source": [
    "jane = Manager('Jane Sanchez', 70_000, 6)\n",
    "jane.salary()"
   ]
  },
  {
   "cell_type": "markdown",
   "metadata": {},
   "source": [
    "As you can see, `super()` has an extremely weird and counterintuitive syntax. It was actually improved in Python 3, and you don't need the things between parenthesis anymore:"
   ]
  },
  {
   "cell_type": "code",
   "execution_count": 10,
   "metadata": {},
   "outputs": [
    {
     "data": {
      "text/plain": [
       "83600.0"
      ]
     },
     "execution_count": 10,
     "metadata": {},
     "output_type": "execute_result"
    }
   ],
   "source": [
    "class Manager(Employee):\n",
    "    def salary(self):\n",
    "        return super().salary() * 1.1\n",
    "\n",
    "jane = Manager('Jane Sanchez', 70_000, 6)\n",
    "jane.salary()"
   ]
  },
  {
   "cell_type": "markdown",
   "metadata": {},
   "source": [
    "What `super()` is doing, is just giving you access to the \"super\" class, and from there you can access anything from that parent class: methods, attributes, class members, etc."
   ]
  },
  {
   "cell_type": "markdown",
   "metadata": {},
   "source": [
    "### Polymorphism + super()\n",
    "\n",
    "Things get a little bit more interesting when we combine `super()` with a little bit of polymorphism. Let's see an example:\n",
    "\n",
    "Suppose that Managers have changed rules for their salary once again. They're not just making an extra 10%, now they want to earn \\$1,500 per year of experience instead of the regular \\$1,000. A simple way to implement that would be:"
   ]
  },
  {
   "cell_type": "code",
   "execution_count": 11,
   "metadata": {},
   "outputs": [],
   "source": [
    "class Employee:\n",
    "    BONUS_PER_YEAR = 1_000\n",
    "\n",
    "    def __init__(self, name, base_salary, years):\n",
    "        self.name = name\n",
    "        self.base_salary = base_salary\n",
    "        self.years = years\n",
    "        \n",
    "    def salary(self):\n",
    "        return self.base_salary + (self.years * self.BONUS_PER_YEAR)\n",
    "\n",
    "class Developer(Employee):\n",
    "    pass\n",
    "\n",
    "class Manager(Employee):\n",
    "    BONUS_PER_YEAR = 1_500\n",
    "    def salary(self):\n",
    "        return super().salary() * 1.1"
   ]
  },
  {
   "cell_type": "markdown",
   "metadata": {},
   "source": [
    "As you can see, Mary is still making the same:"
   ]
  },
  {
   "cell_type": "code",
   "execution_count": 12,
   "metadata": {},
   "outputs": [
    {
     "data": {
      "text/plain": [
       "76000"
      ]
     },
     "execution_count": 12,
     "metadata": {},
     "output_type": "execute_result"
    }
   ],
   "source": [
    "mary = Developer('Mary Smith', 70_000, 6)\n",
    "mary.salary()"
   ]
  },
  {
   "cell_type": "markdown",
   "metadata": {},
   "source": [
    "But Jane, makes a little bit more than before:"
   ]
  },
  {
   "cell_type": "code",
   "execution_count": 13,
   "metadata": {},
   "outputs": [
    {
     "data": {
      "text/plain": [
       "86900.0"
      ]
     },
     "execution_count": 13,
     "metadata": {},
     "output_type": "execute_result"
    }
   ],
   "source": [
    "jane = Manager('Jane Sanchez', 70_000, 6)\n",
    "jane.salary()"
   ]
  }
 ],
 "metadata": {
  "kernelspec": {
   "display_name": "Python 3",
   "language": "python",
   "name": "python3"
  },
  "language_info": {
   "codemirror_mode": {
    "name": "ipython",
    "version": 3
   },
   "file_extension": ".py",
   "mimetype": "text/x-python",
   "name": "python",
   "nbconvert_exporter": "python",
   "pygments_lexer": "ipython3",
   "version": "3.6.0"
  }
 },
 "nbformat": 4,
 "nbformat_minor": 2
}
