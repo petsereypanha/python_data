{
 "cells": [
  {
   "cell_type": "code",
   "id": "initial_id",
   "metadata": {
    "collapsed": true,
    "ExecuteTime": {
     "end_time": "2025-07-15T11:23:15.146873Z",
     "start_time": "2025-07-15T11:23:15.141352Z"
    }
   },
   "source": [
    "from email.charset import add_alias\n",
    "\n",
    "from jupyter_server.auth import passwd\n",
    "\n",
    "\n",
    "def my_function(*args, **kwargs):\n",
    "    print(\"Args: {}\".format(args))\n",
    "    print(\"Kwargs: {}\".format(kwargs))"
   ],
   "outputs": [],
   "execution_count": 3
  },
  {
   "metadata": {
    "ExecuteTime": {
     "end_time": "2025-07-15T11:24:17.561584Z",
     "start_time": "2025-07-15T11:24:17.554043Z"
    }
   },
   "cell_type": "code",
   "source": "my_function(2, 'a', hello=True, goodbye=None)",
   "id": "e16252ec82eb848e",
   "outputs": [
    {
     "name": "stdout",
     "output_type": "stream",
     "text": [
      "Args: (2, 'a')\n",
      "Kwargs: {'hello': True, 'goodbye': None}\n"
     ]
    }
   ],
   "execution_count": 5
  },
  {
   "metadata": {
    "ExecuteTime": {
     "end_time": "2025-07-15T11:24:26.452270Z",
     "start_time": "2025-07-15T11:24:26.448577Z"
    }
   },
   "cell_type": "code",
   "source": "my_function()",
   "id": "aa54395a6786c247",
   "outputs": [
    {
     "name": "stdout",
     "output_type": "stream",
     "text": [
      "Args: ()\n",
      "Kwargs: {}\n"
     ]
    }
   ],
   "execution_count": 6
  },
  {
   "metadata": {
    "ExecuteTime": {
     "end_time": "2025-07-15T11:26:22.553458Z",
     "start_time": "2025-07-15T11:26:22.545301Z"
    }
   },
   "cell_type": "code",
   "source": "my_function(user=\"John\")",
   "id": "dcf6e92ac5cea33e",
   "outputs": [
    {
     "name": "stdout",
     "output_type": "stream",
     "text": [
      "Args: ()\n",
      "Kwargs: {'user': 'John'}\n"
     ]
    }
   ],
   "execution_count": 7
  },
  {
   "metadata": {},
   "cell_type": "markdown",
   "source": "*Args",
   "id": "3e7b2e1b8f224e68"
  },
  {
   "metadata": {
    "ExecuteTime": {
     "end_time": "2025-07-15T11:27:13.794917Z",
     "start_time": "2025-07-15T11:27:13.789420Z"
    }
   },
   "cell_type": "code",
   "source": [
    "def sum(*args):\n",
    "    total = 0\n",
    "    for arg in args:\n",
    "        total += arg\n",
    "    return total\n"
   ],
   "id": "93c42afd243c48c3",
   "outputs": [],
   "execution_count": 8
  },
  {
   "metadata": {
    "ExecuteTime": {
     "end_time": "2025-07-15T11:27:43.610934Z",
     "start_time": "2025-07-15T11:27:43.598468Z"
    }
   },
   "cell_type": "code",
   "source": "sum(1, 2, 3)",
   "id": "e9e1d9ab0914c0d4",
   "outputs": [
    {
     "data": {
      "text/plain": [
       "6"
      ]
     },
     "execution_count": 9,
     "metadata": {},
     "output_type": "execute_result"
    }
   ],
   "execution_count": 9
  },
  {
   "metadata": {},
   "cell_type": "markdown",
   "source": "**kwargs",
   "id": "72c838df4533fd44"
  },
  {
   "metadata": {
    "ExecuteTime": {
     "end_time": "2025-07-15T11:33:49.800466Z",
     "start_time": "2025-07-15T11:33:49.793179Z"
    }
   },
   "cell_type": "code",
   "source": [
    "def user_sql(**kwargs):\n",
    "    tpl = 'SELECT * FROM user WHERE '\n",
    "    for name, value in kwargs.items():\n",
    "        tpl += '\\n\\t{}=\"{}\" AND'.format(name, value)\n",
    "    return tpl.rstrip(' AND')"
   ],
   "id": "7576bbd37d891702",
   "outputs": [],
   "execution_count": 11
  },
  {
   "metadata": {
    "ExecuteTime": {
     "end_time": "2025-07-15T11:33:52.654127Z",
     "start_time": "2025-07-15T11:33:52.649569Z"
    }
   },
   "cell_type": "code",
   "source": "print(user_sql(user='data',password='admin', country='cambodia'))",
   "id": "1c98399ccd586e5f",
   "outputs": [
    {
     "name": "stdout",
     "output_type": "stream",
     "text": [
      "SELECT * FROM user WHERE \n",
      "\tuser=\"data\" AND\n",
      "\tpassword=\"admin\" AND\n",
      "\tcountry=\"cambodia\"\n"
     ]
    }
   ],
   "execution_count": 12
  },
  {
   "metadata": {},
   "cell_type": "markdown",
   "source": "Lambdas",
   "id": "1e4e7634faafab4"
  },
  {
   "metadata": {},
   "cell_type": "code",
   "outputs": [],
   "execution_count": null,
   "source": [
    "def add(a, b):\n",
    "    return a + b"
   ],
   "id": "410a1f35995d7e11"
  },
  {
   "metadata": {},
   "cell_type": "code",
   "outputs": [],
   "execution_count": null,
   "source": "add(2, 3)",
   "id": "ce784ac05bcb798e"
  },
  {
   "metadata": {},
   "cell_type": "code",
   "outputs": [],
   "execution_count": null,
   "source": "add = lambda a, b: a + b",
   "id": "b1332c17c45a5361"
  },
  {
   "metadata": {},
   "cell_type": "code",
   "outputs": [],
   "execution_count": null,
   "source": "add(2, 3)",
   "id": "24e2fa9a2d104ff"
  },
  {
   "metadata": {},
   "cell_type": "markdown",
   "source": "Function as Class Object",
   "id": "d5160935090ab077"
  },
  {
   "metadata": {
    "ExecuteTime": {
     "end_time": "2025-07-15T11:56:47.080873Z",
     "start_time": "2025-07-15T11:56:47.071065Z"
    }
   },
   "cell_type": "code",
   "source": [
    "def add(a, b):\n",
    "    return a + b\n",
    "def subtract(a, b):\n",
    "    return a - b"
   ],
   "id": "f2636bee1e893806",
   "outputs": [],
   "execution_count": 13
  },
  {
   "metadata": {
    "ExecuteTime": {
     "end_time": "2025-07-15T11:56:48.311478Z",
     "start_time": "2025-07-15T11:56:48.307991Z"
    }
   },
   "cell_type": "code",
   "source": "add_alias = add",
   "id": "9571cbcb7ac0f937",
   "outputs": [],
   "execution_count": 14
  },
  {
   "metadata": {
    "ExecuteTime": {
     "end_time": "2025-07-15T11:57:06.709800Z",
     "start_time": "2025-07-15T11:57:06.699547Z"
    }
   },
   "cell_type": "code",
   "source": "add_alias(5, 7)",
   "id": "aed63398c2e4230a",
   "outputs": [
    {
     "data": {
      "text/plain": [
       "12"
      ]
     },
     "execution_count": 15,
     "metadata": {},
     "output_type": "execute_result"
    }
   ],
   "execution_count": 15
  },
  {
   "metadata": {
    "ExecuteTime": {
     "end_time": "2025-07-15T11:58:09.857082Z",
     "start_time": "2025-07-15T11:58:09.850108Z"
    }
   },
   "cell_type": "code",
   "source": "l = [add, subtract]",
   "id": "5e0bcfb3e3f316f8",
   "outputs": [],
   "execution_count": 16
  },
  {
   "metadata": {
    "ExecuteTime": {
     "end_time": "2025-07-15T11:58:16.448216Z",
     "start_time": "2025-07-15T11:58:16.441294Z"
    }
   },
   "cell_type": "code",
   "source": "l",
   "id": "63dfe87cc5f9700",
   "outputs": [
    {
     "data": {
      "text/plain": [
       "[<function __main__.add(a, b)>, <function __main__.subtract(a, b)>]"
      ]
     },
     "execution_count": 17,
     "metadata": {},
     "output_type": "execute_result"
    }
   ],
   "execution_count": 17
  },
  {
   "metadata": {
    "ExecuteTime": {
     "end_time": "2025-07-15T11:58:41.778428Z",
     "start_time": "2025-07-15T11:58:41.767429Z"
    }
   },
   "cell_type": "code",
   "source": "l[0](3,4)",
   "id": "c57775a5aec01c05",
   "outputs": [
    {
     "data": {
      "text/plain": [
       "7"
      ]
     },
     "execution_count": 18,
     "metadata": {},
     "output_type": "execute_result"
    }
   ],
   "execution_count": 18
  },
  {
   "metadata": {
    "ExecuteTime": {
     "end_time": "2025-07-15T12:00:00.550808Z",
     "start_time": "2025-07-15T12:00:00.544273Z"
    }
   },
   "cell_type": "code",
   "source": [
    "def compute(a, b, operator):\n",
    "    return operator(a, b)"
   ],
   "id": "3c239ad791097c2b",
   "outputs": [],
   "execution_count": 19
  },
  {
   "metadata": {
    "ExecuteTime": {
     "end_time": "2025-07-15T12:00:19.231364Z",
     "start_time": "2025-07-15T12:00:19.223950Z"
    }
   },
   "cell_type": "code",
   "source": "compute(4, 6, add)",
   "id": "bb62157b59d53ddb",
   "outputs": [
    {
     "data": {
      "text/plain": [
       "10"
      ]
     },
     "execution_count": 20,
     "metadata": {},
     "output_type": "execute_result"
    }
   ],
   "execution_count": 20
  },
  {
   "metadata": {
    "ExecuteTime": {
     "end_time": "2025-07-15T12:02:32.195966Z",
     "start_time": "2025-07-15T12:02:32.186663Z"
    }
   },
   "cell_type": "code",
   "source": [
    "def resolve_function(name):\n",
    "    if name == 'add' or name == 'sum':\n",
    "        return add\n",
    "    else:\n",
    "        return subtract"
   ],
   "id": "70a6a6d4f9fb5615",
   "outputs": [],
   "execution_count": 21
  },
  {
   "metadata": {
    "ExecuteTime": {
     "end_time": "2025-07-15T12:02:44.309216Z",
     "start_time": "2025-07-15T12:02:44.305345Z"
    }
   },
   "cell_type": "code",
   "source": "fn = resolve_function('add')",
   "id": "f6ea71337b4fdccf",
   "outputs": [],
   "execution_count": 22
  },
  {
   "metadata": {
    "ExecuteTime": {
     "end_time": "2025-07-15T12:02:51.805503Z",
     "start_time": "2025-07-15T12:02:51.799645Z"
    }
   },
   "cell_type": "code",
   "source": "fn",
   "id": "7feae904d1d4602b",
   "outputs": [
    {
     "data": {
      "text/plain": [
       "<function __main__.add(a, b)>"
      ]
     },
     "execution_count": 23,
     "metadata": {},
     "output_type": "execute_result"
    }
   ],
   "execution_count": 23
  },
  {
   "metadata": {
    "ExecuteTime": {
     "end_time": "2025-07-15T12:12:58.330616Z",
     "start_time": "2025-07-15T12:12:58.323520Z"
    }
   },
   "cell_type": "code",
   "source": "fn(6, 8)",
   "id": "9ab3bddc3deaad1b",
   "outputs": [
    {
     "data": {
      "text/plain": [
       "14"
      ]
     },
     "execution_count": 24,
     "metadata": {},
     "output_type": "execute_result"
    }
   ],
   "execution_count": 24
  },
  {
   "metadata": {},
   "cell_type": "markdown",
   "source": "Lamda",
   "id": "5797be96c0f49418"
  },
  {
   "metadata": {},
   "cell_type": "code",
   "outputs": [],
   "execution_count": null,
   "source": [
    "add = lambda a, b: a + b\n",
    "\n",
    "def compute(a, b, operator):\n",
    "    return operator(a, b)"
   ],
   "id": "5041c047596b868d"
  },
  {
   "metadata": {
    "ExecuteTime": {
     "end_time": "2025-07-15T12:14:36.638611Z",
     "start_time": "2025-07-15T12:14:36.631027Z"
    }
   },
   "cell_type": "code",
   "source": "compute(5, 2, add)",
   "id": "798c6b13b47c13d3",
   "outputs": [
    {
     "data": {
      "text/plain": [
       "7"
      ]
     },
     "execution_count": 25,
     "metadata": {},
     "output_type": "execute_result"
    }
   ],
   "execution_count": 25
  },
  {
   "metadata": {
    "ExecuteTime": {
     "end_time": "2025-07-15T12:24:33.903749Z",
     "start_time": "2025-07-15T12:24:33.894554Z"
    }
   },
   "cell_type": "code",
   "source": "compute(3, 4, lambda a, b: a + b)",
   "id": "8d7e5f728d51ad84",
   "outputs": [
    {
     "data": {
      "text/plain": [
       "7"
      ]
     },
     "execution_count": 26,
     "metadata": {},
     "output_type": "execute_result"
    }
   ],
   "execution_count": 26
  },
  {
   "metadata": {
    "ExecuteTime": {
     "end_time": "2025-07-15T12:25:40.903301Z",
     "start_time": "2025-07-15T12:25:40.893257Z"
    }
   },
   "cell_type": "code",
   "source": "compute(3, 4, lambda a, b: (a**2) + (b**2))",
   "id": "9b95179cca5f426e",
   "outputs": [
    {
     "data": {
      "text/plain": [
       "25"
      ]
     },
     "execution_count": 27,
     "metadata": {},
     "output_type": "execute_result"
    }
   ],
   "execution_count": 27
  },
  {
   "metadata": {
    "ExecuteTime": {
     "end_time": "2025-07-15T12:31:31.075472Z",
     "start_time": "2025-07-15T12:31:31.068075Z"
    }
   },
   "cell_type": "code",
   "source": [
    "d = {\n",
    "    'jane': 19,\n",
    "    'john': 21,\n",
    "    'alice': 23,\n",
    "}"
   ],
   "id": "a7fd419b4f9a2917",
   "outputs": [],
   "execution_count": 29
  },
  {
   "metadata": {
    "ExecuteTime": {
     "end_time": "2025-07-15T12:31:32.728046Z",
     "start_time": "2025-07-15T12:31:32.722943Z"
    }
   },
   "cell_type": "code",
   "source": "list(d.items())",
   "id": "2a16b07a85503055",
   "outputs": [
    {
     "data": {
      "text/plain": [
       "[('jane', 19), ('john', 21), ('alice', 23)]"
      ]
     },
     "execution_count": 30,
     "metadata": {},
     "output_type": "execute_result"
    }
   ],
   "execution_count": 30
  },
  {
   "metadata": {
    "ExecuteTime": {
     "end_time": "2025-07-15T12:32:53.727394Z",
     "start_time": "2025-07-15T12:32:53.723111Z"
    }
   },
   "cell_type": "code",
   "source": [
    "def length_of_name(key_value_pair):\n",
    "    return len(key_value_pair[0])"
   ],
   "id": "785c842a23e993ad",
   "outputs": [],
   "execution_count": 32
  },
  {
   "metadata": {
    "ExecuteTime": {
     "end_time": "2025-07-15T12:34:16.447956Z",
     "start_time": "2025-07-15T12:34:16.440263Z"
    }
   },
   "cell_type": "code",
   "source": "length_of_name(('john', 21))",
   "id": "9bd2bd9cc6215c80",
   "outputs": [
    {
     "data": {
      "text/plain": [
       "4"
      ]
     },
     "execution_count": 34,
     "metadata": {},
     "output_type": "execute_result"
    }
   ],
   "execution_count": 34
  },
  {
   "metadata": {
    "ExecuteTime": {
     "end_time": "2025-07-15T12:34:30.656948Z",
     "start_time": "2025-07-15T12:34:30.652034Z"
    }
   },
   "cell_type": "code",
   "source": "length_of_name(('alice', 23))",
   "id": "1b55f02c6257c125",
   "outputs": [
    {
     "data": {
      "text/plain": [
       "5"
      ]
     },
     "execution_count": 35,
     "metadata": {},
     "output_type": "execute_result"
    }
   ],
   "execution_count": 35
  },
  {
   "metadata": {
    "ExecuteTime": {
     "end_time": "2025-07-15T12:37:55.174990Z",
     "start_time": "2025-07-15T12:37:55.166803Z"
    }
   },
   "cell_type": "code",
   "source": "sorted(d.items(), key=length_of_name)",
   "id": "5f14533e0e9f8b1a",
   "outputs": [
    {
     "data": {
      "text/plain": [
       "[('jane', 19), ('john', 21), ('alice', 23)]"
      ]
     },
     "execution_count": 36,
     "metadata": {},
     "output_type": "execute_result"
    }
   ],
   "execution_count": 36
  },
  {
   "metadata": {
    "ExecuteTime": {
     "end_time": "2025-07-15T12:43:11.710363Z",
     "start_time": "2025-07-15T12:43:11.702963Z"
    }
   },
   "cell_type": "code",
   "source": "sorted(d.items(), key=lambda kv_pair: len(kv_pair[0]))",
   "id": "1855871a0e328b3e",
   "outputs": [
    {
     "data": {
      "text/plain": [
       "[('jane', 19), ('john', 21), ('alice', 23)]"
      ]
     },
     "execution_count": 37,
     "metadata": {},
     "output_type": "execute_result"
    }
   ],
   "execution_count": 37
  },
  {
   "metadata": {},
   "cell_type": "code",
   "outputs": [],
   "execution_count": null,
   "source": "",
   "id": "cf2d3b5cd9019ba6"
  },
  {
   "metadata": {
    "ExecuteTime": {
     "end_time": "2025-07-15T12:46:00.172668Z",
     "start_time": "2025-07-15T12:46:00.165827Z"
    }
   },
   "cell_type": "code",
   "source": "import math",
   "id": "80d87850a4490472",
   "outputs": [],
   "execution_count": 38
  },
  {
   "metadata": {
    "ExecuteTime": {
     "end_time": "2025-07-15T12:47:02.778007Z",
     "start_time": "2025-07-15T12:47:02.768172Z"
    }
   },
   "cell_type": "code",
   "source": "sorted(d.items(), key=lambda kv_pair: math.sqrt(kv_pair[1]))",
   "id": "6dca9d48d93ceaf2",
   "outputs": [
    {
     "data": {
      "text/plain": [
       "[('jane', 19), ('john', 21), ('alice', 23)]"
      ]
     },
     "execution_count": 39,
     "metadata": {},
     "output_type": "execute_result"
    }
   ],
   "execution_count": 39
  },
  {
   "metadata": {},
   "cell_type": "markdown",
   "source": "Functional Programing",
   "id": "8f04b5496bbf46d4"
  },
  {
   "metadata": {
    "ExecuteTime": {
     "end_time": "2025-07-15T13:03:59.114561Z",
     "start_time": "2025-07-15T13:03:59.107921Z"
    }
   },
   "cell_type": "code",
   "source": "l1 = ['a', 'b']",
   "id": "30a5dff2ebdedd8d",
   "outputs": [],
   "execution_count": 40
  },
  {
   "metadata": {
    "ExecuteTime": {
     "end_time": "2025-07-15T13:04:31.342834Z",
     "start_time": "2025-07-15T13:04:31.335765Z"
    }
   },
   "cell_type": "code",
   "source": "l1.append('c')",
   "id": "91db5eea52c441b7",
   "outputs": [],
   "execution_count": 41
  },
  {
   "metadata": {
    "ExecuteTime": {
     "end_time": "2025-07-15T13:08:13.918111Z",
     "start_time": "2025-07-15T13:08:13.907545Z"
    }
   },
   "cell_type": "code",
   "source": "l1",
   "id": "b3f96f07eae4e970",
   "outputs": [
    {
     "data": {
      "text/plain": [
       "['a', 'b', 'c']"
      ]
     },
     "execution_count": 42,
     "metadata": {},
     "output_type": "execute_result"
    }
   ],
   "execution_count": 42
  },
  {
   "metadata": {},
   "cell_type": "markdown",
   "source": "Map, Filter and Reduce",
   "id": "7878388ee99b64ff"
  },
  {
   "metadata": {
    "ExecuteTime": {
     "end_time": "2025-07-15T13:57:47.570829Z",
     "start_time": "2025-07-15T13:57:47.562994Z"
    }
   },
   "cell_type": "code",
   "source": [
    "def get_length_of_name(a_name):\n",
    "    return len(a_name)"
   ],
   "id": "4fb7672a22884953",
   "outputs": [],
   "execution_count": 47
  },
  {
   "metadata": {
    "ExecuteTime": {
     "end_time": "2025-07-15T13:57:50.478167Z",
     "start_time": "2025-07-15T13:57:50.473987Z"
    }
   },
   "cell_type": "code",
   "source": "get_length_of_name('john')",
   "id": "55888c5d42388249",
   "outputs": [
    {
     "data": {
      "text/plain": [
       "4"
      ]
     },
     "execution_count": 48,
     "metadata": {},
     "output_type": "execute_result"
    }
   ],
   "execution_count": 48
  },
  {
   "metadata": {
    "ExecuteTime": {
     "end_time": "2025-07-15T13:57:52.201935Z",
     "start_time": "2025-07-15T13:57:52.198326Z"
    }
   },
   "cell_type": "code",
   "source": "list_of_names = ['Jane', 'Tom', 'Robert']",
   "id": "6d9ebefdd41e7da5",
   "outputs": [],
   "execution_count": 49
  },
  {
   "metadata": {
    "ExecuteTime": {
     "end_time": "2025-07-15T13:58:15.599036Z",
     "start_time": "2025-07-15T13:58:15.594324Z"
    }
   },
   "cell_type": "code",
   "source": "result = map(get_length_of_name, list_of_names)",
   "id": "dc54a34ed0fefcd3",
   "outputs": [],
   "execution_count": 53
  },
  {
   "metadata": {
    "ExecuteTime": {
     "end_time": "2025-07-15T13:58:16.801812Z",
     "start_time": "2025-07-15T13:58:16.796584Z"
    }
   },
   "cell_type": "code",
   "source": "list(result)",
   "id": "838c4b2bf9921381",
   "outputs": [
    {
     "data": {
      "text/plain": [
       "[4, 3, 6]"
      ]
     },
     "execution_count": 54,
     "metadata": {},
     "output_type": "execute_result"
    }
   ],
   "execution_count": 54
  },
  {
   "metadata": {
    "ExecuteTime": {
     "end_time": "2025-07-15T13:58:25.596455Z",
     "start_time": "2025-07-15T13:58:25.592424Z"
    }
   },
   "cell_type": "code",
   "source": [
    "result = []\n",
    "for element in list_of_names:\n",
    "    result.append(get_length_of_name(element))\n",
    "print(result)"
   ],
   "id": "a41bddc93f932475",
   "outputs": [
    {
     "name": "stdout",
     "output_type": "stream",
     "text": [
      "[4, 3, 6]\n"
     ]
    }
   ],
   "execution_count": 55
  },
  {
   "metadata": {
    "ExecuteTime": {
     "end_time": "2025-07-15T13:59:24.875022Z",
     "start_time": "2025-07-15T13:59:24.867324Z"
    }
   },
   "cell_type": "code",
   "source": [
    "result = []\n",
    "for element in list_of_names:\n",
    "    result.append(len(element))\n",
    "print(result)"
   ],
   "id": "5b98703f6ea7a2c0",
   "outputs": [
    {
     "name": "stdout",
     "output_type": "stream",
     "text": [
      "[4, 3, 6]\n"
     ]
    }
   ],
   "execution_count": 56
  },
  {
   "metadata": {
    "ExecuteTime": {
     "end_time": "2025-07-15T13:59:45.042645Z",
     "start_time": "2025-07-15T13:59:45.039997Z"
    }
   },
   "cell_type": "code",
   "source": "result = map(len, list_of_names)",
   "id": "cff2067b95aa2388",
   "outputs": [],
   "execution_count": 57
  },
  {
   "metadata": {
    "ExecuteTime": {
     "end_time": "2025-07-15T13:59:53.068179Z",
     "start_time": "2025-07-15T13:59:53.061118Z"
    }
   },
   "cell_type": "code",
   "source": "list(result)",
   "id": "dd76589f888b1469",
   "outputs": [
    {
     "data": {
      "text/plain": [
       "[4, 3, 6]"
      ]
     },
     "execution_count": 58,
     "metadata": {},
     "output_type": "execute_result"
    }
   ],
   "execution_count": 58
  },
  {
   "metadata": {
    "ExecuteTime": {
     "end_time": "2025-07-15T14:08:55.558925Z",
     "start_time": "2025-07-15T14:08:55.551973Z"
    }
   },
   "cell_type": "code",
   "source": "l = [0,1,2,3,4,5]",
   "id": "c9cdd1afe33d1cc9",
   "outputs": [],
   "execution_count": 59
  },
  {
   "metadata": {
    "ExecuteTime": {
     "end_time": "2025-07-15T14:08:56.654497Z",
     "start_time": "2025-07-15T14:08:56.651506Z"
    }
   },
   "cell_type": "code",
   "source": [
    "def square(x):\n",
    "    return x ** 2"
   ],
   "id": "a7ba5d6789b90fa5",
   "outputs": [],
   "execution_count": 60
  },
  {
   "metadata": {
    "ExecuteTime": {
     "end_time": "2025-07-15T14:08:57.638739Z",
     "start_time": "2025-07-15T14:08:57.635655Z"
    }
   },
   "cell_type": "code",
   "source": "result = map(square, l)",
   "id": "a83f06fd010945fd",
   "outputs": [],
   "execution_count": 61
  },
  {
   "metadata": {
    "ExecuteTime": {
     "end_time": "2025-07-15T14:08:58.759083Z",
     "start_time": "2025-07-15T14:08:58.753592Z"
    }
   },
   "cell_type": "code",
   "source": "list(result)",
   "id": "cb4924a34185daae",
   "outputs": [
    {
     "data": {
      "text/plain": [
       "[0, 1, 4, 9, 16, 25]"
      ]
     },
     "execution_count": 62,
     "metadata": {},
     "output_type": "execute_result"
    }
   ],
   "execution_count": 62
  },
  {
   "metadata": {
    "ExecuteTime": {
     "end_time": "2025-07-15T14:12:15.355953Z",
     "start_time": "2025-07-15T14:12:15.350180Z"
    }
   },
   "cell_type": "code",
   "source": "result = map(lambda x: x**2, l)",
   "id": "cf88058dc747d504",
   "outputs": [],
   "execution_count": 63
  },
  {
   "metadata": {
    "ExecuteTime": {
     "end_time": "2025-07-15T14:12:23.500623Z",
     "start_time": "2025-07-15T14:12:23.496115Z"
    }
   },
   "cell_type": "code",
   "source": "list(result)",
   "id": "7da34e7e4193ced8",
   "outputs": [
    {
     "data": {
      "text/plain": [
       "[0, 1, 4, 9, 16, 25]"
      ]
     },
     "execution_count": 64,
     "metadata": {},
     "output_type": "execute_result"
    }
   ],
   "execution_count": 64
  },
  {
   "metadata": {
    "ExecuteTime": {
     "end_time": "2025-07-15T14:19:45.664916Z",
     "start_time": "2025-07-15T14:19:45.659213Z"
    }
   },
   "cell_type": "code",
   "source": "l = ['Jane', 'Tom', 'Robert']",
   "id": "8419e7cdbfc7efcd",
   "outputs": [],
   "execution_count": 65
  },
  {
   "metadata": {
    "ExecuteTime": {
     "end_time": "2025-07-15T14:21:20.205686Z",
     "start_time": "2025-07-15T14:21:20.198174Z"
    }
   },
   "cell_type": "code",
   "source": "len('Jane')",
   "id": "88f8b067a30a51d1",
   "outputs": [
    {
     "data": {
      "text/plain": [
       "4"
      ]
     },
     "execution_count": 66,
     "metadata": {},
     "output_type": "execute_result"
    }
   ],
   "execution_count": 66
  },
  {
   "metadata": {
    "ExecuteTime": {
     "end_time": "2025-07-15T14:26:04.721314Z",
     "start_time": "2025-07-15T14:26:04.717519Z"
    }
   },
   "cell_type": "code",
   "source": "result = filter(lambda n : len(n) >= 4, l)",
   "id": "c0f614671261548c",
   "outputs": [],
   "execution_count": 68
  },
  {
   "metadata": {
    "ExecuteTime": {
     "end_time": "2025-07-15T14:26:09.966949Z",
     "start_time": "2025-07-15T14:26:09.963112Z"
    }
   },
   "cell_type": "code",
   "source": "list(result)",
   "id": "317234b83c48e6c4",
   "outputs": [
    {
     "data": {
      "text/plain": [
       "['Jane', 'Robert']"
      ]
     },
     "execution_count": 69,
     "metadata": {},
     "output_type": "execute_result"
    }
   ],
   "execution_count": 69
  },
  {
   "metadata": {
    "ExecuteTime": {
     "end_time": "2025-07-15T14:29:04.458026Z",
     "start_time": "2025-07-15T14:29:04.452464Z"
    }
   },
   "cell_type": "code",
   "source": "list_name = [\"dara\", \"meng\", \"leng\"]",
   "id": "fc79378274048493",
   "outputs": [],
   "execution_count": 70
  },
  {
   "metadata": {
    "ExecuteTime": {
     "end_time": "2025-07-15T14:29:42.242650Z",
     "start_time": "2025-07-15T14:29:42.239563Z"
    }
   },
   "cell_type": "code",
   "source": "result = map(lambda n : n[::-1], list_name)",
   "id": "b4e7eb866bb0f639",
   "outputs": [],
   "execution_count": 71
  },
  {
   "metadata": {
    "ExecuteTime": {
     "end_time": "2025-07-15T14:30:00.888244Z",
     "start_time": "2025-07-15T14:30:00.882098Z"
    }
   },
   "cell_type": "code",
   "source": "list(result)",
   "id": "70ed09ecf42c1bb4",
   "outputs": [
    {
     "data": {
      "text/plain": [
       "['arad', 'gnem', 'gnel']"
      ]
     },
     "execution_count": 72,
     "metadata": {},
     "output_type": "execute_result"
    }
   ],
   "execution_count": 72
  },
  {
   "metadata": {
    "ExecuteTime": {
     "end_time": "2025-07-15T14:31:17.963218Z",
     "start_time": "2025-07-15T14:31:17.959294Z"
    }
   },
   "cell_type": "code",
   "source": "result = filter(lambda  n: n[0] == 'd' , list_name)",
   "id": "44d44f1c32e2cfca",
   "outputs": [],
   "execution_count": 75
  },
  {
   "metadata": {
    "ExecuteTime": {
     "end_time": "2025-07-15T14:31:19.252380Z",
     "start_time": "2025-07-15T14:31:19.247421Z"
    }
   },
   "cell_type": "code",
   "source": "list(result)",
   "id": "382143fb6739b2d1",
   "outputs": [
    {
     "data": {
      "text/plain": [
       "['dara']"
      ]
     },
     "execution_count": 76,
     "metadata": {},
     "output_type": "execute_result"
    }
   ],
   "execution_count": 76
  },
  {
   "metadata": {
    "ExecuteTime": {
     "end_time": "2025-07-15T14:32:14.547905Z",
     "start_time": "2025-07-15T14:32:14.545299Z"
    }
   },
   "cell_type": "code",
   "source": "l = [8,9,2,3,4]",
   "id": "17ca32df05b90549",
   "outputs": [],
   "execution_count": 77
  },
  {
   "metadata": {
    "ExecuteTime": {
     "end_time": "2025-07-15T14:46:15.269475Z",
     "start_time": "2025-07-15T14:46:15.262254Z"
    }
   },
   "cell_type": "code",
   "source": [
    "total = 0\n",
    "for num in l:\n",
    "    total += num\n",
    "total"
   ],
   "id": "716dcc16810ccb19",
   "outputs": [
    {
     "data": {
      "text/plain": [
       "26"
      ]
     },
     "execution_count": 83,
     "metadata": {},
     "output_type": "execute_result"
    }
   ],
   "execution_count": 83
  },
  {
   "metadata": {
    "ExecuteTime": {
     "end_time": "2025-07-15T14:46:28.041358Z",
     "start_time": "2025-07-15T14:46:28.039014Z"
    }
   },
   "cell_type": "code",
   "source": [
    "def add_element(accumulated, current_value):\n",
    "    return accumulated + current_value"
   ],
   "id": "305313f5f080f2eb",
   "outputs": [],
   "execution_count": 84
  },
  {
   "metadata": {
    "ExecuteTime": {
     "end_time": "2025-07-15T14:47:17.204082Z",
     "start_time": "2025-07-15T14:47:17.200408Z"
    }
   },
   "cell_type": "code",
   "source": "l",
   "id": "287f35f2b43cf506",
   "outputs": [
    {
     "data": {
      "text/plain": [
       "[8, 9, 2, 3, 4]"
      ]
     },
     "execution_count": 85,
     "metadata": {},
     "output_type": "execute_result"
    }
   ],
   "execution_count": 85
  },
  {
   "metadata": {
    "ExecuteTime": {
     "end_time": "2025-07-15T14:47:46.038781Z",
     "start_time": "2025-07-15T14:47:46.029748Z"
    }
   },
   "cell_type": "code",
   "source": [
    "total = 0\n",
    "for num in l:\n",
    "    total = add_element(total, num)\n",
    "total"
   ],
   "id": "7ed87794b5d51b68",
   "outputs": [
    {
     "data": {
      "text/plain": [
       "26"
      ]
     },
     "execution_count": 86,
     "metadata": {},
     "output_type": "execute_result"
    }
   ],
   "execution_count": 86
  },
  {
   "metadata": {
    "ExecuteTime": {
     "end_time": "2025-07-15T14:49:11.912104Z",
     "start_time": "2025-07-15T14:49:11.908870Z"
    }
   },
   "cell_type": "code",
   "source": "from functools import reduce",
   "id": "29d1b68cbc3610fd",
   "outputs": [],
   "execution_count": 87
  },
  {
   "metadata": {
    "ExecuteTime": {
     "end_time": "2025-07-15T14:50:11.937157Z",
     "start_time": "2025-07-15T14:50:11.930805Z"
    }
   },
   "cell_type": "code",
   "source": "reduce(add_element, l, 0)",
   "id": "bf7a0b22c9dd4002",
   "outputs": [
    {
     "data": {
      "text/plain": [
       "26"
      ]
     },
     "execution_count": 88,
     "metadata": {},
     "output_type": "execute_result"
    }
   ],
   "execution_count": 88
  },
  {
   "metadata": {
    "ExecuteTime": {
     "end_time": "2025-07-15T14:51:46.772554Z",
     "start_time": "2025-07-15T14:51:46.764833Z"
    }
   },
   "cell_type": "code",
   "source": "reduce(lambda  acc, x : acc * x, l, 1)",
   "id": "6c07d38779160710",
   "outputs": [
    {
     "data": {
      "text/plain": [
       "1728"
      ]
     },
     "execution_count": 89,
     "metadata": {},
     "output_type": "execute_result"
    }
   ],
   "execution_count": 89
  },
  {
   "metadata": {
    "ExecuteTime": {
     "end_time": "2025-07-15T14:53:31.648607Z",
     "start_time": "2025-07-15T14:53:31.641789Z"
    }
   },
   "cell_type": "code",
   "source": [
    "total = 1\n",
    "for num in l:\n",
    "    total *= num\n",
    "total"
   ],
   "id": "77fc77d7cc25d9",
   "outputs": [
    {
     "data": {
      "text/plain": [
       "1728"
      ]
     },
     "execution_count": 90,
     "metadata": {},
     "output_type": "execute_result"
    }
   ],
   "execution_count": 90
  },
  {
   "metadata": {},
   "cell_type": "markdown",
   "source": "List Comprehensions",
   "id": "bb508d6b06c7fc94"
  },
  {
   "metadata": {
    "ExecuteTime": {
     "end_time": "2025-07-15T15:00:05.194432Z",
     "start_time": "2025-07-15T15:00:05.185776Z"
    }
   },
   "cell_type": "code",
   "source": "list_of = ['Jane', 'Tom', 'Robert']",
   "id": "13be6fd95d8d9abe",
   "outputs": [],
   "execution_count": 91
  },
  {
   "metadata": {
    "ExecuteTime": {
     "end_time": "2025-07-15T15:02:15.901467Z",
     "start_time": "2025-07-15T15:02:15.891289Z"
    }
   },
   "cell_type": "code",
   "source": [
    "result = map(lambda n: len(n), list_of)\n",
    "list(result)"
   ],
   "id": "c8ad90e1c909e4ad",
   "outputs": [
    {
     "data": {
      "text/plain": [
       "[4, 3, 6]"
      ]
     },
     "execution_count": 92,
     "metadata": {},
     "output_type": "execute_result"
    }
   ],
   "execution_count": 92
  },
  {
   "metadata": {
    "ExecuteTime": {
     "end_time": "2025-07-15T15:03:36.559137Z",
     "start_time": "2025-07-15T15:03:36.550074Z"
    }
   },
   "cell_type": "code",
   "source": "[len(n) for n in list_of]",
   "id": "b0ba3e779c711055",
   "outputs": [
    {
     "data": {
      "text/plain": [
       "[4, 3, 6]"
      ]
     },
     "execution_count": 93,
     "metadata": {},
     "output_type": "execute_result"
    }
   ],
   "execution_count": 93
  },
  {
   "metadata": {
    "ExecuteTime": {
     "end_time": "2025-07-15T15:11:50.770646Z",
     "start_time": "2025-07-15T15:11:50.763196Z"
    }
   },
   "cell_type": "code",
   "source": [
    "result = map(lambda n: n.upper(), list_of)\n",
    "list(result)"
   ],
   "id": "b19b81c8879cdc2e",
   "outputs": [
    {
     "data": {
      "text/plain": [
       "['JANE', 'TOM', 'ROBERT']"
      ]
     },
     "execution_count": 94,
     "metadata": {},
     "output_type": "execute_result"
    }
   ],
   "execution_count": 94
  },
  {
   "metadata": {
    "ExecuteTime": {
     "end_time": "2025-07-15T15:12:15.124724Z",
     "start_time": "2025-07-15T15:12:15.119468Z"
    }
   },
   "cell_type": "code",
   "source": "[n.upper() for n in list_of]",
   "id": "55cafc9ca6581b35",
   "outputs": [
    {
     "data": {
      "text/plain": [
       "['JANE', 'TOM', 'ROBERT']"
      ]
     },
     "execution_count": 95,
     "metadata": {},
     "output_type": "execute_result"
    }
   ],
   "execution_count": 95
  },
  {
   "metadata": {
    "ExecuteTime": {
     "end_time": "2025-07-15T15:17:34.114820Z",
     "start_time": "2025-07-15T15:17:34.112418Z"
    }
   },
   "cell_type": "code",
   "source": [
    "d = {\n",
    "    'a': 2,\n",
    "    'b': 3,\n",
    "    'c': 4,\n",
    "}"
   ],
   "id": "154a21ceade1dd5",
   "outputs": [],
   "execution_count": 97
  },
  {
   "metadata": {
    "ExecuteTime": {
     "end_time": "2025-07-15T15:17:35.779451Z",
     "start_time": "2025-07-15T15:17:35.774259Z"
    }
   },
   "cell_type": "code",
   "source": [
    "result = []\n",
    "for k, v in d.items():\n",
    "    new_element = k * v\n",
    "    result.append(new_element)\n",
    "result"
   ],
   "id": "4679247cfbe17459",
   "outputs": [
    {
     "data": {
      "text/plain": [
       "['aa', 'bbb', 'cccc']"
      ]
     },
     "execution_count": 98,
     "metadata": {},
     "output_type": "execute_result"
    }
   ],
   "execution_count": 98
  },
  {
   "metadata": {
    "ExecuteTime": {
     "end_time": "2025-07-15T15:17:46.909886Z",
     "start_time": "2025-07-15T15:17:46.903753Z"
    }
   },
   "cell_type": "code",
   "source": "[k * v for k, v in d.items()]",
   "id": "5e36e8ec2eb4b3f5",
   "outputs": [
    {
     "data": {
      "text/plain": [
       "['aa', 'bbb', 'cccc']"
      ]
     },
     "execution_count": 99,
     "metadata": {},
     "output_type": "execute_result"
    }
   ],
   "execution_count": 99
  },
  {
   "metadata": {
    "ExecuteTime": {
     "end_time": "2025-07-15T15:29:09.445826Z",
     "start_time": "2025-07-15T15:29:09.440231Z"
    }
   },
   "cell_type": "code",
   "source": "list_of_names = ['Jane', 'Tom', 'Robert', 'Jing', 'Has']",
   "id": "7c0f8fb56fa257b",
   "outputs": [],
   "execution_count": 100
  },
  {
   "metadata": {
    "ExecuteTime": {
     "end_time": "2025-07-15T15:31:55.067430Z",
     "start_time": "2025-07-15T15:31:55.055984Z"
    }
   },
   "cell_type": "code",
   "source": [
    "result = []\n",
    "for name in list_of_names:\n",
    "    if len(name) %2 == 1:\n",
    "        result.append(len(name))\n",
    "result"
   ],
   "id": "12f7d62b2b1e4e0e",
   "outputs": [
    {
     "data": {
      "text/plain": [
       "[3, 3]"
      ]
     },
     "execution_count": 101,
     "metadata": {},
     "output_type": "execute_result"
    }
   ],
   "execution_count": 101
  },
  {
   "metadata": {
    "ExecuteTime": {
     "end_time": "2025-07-15T15:34:11.030132Z",
     "start_time": "2025-07-15T15:34:11.021810Z"
    }
   },
   "cell_type": "code",
   "source": [
    "result = map(\n",
    "    lambda n: len(n),\n",
    "    filter(lambda n: len(n) %2 == 0, list_of_names)\n",
    ")\n",
    "list(result)"
   ],
   "id": "83636dc7c6049d53",
   "outputs": [
    {
     "data": {
      "text/plain": [
       "[4, 6, 4]"
      ]
     },
     "execution_count": 102,
     "metadata": {},
     "output_type": "execute_result"
    }
   ],
   "execution_count": 102
  },
  {
   "metadata": {
    "ExecuteTime": {
     "end_time": "2025-07-15T15:39:11.175664Z",
     "start_time": "2025-07-15T15:39:11.167254Z"
    }
   },
   "cell_type": "code",
   "source": "list(filter(lambda n: len(n) %2 == 0, list_of_names))",
   "id": "2116b41c5fead250",
   "outputs": [
    {
     "data": {
      "text/plain": [
       "['Jane', 'Robert', 'Jing']"
      ]
     },
     "execution_count": 103,
     "metadata": {},
     "output_type": "execute_result"
    }
   ],
   "execution_count": 103
  },
  {
   "metadata": {
    "ExecuteTime": {
     "end_time": "2025-07-15T15:41:56.284104Z",
     "start_time": "2025-07-15T15:41:56.278848Z"
    }
   },
   "cell_type": "code",
   "source": [
    "result_of = filter(lambda n: len(n) %2 == 0, list_of_names)\n",
    "result = map(\n",
    "    lambda n: len(n),\n",
    "    result_of\n",
    ")\n",
    "list(result)"
   ],
   "id": "6242b294e2b8f12c",
   "outputs": [
    {
     "data": {
      "text/plain": [
       "[4, 6, 4]"
      ]
     },
     "execution_count": 106,
     "metadata": {},
     "output_type": "execute_result"
    }
   ],
   "execution_count": 106
  },
  {
   "metadata": {
    "ExecuteTime": {
     "end_time": "2025-07-15T15:42:57.624478Z",
     "start_time": "2025-07-15T15:42:57.620346Z"
    }
   },
   "cell_type": "code",
   "source": "[len(n) for n in list_of_names if len(n) %2 == 1]",
   "id": "ebddcccf4ca14d50",
   "outputs": [
    {
     "data": {
      "text/plain": [
       "[3, 3]"
      ]
     },
     "execution_count": 109,
     "metadata": {},
     "output_type": "execute_result"
    }
   ],
   "execution_count": 109
  }
 ],
 "metadata": {
  "kernelspec": {
   "display_name": "Python 3",
   "language": "python",
   "name": "python3"
  },
  "language_info": {
   "codemirror_mode": {
    "name": "ipython",
    "version": 2
   },
   "file_extension": ".py",
   "mimetype": "text/x-python",
   "name": "python",
   "nbconvert_exporter": "python",
   "pygments_lexer": "ipython2",
   "version": "2.7.6"
  }
 },
 "nbformat": 4,
 "nbformat_minor": 5
}
