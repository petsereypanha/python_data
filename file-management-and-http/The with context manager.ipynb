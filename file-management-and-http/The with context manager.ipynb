{
 "cells": [
  {
   "cell_type": "markdown",
   "metadata": {},
   "source": [
    "# The `with` context manager\n",
    "\n",
    "We mentioned how important it is to close your files after you're done working with them. But, what happens if an exception occurs **before** you can close the file?"
   ]
  },
  {
   "cell_type": "code",
   "metadata": {
    "ExecuteTime": {
     "end_time": "2025-08-12T05:43:44.232425Z",
     "start_time": "2025-08-12T05:43:44.209471Z"
    }
   },
   "source": [
    "f = open('data/alice.txt')\n",
    "line = f.readline()\n",
    "# Really dumb idea, this will fail:\n",
    "line + 3\n",
    "f.close()"
   ],
   "outputs": [
    {
     "ename": "TypeError",
     "evalue": "can only concatenate str (not \"int\") to str",
     "output_type": "error",
     "traceback": [
      "\u001B[31m---------------------------------------------------------------------------\u001B[39m",
      "\u001B[31mTypeError\u001B[39m                                 Traceback (most recent call last)",
      "\u001B[36mCell\u001B[39m\u001B[36m \u001B[39m\u001B[32mIn[3]\u001B[39m\u001B[32m, line 4\u001B[39m\n\u001B[32m      2\u001B[39m line = f.readline()\n\u001B[32m      3\u001B[39m \u001B[38;5;66;03m# Really dumb idea, this will fail:\u001B[39;00m\n\u001B[32m----> \u001B[39m\u001B[32m4\u001B[39m \u001B[43mline\u001B[49m\u001B[43m \u001B[49m\u001B[43m+\u001B[49m\u001B[43m \u001B[49m\u001B[32;43m3\u001B[39;49m\n\u001B[32m      5\u001B[39m f.close()\n",
      "\u001B[31mTypeError\u001B[39m: can only concatenate str (not \"int\") to str"
     ]
    }
   ],
   "execution_count": 3
  },
  {
   "cell_type": "markdown",
   "metadata": {},
   "source": [
    "Our really dumb line of code was trying to sum a string (`line`) with an int `3` which caused an exception. That means that the `close` method was never reached, and in consequence, the file was never closed:"
   ]
  },
  {
   "cell_type": "code",
   "execution_count": 3,
   "metadata": {},
   "outputs": [
    {
     "data": {
      "text/plain": [
       "False"
      ]
     },
     "execution_count": 3,
     "metadata": {},
     "output_type": "execute_result"
    }
   ],
   "source": [
    "f.closed"
   ]
  },
  {
   "cell_type": "code",
   "execution_count": 4,
   "metadata": {},
   "outputs": [
    {
     "data": {
      "text/plain": [
       "'\\nCHAP'"
      ]
     },
     "execution_count": 4,
     "metadata": {},
     "output_type": "execute_result"
    }
   ],
   "source": [
    "f.read(5)"
   ]
  },
  {
   "cell_type": "markdown",
   "metadata": {},
   "source": [
    "This is REALLY bad. Our program might keep files opened without us realizing it. Which is obviously dangerous. That's why, when dealing with files, we use a common pattern that combines the `try/except/finally` block:"
   ]
  },
  {
   "cell_type": "code",
   "execution_count": 5,
   "metadata": {},
   "outputs": [
    {
     "name": "stdout",
     "output_type": "stream",
     "text": [
      "Something failed\n"
     ]
    }
   ],
   "source": [
    "f = open('data/alice.txt')\n",
    "try:\n",
    "    # do all the dangerous tasks here\n",
    "    line = f.readline()\n",
    "    line + 3\n",
    "except:\n",
    "    print(\"Something failed\")\n",
    "finally:\n",
    "    f.close()"
   ]
  },
  {
   "cell_type": "markdown",
   "metadata": {},
   "source": [
    "The `finally` clause is executed regardless of the state of the `try` block, so we're making sure we always close the file:"
   ]
  },
  {
   "cell_type": "code",
   "execution_count": 7,
   "metadata": {},
   "outputs": [
    {
     "data": {
      "text/plain": [
       "True"
      ]
     },
     "execution_count": 7,
     "metadata": {},
     "output_type": "execute_result"
    }
   ],
   "source": [
    "f.closed  # file is closed!"
   ]
  },
  {
   "cell_type": "markdown",
   "metadata": {},
   "source": [
    "This pattern is **extremely** common, even for other [programming](http://www.rubyist.net/~slagell/ruby/ensure.html) [languages](https://docs.oracle.com/javase/tutorial/essential/exceptions/finally.html). But it has a few disadvantages.\n",
    "\n",
    "First, it's not elegant, it just reads bad. Second, and more importantly, some programmers might forget, or not even know about it. It's hard to remember. So we shouldn't leave the responsability of closing files to the programmer. That's why Python has a nice better way of implementing the same behavior: the `with` _context manager_.\n",
    "\n",
    "`with` is a special syntactical block that will allow you to perform operations that require a safety clean-up after you're done. It's not used only for files, you'll see it in other cases, but files is the most common scenario. Let's see it in action:"
   ]
  },
  {
   "cell_type": "code",
   "execution_count": 15,
   "metadata": {},
   "outputs": [
    {
     "name": "stdout",
     "output_type": "stream",
     "text": [
      "ALICE\n"
     ]
    }
   ],
   "source": [
    "with open('data/alice.txt') as my_file:\n",
    "    print(my_file.read(5))"
   ]
  },
  {
   "cell_type": "code",
   "execution_count": 16,
   "metadata": {},
   "outputs": [
    {
     "data": {
      "text/plain": [
       "True"
      ]
     },
     "execution_count": 16,
     "metadata": {},
     "output_type": "execute_result"
    }
   ],
   "source": [
    "my_file.closed"
   ]
  },
  {
   "cell_type": "markdown",
   "metadata": {},
   "source": [
    "`with` will take care of opening the file for you, and as you can see in the previous line, closing it afterwards; **regardless of the state of your code**, that is, even if an exception happened:"
   ]
  },
  {
   "cell_type": "code",
   "metadata": {
    "ExecuteTime": {
     "end_time": "2025-08-12T05:43:44.277070Z",
     "start_time": "2025-08-12T05:43:40.653874Z"
    }
   },
   "source": [
    "with open('data/alice.txt') as my_file:\n",
    "    line = my_file.read(5)\n",
    "    line + 3"
   ],
   "outputs": [
    {
     "ename": "TypeError",
     "evalue": "can only concatenate str (not \"int\") to str",
     "output_type": "error",
     "traceback": [
      "\u001B[31m---------------------------------------------------------------------------\u001B[39m",
      "\u001B[31mTypeError\u001B[39m                                 Traceback (most recent call last)",
      "\u001B[36mCell\u001B[39m\u001B[36m \u001B[39m\u001B[32mIn[2]\u001B[39m\u001B[32m, line 3\u001B[39m\n\u001B[32m      1\u001B[39m \u001B[38;5;28;01mwith\u001B[39;00m \u001B[38;5;28mopen\u001B[39m(\u001B[33m'\u001B[39m\u001B[33mdata/alice.txt\u001B[39m\u001B[33m'\u001B[39m) \u001B[38;5;28;01mas\u001B[39;00m my_file:\n\u001B[32m      2\u001B[39m     line = my_file.read(\u001B[32m5\u001B[39m)\n\u001B[32m----> \u001B[39m\u001B[32m3\u001B[39m     \u001B[43mline\u001B[49m\u001B[43m \u001B[49m\u001B[43m+\u001B[49m\u001B[43m \u001B[49m\u001B[32;43m3\u001B[39;49m\n",
      "\u001B[31mTypeError\u001B[39m: can only concatenate str (not \"int\") to str"
     ]
    }
   ],
   "execution_count": 2
  },
  {
   "cell_type": "code",
   "execution_count": 18,
   "metadata": {},
   "outputs": [
    {
     "data": {
      "text/plain": [
       "True"
      ]
     },
     "execution_count": 18,
     "metadata": {},
     "output_type": "execute_result"
    }
   ],
   "source": [
    "f.closed"
   ]
  },
  {
   "cell_type": "markdown",
   "metadata": {},
   "source": [
    "The exception was still raised, but the file is closed. The syntax of `open` is the same; it's actually the same function. The syntax of `with` is:\n",
    "\n",
    "```python\n",
    "with <RESOURCE> as <NAME>:\n",
    "    <BODY>\n",
    "```\n",
    "\n",
    "Within that body you can do whatever you want. It's just a regular Python body. That's why we also have to indent it to create a new \"block\", as you'd do with a regular `if` or `for` statement."
   ]
  }
 ],
 "metadata": {
  "kernelspec": {
   "display_name": "Python 3",
   "language": "python",
   "name": "python3"
  },
  "language_info": {
   "codemirror_mode": {
    "name": "ipython",
    "version": 3
   },
   "file_extension": ".py",
   "mimetype": "text/x-python",
   "name": "python",
   "nbconvert_exporter": "python",
   "pygments_lexer": "ipython3",
   "version": "3.6.0"
  }
 },
 "nbformat": 4,
 "nbformat_minor": 2
}
