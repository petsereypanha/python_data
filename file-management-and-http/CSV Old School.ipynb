{
 "cells": [
  {
   "cell_type": "markdown",
   "metadata": {},
   "source": [
    "# CSV Old School\n",
    "\n",
    "If you're doing any meaningful work with CSV files, you'll probably be using [pandas](https://pandas.pydata.org) or [csvkit](http://csvkit.readthedocs.io). But nevertheless, it's a good use case for traditional file management. Python has the [csv](https://docs.python.org/3/library/csv.html) module which is already builtin. It's just about importing it and using it.\n",
    "\n",
    "We'll use a `products.csv` CSV file that looks something like this:\n",
    "\n",
    "```\n",
    "InvoiceNo,StockCode,Description,Quantity,InvoiceDate,UnitPrice,CustomerID,Country\n",
    "536365,85123A,WHITE HANGING HEART T-LIGHT HOLDER,6,12/1/10 08:26,2.55,17850,United Kingdom\n",
    "536365,71053,WHITE METAL LANTERN,6,12/1/10 08:26,3.39,17850,United Kingdom\n",
    "536365,84406B,CREAM CUPID HEARTS COAT HANGER,8,12/1/10 08:26,2.75,17850,United Kingdom\n",
    "536365,84029G,KNITTED UNION FLAG HOT WATER BOTTLE,6,12/1/10 08:26,3.39,17850,United Kingdom\n",
    "536365,84029E,RED WOOLLY HOTTIE WHITE HEART.,6,12/1/10 08:26,3.39,17850,United Kingdom\n",
    "536365,22752,SET 7 BABUSHKA NESTING BOXES,2,12/1/10 08:26,7.65,17850,United Kingdom\n",
    "536365,21730,GLASS STAR FROSTED T-LIGHT HOLDER,6,12/1/10 08:26,4.25,17850,United Kingdom\n",
    "```\n",
    "\n",
    "A CSV file is just like a table. Actually, the same CSV file seen in Github is displayed in this way:\n",
    "\n",
    "![image](https://user-images.githubusercontent.com/872296/37571183-079b3cac-2ad8-11e8-85c9-0f7bca040bd3.png)\n",
    "\n",
    "Let's start processing it...\n",
    "\n",
    "First I open the file. I won't use the `with` context manager so I can keep work among different cells, but in a real application, you should."
   ]
  },
  {
   "cell_type": "code",
   "metadata": {
    "ExecuteTime": {
     "end_time": "2025-07-24T14:07:16.321935Z",
     "start_time": "2025-07-24T14:07:16.317531Z"
    }
   },
   "source": [
    "f = open('./products.csv', 'r')"
   ],
   "outputs": [],
   "execution_count": 2
  },
  {
   "cell_type": "markdown",
   "metadata": {},
   "source": [
    "We now import the `csv` module and initialize a csv [`reader`](https://docs.python.org/3/library/csv.html#csv.reader):"
   ]
  },
  {
   "cell_type": "code",
   "execution_count": 2,
   "metadata": {},
   "outputs": [],
   "source": [
    "import csv\n",
    "\n",
    "reader = csv.reader(f)"
   ]
  },
  {
   "cell_type": "markdown",
   "metadata": {},
   "source": [
    "As you can see, the `reader` takes a file object. We can now start iterating over the lines in the file. I'll iterate only three times to minimize the output:"
   ]
  },
  {
   "cell_type": "code",
   "execution_count": 3,
   "metadata": {},
   "outputs": [
    {
     "name": "stdout",
     "output_type": "stream",
     "text": [
      "['InvoiceNo', 'StockCode', 'Description', 'Quantity', 'InvoiceDate', 'UnitPrice', 'CustomerID', 'Country']\n",
      "['536365', '85123A', 'WHITE HANGING HEART T-LIGHT HOLDER', '6', '12/1/10 08:26', '2.55', '17850', 'United Kingdom']\n",
      "['536365', '71053', 'WHITE METAL LANTERN', '6', '12/1/10 08:26', '3.39', '17850', 'United Kingdom']\n"
     ]
    }
   ],
   "source": [
    "i = 0\n",
    "for line in reader:\n",
    "    if i == 3:\n",
    "        break\n",
    "    print(line)\n",
    "    i += 1"
   ]
  },
  {
   "cell_type": "markdown",
   "metadata": {},
   "source": [
    "_(Ideally, I'd have used the `enumerate` function, but I wanted to keep it simple)_\n",
    "\n",
    "As you can see, each new line is retuning a line of the CSV file as a list, containing each CSV field as an element. I can get individual lines with the `next` function:"
   ]
  },
  {
   "cell_type": "code",
   "execution_count": 4,
   "metadata": {},
   "outputs": [
    {
     "data": {
      "text/plain": [
       "['536365',\n",
       " '84029G',\n",
       " 'KNITTED UNION FLAG HOT WATER BOTTLE',\n",
       " '6',\n",
       " '12/1/10 08:26',\n",
       " '3.39',\n",
       " '17850',\n",
       " 'United Kingdom']"
      ]
     },
     "execution_count": 4,
     "metadata": {},
     "output_type": "execute_result"
    }
   ],
   "source": [
    "next(reader)"
   ]
  },
  {
   "cell_type": "code",
   "execution_count": 5,
   "metadata": {},
   "outputs": [],
   "source": [
    "line = next(reader)"
   ]
  },
  {
   "cell_type": "code",
   "execution_count": 6,
   "metadata": {},
   "outputs": [
    {
     "data": {
      "text/plain": [
       "['536365',\n",
       " '84029E',\n",
       " 'RED WOOLLY HOTTIE WHITE HEART.',\n",
       " '6',\n",
       " '12/1/10 08:26',\n",
       " '3.39',\n",
       " '17850',\n",
       " 'United Kingdom']"
      ]
     },
     "execution_count": 6,
     "metadata": {},
     "output_type": "execute_result"
    }
   ],
   "source": [
    "line"
   ]
  },
  {
   "cell_type": "markdown",
   "metadata": {},
   "source": [
    "Now is just about working with the different fields of the CSV file. I'll close this file and we can work with the `writer`:"
   ]
  },
  {
   "cell_type": "code",
   "execution_count": 7,
   "metadata": {},
   "outputs": [],
   "source": [
    "f.close()"
   ]
  },
  {
   "cell_type": "markdown",
   "metadata": {},
   "source": [
    "### Writing CSV\n",
    "\n",
    "The `csv` module also has a [`writer`](https://docs.python.org/3/library/csv.html#csv.writer) function that creates a CSV Writer. This one is powerful because you can define delimiters and settings of your file writer. The [same settings](https://docs.python.org/3/library/csv.html#csv-fmt-params) are available to the reader to instruct it on how to parse the CSV files. Examples:\n",
    "\n",
    "```python\n",
    "csv.writer(fp, delimiter=' ', quotechar='|', quoting=csv.QUOTE_ALL)\n",
    "```"
   ]
  },
  {
   "cell_type": "code",
   "execution_count": 8,
   "metadata": {},
   "outputs": [],
   "source": [
    "# Open in write mode:\n",
    "f = open('./products-new.csv', 'w')"
   ]
  },
  {
   "cell_type": "code",
   "execution_count": 9,
   "metadata": {},
   "outputs": [],
   "source": [
    "writer = csv.writer(f, delimiter=',', quoting=csv.QUOTE_ALL)"
   ]
  },
  {
   "cell_type": "code",
   "execution_count": 10,
   "metadata": {},
   "outputs": [
    {
     "data": {
      "text/plain": [
       "37"
      ]
     },
     "execution_count": 10,
     "metadata": {},
     "output_type": "execute_result"
    }
   ],
   "source": [
    "writer.writerow(['Invoice Number', 'Customer', 'Total'])"
   ]
  },
  {
   "cell_type": "code",
   "execution_count": 11,
   "metadata": {},
   "outputs": [
    {
     "data": {
      "text/plain": [
       "29"
      ]
     },
     "execution_count": 11,
     "metadata": {},
     "output_type": "execute_result"
    }
   ],
   "source": [
    "writer.writerow([38192, 'John Doe', 117.32])"
   ]
  },
  {
   "cell_type": "code",
   "execution_count": 12,
   "metadata": {},
   "outputs": [
    {
     "data": {
      "text/plain": [
       "29"
      ]
     },
     "execution_count": 12,
     "metadata": {},
     "output_type": "execute_result"
    }
   ],
   "source": [
    "writer.writerow([38193, 'Jane Doe', 224.03])"
   ]
  },
  {
   "cell_type": "code",
   "execution_count": 13,
   "metadata": {},
   "outputs": [],
   "source": [
    "f.close()"
   ]
  },
  {
   "cell_type": "markdown",
   "metadata": {},
   "source": [
    "We can now open the file and real the resulting content:"
   ]
  },
  {
   "cell_type": "code",
   "execution_count": 14,
   "metadata": {},
   "outputs": [],
   "source": [
    "f = open('./products-new.csv', 'r')"
   ]
  },
  {
   "cell_type": "code",
   "execution_count": 15,
   "metadata": {},
   "outputs": [
    {
     "name": "stdout",
     "output_type": "stream",
     "text": [
      "\"Invoice Number\",\"Customer\",\"Total\"\n",
      "\"38192\",\"John Doe\",\"117.32\"\n",
      "\"38193\",\"Jane Doe\",\"224.03\"\n",
      "\n"
     ]
    }
   ],
   "source": [
    "print(f.read())"
   ]
  },
  {
   "cell_type": "markdown",
   "metadata": {},
   "source": [
    "As you can see, the `csv.QUOTE_ALL` quoting mode quoted every single value. Not pretty, but it's just to show you a different setting."
   ]
  }
 ],
 "metadata": {
  "kernelspec": {
   "display_name": "Python 3",
   "language": "python",
   "name": "python3"
  },
  "language_info": {
   "codemirror_mode": {
    "name": "ipython",
    "version": 3
   },
   "file_extension": ".py",
   "mimetype": "text/x-python",
   "name": "python",
   "nbconvert_exporter": "python",
   "pygments_lexer": "ipython3",
   "version": "3.6.0"
  }
 },
 "nbformat": 4,
 "nbformat_minor": 2
}
