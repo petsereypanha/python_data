{
 "cells": [
  {
   "cell_type": "markdown",
   "metadata": {},
   "source": [
    "### Intro to Files (Cheatsheet)\n",
    "\n",
    "### Opening the file\n",
    "\n",
    "Open Modes:\n",
    "\n",
    "* `'r'`: Open the file for reading\n",
    "* `'w'`: Open the file for writing (**WARNING,** erases the contents of the file).\n",
    "* `'a'`: Open for writing, but places the _cursor_ at the end (\"appending\").\n",
    "* `'r+'`: Read and write, but places the _cursor_ at the beginning.\n"
   ]
  },
  {
   "cell_type": "code",
   "execution_count": 1,
   "metadata": {},
   "outputs": [],
   "source": [
    "f = open('alice.txt', 'r')"
   ]
  },
  {
   "cell_type": "markdown",
   "metadata": {},
   "source": [
    "### Reading\n",
    "\n",
    "**Reading a single line**"
   ]
  },
  {
   "cell_type": "code",
   "execution_count": 2,
   "metadata": {},
   "outputs": [
    {
     "data": {
      "text/plain": [
       "'ALICE’S ADVENTURES IN WONDERLAND\\n'"
      ]
     },
     "execution_count": 2,
     "metadata": {},
     "output_type": "execute_result"
    }
   ],
   "source": [
    "f.readline()"
   ]
  },
  {
   "cell_type": "markdown",
   "metadata": {},
   "source": [
    "**Reading a certain number of chars**"
   ]
  },
  {
   "cell_type": "code",
   "execution_count": 3,
   "metadata": {},
   "outputs": [
    {
     "data": {
      "text/plain": [
       "'\\nCHAP'"
      ]
     },
     "execution_count": 3,
     "metadata": {},
     "output_type": "execute_result"
    }
   ],
   "source": [
    "f.read(5)"
   ]
  },
  {
   "cell_type": "markdown",
   "metadata": {},
   "source": [
    "**Read the entire file**"
   ]
  },
  {
   "cell_type": "code",
   "execution_count": 4,
   "metadata": {},
   "outputs": [
    {
     "data": {
      "text/plain": [
       "'TER I. Down the Rabbit-Hole\\n\\nAlice was beginning to get very tired of sitting by her sister on the\\nbank, and of having nothing to do: once or twice she had peeped into the\\nbook her sister was reading, but it had no pictures or conversations in\\nit, ‘and what is the use of a book,’ thought Alice ‘without pictures or\\nconversations?’\\n\\nSo she was considering in her own mind (as well as she could, for the\\nhot day made her feel very sleepy and stupid), whether the pleasure\\nof making a daisy-chain would be worth the trouble of getting up and\\npicking the daisies, when suddenly a White Rabbit with pink eyes ran\\nclose by her.\\n'"
      ]
     },
     "execution_count": 4,
     "metadata": {},
     "output_type": "execute_result"
    }
   ],
   "source": [
    "f.read()"
   ]
  },
  {
   "cell_type": "markdown",
   "metadata": {},
   "source": [
    "**Tell the current position of the pointer**"
   ]
  },
  {
   "cell_type": "code",
   "execution_count": 5,
   "metadata": {},
   "outputs": [
    {
     "data": {
      "text/plain": [
       "671"
      ]
     },
     "execution_count": 5,
     "metadata": {},
     "output_type": "execute_result"
    }
   ],
   "source": [
    "f.tell()"
   ]
  },
  {
   "cell_type": "markdown",
   "metadata": {},
   "source": [
    "**Move the pointer**"
   ]
  },
  {
   "cell_type": "code",
   "execution_count": 6,
   "metadata": {},
   "outputs": [
    {
     "data": {
      "text/plain": [
       "0"
      ]
     },
     "execution_count": 6,
     "metadata": {},
     "output_type": "execute_result"
    }
   ],
   "source": [
    "f.seek(0)"
   ]
  },
  {
   "cell_type": "markdown",
   "metadata": {},
   "source": [
    "**Iterating over the file lines**"
   ]
  },
  {
   "cell_type": "code",
   "execution_count": 7,
   "metadata": {},
   "outputs": [
    {
     "name": "stdout",
     "output_type": "stream",
     "text": [
      "ALICE’S ADVENTURES IN WONDERLAND\n",
      "\n",
      "\n",
      "\n",
      "CHAPTER I. Down the Rabbit-Hole\n",
      "\n",
      "\n",
      "\n",
      "Alice was beginning to get very tired of sitting by her sister on the\n",
      "\n",
      "bank, and of having nothing to do: once or twice she had peeped into the\n",
      "\n",
      "book her sister was reading, but it had no pictures or conversations in\n",
      "\n",
      "it, ‘and what is the use of a book,’ thought Alice ‘without pictures or\n",
      "\n",
      "conversations?’\n",
      "\n",
      "\n",
      "\n",
      "So she was considering in her own mind (as well as she could, for the\n",
      "\n",
      "hot day made her feel very sleepy and stupid), whether the pleasure\n",
      "\n",
      "of making a daisy-chain would be worth the trouble of getting up and\n",
      "\n",
      "picking the daisies, when suddenly a White Rabbit with pink eyes ran\n",
      "\n",
      "close by her.\n",
      "\n"
     ]
    }
   ],
   "source": [
    "for line in f:\n",
    "    print(line)"
   ]
  },
  {
   "cell_type": "markdown",
   "metadata": {},
   "source": [
    "**Reading many lines at once**\n",
    "\n",
    "_**Warning:** If your file is too large, `readlines` will read the ENTIRE file into memory._"
   ]
  },
  {
   "cell_type": "code",
   "execution_count": 8,
   "metadata": {},
   "outputs": [
    {
     "data": {
      "text/plain": [
       "['ALICE’S ADVENTURES IN WONDERLAND\\n',\n",
       " '\\n',\n",
       " 'CHAPTER I. Down the Rabbit-Hole\\n',\n",
       " '\\n',\n",
       " 'Alice was beginning to get very tired of sitting by her sister on the\\n',\n",
       " 'bank, and of having nothing to do: once or twice she had peeped into the\\n',\n",
       " 'book her sister was reading, but it had no pictures or conversations in\\n',\n",
       " 'it, ‘and what is the use of a book,’ thought Alice ‘without pictures or\\n',\n",
       " 'conversations?’\\n',\n",
       " '\\n',\n",
       " 'So she was considering in her own mind (as well as she could, for the\\n',\n",
       " 'hot day made her feel very sleepy and stupid), whether the pleasure\\n',\n",
       " 'of making a daisy-chain would be worth the trouble of getting up and\\n',\n",
       " 'picking the daisies, when suddenly a White Rabbit with pink eyes ran\\n',\n",
       " 'close by her.\\n']"
      ]
     },
     "execution_count": 8,
     "metadata": {},
     "output_type": "execute_result"
    }
   ],
   "source": [
    "f.seek(0)\n",
    "f.readlines()"
   ]
  },
  {
   "cell_type": "markdown",
   "metadata": {},
   "source": [
    "**Closing the file**"
   ]
  },
  {
   "cell_type": "code",
   "execution_count": 9,
   "metadata": {},
   "outputs": [],
   "source": [
    "f.close()"
   ]
  },
  {
   "cell_type": "code",
   "execution_count": 10,
   "metadata": {},
   "outputs": [
    {
     "data": {
      "text/plain": [
       "True"
      ]
     },
     "execution_count": 10,
     "metadata": {},
     "output_type": "execute_result"
    }
   ],
   "source": [
    "f.closed"
   ]
  }
 ],
 "metadata": {
  "kernelspec": {
   "display_name": "Python 3",
   "language": "python",
   "name": "python3"
  },
  "language_info": {
   "codemirror_mode": {
    "name": "ipython",
    "version": 3
   },
   "file_extension": ".py",
   "mimetype": "text/x-python",
   "name": "python",
   "nbconvert_exporter": "python",
   "pygments_lexer": "ipython3",
   "version": "3.6.0"
  }
 },
 "nbformat": 4,
 "nbformat_minor": 2
}
