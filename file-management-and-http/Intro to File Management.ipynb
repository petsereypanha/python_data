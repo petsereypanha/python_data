{
 "cells": [
  {
   "cell_type": "markdown",
   "metadata": {},
   "source": [
    "# Intro to File Management\n",
    "\n",
    "Working with files is crucial to write any meaningful software. The good news is that it's super simple to do file management in Python. For example, this is how you can read a file:\n",
    "\n",
    "```python\n",
    "f = open('data_file.csv')\n",
    "f.read()\n",
    "```\n",
    "\n",
    "Incredibly simple, right? Python's simple [`open`](https://docs.python.org/3/library/functions.html#open) function is the key mechanism that will rule all file management. Throughout this lesson, we'll keep seeing more details about it. From the code above, what you can see is that it takes the file name (`'data_file.csv'` in that case) and returns that `f` thing. Which is actually a \"file object\" that will be the interface used with the files. Again, we'll keep exploring details about it.\n",
    "\n",
    "Now, there's bad news: when working with Files, it's not only Python the one we have to deal with"
   ]
  },
  {
   "cell_type": "markdown",
   "metadata": {},
   "source": [
    "### The Good, the Bad and the Ugly\n",
    "\n",
    "As you just saw in our previous example, it's a bliss to work with files in Python (reading, writing, etc). It's sincerely a pleasure to do file management, compared to other languages (Java, I'm looking at you). The problem is that Python isn't the only actor to consider when dealing with files. Until today, our programs depended only on us: if we wrote our code correctly, it'd work correctly. If we had bugs, it'd fail. But it was entirely our responsability.\n",
    "\n",
    "Starting with files, we'll need to start dealing also with:\n",
    "* The Operating System (the \"watchman\" of files), and\n",
    "* The user (ugh! 😖) and the environment.\n",
    "\n",
    "### The Bad: Operating System\n",
    "\n",
    "The Operating System is very protective of its files (and other I/O). After all, compromising files can cause severe damage and security threats to the overall system. The OS is in charge of controlling who (what program) can read which files, and at what extent. How much you can write, what permissions you can change, etc.\n",
    "\n",
    "The OS forms a barrier between our Python code and the actual files. That means that all the code that you write in Python, is actually being watched and supervised by the Operating System. For example, when you want to read from a file, Python is not directly accessing the files, but it's asking the OS to do it for us. The operating system is doing the file management under the hood, and presenting the results to Python.\n",
    "\n",
    "![Python and OS Interaction](https://docs.google.com/drawings/d/e/2PACX-1vS8_ENvTn7GpurxVKLSFy0kShHudStcz61nniB3FTEzeOOkHEdZ8dzAC86fimnjI9Ep49LRKEOY2gk5/pub?w=960&h=720)\n",
    "\n",
    "On top of that, there are **different operating systems** to deal with. As you know, Python is a very versatile programming language, and you can write software for Linux, Windows, OSX, Raspberry Pis, etc. So things tend to work differently for each Operating System. For example, permissions and owners in Windows and Linux work really differently.\n",
    "\n",
    "**Conclusion:** You can have a perfectly written Python program, but when you're trying to access a file, it has the wrong permissions and the OS doesn't grant you access. The result: your code will fail. Not because your code didn't work, but because of an external factor: The Bad, the OS.\n",
    "\n",
    "### The Ugly: User and environment\n",
    "\n",
    "When working with files, there's usually a \"user\" involved. The one deciding what files to read, or typing the name of the new file to save the results of that report that you've just perfectly written. There's also the OS user, the one with certain privileges, hard drive space assigned, etc. The user will screw things up most of the time. So you must be really careful and perform every check possible before interacting with your user.\n",
    "\n",
    "Even if you can deal with wild users, you still have to deal with the environment: [Cosmic rays](https://spectrum.ieee.org/computing/hardware/how-to-kill-a-supercomputer-dirty-power-cosmic-rays-and-bad-solder), [Bit rot (old drives)](https://superuser.com/questions/1075831/can-data-on-a-hard-disk-degrade-without-windows-warning-me-that-this-has-happene) or even [loud noises](https://www.youtube.com/watch?v=tDacjrSCeq4) (please don't yell at your hard drives 🙏, they get scared).\n",
    "\n",
    "**Conclusion:** You can have another perfectly working program, this time with the OS at your side, but the user might just choose the wrong directory to save their progress (one where they don't have write privileges for example). Or even if you have a smart user, and a friendly OS, a cosmic ray or a yelling engineer can screw over your entire program.\n",
    "\n",
    "### Final conclusion\n",
    "\n",
    "File management in Python is simple. But we need to be **extremely cautious**, and sadly, **brace for impact** before we even start writing code: we need to be ready to handle every possible error, because there will be errors, I guarantee you...\n",
    "\n",
    "### Important Concepts\n",
    "\n",
    "There are two important concepts to understand when dealing with files:\n",
    "* Open mode\n",
    "* File cursor (or pointer)\n",
    "\n",
    "##### Open Mode\n",
    "The \"Open Mode\" is something you decide when you're opening a file, and basically states if you want to read or to write to a file (or both). For example, you can open a file \"only for reading\". If you try to perform an operation not contemplated by the open mode, you'll get an error. For example, I'll open a file for reading, and try to write to it:"
   ]
  },
  {
   "cell_type": "code",
   "execution_count": 12,
   "metadata": {},
   "outputs": [],
   "source": [
    "f = open('alice.txt', 'r')"
   ]
  },
  {
   "cell_type": "code",
   "execution_count": 13,
   "metadata": {},
   "outputs": [
    {
     "ename": "UnsupportedOperation",
     "evalue": "not writable",
     "output_type": "error",
     "traceback": [
      "\u001b[0;31m---------------------------------------------------------------------------\u001b[0m",
      "\u001b[0;31mUnsupportedOperation\u001b[0m                      Traceback (most recent call last)",
      "\u001b[0;32m<ipython-input-13-6f4ad3e64898>\u001b[0m in \u001b[0;36m<module>\u001b[0;34m()\u001b[0m\n\u001b[0;32m----> 1\u001b[0;31m \u001b[0mf\u001b[0m\u001b[0;34m.\u001b[0m\u001b[0mwrite\u001b[0m\u001b[0;34m(\u001b[0m\u001b[0;34m'Hello World'\u001b[0m\u001b[0;34m)\u001b[0m\u001b[0;34m\u001b[0m\u001b[0m\n\u001b[0m",
      "\u001b[0;31mUnsupportedOperation\u001b[0m: not writable"
     ]
    }
   ],
   "source": [
    "f.write('Hello World')"
   ]
  },
  {
   "cell_type": "markdown",
   "metadata": {},
   "source": [
    "As you can see, an `UnsupportedOperation` exception was raised. We tried to write in a file opened for reading. It was an invalid mode.\n",
    "\n",
    "You can already guess that the `open` function we introduced before takes a second parameter, which is actually the \"open mode\".\n",
    "\n",
    "```python\n",
    "open(file_name, [open_mode], ...)\n",
    "```\n",
    "\n",
    "The most common options are:\n",
    "\n",
    "* `'r'`: Open the file for reading\n",
    "* `'w'`: Open the file for writing (**WARNING,** erases the contents of the file).\n",
    "* `'a'`: Open for writing, but places the _cursor_ at the end (\"appending\").\n",
    "* `'r+'`: Read and write, but places the _cursor_ at the beginning.\n",
    "\n",
    "By default, `open_mode` will be `'r'`, which is the safest choice. Both the `'r+'` and `'a'` modes mention a \"_cursor_\". That's our second concept:\n",
    "\n",
    "###### Cursors (or pointers)\n",
    "\n",
    "We can think a file as a big string of characters (also bytes), suppose we're working with a CSV file with the following content:\n",
    "\n",
    "```\n",
    "InvoiceNo,StockCode,Description,Quantity\n",
    "536365,85123A,WHITE HANGING HEART T-LIGHT HOLDER,6\n",
    "536365,71053,WHITE METAL LANTERN,6\n",
    "536365,84406B,CREAM CUPID HEARTS COAT HANGER,8\n",
    "536365,84029G,KNITTED UNION FLAG HOT WATER BOTTLE,6\n",
    "```\n",
    "\n",
    "We always need to have a notion of \"position\". That's the idea of the cursor or pointer. You'll open a file and Python will place automatically the cursor at some given position. For example, we open it with mode `'r'`, the pointer is placed at the beginning:\n",
    "\n",
    "![pointers](https://user-images.githubusercontent.com/872296/37557772-73301a5a-29e8-11e8-91ba-29836fcd20db.png)\n",
    "\n",
    "Now we can perform different operations (reading, writing, etc) which will be performed based on the pointer. For example, we can decide to read 10 characters: Python will take the current position of the pointer, read the 10 characters, and place the pointer after the last one read.\n",
    "\n",
    "![pointers](https://user-images.githubusercontent.com/872296/37557778-858f333e-29e8-11e8-8a4b-a4ddcf466a2d.png)"
   ]
  },
  {
   "cell_type": "code",
   "execution_count": 17,
   "metadata": {},
   "outputs": [
    {
     "data": {
      "text/plain": [
       "'InvoiceNo,'"
      ]
     },
     "execution_count": 17,
     "metadata": {},
     "output_type": "execute_result"
    }
   ],
   "source": [
    "f = open('products.csv', 'r')\n",
    "f.read(10)"
   ]
  },
  {
   "cell_type": "markdown",
   "metadata": {},
   "source": [
    "If we then decide to read 5 more characters, Python will start from that previous position of the pointer and after reading, it'll keep the pointer at the last character again:\n",
    "\n",
    "![pointers](https://user-images.githubusercontent.com/872296/37557785-91549010-29e8-11e8-98a9-8a1b831a5849.png)"
   ]
  },
  {
   "cell_type": "code",
   "execution_count": 18,
   "metadata": {},
   "outputs": [
    {
     "data": {
      "text/plain": [
       "'Stock'"
      ]
     },
     "execution_count": 18,
     "metadata": {},
     "output_type": "execute_result"
    }
   ],
   "source": [
    "f.read(5)"
   ]
  },
  {
   "cell_type": "markdown",
   "metadata": {},
   "source": [
    "There are two methods to manage the pointer: `tell` will tell you the position of the pointer, and `seek` will let you move that pointer to whatever position you want. For example, after reading 10 characters first, and 5 characters in our second operation, we should expect this file's pointer position to be `15`:"
   ]
  },
  {
   "cell_type": "code",
   "execution_count": 19,
   "metadata": {},
   "outputs": [
    {
     "data": {
      "text/plain": [
       "15"
      ]
     },
     "execution_count": 19,
     "metadata": {},
     "output_type": "execute_result"
    }
   ],
   "source": [
    "f.tell()"
   ]
  },
  {
   "cell_type": "markdown",
   "metadata": {},
   "source": [
    "I could now \"reset\" the pointer and move it back at the beginning (similarly as how it started when we just opened the file)\n",
    "\n",
    "![pointers](https://user-images.githubusercontent.com/872296/37557772-73301a5a-29e8-11e8-91ba-29836fcd20db.png)"
   ]
  },
  {
   "cell_type": "code",
   "execution_count": 20,
   "metadata": {},
   "outputs": [
    {
     "data": {
      "text/plain": [
       "0"
      ]
     },
     "execution_count": 20,
     "metadata": {},
     "output_type": "execute_result"
    }
   ],
   "source": [
    "f.seek(0)"
   ]
  },
  {
   "cell_type": "markdown",
   "metadata": {},
   "source": [
    "And then try to read 8 characters:\n",
    "\n",
    "![pointers](https://user-images.githubusercontent.com/872296/37557794-a15fab2a-29e8-11e8-9130-a21fdb95d9b0.png)"
   ]
  },
  {
   "cell_type": "code",
   "execution_count": 23,
   "metadata": {},
   "outputs": [
    {
     "data": {
      "text/plain": [
       "'InvoiceN'"
      ]
     },
     "execution_count": 23,
     "metadata": {},
     "output_type": "execute_result"
    }
   ],
   "source": [
    "f.read(8)"
   ]
  },
  {
   "cell_type": "markdown",
   "metadata": {},
   "source": [
    "### More reading\n",
    "\n",
    "You've already seen the `read()` method a couple of times already. But let's dig a little bit deeper. `read()` doesn't require any parameters; by default, it'll read the entire content of the file:"
   ]
  },
  {
   "cell_type": "code",
   "execution_count": 26,
   "metadata": {},
   "outputs": [],
   "source": [
    "f = open('alice.txt')"
   ]
  },
  {
   "cell_type": "code",
   "execution_count": 27,
   "metadata": {},
   "outputs": [
    {
     "name": "stdout",
     "output_type": "stream",
     "text": [
      "ALICE’S ADVENTURES IN WONDERLAND\n",
      "\n",
      "CHAPTER I. Down the Rabbit-Hole\n",
      "\n",
      "Alice was beginning to get very tired of sitting by her sister on the\n",
      "bank, and of having nothing to do: once or twice she had peeped into the\n",
      "book her sister was reading, but it had no pictures or conversations in\n",
      "it, ‘and what is the use of a book,’ thought Alice ‘without pictures or\n",
      "conversations?’\n",
      "\n",
      "So she was considering in her own mind (as well as she could, for the\n",
      "hot day made her feel very sleepy and stupid), whether the pleasure\n",
      "of making a daisy-chain would be worth the trouble of getting up and\n",
      "picking the daisies, when suddenly a White Rabbit with pink eyes ran\n",
      "close by her.\n",
      "\n"
     ]
    }
   ],
   "source": [
    "content = f.read()\n",
    "print(content)"
   ]
  },
  {
   "cell_type": "markdown",
   "metadata": {},
   "source": [
    "This is of course **VERY DANGEROUS** if you have large files.\n",
    "\n",
    "`read()` takes an optional parameter that's the number of \"characters\" (or bytes) to read. I've used \"characters\" and \"bytes\" interchangeably but they're not the same thing. And actually it depends on the type of file we're reading, and the Python version. It's a big mess. So for now, we can just assume it's \"the number of characters\":"
   ]
  },
  {
   "cell_type": "code",
   "execution_count": 30,
   "metadata": {},
   "outputs": [],
   "source": [
    "f = open('alice.txt')"
   ]
  },
  {
   "cell_type": "code",
   "execution_count": 31,
   "metadata": {},
   "outputs": [
    {
     "data": {
      "text/plain": [
       "'ALICE’S ADVENTURES I'"
      ]
     },
     "execution_count": 31,
     "metadata": {},
     "output_type": "execute_result"
    }
   ],
   "source": [
    "f.read(20)"
   ]
  },
  {
   "cell_type": "markdown",
   "metadata": {},
   "source": [
    "There's also a `readline()` method, that reads an entire line **of text** until it finds a new line (`'\\n'`). Let's see an example with our previous `'alice.txt'` file, just as a reference, these are the first lines of the file:\n",
    "\n",
    "```\n",
    "ALICE’S ADVENTURES IN WONDERLAND\n",
    "\n",
    "CHAPTER I. Down the Rabbit-Hole\n",
    "\n",
    "Alice was beginning to get very tired of sitting by her sister on the\n",
    "bank, and of having nothing to do: once or twice she had peeped into the\n",
    "book her sister was reading, but it had no pictures or conversations in\n",
    "it, ‘and what is the use of a book,’ thought Alice ‘without pictures or\n",
    "conversations?’\n",
    "```"
   ]
  },
  {
   "cell_type": "code",
   "execution_count": 32,
   "metadata": {},
   "outputs": [],
   "source": [
    "f = open('alice.txt')"
   ]
  },
  {
   "cell_type": "code",
   "execution_count": 33,
   "metadata": {},
   "outputs": [
    {
     "data": {
      "text/plain": [
       "'ALICE’S ADVENTURES IN WONDERLAND\\n'"
      ]
     },
     "execution_count": 33,
     "metadata": {},
     "output_type": "execute_result"
    }
   ],
   "source": [
    "f.readline()"
   ]
  },
  {
   "cell_type": "code",
   "execution_count": 34,
   "metadata": {},
   "outputs": [
    {
     "data": {
      "text/plain": [
       "'\\n'"
      ]
     },
     "execution_count": 34,
     "metadata": {},
     "output_type": "execute_result"
    }
   ],
   "source": [
    "f.readline()"
   ]
  },
  {
   "cell_type": "code",
   "execution_count": 35,
   "metadata": {},
   "outputs": [
    {
     "data": {
      "text/plain": [
       "'CHAPTER I. Down the Rabbit-Hole\\n'"
      ]
     },
     "execution_count": 35,
     "metadata": {},
     "output_type": "execute_result"
    }
   ],
   "source": [
    "f.readline()"
   ]
  },
  {
   "cell_type": "code",
   "execution_count": 36,
   "metadata": {},
   "outputs": [
    {
     "data": {
      "text/plain": [
       "'\\n'"
      ]
     },
     "execution_count": 36,
     "metadata": {},
     "output_type": "execute_result"
    }
   ],
   "source": [
    "f.readline()"
   ]
  },
  {
   "cell_type": "markdown",
   "metadata": {},
   "source": [
    "As you can see, the `readline` finds all the lines divided by the newline char, and returns them (including `'\\n'`).\n",
    "\n",
    "Reading one line at a time is a pretty common pattern, and there's a better way...\n",
    "\n",
    "### File objects and the iterator pattern\n",
    "\n",
    "When you open a file with the function `open`, the result is a \"file object\". It's a full featured Python object that has a few methods and attributes (`read`, `readline`, etc). But as many other Python objects, it also holds the concept of \"iteration\" (as for example, lists or dicts). That means that you can just \"iterate\" over that object with a regular for loop. Each \"pass\" of the iterator will give you a new line (similar to the `readline()` method)."
   ]
  },
  {
   "cell_type": "code",
   "execution_count": 37,
   "metadata": {},
   "outputs": [],
   "source": [
    "f = open('alice.txt')"
   ]
  },
  {
   "cell_type": "code",
   "execution_count": 38,
   "metadata": {},
   "outputs": [
    {
     "name": "stdout",
     "output_type": "stream",
     "text": [
      "<_io.TextIOWrapper name='alice.txt' mode='r' encoding='UTF-8'>\n"
     ]
    }
   ],
   "source": [
    "print(f)"
   ]
  },
  {
   "cell_type": "code",
   "execution_count": 39,
   "metadata": {},
   "outputs": [
    {
     "name": "stdout",
     "output_type": "stream",
     "text": [
      "ALICE’S ADVENTURES IN WONDERLAND\n",
      "\n",
      "\n",
      "\n",
      "CHAPTER I. Down the Rabbit-Hole\n",
      "\n",
      "\n",
      "\n",
      "Alice was beginning to get very tired of sitting by her sister on the\n",
      "\n",
      "bank, and of having nothing to do: once or twice she had peeped into the\n",
      "\n",
      "book her sister was reading, but it had no pictures or conversations in\n",
      "\n",
      "it, ‘and what is the use of a book,’ thought Alice ‘without pictures or\n",
      "\n",
      "conversations?’\n",
      "\n",
      "\n",
      "\n",
      "So she was considering in her own mind (as well as she could, for the\n",
      "\n",
      "hot day made her feel very sleepy and stupid), whether the pleasure\n",
      "\n",
      "of making a daisy-chain would be worth the trouble of getting up and\n",
      "\n",
      "picking the daisies, when suddenly a White Rabbit with pink eyes ran\n",
      "\n",
      "close by her.\n",
      "\n"
     ]
    }
   ],
   "source": [
    "for line in f:\n",
    "    print(line)"
   ]
  },
  {
   "cell_type": "markdown",
   "metadata": {},
   "source": [
    "### Closing the files\n",
    "\n",
    "The operating system needs to allocate resources to keep up with the files you open. Remember that the OS needs to \"monitor\" all our files-related activities; so every time you open a file, the OS needs to allocate resources for that \"monitoring\" task.\n",
    "\n",
    "If you open too many files, and don't close them, your system might crash, or your data might be lost (the OS also flushes data from memory to the files when you close them).\n",
    "\n",
    "![Closing files](https://docs.google.com/drawings/d/e/2PACX-1vRR4bnLVVzZkFhyaRG3I5BO402tJ__yZGVP64TP-n3jV9svUeVjSzZuVPu-25sLS45pSLD5IIb22pu-/pub?w=960&h=720)\n",
    "\n",
    "Closing a file is simple, just use the `close()` method of the file object returned by `open()`:"
   ]
  },
  {
   "cell_type": "code",
   "execution_count": 40,
   "metadata": {},
   "outputs": [],
   "source": [
    "f.close()"
   ]
  },
  {
   "cell_type": "code",
   "execution_count": 41,
   "metadata": {},
   "outputs": [
    {
     "data": {
      "text/plain": [
       "<_io.TextIOWrapper name='alice.txt' mode='r' encoding='UTF-8'>"
      ]
     },
     "execution_count": 41,
     "metadata": {},
     "output_type": "execute_result"
    }
   ],
   "source": [
    "f"
   ]
  },
  {
   "cell_type": "markdown",
   "metadata": {},
   "source": [
    "Any successive operation that we try to perform with a closed file will raise an exception:"
   ]
  },
  {
   "cell_type": "code",
   "execution_count": 42,
   "metadata": {},
   "outputs": [
    {
     "ename": "ValueError",
     "evalue": "I/O operation on closed file.",
     "output_type": "error",
     "traceback": [
      "\u001b[0;31m---------------------------------------------------------------------------\u001b[0m",
      "\u001b[0;31mValueError\u001b[0m                                Traceback (most recent call last)",
      "\u001b[0;32m<ipython-input-42-8013280f4ff8>\u001b[0m in \u001b[0;36m<module>\u001b[0;34m()\u001b[0m\n\u001b[0;32m----> 1\u001b[0;31m \u001b[0mf\u001b[0m\u001b[0;34m.\u001b[0m\u001b[0mread\u001b[0m\u001b[0;34m(\u001b[0m\u001b[0;36m5\u001b[0m\u001b[0;34m)\u001b[0m\u001b[0;34m\u001b[0m\u001b[0m\n\u001b[0m",
      "\u001b[0;31mValueError\u001b[0m: I/O operation on closed file."
     ]
    }
   ],
   "source": [
    "f.read(5)"
   ]
  },
  {
   "cell_type": "code",
   "execution_count": 43,
   "metadata": {},
   "outputs": [
    {
     "data": {
      "text/plain": [
       "True"
      ]
     },
     "execution_count": 43,
     "metadata": {},
     "output_type": "execute_result"
    }
   ],
   "source": [
    "f.closed"
   ]
  },
  {
   "cell_type": "markdown",
   "metadata": {},
   "source": [
    "### Full File Object API\n",
    "\n",
    "Finally, you can check the docs to learn more about the file object: https://docs.python.org/3/library/io.html#io.IOBase\n",
    "\n",
    "You can see interesting methods like `flush()`, `readable()`, etc."
   ]
  }
 ],
 "metadata": {
  "kernelspec": {
   "display_name": "Python 3",
   "language": "python",
   "name": "python3"
  },
  "language_info": {
   "codemirror_mode": {
    "name": "ipython",
    "version": 3
   },
   "file_extension": ".py",
   "mimetype": "text/x-python",
   "name": "python",
   "nbconvert_exporter": "python",
   "pygments_lexer": "ipython3",
   "version": "3.6.0"
  }
 },
 "nbformat": 4,
 "nbformat_minor": 2
}
